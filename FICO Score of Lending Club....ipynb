{
 "cells": [
  {
   "cell_type": "code",
   "execution_count": 1,
   "metadata": {},
   "outputs": [],
   "source": [
    "#Import Libraries\n",
    "\n",
    "import pandas as pd\n",
    "import numpy as np\n",
    "import matplotlib.pyplot as plt\n",
    "import matplotlib\n",
    "import seaborn as sns\n",
    "%matplotlib inline\n",
    "plt.rcParams['figure.figsize'] = (12,8)\n",
    "\n",
    "from datetime import datetime\n",
    "from dateutil.parser import parse"
   ]
  },
  {
   "cell_type": "markdown",
   "metadata": {},
   "source": [
    "# Data Pre-Processing"
   ]
  },
  {
   "cell_type": "code",
   "execution_count": 2,
   "metadata": {},
   "outputs": [],
   "source": [
    "# import lending club data for analysis \n",
    "LC_Data = pd.read_csv('appl__accepted_20072019Q3.csv', low_memory=False)"
   ]
  },
  {
   "cell_type": "code",
   "execution_count": 3,
   "metadata": {},
   "outputs": [
    {
     "name": "stdout",
     "output_type": "stream",
     "text": [
      "(2650550, 150)\n"
     ]
    }
   ],
   "source": [
    "#print data shape\n",
    "print(LC_Data.shape)"
   ]
  },
  {
   "cell_type": "code",
   "execution_count": 4,
   "metadata": {},
   "outputs": [
    {
     "data": {
      "text/html": [
       "<div>\n",
       "<style scoped>\n",
       "    .dataframe tbody tr th:only-of-type {\n",
       "        vertical-align: middle;\n",
       "    }\n",
       "\n",
       "    .dataframe tbody tr th {\n",
       "        vertical-align: top;\n",
       "    }\n",
       "\n",
       "    .dataframe thead th {\n",
       "        text-align: right;\n",
       "    }\n",
       "</style>\n",
       "<table border=\"1\" class=\"dataframe\">\n",
       "  <thead>\n",
       "    <tr style=\"text-align: right;\">\n",
       "      <th></th>\n",
       "      <th>id</th>\n",
       "      <th>member_id</th>\n",
       "      <th>loan_amnt</th>\n",
       "      <th>funded_amnt</th>\n",
       "      <th>funded_amnt_inv</th>\n",
       "      <th>term</th>\n",
       "      <th>int_rate</th>\n",
       "      <th>installment</th>\n",
       "      <th>grade</th>\n",
       "      <th>sub_grade</th>\n",
       "      <th>...</th>\n",
       "      <th>orig_projected_additional_accrued_interest</th>\n",
       "      <th>hardship_payoff_balance_amount</th>\n",
       "      <th>hardship_last_payment_amount</th>\n",
       "      <th>debt_settlement_flag</th>\n",
       "      <th>debt_settlement_flag_date</th>\n",
       "      <th>settlement_status</th>\n",
       "      <th>settlement_date</th>\n",
       "      <th>settlement_amount</th>\n",
       "      <th>settlement_percentage</th>\n",
       "      <th>settlement_term</th>\n",
       "    </tr>\n",
       "  </thead>\n",
       "  <tbody>\n",
       "    <tr>\n",
       "      <th>0</th>\n",
       "      <td>68407277</td>\n",
       "      <td>NaN</td>\n",
       "      <td>3600.0</td>\n",
       "      <td>3600.0</td>\n",
       "      <td>3600.0</td>\n",
       "      <td>36 months</td>\n",
       "      <td>13.99</td>\n",
       "      <td>123.03</td>\n",
       "      <td>C</td>\n",
       "      <td>C4</td>\n",
       "      <td>...</td>\n",
       "      <td>NaN</td>\n",
       "      <td>NaN</td>\n",
       "      <td>NaN</td>\n",
       "      <td>N</td>\n",
       "      <td>NaN</td>\n",
       "      <td>NaN</td>\n",
       "      <td>NaN</td>\n",
       "      <td>NaN</td>\n",
       "      <td>NaN</td>\n",
       "      <td>NaN</td>\n",
       "    </tr>\n",
       "    <tr>\n",
       "      <th>1</th>\n",
       "      <td>68355089</td>\n",
       "      <td>NaN</td>\n",
       "      <td>24700.0</td>\n",
       "      <td>24700.0</td>\n",
       "      <td>24700.0</td>\n",
       "      <td>36 months</td>\n",
       "      <td>11.99</td>\n",
       "      <td>820.28</td>\n",
       "      <td>C</td>\n",
       "      <td>C1</td>\n",
       "      <td>...</td>\n",
       "      <td>NaN</td>\n",
       "      <td>NaN</td>\n",
       "      <td>NaN</td>\n",
       "      <td>N</td>\n",
       "      <td>NaN</td>\n",
       "      <td>NaN</td>\n",
       "      <td>NaN</td>\n",
       "      <td>NaN</td>\n",
       "      <td>NaN</td>\n",
       "      <td>NaN</td>\n",
       "    </tr>\n",
       "    <tr>\n",
       "      <th>2</th>\n",
       "      <td>68341763</td>\n",
       "      <td>NaN</td>\n",
       "      <td>20000.0</td>\n",
       "      <td>20000.0</td>\n",
       "      <td>20000.0</td>\n",
       "      <td>60 months</td>\n",
       "      <td>10.78</td>\n",
       "      <td>432.66</td>\n",
       "      <td>B</td>\n",
       "      <td>B4</td>\n",
       "      <td>...</td>\n",
       "      <td>NaN</td>\n",
       "      <td>NaN</td>\n",
       "      <td>NaN</td>\n",
       "      <td>N</td>\n",
       "      <td>NaN</td>\n",
       "      <td>NaN</td>\n",
       "      <td>NaN</td>\n",
       "      <td>NaN</td>\n",
       "      <td>NaN</td>\n",
       "      <td>NaN</td>\n",
       "    </tr>\n",
       "    <tr>\n",
       "      <th>3</th>\n",
       "      <td>66310712</td>\n",
       "      <td>NaN</td>\n",
       "      <td>35000.0</td>\n",
       "      <td>35000.0</td>\n",
       "      <td>35000.0</td>\n",
       "      <td>60 months</td>\n",
       "      <td>14.85</td>\n",
       "      <td>829.90</td>\n",
       "      <td>C</td>\n",
       "      <td>C5</td>\n",
       "      <td>...</td>\n",
       "      <td>NaN</td>\n",
       "      <td>NaN</td>\n",
       "      <td>NaN</td>\n",
       "      <td>N</td>\n",
       "      <td>NaN</td>\n",
       "      <td>NaN</td>\n",
       "      <td>NaN</td>\n",
       "      <td>NaN</td>\n",
       "      <td>NaN</td>\n",
       "      <td>NaN</td>\n",
       "    </tr>\n",
       "    <tr>\n",
       "      <th>4</th>\n",
       "      <td>68476807</td>\n",
       "      <td>NaN</td>\n",
       "      <td>10400.0</td>\n",
       "      <td>10400.0</td>\n",
       "      <td>10400.0</td>\n",
       "      <td>60 months</td>\n",
       "      <td>22.45</td>\n",
       "      <td>289.91</td>\n",
       "      <td>F</td>\n",
       "      <td>F1</td>\n",
       "      <td>...</td>\n",
       "      <td>NaN</td>\n",
       "      <td>NaN</td>\n",
       "      <td>NaN</td>\n",
       "      <td>N</td>\n",
       "      <td>NaN</td>\n",
       "      <td>NaN</td>\n",
       "      <td>NaN</td>\n",
       "      <td>NaN</td>\n",
       "      <td>NaN</td>\n",
       "      <td>NaN</td>\n",
       "    </tr>\n",
       "  </tbody>\n",
       "</table>\n",
       "<p>5 rows × 150 columns</p>\n",
       "</div>"
      ],
      "text/plain": [
       "         id  member_id  loan_amnt  funded_amnt  funded_amnt_inv        term  \\\n",
       "0  68407277        NaN     3600.0       3600.0           3600.0   36 months   \n",
       "1  68355089        NaN    24700.0      24700.0          24700.0   36 months   \n",
       "2  68341763        NaN    20000.0      20000.0          20000.0   60 months   \n",
       "3  66310712        NaN    35000.0      35000.0          35000.0   60 months   \n",
       "4  68476807        NaN    10400.0      10400.0          10400.0   60 months   \n",
       "\n",
       "  int_rate  installment grade sub_grade  ...  \\\n",
       "0    13.99       123.03     C        C4  ...   \n",
       "1    11.99       820.28     C        C1  ...   \n",
       "2    10.78       432.66     B        B4  ...   \n",
       "3    14.85       829.90     C        C5  ...   \n",
       "4    22.45       289.91     F        F1  ...   \n",
       "\n",
       "  orig_projected_additional_accrued_interest hardship_payoff_balance_amount  \\\n",
       "0                                        NaN                            NaN   \n",
       "1                                        NaN                            NaN   \n",
       "2                                        NaN                            NaN   \n",
       "3                                        NaN                            NaN   \n",
       "4                                        NaN                            NaN   \n",
       "\n",
       "  hardship_last_payment_amount  debt_settlement_flag  \\\n",
       "0                          NaN                     N   \n",
       "1                          NaN                     N   \n",
       "2                          NaN                     N   \n",
       "3                          NaN                     N   \n",
       "4                          NaN                     N   \n",
       "\n",
       "  debt_settlement_flag_date settlement_status settlement_date  \\\n",
       "0                       NaN               NaN             NaN   \n",
       "1                       NaN               NaN             NaN   \n",
       "2                       NaN               NaN             NaN   \n",
       "3                       NaN               NaN             NaN   \n",
       "4                       NaN               NaN             NaN   \n",
       "\n",
       "  settlement_amount settlement_percentage settlement_term  \n",
       "0               NaN                   NaN             NaN  \n",
       "1               NaN                   NaN             NaN  \n",
       "2               NaN                   NaN             NaN  \n",
       "3               NaN                   NaN             NaN  \n",
       "4               NaN                   NaN             NaN  \n",
       "\n",
       "[5 rows x 150 columns]"
      ]
     },
     "execution_count": 4,
     "metadata": {},
     "output_type": "execute_result"
    }
   ],
   "source": [
    "#print data head\n",
    "LC_Data.head()"
   ]
  },
  {
   "cell_type": "code",
   "execution_count": 5,
   "metadata": {},
   "outputs": [
    {
     "data": {
      "text/plain": [
       "['id',\n",
       " 'member_id',\n",
       " 'loan_amnt',\n",
       " 'funded_amnt',\n",
       " 'funded_amnt_inv',\n",
       " 'term',\n",
       " 'int_rate',\n",
       " 'installment',\n",
       " 'grade',\n",
       " 'sub_grade',\n",
       " 'emp_title',\n",
       " 'emp_length',\n",
       " 'home_ownership',\n",
       " 'annual_inc',\n",
       " 'verification_status',\n",
       " 'issue_d',\n",
       " 'loan_status',\n",
       " 'pymnt_plan',\n",
       " 'url',\n",
       " 'desc',\n",
       " 'purpose',\n",
       " 'title',\n",
       " 'zip_code',\n",
       " 'addr_state',\n",
       " 'dti',\n",
       " 'delinq_2yrs',\n",
       " 'earliest_cr_line',\n",
       " 'fico_range_low',\n",
       " 'fico_range_high',\n",
       " 'inq_last_6mths',\n",
       " 'mths_since_last_delinq',\n",
       " 'mths_since_last_record',\n",
       " 'open_acc',\n",
       " 'pub_rec',\n",
       " 'revol_bal',\n",
       " 'revol_util',\n",
       " 'total_acc',\n",
       " 'initial_list_status',\n",
       " 'out_prncp',\n",
       " 'out_prncp_inv',\n",
       " 'total_pymnt',\n",
       " 'total_pymnt_inv',\n",
       " 'total_rec_prncp',\n",
       " 'total_rec_int',\n",
       " 'total_rec_late_fee',\n",
       " 'recoveries',\n",
       " 'collection_recovery_fee',\n",
       " 'last_pymnt_d',\n",
       " 'last_pymnt_amnt',\n",
       " 'next_pymnt_d',\n",
       " 'last_credit_pull_d',\n",
       " 'last_fico_range_high',\n",
       " 'last_fico_range_low',\n",
       " 'collections_12_mths_ex_med',\n",
       " 'mths_since_last_major_derog',\n",
       " 'policy_code',\n",
       " 'application_type',\n",
       " 'annual_inc_joint',\n",
       " 'dti_joint',\n",
       " 'verification_status_joint',\n",
       " 'acc_now_delinq',\n",
       " 'tot_coll_amt',\n",
       " 'tot_cur_bal',\n",
       " 'open_acc_6m',\n",
       " 'open_act_il',\n",
       " 'open_il_12m',\n",
       " 'open_il_24m',\n",
       " 'mths_since_rcnt_il',\n",
       " 'total_bal_il',\n",
       " 'il_util',\n",
       " 'open_rv_12m',\n",
       " 'open_rv_24m',\n",
       " 'max_bal_bc',\n",
       " 'all_util',\n",
       " 'total_rev_hi_lim',\n",
       " 'inq_fi',\n",
       " 'total_cu_tl',\n",
       " 'inq_last_12m',\n",
       " 'acc_open_past_24mths',\n",
       " 'avg_cur_bal',\n",
       " 'bc_open_to_buy',\n",
       " 'bc_util',\n",
       " 'chargeoff_within_12_mths',\n",
       " 'delinq_amnt',\n",
       " 'mo_sin_old_il_acct',\n",
       " 'mo_sin_old_rev_tl_op',\n",
       " 'mo_sin_rcnt_rev_tl_op',\n",
       " 'mo_sin_rcnt_tl',\n",
       " 'mort_acc',\n",
       " 'mths_since_recent_bc',\n",
       " 'mths_since_recent_bc_dlq',\n",
       " 'mths_since_recent_inq',\n",
       " 'mths_since_recent_revol_delinq',\n",
       " 'num_accts_ever_120_pd',\n",
       " 'num_actv_bc_tl',\n",
       " 'num_actv_rev_tl',\n",
       " 'num_bc_sats',\n",
       " 'num_bc_tl',\n",
       " 'num_il_tl',\n",
       " 'num_op_rev_tl',\n",
       " 'num_rev_accts',\n",
       " 'num_rev_tl_bal_gt_0',\n",
       " 'num_sats',\n",
       " 'num_tl_120dpd_2m',\n",
       " 'num_tl_30dpd',\n",
       " 'num_tl_90g_dpd_24m',\n",
       " 'num_tl_op_past_12m',\n",
       " 'pct_tl_nvr_dlq',\n",
       " 'percent_bc_gt_75',\n",
       " 'pub_rec_bankruptcies',\n",
       " 'tax_liens',\n",
       " 'tot_hi_cred_lim',\n",
       " 'total_bal_ex_mort',\n",
       " 'total_bc_limit',\n",
       " 'total_il_high_credit_limit',\n",
       " 'revol_bal_joint',\n",
       " 'sec_app_fico_range_low',\n",
       " 'sec_app_fico_range_high',\n",
       " 'sec_app_earliest_cr_line',\n",
       " 'sec_app_inq_last_6mths',\n",
       " 'sec_app_mort_acc',\n",
       " 'sec_app_open_acc',\n",
       " 'sec_app_revol_util',\n",
       " 'sec_app_open_act_il',\n",
       " 'sec_app_num_rev_accts',\n",
       " 'sec_app_chargeoff_within_12_mths',\n",
       " 'sec_app_collections_12_mths_ex_med',\n",
       " 'sec_app_mths_since_last_major_derog',\n",
       " 'hardship_flag',\n",
       " 'hardship_type',\n",
       " 'hardship_reason',\n",
       " 'hardship_status',\n",
       " 'deferral_term',\n",
       " 'hardship_amount',\n",
       " 'hardship_start_date',\n",
       " 'hardship_end_date',\n",
       " 'payment_plan_start_date',\n",
       " 'hardship_length',\n",
       " 'hardship_dpd',\n",
       " 'hardship_loan_status',\n",
       " 'orig_projected_additional_accrued_interest',\n",
       " 'hardship_payoff_balance_amount',\n",
       " 'hardship_last_payment_amount',\n",
       " 'debt_settlement_flag',\n",
       " 'debt_settlement_flag_date',\n",
       " 'settlement_status',\n",
       " 'settlement_date',\n",
       " 'settlement_amount',\n",
       " 'settlement_percentage',\n",
       " 'settlement_term']"
      ]
     },
     "execution_count": 5,
     "metadata": {},
     "output_type": "execute_result"
    }
   ],
   "source": [
    "#print total column list \n",
    "LC_Data.columns.tolist()"
   ]
  },
  {
   "cell_type": "code",
   "execution_count": 10,
   "metadata": {},
   "outputs": [],
   "source": [
    "#import data dictionary\n",
    "LC_Data_Dictionary = pd.read_csv('LCDataDictionary.csv',encoding= 'unicode_escape')"
   ]
  },
  {
   "cell_type": "code",
   "execution_count": 11,
   "metadata": {},
   "outputs": [
    {
     "name": "stdout",
     "output_type": "stream",
     "text": [
      "(153, 11)\n"
     ]
    }
   ],
   "source": [
    "#print data dictionary shape\n",
    "print(LC_Data_Dictionary.shape)"
   ]
  },
  {
   "cell_type": "code",
   "execution_count": 12,
   "metadata": {},
   "outputs": [
    {
     "data": {
      "text/html": [
       "<div>\n",
       "<style scoped>\n",
       "    .dataframe tbody tr th:only-of-type {\n",
       "        vertical-align: middle;\n",
       "    }\n",
       "\n",
       "    .dataframe tbody tr th {\n",
       "        vertical-align: top;\n",
       "    }\n",
       "\n",
       "    .dataframe thead th {\n",
       "        text-align: right;\n",
       "    }\n",
       "</style>\n",
       "<table border=\"1\" class=\"dataframe\">\n",
       "  <thead>\n",
       "    <tr style=\"text-align: right;\">\n",
       "      <th></th>\n",
       "      <th>LoanStatNew</th>\n",
       "      <th>Description</th>\n",
       "      <th>Unnamed: 2</th>\n",
       "      <th>Unnamed: 3</th>\n",
       "      <th>Unnamed: 4</th>\n",
       "      <th>Unnamed: 5</th>\n",
       "      <th>Unnamed: 6</th>\n",
       "      <th>Unnamed: 7</th>\n",
       "      <th>Unnamed: 8</th>\n",
       "      <th>Unnamed: 9</th>\n",
       "      <th>Unnamed: 10</th>\n",
       "    </tr>\n",
       "  </thead>\n",
       "  <tbody>\n",
       "    <tr>\n",
       "      <th>0</th>\n",
       "      <td>acc_now_delinq</td>\n",
       "      <td>The number of accounts on which the borrower i...</td>\n",
       "      <td>NaN</td>\n",
       "      <td>NaN</td>\n",
       "      <td>NaN</td>\n",
       "      <td>NaN</td>\n",
       "      <td>NaN</td>\n",
       "      <td>NaN</td>\n",
       "      <td>NaN</td>\n",
       "      <td>NaN</td>\n",
       "      <td>NaN</td>\n",
       "    </tr>\n",
       "    <tr>\n",
       "      <th>1</th>\n",
       "      <td>acc_open_past_24mths</td>\n",
       "      <td>Number of trades opened in past 24 months.</td>\n",
       "      <td>NaN</td>\n",
       "      <td>NaN</td>\n",
       "      <td>NaN</td>\n",
       "      <td>NaN</td>\n",
       "      <td>NaN</td>\n",
       "      <td>NaN</td>\n",
       "      <td>NaN</td>\n",
       "      <td>NaN</td>\n",
       "      <td>NaN</td>\n",
       "    </tr>\n",
       "    <tr>\n",
       "      <th>2</th>\n",
       "      <td>addr_state</td>\n",
       "      <td>The state provided by the borrower in the loan...</td>\n",
       "      <td>NaN</td>\n",
       "      <td>NaN</td>\n",
       "      <td>NaN</td>\n",
       "      <td>NaN</td>\n",
       "      <td>NaN</td>\n",
       "      <td>NaN</td>\n",
       "      <td>NaN</td>\n",
       "      <td>NaN</td>\n",
       "      <td>NaN</td>\n",
       "    </tr>\n",
       "    <tr>\n",
       "      <th>3</th>\n",
       "      <td>all_util</td>\n",
       "      <td>Balance to credit limit on all trades</td>\n",
       "      <td>NaN</td>\n",
       "      <td>NaN</td>\n",
       "      <td>NaN</td>\n",
       "      <td>NaN</td>\n",
       "      <td>NaN</td>\n",
       "      <td>NaN</td>\n",
       "      <td>NaN</td>\n",
       "      <td>NaN</td>\n",
       "      <td>NaN</td>\n",
       "    </tr>\n",
       "    <tr>\n",
       "      <th>4</th>\n",
       "      <td>annual_inc</td>\n",
       "      <td>The self-reported annual income provided by th...</td>\n",
       "      <td>NaN</td>\n",
       "      <td>NaN</td>\n",
       "      <td>NaN</td>\n",
       "      <td>NaN</td>\n",
       "      <td>NaN</td>\n",
       "      <td>NaN</td>\n",
       "      <td>NaN</td>\n",
       "      <td>NaN</td>\n",
       "      <td>NaN</td>\n",
       "    </tr>\n",
       "  </tbody>\n",
       "</table>\n",
       "</div>"
      ],
      "text/plain": [
       "            LoanStatNew                                        Description  \\\n",
       "0        acc_now_delinq  The number of accounts on which the borrower i...   \n",
       "1  acc_open_past_24mths         Number of trades opened in past 24 months.   \n",
       "2            addr_state  The state provided by the borrower in the loan...   \n",
       "3              all_util              Balance to credit limit on all trades   \n",
       "4            annual_inc  The self-reported annual income provided by th...   \n",
       "\n",
       "   Unnamed: 2  Unnamed: 3  Unnamed: 4  Unnamed: 5  Unnamed: 6  Unnamed: 7  \\\n",
       "0         NaN         NaN         NaN         NaN         NaN         NaN   \n",
       "1         NaN         NaN         NaN         NaN         NaN         NaN   \n",
       "2         NaN         NaN         NaN         NaN         NaN         NaN   \n",
       "3         NaN         NaN         NaN         NaN         NaN         NaN   \n",
       "4         NaN         NaN         NaN         NaN         NaN         NaN   \n",
       "\n",
       "   Unnamed: 8  Unnamed: 9  Unnamed: 10  \n",
       "0         NaN         NaN          NaN  \n",
       "1         NaN         NaN          NaN  \n",
       "2         NaN         NaN          NaN  \n",
       "3         NaN         NaN          NaN  \n",
       "4         NaN         NaN          NaN  "
      ]
     },
     "execution_count": 12,
     "metadata": {},
     "output_type": "execute_result"
    }
   ],
   "source": [
    "LC_Data_Dictionary.head()"
   ]
  },
  {
   "cell_type": "code",
   "execution_count": 13,
   "metadata": {},
   "outputs": [
    {
     "data": {
      "text/plain": [
       "LoanStatNew      2\n",
       "Description      1\n",
       "Unnamed: 2     153\n",
       "Unnamed: 3     153\n",
       "Unnamed: 4     153\n",
       "Unnamed: 5     153\n",
       "Unnamed: 6     153\n",
       "Unnamed: 7     153\n",
       "Unnamed: 8     153\n",
       "Unnamed: 9     153\n",
       "Unnamed: 10    153\n",
       "dtype: int64"
      ]
     },
     "execution_count": 13,
     "metadata": {},
     "output_type": "execute_result"
    }
   ],
   "source": [
    "#search for null values in data dictionary dataset\n",
    "LC_Data_Dictionary.isna().sum()"
   ]
  },
  {
   "cell_type": "code",
   "execution_count": 14,
   "metadata": {},
   "outputs": [],
   "source": [
    "#Remove all columns will null value greater than 50%\n",
    "LC_Data_Dictionary_Update = LC_Data_Dictionary.loc[:, LC_Data_Dictionary.isnull().sum() < 0.5*LC_Data_Dictionary.shape[0]]"
   ]
  },
  {
   "cell_type": "code",
   "execution_count": 15,
   "metadata": {},
   "outputs": [
    {
     "name": "stdout",
     "output_type": "stream",
     "text": [
      "(153, 2)\n"
     ]
    }
   ],
   "source": [
    "print(LC_Data_Dictionary_Update.shape)"
   ]
  },
  {
   "cell_type": "code",
   "execution_count": 16,
   "metadata": {},
   "outputs": [
    {
     "data": {
      "text/html": [
       "<div>\n",
       "<style scoped>\n",
       "    .dataframe tbody tr th:only-of-type {\n",
       "        vertical-align: middle;\n",
       "    }\n",
       "\n",
       "    .dataframe tbody tr th {\n",
       "        vertical-align: top;\n",
       "    }\n",
       "\n",
       "    .dataframe thead th {\n",
       "        text-align: right;\n",
       "    }\n",
       "</style>\n",
       "<table border=\"1\" class=\"dataframe\">\n",
       "  <thead>\n",
       "    <tr style=\"text-align: right;\">\n",
       "      <th></th>\n",
       "      <th>LoanStatNew</th>\n",
       "      <th>Description</th>\n",
       "    </tr>\n",
       "  </thead>\n",
       "  <tbody>\n",
       "    <tr>\n",
       "      <th>0</th>\n",
       "      <td>acc_now_delinq</td>\n",
       "      <td>The number of accounts on which the borrower i...</td>\n",
       "    </tr>\n",
       "    <tr>\n",
       "      <th>1</th>\n",
       "      <td>acc_open_past_24mths</td>\n",
       "      <td>Number of trades opened in past 24 months.</td>\n",
       "    </tr>\n",
       "    <tr>\n",
       "      <th>2</th>\n",
       "      <td>addr_state</td>\n",
       "      <td>The state provided by the borrower in the loan...</td>\n",
       "    </tr>\n",
       "    <tr>\n",
       "      <th>3</th>\n",
       "      <td>all_util</td>\n",
       "      <td>Balance to credit limit on all trades</td>\n",
       "    </tr>\n",
       "    <tr>\n",
       "      <th>4</th>\n",
       "      <td>annual_inc</td>\n",
       "      <td>The self-reported annual income provided by th...</td>\n",
       "    </tr>\n",
       "  </tbody>\n",
       "</table>\n",
       "</div>"
      ],
      "text/plain": [
       "            LoanStatNew                                        Description\n",
       "0        acc_now_delinq  The number of accounts on which the borrower i...\n",
       "1  acc_open_past_24mths         Number of trades opened in past 24 months.\n",
       "2            addr_state  The state provided by the borrower in the loan...\n",
       "3              all_util              Balance to credit limit on all trades\n",
       "4            annual_inc  The self-reported annual income provided by th..."
      ]
     },
     "execution_count": 16,
     "metadata": {},
     "output_type": "execute_result"
    }
   ],
   "source": [
    "LC_Data_Dictionary_Update.head()"
   ]
  },
  {
   "cell_type": "code",
   "execution_count": 17,
   "metadata": {},
   "outputs": [
    {
     "name": "stdout",
     "output_type": "stream",
     "text": [
      "['LoanStatNew', 'Description']\n"
     ]
    }
   ],
   "source": [
    "#print column list of Data Dictionary\n",
    "print(LC_Data_Dictionary_Update.columns.tolist())"
   ]
  },
  {
   "cell_type": "code",
   "execution_count": 18,
   "metadata": {},
   "outputs": [],
   "source": [
    "#Rename Column of Data Dictionary\n",
    "LC_Data_Dictionary_Update = LC_Data_Dictionary_Update.rename(columns={'LoanStatNew': 'Variable Name', 'Description': 'Description'})"
   ]
  },
  {
   "cell_type": "code",
   "execution_count": 19,
   "metadata": {},
   "outputs": [
    {
     "data": {
      "text/plain": [
       "id                             0\n",
       "member_id                2650517\n",
       "loan_amnt                      0\n",
       "funded_amnt                    0\n",
       "funded_amnt_inv                0\n",
       "                          ...   \n",
       "settlement_status        2615962\n",
       "settlement_date          2615962\n",
       "settlement_amount        2615962\n",
       "settlement_percentage    2615962\n",
       "settlement_term          2615962\n",
       "Length: 150, dtype: int64"
      ]
     },
     "execution_count": 19,
     "metadata": {},
     "output_type": "execute_result"
    }
   ],
   "source": [
    "LC_Data.isna().sum()\n",
    "#to check the sum of null values in each column of original dataset of lending club"
   ]
  },
  {
   "cell_type": "code",
   "execution_count": 20,
   "metadata": {},
   "outputs": [],
   "source": [
    "LC_Data_Updated = LC_Data.loc[:, LC_Data.isnull().sum() < 0.5*LC_Data.shape[0]]\n",
    "#Dropping all columns with 50% missing values"
   ]
  },
  {
   "cell_type": "code",
   "execution_count": 21,
   "metadata": {},
   "outputs": [
    {
     "name": "stdout",
     "output_type": "stream",
     "text": [
      "(2650517, 106)\n"
     ]
    }
   ],
   "source": [
    "#print data shape\n",
    "print(LC_Data_Updated.shape)"
   ]
  },
  {
   "cell_type": "code",
   "execution_count": 22,
   "metadata": {},
   "outputs": [],
   "source": [
    "#merge data set with data dictionary with new shape \n",
    "LC_Data_Explanation = pd.DataFrame(LC_Data_Updated.dtypes,columns=['dtypes'])\n",
    "LC_Data_Explanation = LC_Data_Explanation.reset_index()\n",
    "LC_Data_Explanation['Variable Name'] = LC_Data_Explanation['index']\n",
    "LC_Data_Explanation = LC_Data_Explanation[['Variable Name','dtypes']]\n",
    "LC_Data_Explanation['first value'] = LC_Data_Updated.loc[0].values\n",
    "LC_Variables_Explained = LC_Data_Explanation.merge(LC_Data_Dictionary_Update, on='Variable Name',how='left')"
   ]
  },
  {
   "cell_type": "code",
   "execution_count": 23,
   "metadata": {},
   "outputs": [
    {
     "data": {
      "text/html": [
       "<div>\n",
       "<style scoped>\n",
       "    .dataframe tbody tr th:only-of-type {\n",
       "        vertical-align: middle;\n",
       "    }\n",
       "\n",
       "    .dataframe tbody tr th {\n",
       "        vertical-align: top;\n",
       "    }\n",
       "\n",
       "    .dataframe thead th {\n",
       "        text-align: right;\n",
       "    }\n",
       "</style>\n",
       "<table border=\"1\" class=\"dataframe\">\n",
       "  <thead>\n",
       "    <tr style=\"text-align: right;\">\n",
       "      <th></th>\n",
       "      <th>Variable Name</th>\n",
       "      <th>dtypes</th>\n",
       "      <th>first value</th>\n",
       "      <th>Description</th>\n",
       "    </tr>\n",
       "  </thead>\n",
       "  <tbody>\n",
       "    <tr>\n",
       "      <th>0</th>\n",
       "      <td>id</td>\n",
       "      <td>object</td>\n",
       "      <td>68407277</td>\n",
       "      <td>A unique LC assigned ID for the loan listing.</td>\n",
       "    </tr>\n",
       "    <tr>\n",
       "      <th>1</th>\n",
       "      <td>loan_amnt</td>\n",
       "      <td>float64</td>\n",
       "      <td>3600</td>\n",
       "      <td>The listed amount of the loan applied for by t...</td>\n",
       "    </tr>\n",
       "    <tr>\n",
       "      <th>2</th>\n",
       "      <td>funded_amnt</td>\n",
       "      <td>float64</td>\n",
       "      <td>3600</td>\n",
       "      <td>The total amount committed to that loan at tha...</td>\n",
       "    </tr>\n",
       "    <tr>\n",
       "      <th>3</th>\n",
       "      <td>funded_amnt_inv</td>\n",
       "      <td>float64</td>\n",
       "      <td>3600</td>\n",
       "      <td>The total amount committed by investors for th...</td>\n",
       "    </tr>\n",
       "    <tr>\n",
       "      <th>4</th>\n",
       "      <td>term</td>\n",
       "      <td>object</td>\n",
       "      <td>36 months</td>\n",
       "      <td>The number of payments on the loan. Values are...</td>\n",
       "    </tr>\n",
       "  </tbody>\n",
       "</table>\n",
       "</div>"
      ],
      "text/plain": [
       "     Variable Name   dtypes first value  \\\n",
       "0               id   object    68407277   \n",
       "1        loan_amnt  float64        3600   \n",
       "2      funded_amnt  float64        3600   \n",
       "3  funded_amnt_inv  float64        3600   \n",
       "4             term   object   36 months   \n",
       "\n",
       "                                         Description  \n",
       "0      A unique LC assigned ID for the loan listing.  \n",
       "1  The listed amount of the loan applied for by t...  \n",
       "2  The total amount committed to that loan at tha...  \n",
       "3  The total amount committed by investors for th...  \n",
       "4  The number of payments on the loan. Values are...  "
      ]
     },
     "execution_count": 23,
     "metadata": {},
     "output_type": "execute_result"
    }
   ],
   "source": [
    "LC_Variables_Explained.head()"
   ]
  },
  {
   "cell_type": "code",
   "execution_count": 24,
   "metadata": {},
   "outputs": [
    {
     "data": {
      "text/plain": [
       "0"
      ]
     },
     "execution_count": 24,
     "metadata": {},
     "output_type": "execute_result"
    }
   ],
   "source": [
    "#print number of null value  of high fico range\n",
    "LC_Data_Updated.last_fico_range_high.isna().sum()"
   ]
  },
  {
   "cell_type": "code",
   "execution_count": 25,
   "metadata": {},
   "outputs": [
    {
     "data": {
      "text/plain": [
       "0"
      ]
     },
     "execution_count": 25,
     "metadata": {},
     "output_type": "execute_result"
    }
   ],
   "source": [
    "#print number of null value of low fico range\n",
    "LC_Data_Updated.last_fico_range_low.isna().sum()"
   ]
  },
  {
   "cell_type": "code",
   "execution_count": 26,
   "metadata": {},
   "outputs": [
    {
     "name": "stderr",
     "output_type": "stream",
     "text": [
      "C:\\Users\\Nazmus\\anaconda3\\lib\\site-packages\\ipykernel_launcher.py:3: SettingWithCopyWarning: \n",
      "A value is trying to be set on a copy of a slice from a DataFrame.\n",
      "Try using .loc[row_indexer,col_indexer] = value instead\n",
      "\n",
      "See the caveats in the documentation: https://pandas.pydata.org/pandas-docs/stable/user_guide/indexing.html#returning-a-view-versus-a-copy\n",
      "  This is separate from the ipykernel package so we can avoid doing imports until\n",
      "C:\\Users\\Nazmus\\anaconda3\\lib\\site-packages\\ipykernel_launcher.py:4: SettingWithCopyWarning: \n",
      "A value is trying to be set on a copy of a slice from a DataFrame.\n",
      "Try using .loc[row_indexer,col_indexer] = value instead\n",
      "\n",
      "See the caveats in the documentation: https://pandas.pydata.org/pandas-docs/stable/user_guide/indexing.html#returning-a-view-versus-a-copy\n",
      "  after removing the cwd from sys.path.\n",
      "C:\\Users\\Nazmus\\anaconda3\\lib\\site-packages\\pandas\\core\\frame.py:3997: SettingWithCopyWarning: \n",
      "A value is trying to be set on a copy of a slice from a DataFrame\n",
      "\n",
      "See the caveats in the documentation: https://pandas.pydata.org/pandas-docs/stable/user_guide/indexing.html#returning-a-view-versus-a-copy\n",
      "  errors=errors,\n"
     ]
    }
   ],
   "source": [
    "#Calculating the mean fico score in order to set target variable\n",
    "#drop high and low fico range\n",
    "LC_Data_Updated['last_fico_range'] = LC_Data_Updated.last_fico_range_low.astype('str') + '-' + LC_Data_Updated.last_fico_range_high.astype('str')\n",
    "LC_Data_Updated['Mean_Fico'] = (LC_Data_Updated.last_fico_range_low + LC_Data_Updated.last_fico_range_high)/2\n",
    "LC_Data_Updated.drop(['last_fico_range_high','last_fico_range_low'],1, inplace=True)"
   ]
  },
  {
   "cell_type": "code",
   "execution_count": 27,
   "metadata": {},
   "outputs": [
    {
     "data": {
      "text/plain": [
       "692.0    101526\n",
       "697.0    100170\n",
       "702.0    100043\n",
       "707.0     99899\n",
       "712.0     96670\n",
       "          ...  \n",
       "832.0      3819\n",
       "837.0      1862\n",
       "842.0       943\n",
       "847.5       410\n",
       "0.0         238\n",
       "Name: Mean_Fico, Length: 72, dtype: int64"
      ]
     },
     "execution_count": 27,
     "metadata": {},
     "output_type": "execute_result"
    }
   ],
   "source": [
    "#Target Column is Mean_Fico\n",
    "LC_Data_Updated.Mean_Fico.value_counts()"
   ]
  },
  {
   "cell_type": "code",
   "execution_count": 28,
   "metadata": {},
   "outputs": [
    {
     "name": "stdout",
     "output_type": "stream",
     "text": [
      "(2650517,)\n"
     ]
    }
   ],
   "source": [
    "print(LC_Data_Updated.Mean_Fico.shape)"
   ]
  },
  {
   "cell_type": "code",
   "execution_count": 29,
   "metadata": {},
   "outputs": [
    {
     "name": "stderr",
     "output_type": "stream",
     "text": [
      "C:\\Users\\Nazmus\\anaconda3\\lib\\site-packages\\ipykernel_launcher.py:2: SettingWithCopyWarning: \n",
      "A value is trying to be set on a copy of a slice from a DataFrame.\n",
      "Try using .loc[row_indexer,col_indexer] = value instead\n",
      "\n",
      "See the caveats in the documentation: https://pandas.pydata.org/pandas-docs/stable/user_guide/indexing.html#returning-a-view-versus-a-copy\n",
      "  \n"
     ]
    }
   ],
   "source": [
    "#Setting Binary for Mean_FICO\n",
    "LC_Data_Updated[\"Mean_Fico\"] = np.where(LC_Data_Updated[\"Mean_Fico\"]>=600, 'Good', 'Bad') "
   ]
  },
  {
   "cell_type": "code",
   "execution_count": 30,
   "metadata": {},
   "outputs": [
    {
     "name": "stderr",
     "output_type": "stream",
     "text": [
      "C:\\Users\\Nazmus\\anaconda3\\lib\\site-packages\\ipykernel_launcher.py:2: SettingWithCopyWarning: \n",
      "A value is trying to be set on a copy of a slice from a DataFrame.\n",
      "Try using .loc[row_indexer,col_indexer] = value instead\n",
      "\n",
      "See the caveats in the documentation: https://pandas.pydata.org/pandas-docs/stable/user_guide/indexing.html#returning-a-view-versus-a-copy\n",
      "  \n"
     ]
    }
   ],
   "source": [
    "#Rename target variable and classified it into binary\n",
    "LC_Data_Updated['FICO_Score'] = np.where(LC_Data_Updated.loc[:, 'Mean_Fico'].isin(['Bad']), 0, 1)"
   ]
  },
  {
   "cell_type": "code",
   "execution_count": 31,
   "metadata": {},
   "outputs": [
    {
     "data": {
      "text/plain": [
       "1    2325954\n",
       "0     324563\n",
       "Name: FICO_Score, dtype: int64"
      ]
     },
     "execution_count": 31,
     "metadata": {},
     "output_type": "execute_result"
    }
   ],
   "source": [
    "##value counts after categorization of  target variable \n",
    "LC_Data_Updated.FICO_Score.value_counts()"
   ]
  },
  {
   "cell_type": "code",
   "execution_count": 32,
   "metadata": {},
   "outputs": [],
   "source": [
    "##Dropping the Orgininal mean_FICO column since we already converted the target function to binary\n",
    "LC_Data_Updated.drop(columns = ['Mean_Fico'], inplace = True)"
   ]
  },
  {
   "cell_type": "code",
   "execution_count": 33,
   "metadata": {},
   "outputs": [
    {
     "data": {
      "text/plain": [
       "106"
      ]
     },
     "execution_count": 33,
     "metadata": {},
     "output_type": "execute_result"
    }
   ],
   "source": [
    "#Analyzing Predictive Column\n",
    "len(LC_Data_Updated.columns)"
   ]
  },
  {
   "cell_type": "code",
   "execution_count": 34,
   "metadata": {},
   "outputs": [],
   "source": [
    "#creation of a list in order to store the columns that will retian as categorical or numerical\n",
    "#------------------------------------------------------------------------\n",
    "#X1:Payment History\n",
    "#X2:Account Owned\n",
    "#X3:Length of Credit History\n",
    "#X4:Credit Mix\n",
    "#X5:New Credit \n",
    "Categorical_Features_X1=[]\n",
    "Numerical_Features_X1=[]\n",
    "Categorical_Features_X2=[]\n",
    "Numerical_Features_X2=[]\n",
    "Categorical_Features_X3=[]\n",
    "Numerical_Features_X3=[]\n",
    "Categorical_Features_X4=[]\n",
    "Numerical_Features_X4=[]\n",
    "Categorical_Features_X5=[]\n",
    "Numerical_Features_X5=[]"
   ]
  },
  {
   "cell_type": "code",
   "execution_count": 35,
   "metadata": {},
   "outputs": [
    {
     "data": {
      "text/html": [
       "<div>\n",
       "<style scoped>\n",
       "    .dataframe tbody tr th:only-of-type {\n",
       "        vertical-align: middle;\n",
       "    }\n",
       "\n",
       "    .dataframe tbody tr th {\n",
       "        vertical-align: top;\n",
       "    }\n",
       "\n",
       "    .dataframe thead th {\n",
       "        text-align: right;\n",
       "    }\n",
       "</style>\n",
       "<table border=\"1\" class=\"dataframe\">\n",
       "  <thead>\n",
       "    <tr style=\"text-align: right;\">\n",
       "      <th></th>\n",
       "      <th>Variable Name</th>\n",
       "      <th>dtypes</th>\n",
       "      <th>first value</th>\n",
       "      <th>Description</th>\n",
       "    </tr>\n",
       "  </thead>\n",
       "  <tbody>\n",
       "    <tr>\n",
       "      <th>0</th>\n",
       "      <td>id</td>\n",
       "      <td>object</td>\n",
       "      <td>68407277</td>\n",
       "      <td>A unique LC assigned ID for the loan listing.</td>\n",
       "    </tr>\n",
       "    <tr>\n",
       "      <th>1</th>\n",
       "      <td>loan_amnt</td>\n",
       "      <td>float64</td>\n",
       "      <td>3600</td>\n",
       "      <td>The listed amount of the loan applied for by t...</td>\n",
       "    </tr>\n",
       "    <tr>\n",
       "      <th>2</th>\n",
       "      <td>funded_amnt</td>\n",
       "      <td>float64</td>\n",
       "      <td>3600</td>\n",
       "      <td>The total amount committed to that loan at tha...</td>\n",
       "    </tr>\n",
       "    <tr>\n",
       "      <th>3</th>\n",
       "      <td>funded_amnt_inv</td>\n",
       "      <td>float64</td>\n",
       "      <td>3600</td>\n",
       "      <td>The total amount committed by investors for th...</td>\n",
       "    </tr>\n",
       "    <tr>\n",
       "      <th>4</th>\n",
       "      <td>term</td>\n",
       "      <td>object</td>\n",
       "      <td>36 months</td>\n",
       "      <td>The number of payments on the loan. Values are...</td>\n",
       "    </tr>\n",
       "    <tr>\n",
       "      <th>5</th>\n",
       "      <td>int_rate</td>\n",
       "      <td>object</td>\n",
       "      <td>13.99</td>\n",
       "      <td>Interest Rate on the loan</td>\n",
       "    </tr>\n",
       "    <tr>\n",
       "      <th>6</th>\n",
       "      <td>installment</td>\n",
       "      <td>float64</td>\n",
       "      <td>123.03</td>\n",
       "      <td>The monthly payment owed by the borrower if th...</td>\n",
       "    </tr>\n",
       "    <tr>\n",
       "      <th>7</th>\n",
       "      <td>grade</td>\n",
       "      <td>object</td>\n",
       "      <td>C</td>\n",
       "      <td>LC assigned loan grade</td>\n",
       "    </tr>\n",
       "    <tr>\n",
       "      <th>8</th>\n",
       "      <td>sub_grade</td>\n",
       "      <td>object</td>\n",
       "      <td>C4</td>\n",
       "      <td>LC assigned loan subgrade</td>\n",
       "    </tr>\n",
       "    <tr>\n",
       "      <th>9</th>\n",
       "      <td>emp_title</td>\n",
       "      <td>object</td>\n",
       "      <td>leadman</td>\n",
       "      <td>The job title supplied by the Borrower when ap...</td>\n",
       "    </tr>\n",
       "    <tr>\n",
       "      <th>10</th>\n",
       "      <td>emp_length</td>\n",
       "      <td>object</td>\n",
       "      <td>10+ years</td>\n",
       "      <td>Employment length in years. Possible values ar...</td>\n",
       "    </tr>\n",
       "    <tr>\n",
       "      <th>11</th>\n",
       "      <td>home_ownership</td>\n",
       "      <td>object</td>\n",
       "      <td>MORTGAGE</td>\n",
       "      <td>The home ownership status provided by the borr...</td>\n",
       "    </tr>\n",
       "    <tr>\n",
       "      <th>12</th>\n",
       "      <td>annual_inc</td>\n",
       "      <td>float64</td>\n",
       "      <td>55000</td>\n",
       "      <td>The self-reported annual income provided by th...</td>\n",
       "    </tr>\n",
       "    <tr>\n",
       "      <th>13</th>\n",
       "      <td>verification_status</td>\n",
       "      <td>object</td>\n",
       "      <td>Not Verified</td>\n",
       "      <td>Indicates if income was verified by LC, not ve...</td>\n",
       "    </tr>\n",
       "    <tr>\n",
       "      <th>14</th>\n",
       "      <td>issue_d</td>\n",
       "      <td>datetime64[ns]</td>\n",
       "      <td>2015-12-01 00:00:00</td>\n",
       "      <td>The month which the loan was funded</td>\n",
       "    </tr>\n",
       "  </tbody>\n",
       "</table>\n",
       "</div>"
      ],
      "text/plain": [
       "          Variable Name          dtypes          first value  \\\n",
       "0                    id          object             68407277   \n",
       "1             loan_amnt         float64                 3600   \n",
       "2           funded_amnt         float64                 3600   \n",
       "3       funded_amnt_inv         float64                 3600   \n",
       "4                  term          object            36 months   \n",
       "5              int_rate          object                13.99   \n",
       "6           installment         float64               123.03   \n",
       "7                 grade          object                    C   \n",
       "8             sub_grade          object                   C4   \n",
       "9             emp_title          object              leadman   \n",
       "10           emp_length          object            10+ years   \n",
       "11       home_ownership          object             MORTGAGE   \n",
       "12           annual_inc         float64                55000   \n",
       "13  verification_status          object         Not Verified   \n",
       "14              issue_d  datetime64[ns]  2015-12-01 00:00:00   \n",
       "\n",
       "                                          Description  \n",
       "0       A unique LC assigned ID for the loan listing.  \n",
       "1   The listed amount of the loan applied for by t...  \n",
       "2   The total amount committed to that loan at tha...  \n",
       "3   The total amount committed by investors for th...  \n",
       "4   The number of payments on the loan. Values are...  \n",
       "5                           Interest Rate on the loan  \n",
       "6   The monthly payment owed by the borrower if th...  \n",
       "7                              LC assigned loan grade  \n",
       "8                           LC assigned loan subgrade  \n",
       "9   The job title supplied by the Borrower when ap...  \n",
       "10  Employment length in years. Possible values ar...  \n",
       "11  The home ownership status provided by the borr...  \n",
       "12  The self-reported annual income provided by th...  \n",
       "13  Indicates if income was verified by LC, not ve...  \n",
       "14                The month which the loan was funded  "
      ]
     },
     "execution_count": 35,
     "metadata": {},
     "output_type": "execute_result"
    }
   ],
   "source": [
    "#print number of column with different set attribute\n",
    "LC_Variables_Explained[:15]"
   ]
  },
  {
   "cell_type": "code",
   "execution_count": 36,
   "metadata": {},
   "outputs": [],
   "source": [
    "#Add variable with respect to numerical and catagorical characteristic \n",
    "Numerical_Features_X2.append('loan_amnt')\n",
    "Numerical_Features_X1.append('installment')\n",
    "Categorical_Features_X3.append('term')"
   ]
  },
  {
   "cell_type": "code",
   "execution_count": 37,
   "metadata": {},
   "outputs": [
    {
     "name": "stderr",
     "output_type": "stream",
     "text": [
      "C:\\Users\\Nazmus\\anaconda3\\lib\\site-packages\\pandas\\core\\frame.py:3997: SettingWithCopyWarning: \n",
      "A value is trying to be set on a copy of a slice from a DataFrame\n",
      "\n",
      "See the caveats in the documentation: https://pandas.pydata.org/pandas-docs/stable/user_guide/indexing.html#returning-a-view-versus-a-copy\n",
      "  errors=errors,\n"
     ]
    }
   ],
   "source": [
    "#droped unrequired column \n",
    "LC_Data_Updated.drop(columns = ['id','funded_amnt','funded_amnt_inv','int_rate','grade','sub_grade','emp_title','emp_length','home_ownership','annual_inc','verification_status','issue_d'], inplace = True)"
   ]
  },
  {
   "cell_type": "code",
   "execution_count": 38,
   "metadata": {},
   "outputs": [
    {
     "data": {
      "text/html": [
       "<div>\n",
       "<style scoped>\n",
       "    .dataframe tbody tr th:only-of-type {\n",
       "        vertical-align: middle;\n",
       "    }\n",
       "\n",
       "    .dataframe tbody tr th {\n",
       "        vertical-align: top;\n",
       "    }\n",
       "\n",
       "    .dataframe thead th {\n",
       "        text-align: right;\n",
       "    }\n",
       "</style>\n",
       "<table border=\"1\" class=\"dataframe\">\n",
       "  <thead>\n",
       "    <tr style=\"text-align: right;\">\n",
       "      <th></th>\n",
       "      <th>Variable Name</th>\n",
       "      <th>dtypes</th>\n",
       "      <th>first value</th>\n",
       "      <th>Description</th>\n",
       "    </tr>\n",
       "  </thead>\n",
       "  <tbody>\n",
       "    <tr>\n",
       "      <th>15</th>\n",
       "      <td>loan_status</td>\n",
       "      <td>object</td>\n",
       "      <td>Fully Paid</td>\n",
       "      <td>Current status of the loan</td>\n",
       "    </tr>\n",
       "    <tr>\n",
       "      <th>16</th>\n",
       "      <td>pymnt_plan</td>\n",
       "      <td>object</td>\n",
       "      <td>n</td>\n",
       "      <td>Indicates if a payment plan has been put in pl...</td>\n",
       "    </tr>\n",
       "    <tr>\n",
       "      <th>17</th>\n",
       "      <td>url</td>\n",
       "      <td>object</td>\n",
       "      <td>https://lendingclub.com/browse/loanDetail.acti...</td>\n",
       "      <td>URL for the LC page with listing data.</td>\n",
       "    </tr>\n",
       "    <tr>\n",
       "      <th>18</th>\n",
       "      <td>purpose</td>\n",
       "      <td>object</td>\n",
       "      <td>debt_consolidation</td>\n",
       "      <td>A category provided by the borrower for the lo...</td>\n",
       "    </tr>\n",
       "    <tr>\n",
       "      <th>19</th>\n",
       "      <td>title</td>\n",
       "      <td>object</td>\n",
       "      <td>Debt consolidation</td>\n",
       "      <td>The loan title provided by the borrower</td>\n",
       "    </tr>\n",
       "    <tr>\n",
       "      <th>20</th>\n",
       "      <td>zip_code</td>\n",
       "      <td>object</td>\n",
       "      <td>190xx</td>\n",
       "      <td>The first 3 numbers of the zip code provided b...</td>\n",
       "    </tr>\n",
       "    <tr>\n",
       "      <th>21</th>\n",
       "      <td>addr_state</td>\n",
       "      <td>object</td>\n",
       "      <td>PA</td>\n",
       "      <td>The state provided by the borrower in the loan...</td>\n",
       "    </tr>\n",
       "    <tr>\n",
       "      <th>22</th>\n",
       "      <td>dti</td>\n",
       "      <td>float64</td>\n",
       "      <td>5.91</td>\n",
       "      <td>A ratio calculated using the borrowers total ...</td>\n",
       "    </tr>\n",
       "    <tr>\n",
       "      <th>23</th>\n",
       "      <td>delinq_2yrs</td>\n",
       "      <td>float64</td>\n",
       "      <td>0</td>\n",
       "      <td>The number of 30+ days past-due incidences of ...</td>\n",
       "    </tr>\n",
       "    <tr>\n",
       "      <th>24</th>\n",
       "      <td>earliest_cr_line</td>\n",
       "      <td>object</td>\n",
       "      <td>Aug-2003</td>\n",
       "      <td>The month the borrower's earliest reported cre...</td>\n",
       "    </tr>\n",
       "    <tr>\n",
       "      <th>25</th>\n",
       "      <td>fico_range_low</td>\n",
       "      <td>float64</td>\n",
       "      <td>675</td>\n",
       "      <td>The lower boundary range the borrowers FICO a...</td>\n",
       "    </tr>\n",
       "    <tr>\n",
       "      <th>26</th>\n",
       "      <td>fico_range_high</td>\n",
       "      <td>float64</td>\n",
       "      <td>679</td>\n",
       "      <td>The upper boundary range the borrowers FICO a...</td>\n",
       "    </tr>\n",
       "    <tr>\n",
       "      <th>27</th>\n",
       "      <td>inq_last_6mths</td>\n",
       "      <td>float64</td>\n",
       "      <td>1</td>\n",
       "      <td>The number of inquiries in past 6 months (excl...</td>\n",
       "    </tr>\n",
       "    <tr>\n",
       "      <th>28</th>\n",
       "      <td>open_acc</td>\n",
       "      <td>float64</td>\n",
       "      <td>7</td>\n",
       "      <td>The number of open credit lines in the borrowe...</td>\n",
       "    </tr>\n",
       "    <tr>\n",
       "      <th>29</th>\n",
       "      <td>pub_rec</td>\n",
       "      <td>float64</td>\n",
       "      <td>0</td>\n",
       "      <td>Number of derogatory public records</td>\n",
       "    </tr>\n",
       "  </tbody>\n",
       "</table>\n",
       "</div>"
      ],
      "text/plain": [
       "       Variable Name   dtypes  \\\n",
       "15       loan_status   object   \n",
       "16        pymnt_plan   object   \n",
       "17               url   object   \n",
       "18           purpose   object   \n",
       "19             title   object   \n",
       "20          zip_code   object   \n",
       "21        addr_state   object   \n",
       "22               dti  float64   \n",
       "23       delinq_2yrs  float64   \n",
       "24  earliest_cr_line   object   \n",
       "25    fico_range_low  float64   \n",
       "26   fico_range_high  float64   \n",
       "27    inq_last_6mths  float64   \n",
       "28          open_acc  float64   \n",
       "29           pub_rec  float64   \n",
       "\n",
       "                                          first value  \\\n",
       "15                                         Fully Paid   \n",
       "16                                                  n   \n",
       "17  https://lendingclub.com/browse/loanDetail.acti...   \n",
       "18                                 debt_consolidation   \n",
       "19                                 Debt consolidation   \n",
       "20                                              190xx   \n",
       "21                                                 PA   \n",
       "22                                               5.91   \n",
       "23                                                  0   \n",
       "24                                           Aug-2003   \n",
       "25                                                675   \n",
       "26                                                679   \n",
       "27                                                  1   \n",
       "28                                                  7   \n",
       "29                                                  0   \n",
       "\n",
       "                                          Description  \n",
       "15                         Current status of the loan  \n",
       "16  Indicates if a payment plan has been put in pl...  \n",
       "17             URL for the LC page with listing data.  \n",
       "18  A category provided by the borrower for the lo...  \n",
       "19            The loan title provided by the borrower  \n",
       "20  The first 3 numbers of the zip code provided b...  \n",
       "21  The state provided by the borrower in the loan...  \n",
       "22  A ratio calculated using the borrowers total ...  \n",
       "23  The number of 30+ days past-due incidences of ...  \n",
       "24  The month the borrower's earliest reported cre...  \n",
       "25  The lower boundary range the borrowers FICO a...  \n",
       "26  The upper boundary range the borrowers FICO a...  \n",
       "27  The number of inquiries in past 6 months (excl...  \n",
       "28  The number of open credit lines in the borrowe...  \n",
       "29                Number of derogatory public records  "
      ]
     },
     "execution_count": 38,
     "metadata": {},
     "output_type": "execute_result"
    }
   ],
   "source": [
    "#print number of column with different set attribute\n",
    "LC_Variables_Explained[15:30]"
   ]
  },
  {
   "cell_type": "code",
   "execution_count": 39,
   "metadata": {},
   "outputs": [],
   "source": [
    "#Add variable with respect to numerical and catagorical characteristic \n",
    "Categorical_Features_X1.append('loan_status')\n",
    "Numerical_Features_X1.append('delinq_2yrs')\n",
    "Numerical_Features_X4.append('open_acc')"
   ]
  },
  {
   "cell_type": "code",
   "execution_count": 40,
   "metadata": {},
   "outputs": [
    {
     "name": "stderr",
     "output_type": "stream",
     "text": [
      "C:\\Users\\Nazmus\\anaconda3\\lib\\site-packages\\pandas\\core\\frame.py:3997: SettingWithCopyWarning: \n",
      "A value is trying to be set on a copy of a slice from a DataFrame\n",
      "\n",
      "See the caveats in the documentation: https://pandas.pydata.org/pandas-docs/stable/user_guide/indexing.html#returning-a-view-versus-a-copy\n",
      "  errors=errors,\n"
     ]
    }
   ],
   "source": [
    "#drop unrequired column \n",
    "LC_Data_Updated.drop(columns = ['pymnt_plan', 'url','purpose','title','zip_code','addr_state','dti','fico_range_low','fico_range_high','inq_last_6mths','earliest_cr_line','pub_rec',], inplace = True)"
   ]
  },
  {
   "cell_type": "code",
   "execution_count": 41,
   "metadata": {},
   "outputs": [
    {
     "data": {
      "text/html": [
       "<div>\n",
       "<style scoped>\n",
       "    .dataframe tbody tr th:only-of-type {\n",
       "        vertical-align: middle;\n",
       "    }\n",
       "\n",
       "    .dataframe tbody tr th {\n",
       "        vertical-align: top;\n",
       "    }\n",
       "\n",
       "    .dataframe thead th {\n",
       "        text-align: right;\n",
       "    }\n",
       "</style>\n",
       "<table border=\"1\" class=\"dataframe\">\n",
       "  <thead>\n",
       "    <tr style=\"text-align: right;\">\n",
       "      <th></th>\n",
       "      <th>Variable Name</th>\n",
       "      <th>dtypes</th>\n",
       "      <th>first value</th>\n",
       "      <th>Description</th>\n",
       "    </tr>\n",
       "  </thead>\n",
       "  <tbody>\n",
       "    <tr>\n",
       "      <th>30</th>\n",
       "      <td>revol_bal</td>\n",
       "      <td>float64</td>\n",
       "      <td>2765</td>\n",
       "      <td>Total credit revolving balance</td>\n",
       "    </tr>\n",
       "    <tr>\n",
       "      <th>31</th>\n",
       "      <td>revol_util</td>\n",
       "      <td>object</td>\n",
       "      <td>29.7</td>\n",
       "      <td>Revolving line utilization rate, or the amount...</td>\n",
       "    </tr>\n",
       "    <tr>\n",
       "      <th>32</th>\n",
       "      <td>total_acc</td>\n",
       "      <td>float64</td>\n",
       "      <td>13</td>\n",
       "      <td>The total number of credit lines currently in ...</td>\n",
       "    </tr>\n",
       "    <tr>\n",
       "      <th>33</th>\n",
       "      <td>initial_list_status</td>\n",
       "      <td>object</td>\n",
       "      <td>w</td>\n",
       "      <td>The initial listing status of the loan. Possib...</td>\n",
       "    </tr>\n",
       "    <tr>\n",
       "      <th>34</th>\n",
       "      <td>out_prncp</td>\n",
       "      <td>float64</td>\n",
       "      <td>0</td>\n",
       "      <td>Remaining outstanding principal for total amou...</td>\n",
       "    </tr>\n",
       "    <tr>\n",
       "      <th>35</th>\n",
       "      <td>out_prncp_inv</td>\n",
       "      <td>float64</td>\n",
       "      <td>0</td>\n",
       "      <td>Remaining outstanding principal for portion of...</td>\n",
       "    </tr>\n",
       "    <tr>\n",
       "      <th>36</th>\n",
       "      <td>total_pymnt</td>\n",
       "      <td>float64</td>\n",
       "      <td>4421.72</td>\n",
       "      <td>Payments received to date for total amount funded</td>\n",
       "    </tr>\n",
       "    <tr>\n",
       "      <th>37</th>\n",
       "      <td>total_pymnt_inv</td>\n",
       "      <td>float64</td>\n",
       "      <td>4421.72</td>\n",
       "      <td>Payments received to date for portion of total...</td>\n",
       "    </tr>\n",
       "    <tr>\n",
       "      <th>38</th>\n",
       "      <td>total_rec_prncp</td>\n",
       "      <td>float64</td>\n",
       "      <td>3600</td>\n",
       "      <td>Principal received to date</td>\n",
       "    </tr>\n",
       "    <tr>\n",
       "      <th>39</th>\n",
       "      <td>total_rec_int</td>\n",
       "      <td>float64</td>\n",
       "      <td>821.72</td>\n",
       "      <td>Interest received to date</td>\n",
       "    </tr>\n",
       "    <tr>\n",
       "      <th>40</th>\n",
       "      <td>total_rec_late_fee</td>\n",
       "      <td>float64</td>\n",
       "      <td>0</td>\n",
       "      <td>Late fees received to date</td>\n",
       "    </tr>\n",
       "    <tr>\n",
       "      <th>41</th>\n",
       "      <td>recoveries</td>\n",
       "      <td>float64</td>\n",
       "      <td>0</td>\n",
       "      <td>post charge off gross recovery</td>\n",
       "    </tr>\n",
       "    <tr>\n",
       "      <th>42</th>\n",
       "      <td>collection_recovery_fee</td>\n",
       "      <td>float64</td>\n",
       "      <td>0</td>\n",
       "      <td>post charge off collection fee</td>\n",
       "    </tr>\n",
       "    <tr>\n",
       "      <th>43</th>\n",
       "      <td>last_pymnt_d</td>\n",
       "      <td>object</td>\n",
       "      <td>Jan-2019</td>\n",
       "      <td>Last month payment was received</td>\n",
       "    </tr>\n",
       "    <tr>\n",
       "      <th>44</th>\n",
       "      <td>last_pymnt_amnt</td>\n",
       "      <td>float64</td>\n",
       "      <td>122.67</td>\n",
       "      <td>Last total payment amount received</td>\n",
       "    </tr>\n",
       "  </tbody>\n",
       "</table>\n",
       "</div>"
      ],
      "text/plain": [
       "              Variable Name   dtypes first value  \\\n",
       "30                revol_bal  float64        2765   \n",
       "31               revol_util   object        29.7   \n",
       "32                total_acc  float64          13   \n",
       "33      initial_list_status   object           w   \n",
       "34                out_prncp  float64           0   \n",
       "35            out_prncp_inv  float64           0   \n",
       "36              total_pymnt  float64     4421.72   \n",
       "37          total_pymnt_inv  float64     4421.72   \n",
       "38          total_rec_prncp  float64        3600   \n",
       "39            total_rec_int  float64      821.72   \n",
       "40       total_rec_late_fee  float64           0   \n",
       "41               recoveries  float64           0   \n",
       "42  collection_recovery_fee  float64           0   \n",
       "43             last_pymnt_d   object    Jan-2019   \n",
       "44          last_pymnt_amnt  float64      122.67   \n",
       "\n",
       "                                          Description  \n",
       "30                     Total credit revolving balance  \n",
       "31  Revolving line utilization rate, or the amount...  \n",
       "32  The total number of credit lines currently in ...  \n",
       "33  The initial listing status of the loan. Possib...  \n",
       "34  Remaining outstanding principal for total amou...  \n",
       "35  Remaining outstanding principal for portion of...  \n",
       "36  Payments received to date for total amount funded  \n",
       "37  Payments received to date for portion of total...  \n",
       "38                         Principal received to date  \n",
       "39                          Interest received to date  \n",
       "40                         Late fees received to date  \n",
       "41                     post charge off gross recovery  \n",
       "42                     post charge off collection fee  \n",
       "43                    Last month payment was received  \n",
       "44                 Last total payment amount received  "
      ]
     },
     "execution_count": 41,
     "metadata": {},
     "output_type": "execute_result"
    }
   ],
   "source": [
    "#print number of column with different set attribute\n",
    "LC_Variables_Explained[30:45]"
   ]
  },
  {
   "cell_type": "code",
   "execution_count": 42,
   "metadata": {},
   "outputs": [],
   "source": [
    "#Add variable with respect to numerical and catagorical characteristic \n",
    "Numerical_Features_X2.append('revol_bal')\n",
    "Numerical_Features_X2.append('revol_util')\n",
    "Numerical_Features_X4.append('total_acc')\n",
    "Numerical_Features_X2.append('out_prncp')\n",
    "Numerical_Features_X2.append('recoveries')"
   ]
  },
  {
   "cell_type": "code",
   "execution_count": 43,
   "metadata": {},
   "outputs": [
    {
     "name": "stderr",
     "output_type": "stream",
     "text": [
      "C:\\Users\\Nazmus\\anaconda3\\lib\\site-packages\\pandas\\core\\frame.py:3997: SettingWithCopyWarning: \n",
      "A value is trying to be set on a copy of a slice from a DataFrame\n",
      "\n",
      "See the caveats in the documentation: https://pandas.pydata.org/pandas-docs/stable/user_guide/indexing.html#returning-a-view-versus-a-copy\n",
      "  errors=errors,\n"
     ]
    }
   ],
   "source": [
    "#drop unrequired column \n",
    "LC_Data_Updated.drop(columns = ['initial_list_status','out_prncp_inv','total_pymnt_inv','total_rec_prncp','total_rec_int','total_rec_late_fee','collection_recovery_fee','last_pymnt_d','last_pymnt_amnt','total_pymnt'], inplace = True)"
   ]
  },
  {
   "cell_type": "code",
   "execution_count": 44,
   "metadata": {},
   "outputs": [
    {
     "data": {
      "text/html": [
       "<div>\n",
       "<style scoped>\n",
       "    .dataframe tbody tr th:only-of-type {\n",
       "        vertical-align: middle;\n",
       "    }\n",
       "\n",
       "    .dataframe tbody tr th {\n",
       "        vertical-align: top;\n",
       "    }\n",
       "\n",
       "    .dataframe thead th {\n",
       "        text-align: right;\n",
       "    }\n",
       "</style>\n",
       "<table border=\"1\" class=\"dataframe\">\n",
       "  <thead>\n",
       "    <tr style=\"text-align: right;\">\n",
       "      <th></th>\n",
       "      <th>Variable Name</th>\n",
       "      <th>dtypes</th>\n",
       "      <th>first value</th>\n",
       "      <th>Description</th>\n",
       "    </tr>\n",
       "  </thead>\n",
       "  <tbody>\n",
       "    <tr>\n",
       "      <th>45</th>\n",
       "      <td>last_credit_pull_d</td>\n",
       "      <td>object</td>\n",
       "      <td>Mar-2019</td>\n",
       "      <td>The most recent month LC pulled credit for thi...</td>\n",
       "    </tr>\n",
       "    <tr>\n",
       "      <th>46</th>\n",
       "      <td>last_fico_range_high</td>\n",
       "      <td>float64</td>\n",
       "      <td>564</td>\n",
       "      <td>The upper boundary range the borrowers last F...</td>\n",
       "    </tr>\n",
       "    <tr>\n",
       "      <th>47</th>\n",
       "      <td>last_fico_range_low</td>\n",
       "      <td>float64</td>\n",
       "      <td>560</td>\n",
       "      <td>The lower boundary range the borrowers last F...</td>\n",
       "    </tr>\n",
       "    <tr>\n",
       "      <th>48</th>\n",
       "      <td>collections_12_mths_ex_med</td>\n",
       "      <td>float64</td>\n",
       "      <td>0</td>\n",
       "      <td>Number of collections in 12 months excluding m...</td>\n",
       "    </tr>\n",
       "    <tr>\n",
       "      <th>49</th>\n",
       "      <td>policy_code</td>\n",
       "      <td>float64</td>\n",
       "      <td>1</td>\n",
       "      <td>publicly available policy_code=1\\nnew products...</td>\n",
       "    </tr>\n",
       "    <tr>\n",
       "      <th>50</th>\n",
       "      <td>application_type</td>\n",
       "      <td>object</td>\n",
       "      <td>Individual</td>\n",
       "      <td>Indicates whether the loan is an individual ap...</td>\n",
       "    </tr>\n",
       "    <tr>\n",
       "      <th>51</th>\n",
       "      <td>acc_now_delinq</td>\n",
       "      <td>float64</td>\n",
       "      <td>0</td>\n",
       "      <td>The number of accounts on which the borrower i...</td>\n",
       "    </tr>\n",
       "    <tr>\n",
       "      <th>52</th>\n",
       "      <td>tot_coll_amt</td>\n",
       "      <td>float64</td>\n",
       "      <td>722</td>\n",
       "      <td>Total collection amounts ever owed</td>\n",
       "    </tr>\n",
       "    <tr>\n",
       "      <th>53</th>\n",
       "      <td>tot_cur_bal</td>\n",
       "      <td>float64</td>\n",
       "      <td>144904</td>\n",
       "      <td>Total current balance of all accounts</td>\n",
       "    </tr>\n",
       "    <tr>\n",
       "      <th>54</th>\n",
       "      <td>open_acc_6m</td>\n",
       "      <td>float64</td>\n",
       "      <td>2</td>\n",
       "      <td>Number of open trades in last 6 months</td>\n",
       "    </tr>\n",
       "    <tr>\n",
       "      <th>55</th>\n",
       "      <td>open_act_il</td>\n",
       "      <td>float64</td>\n",
       "      <td>2</td>\n",
       "      <td>Number of currently active installment trades</td>\n",
       "    </tr>\n",
       "    <tr>\n",
       "      <th>56</th>\n",
       "      <td>open_il_12m</td>\n",
       "      <td>float64</td>\n",
       "      <td>0</td>\n",
       "      <td>Number of installment accounts opened in past ...</td>\n",
       "    </tr>\n",
       "    <tr>\n",
       "      <th>57</th>\n",
       "      <td>open_il_24m</td>\n",
       "      <td>float64</td>\n",
       "      <td>1</td>\n",
       "      <td>Number of installment accounts opened in past ...</td>\n",
       "    </tr>\n",
       "    <tr>\n",
       "      <th>58</th>\n",
       "      <td>mths_since_rcnt_il</td>\n",
       "      <td>float64</td>\n",
       "      <td>21</td>\n",
       "      <td>Months since most recent installment accounts ...</td>\n",
       "    </tr>\n",
       "    <tr>\n",
       "      <th>59</th>\n",
       "      <td>total_bal_il</td>\n",
       "      <td>float64</td>\n",
       "      <td>4981</td>\n",
       "      <td>Total current balance of all installment accounts</td>\n",
       "    </tr>\n",
       "  </tbody>\n",
       "</table>\n",
       "</div>"
      ],
      "text/plain": [
       "                 Variable Name   dtypes first value  \\\n",
       "45          last_credit_pull_d   object    Mar-2019   \n",
       "46        last_fico_range_high  float64         564   \n",
       "47         last_fico_range_low  float64         560   \n",
       "48  collections_12_mths_ex_med  float64           0   \n",
       "49                 policy_code  float64           1   \n",
       "50            application_type   object  Individual   \n",
       "51              acc_now_delinq  float64           0   \n",
       "52                tot_coll_amt  float64         722   \n",
       "53                 tot_cur_bal  float64      144904   \n",
       "54                 open_acc_6m  float64           2   \n",
       "55                 open_act_il  float64           2   \n",
       "56                 open_il_12m  float64           0   \n",
       "57                 open_il_24m  float64           1   \n",
       "58          mths_since_rcnt_il  float64          21   \n",
       "59                total_bal_il  float64        4981   \n",
       "\n",
       "                                          Description  \n",
       "45  The most recent month LC pulled credit for thi...  \n",
       "46  The upper boundary range the borrowers last F...  \n",
       "47  The lower boundary range the borrowers last F...  \n",
       "48  Number of collections in 12 months excluding m...  \n",
       "49  publicly available policy_code=1\\nnew products...  \n",
       "50  Indicates whether the loan is an individual ap...  \n",
       "51  The number of accounts on which the borrower i...  \n",
       "52                 Total collection amounts ever owed  \n",
       "53              Total current balance of all accounts  \n",
       "54             Number of open trades in last 6 months  \n",
       "55      Number of currently active installment trades  \n",
       "56  Number of installment accounts opened in past ...  \n",
       "57  Number of installment accounts opened in past ...  \n",
       "58  Months since most recent installment accounts ...  \n",
       "59  Total current balance of all installment accounts  "
      ]
     },
     "execution_count": 44,
     "metadata": {},
     "output_type": "execute_result"
    }
   ],
   "source": [
    "#print number of column with different set attribute\n",
    "LC_Variables_Explained[45:60]"
   ]
  },
  {
   "cell_type": "code",
   "execution_count": 45,
   "metadata": {},
   "outputs": [],
   "source": [
    "#Add variable with respect to numerical and catagorical characteristic \n",
    "Numerical_Features_X1.append('acc_now_delinq')\n",
    "Numerical_Features_X1.append('tot_coll_amt')"
   ]
  },
  {
   "cell_type": "code",
   "execution_count": 46,
   "metadata": {},
   "outputs": [
    {
     "name": "stderr",
     "output_type": "stream",
     "text": [
      "C:\\Users\\Nazmus\\anaconda3\\lib\\site-packages\\pandas\\core\\frame.py:3997: SettingWithCopyWarning: \n",
      "A value is trying to be set on a copy of a slice from a DataFrame\n",
      "\n",
      "See the caveats in the documentation: https://pandas.pydata.org/pandas-docs/stable/user_guide/indexing.html#returning-a-view-versus-a-copy\n",
      "  errors=errors,\n"
     ]
    }
   ],
   "source": [
    "#drop unrequired column \n",
    "LC_Data_Updated.drop(columns = ['collections_12_mths_ex_med','policy_code','application_type','open_acc_6m','open_act_il','open_il_12m','open_il_12m','open_il_24m','mths_since_rcnt_il','total_bal_il','last_credit_pull_d','tot_cur_bal'], inplace = True)"
   ]
  },
  {
   "cell_type": "code",
   "execution_count": 47,
   "metadata": {},
   "outputs": [
    {
     "data": {
      "text/html": [
       "<div>\n",
       "<style scoped>\n",
       "    .dataframe tbody tr th:only-of-type {\n",
       "        vertical-align: middle;\n",
       "    }\n",
       "\n",
       "    .dataframe tbody tr th {\n",
       "        vertical-align: top;\n",
       "    }\n",
       "\n",
       "    .dataframe thead th {\n",
       "        text-align: right;\n",
       "    }\n",
       "</style>\n",
       "<table border=\"1\" class=\"dataframe\">\n",
       "  <thead>\n",
       "    <tr style=\"text-align: right;\">\n",
       "      <th></th>\n",
       "      <th>Variable Name</th>\n",
       "      <th>dtypes</th>\n",
       "      <th>first value</th>\n",
       "      <th>Description</th>\n",
       "    </tr>\n",
       "  </thead>\n",
       "  <tbody>\n",
       "    <tr>\n",
       "      <th>60</th>\n",
       "      <td>il_util</td>\n",
       "      <td>float64</td>\n",
       "      <td>36</td>\n",
       "      <td>Ratio of total current balance to high credit/...</td>\n",
       "    </tr>\n",
       "    <tr>\n",
       "      <th>61</th>\n",
       "      <td>open_rv_12m</td>\n",
       "      <td>float64</td>\n",
       "      <td>3</td>\n",
       "      <td>Number of revolving trades opened in past 12 m...</td>\n",
       "    </tr>\n",
       "    <tr>\n",
       "      <th>62</th>\n",
       "      <td>open_rv_24m</td>\n",
       "      <td>float64</td>\n",
       "      <td>3</td>\n",
       "      <td>Number of revolving trades opened in past 24 m...</td>\n",
       "    </tr>\n",
       "    <tr>\n",
       "      <th>63</th>\n",
       "      <td>max_bal_bc</td>\n",
       "      <td>float64</td>\n",
       "      <td>722</td>\n",
       "      <td>Maximum current balance owed on all revolving ...</td>\n",
       "    </tr>\n",
       "    <tr>\n",
       "      <th>64</th>\n",
       "      <td>all_util</td>\n",
       "      <td>float64</td>\n",
       "      <td>34</td>\n",
       "      <td>Balance to credit limit on all trades</td>\n",
       "    </tr>\n",
       "    <tr>\n",
       "      <th>65</th>\n",
       "      <td>total_rev_hi_lim</td>\n",
       "      <td>float64</td>\n",
       "      <td>9300</td>\n",
       "      <td>NaN</td>\n",
       "    </tr>\n",
       "    <tr>\n",
       "      <th>66</th>\n",
       "      <td>inq_fi</td>\n",
       "      <td>float64</td>\n",
       "      <td>3</td>\n",
       "      <td>Number of personal finance inquiries</td>\n",
       "    </tr>\n",
       "    <tr>\n",
       "      <th>67</th>\n",
       "      <td>total_cu_tl</td>\n",
       "      <td>float64</td>\n",
       "      <td>1</td>\n",
       "      <td>Number of finance trades</td>\n",
       "    </tr>\n",
       "    <tr>\n",
       "      <th>68</th>\n",
       "      <td>inq_last_12m</td>\n",
       "      <td>float64</td>\n",
       "      <td>4</td>\n",
       "      <td>Number of credit inquiries in past 12 months</td>\n",
       "    </tr>\n",
       "    <tr>\n",
       "      <th>69</th>\n",
       "      <td>acc_open_past_24mths</td>\n",
       "      <td>float64</td>\n",
       "      <td>4</td>\n",
       "      <td>Number of trades opened in past 24 months.</td>\n",
       "    </tr>\n",
       "    <tr>\n",
       "      <th>70</th>\n",
       "      <td>avg_cur_bal</td>\n",
       "      <td>float64</td>\n",
       "      <td>20701</td>\n",
       "      <td>Average current balance of all accounts</td>\n",
       "    </tr>\n",
       "    <tr>\n",
       "      <th>71</th>\n",
       "      <td>bc_open_to_buy</td>\n",
       "      <td>float64</td>\n",
       "      <td>1506</td>\n",
       "      <td>Total open to buy on revolving bankcards.</td>\n",
       "    </tr>\n",
       "    <tr>\n",
       "      <th>72</th>\n",
       "      <td>bc_util</td>\n",
       "      <td>float64</td>\n",
       "      <td>37.2</td>\n",
       "      <td>Ratio of total current balance to high credit/...</td>\n",
       "    </tr>\n",
       "    <tr>\n",
       "      <th>73</th>\n",
       "      <td>chargeoff_within_12_mths</td>\n",
       "      <td>float64</td>\n",
       "      <td>0</td>\n",
       "      <td>Number of charge-offs within 12 months</td>\n",
       "    </tr>\n",
       "    <tr>\n",
       "      <th>74</th>\n",
       "      <td>delinq_amnt</td>\n",
       "      <td>float64</td>\n",
       "      <td>0</td>\n",
       "      <td>The past-due amount owed for the accounts on w...</td>\n",
       "    </tr>\n",
       "  </tbody>\n",
       "</table>\n",
       "</div>"
      ],
      "text/plain": [
       "               Variable Name   dtypes first value  \\\n",
       "60                   il_util  float64          36   \n",
       "61               open_rv_12m  float64           3   \n",
       "62               open_rv_24m  float64           3   \n",
       "63                max_bal_bc  float64         722   \n",
       "64                  all_util  float64          34   \n",
       "65          total_rev_hi_lim  float64        9300   \n",
       "66                    inq_fi  float64           3   \n",
       "67               total_cu_tl  float64           1   \n",
       "68              inq_last_12m  float64           4   \n",
       "69      acc_open_past_24mths  float64           4   \n",
       "70               avg_cur_bal  float64       20701   \n",
       "71            bc_open_to_buy  float64        1506   \n",
       "72                   bc_util  float64        37.2   \n",
       "73  chargeoff_within_12_mths  float64           0   \n",
       "74               delinq_amnt  float64           0   \n",
       "\n",
       "                                          Description  \n",
       "60  Ratio of total current balance to high credit/...  \n",
       "61  Number of revolving trades opened in past 12 m...  \n",
       "62  Number of revolving trades opened in past 24 m...  \n",
       "63  Maximum current balance owed on all revolving ...  \n",
       "64              Balance to credit limit on all trades  \n",
       "65                                                NaN  \n",
       "66               Number of personal finance inquiries  \n",
       "67                           Number of finance trades  \n",
       "68       Number of credit inquiries in past 12 months  \n",
       "69         Number of trades opened in past 24 months.  \n",
       "70            Average current balance of all accounts  \n",
       "71          Total open to buy on revolving bankcards.  \n",
       "72  Ratio of total current balance to high credit/...  \n",
       "73             Number of charge-offs within 12 months  \n",
       "74  The past-due amount owed for the accounts on w...  "
      ]
     },
     "execution_count": 47,
     "metadata": {},
     "output_type": "execute_result"
    }
   ],
   "source": [
    "#print number of column with different set attribute\n",
    "LC_Variables_Explained[60:75]"
   ]
  },
  {
   "cell_type": "code",
   "execution_count": 48,
   "metadata": {},
   "outputs": [],
   "source": [
    "#Add variable with respect to numerical and catagorical characteristic \n",
    "Numerical_Features_X2.append('max_bal_bc')\n",
    "Numerical_Features_X1.append('chargeoff_within_12_mths')\n",
    "Numerical_Features_X1.append('delinq_amnt')"
   ]
  },
  {
   "cell_type": "code",
   "execution_count": 49,
   "metadata": {},
   "outputs": [
    {
     "name": "stderr",
     "output_type": "stream",
     "text": [
      "C:\\Users\\Nazmus\\anaconda3\\lib\\site-packages\\pandas\\core\\frame.py:3997: SettingWithCopyWarning: \n",
      "A value is trying to be set on a copy of a slice from a DataFrame\n",
      "\n",
      "See the caveats in the documentation: https://pandas.pydata.org/pandas-docs/stable/user_guide/indexing.html#returning-a-view-versus-a-copy\n",
      "  errors=errors,\n"
     ]
    }
   ],
   "source": [
    "#drop unrequired column \n",
    "LC_Data_Updated.drop(columns = ['il_util','open_rv_12m','open_rv_24m','all_util','total_rev_hi_lim','inq_fi','total_cu_tl','inq_last_12m','acc_open_past_24mths','avg_cur_bal','bc_open_to_buy','bc_util'], inplace = True)"
   ]
  },
  {
   "cell_type": "code",
   "execution_count": 50,
   "metadata": {},
   "outputs": [
    {
     "data": {
      "text/html": [
       "<div>\n",
       "<style scoped>\n",
       "    .dataframe tbody tr th:only-of-type {\n",
       "        vertical-align: middle;\n",
       "    }\n",
       "\n",
       "    .dataframe tbody tr th {\n",
       "        vertical-align: top;\n",
       "    }\n",
       "\n",
       "    .dataframe thead th {\n",
       "        text-align: right;\n",
       "    }\n",
       "</style>\n",
       "<table border=\"1\" class=\"dataframe\">\n",
       "  <thead>\n",
       "    <tr style=\"text-align: right;\">\n",
       "      <th></th>\n",
       "      <th>Variable Name</th>\n",
       "      <th>dtypes</th>\n",
       "      <th>first value</th>\n",
       "      <th>Description</th>\n",
       "    </tr>\n",
       "  </thead>\n",
       "  <tbody>\n",
       "    <tr>\n",
       "      <th>75</th>\n",
       "      <td>mo_sin_old_il_acct</td>\n",
       "      <td>float64</td>\n",
       "      <td>148</td>\n",
       "      <td>Months since oldest bank installment account o...</td>\n",
       "    </tr>\n",
       "    <tr>\n",
       "      <th>76</th>\n",
       "      <td>mo_sin_old_rev_tl_op</td>\n",
       "      <td>float64</td>\n",
       "      <td>128</td>\n",
       "      <td>Months since oldest revolving account opened</td>\n",
       "    </tr>\n",
       "    <tr>\n",
       "      <th>77</th>\n",
       "      <td>mo_sin_rcnt_rev_tl_op</td>\n",
       "      <td>float64</td>\n",
       "      <td>3</td>\n",
       "      <td>Months since most recent revolving account opened</td>\n",
       "    </tr>\n",
       "    <tr>\n",
       "      <th>78</th>\n",
       "      <td>mo_sin_rcnt_tl</td>\n",
       "      <td>float64</td>\n",
       "      <td>3</td>\n",
       "      <td>Months since most recent account opened</td>\n",
       "    </tr>\n",
       "    <tr>\n",
       "      <th>79</th>\n",
       "      <td>mort_acc</td>\n",
       "      <td>float64</td>\n",
       "      <td>1</td>\n",
       "      <td>Number of mortgage accounts.</td>\n",
       "    </tr>\n",
       "    <tr>\n",
       "      <th>80</th>\n",
       "      <td>mths_since_recent_bc</td>\n",
       "      <td>float64</td>\n",
       "      <td>4</td>\n",
       "      <td>Months since most recent bankcard account opened.</td>\n",
       "    </tr>\n",
       "    <tr>\n",
       "      <th>81</th>\n",
       "      <td>mths_since_recent_inq</td>\n",
       "      <td>float64</td>\n",
       "      <td>4</td>\n",
       "      <td>Months since most recent inquiry.</td>\n",
       "    </tr>\n",
       "    <tr>\n",
       "      <th>82</th>\n",
       "      <td>num_accts_ever_120_pd</td>\n",
       "      <td>float64</td>\n",
       "      <td>2</td>\n",
       "      <td>Number of accounts ever 120 or more days past due</td>\n",
       "    </tr>\n",
       "    <tr>\n",
       "      <th>83</th>\n",
       "      <td>num_actv_bc_tl</td>\n",
       "      <td>float64</td>\n",
       "      <td>2</td>\n",
       "      <td>Number of currently active bankcard accounts</td>\n",
       "    </tr>\n",
       "    <tr>\n",
       "      <th>84</th>\n",
       "      <td>num_actv_rev_tl</td>\n",
       "      <td>float64</td>\n",
       "      <td>4</td>\n",
       "      <td>Number of currently active revolving trades</td>\n",
       "    </tr>\n",
       "    <tr>\n",
       "      <th>85</th>\n",
       "      <td>num_bc_sats</td>\n",
       "      <td>float64</td>\n",
       "      <td>2</td>\n",
       "      <td>Number of satisfactory bankcard accounts</td>\n",
       "    </tr>\n",
       "    <tr>\n",
       "      <th>86</th>\n",
       "      <td>num_bc_tl</td>\n",
       "      <td>float64</td>\n",
       "      <td>5</td>\n",
       "      <td>Number of bankcard accounts</td>\n",
       "    </tr>\n",
       "    <tr>\n",
       "      <th>87</th>\n",
       "      <td>num_il_tl</td>\n",
       "      <td>float64</td>\n",
       "      <td>3</td>\n",
       "      <td>Number of installment accounts</td>\n",
       "    </tr>\n",
       "    <tr>\n",
       "      <th>88</th>\n",
       "      <td>num_op_rev_tl</td>\n",
       "      <td>float64</td>\n",
       "      <td>4</td>\n",
       "      <td>Number of open revolving accounts</td>\n",
       "    </tr>\n",
       "    <tr>\n",
       "      <th>89</th>\n",
       "      <td>num_rev_accts</td>\n",
       "      <td>float64</td>\n",
       "      <td>9</td>\n",
       "      <td>Number of revolving accounts</td>\n",
       "    </tr>\n",
       "  </tbody>\n",
       "</table>\n",
       "</div>"
      ],
      "text/plain": [
       "            Variable Name   dtypes first value  \\\n",
       "75     mo_sin_old_il_acct  float64         148   \n",
       "76   mo_sin_old_rev_tl_op  float64         128   \n",
       "77  mo_sin_rcnt_rev_tl_op  float64           3   \n",
       "78         mo_sin_rcnt_tl  float64           3   \n",
       "79               mort_acc  float64           1   \n",
       "80   mths_since_recent_bc  float64           4   \n",
       "81  mths_since_recent_inq  float64           4   \n",
       "82  num_accts_ever_120_pd  float64           2   \n",
       "83         num_actv_bc_tl  float64           2   \n",
       "84        num_actv_rev_tl  float64           4   \n",
       "85            num_bc_sats  float64           2   \n",
       "86              num_bc_tl  float64           5   \n",
       "87              num_il_tl  float64           3   \n",
       "88          num_op_rev_tl  float64           4   \n",
       "89          num_rev_accts  float64           9   \n",
       "\n",
       "                                          Description  \n",
       "75  Months since oldest bank installment account o...  \n",
       "76       Months since oldest revolving account opened  \n",
       "77  Months since most recent revolving account opened  \n",
       "78            Months since most recent account opened  \n",
       "79                       Number of mortgage accounts.  \n",
       "80  Months since most recent bankcard account opened.  \n",
       "81                  Months since most recent inquiry.  \n",
       "82  Number of accounts ever 120 or more days past due  \n",
       "83       Number of currently active bankcard accounts  \n",
       "84        Number of currently active revolving trades  \n",
       "85           Number of satisfactory bankcard accounts  \n",
       "86                        Number of bankcard accounts  \n",
       "87                     Number of installment accounts  \n",
       "88                  Number of open revolving accounts  \n",
       "89                       Number of revolving accounts  "
      ]
     },
     "execution_count": 50,
     "metadata": {},
     "output_type": "execute_result"
    }
   ],
   "source": [
    "#print number of column with different set attribute\n",
    "LC_Variables_Explained[75:90]"
   ]
  },
  {
   "cell_type": "code",
   "execution_count": 51,
   "metadata": {},
   "outputs": [],
   "source": [
    "#Add variable with respect to numerical and catagorical characteristic \n",
    "Numerical_Features_X3.append('mo_sin_old_il_acct')\n",
    "Numerical_Features_X3.append('mo_sin_old_rev_tl_op')\n",
    "Numerical_Features_X5.append('mo_sin_rcnt_rev_tl_op')\n",
    "Numerical_Features_X5.append('mo_sin_rcnt_tl')\n",
    "Numerical_Features_X4.append('mort_acc')\n",
    "Numerical_Features_X1.append('mths_since_recent_bc')\n",
    "Numerical_Features_X1.append('num_accts_ever_120_pd')\n",
    "Numerical_Features_X4.append('num_op_rev_tl')\n",
    "Numerical_Features_X4.append('num_rev_accts')"
   ]
  },
  {
   "cell_type": "code",
   "execution_count": 52,
   "metadata": {},
   "outputs": [
    {
     "name": "stderr",
     "output_type": "stream",
     "text": [
      "C:\\Users\\Nazmus\\anaconda3\\lib\\site-packages\\pandas\\core\\frame.py:3997: SettingWithCopyWarning: \n",
      "A value is trying to be set on a copy of a slice from a DataFrame\n",
      "\n",
      "See the caveats in the documentation: https://pandas.pydata.org/pandas-docs/stable/user_guide/indexing.html#returning-a-view-versus-a-copy\n",
      "  errors=errors,\n"
     ]
    }
   ],
   "source": [
    "#drop unrequired column \n",
    "LC_Data_Updated.drop(columns = ['mths_since_recent_inq','num_actv_bc_tl','num_bc_sats','num_bc_tl','num_il_tl'], inplace = True)"
   ]
  },
  {
   "cell_type": "code",
   "execution_count": 53,
   "metadata": {},
   "outputs": [
    {
     "data": {
      "text/html": [
       "<div>\n",
       "<style scoped>\n",
       "    .dataframe tbody tr th:only-of-type {\n",
       "        vertical-align: middle;\n",
       "    }\n",
       "\n",
       "    .dataframe tbody tr th {\n",
       "        vertical-align: top;\n",
       "    }\n",
       "\n",
       "    .dataframe thead th {\n",
       "        text-align: right;\n",
       "    }\n",
       "</style>\n",
       "<table border=\"1\" class=\"dataframe\">\n",
       "  <thead>\n",
       "    <tr style=\"text-align: right;\">\n",
       "      <th></th>\n",
       "      <th>Variable Name</th>\n",
       "      <th>dtypes</th>\n",
       "      <th>first value</th>\n",
       "      <th>Description</th>\n",
       "    </tr>\n",
       "  </thead>\n",
       "  <tbody>\n",
       "    <tr>\n",
       "      <th>90</th>\n",
       "      <td>num_rev_tl_bal_gt_0</td>\n",
       "      <td>float64</td>\n",
       "      <td>4</td>\n",
       "      <td>Number of revolving trades with balance &gt;0</td>\n",
       "    </tr>\n",
       "    <tr>\n",
       "      <th>91</th>\n",
       "      <td>num_sats</td>\n",
       "      <td>float64</td>\n",
       "      <td>7</td>\n",
       "      <td>Number of satisfactory accounts</td>\n",
       "    </tr>\n",
       "    <tr>\n",
       "      <th>92</th>\n",
       "      <td>num_tl_120dpd_2m</td>\n",
       "      <td>float64</td>\n",
       "      <td>0</td>\n",
       "      <td>Number of accounts currently 120 days past due...</td>\n",
       "    </tr>\n",
       "    <tr>\n",
       "      <th>93</th>\n",
       "      <td>num_tl_30dpd</td>\n",
       "      <td>float64</td>\n",
       "      <td>0</td>\n",
       "      <td>Number of accounts currently 30 days past due ...</td>\n",
       "    </tr>\n",
       "    <tr>\n",
       "      <th>94</th>\n",
       "      <td>num_tl_90g_dpd_24m</td>\n",
       "      <td>float64</td>\n",
       "      <td>0</td>\n",
       "      <td>Number of accounts 90 or more days past due in...</td>\n",
       "    </tr>\n",
       "    <tr>\n",
       "      <th>95</th>\n",
       "      <td>num_tl_op_past_12m</td>\n",
       "      <td>float64</td>\n",
       "      <td>3</td>\n",
       "      <td>Number of accounts opened in past 12 months</td>\n",
       "    </tr>\n",
       "    <tr>\n",
       "      <th>96</th>\n",
       "      <td>pct_tl_nvr_dlq</td>\n",
       "      <td>float64</td>\n",
       "      <td>76.9</td>\n",
       "      <td>Percent of trades never delinquent</td>\n",
       "    </tr>\n",
       "    <tr>\n",
       "      <th>97</th>\n",
       "      <td>percent_bc_gt_75</td>\n",
       "      <td>float64</td>\n",
       "      <td>0</td>\n",
       "      <td>Percentage of all bankcard accounts &gt; 75% of l...</td>\n",
       "    </tr>\n",
       "    <tr>\n",
       "      <th>98</th>\n",
       "      <td>pub_rec_bankruptcies</td>\n",
       "      <td>float64</td>\n",
       "      <td>0</td>\n",
       "      <td>Number of public record bankruptcies</td>\n",
       "    </tr>\n",
       "    <tr>\n",
       "      <th>99</th>\n",
       "      <td>tax_liens</td>\n",
       "      <td>float64</td>\n",
       "      <td>0</td>\n",
       "      <td>Number of tax liens</td>\n",
       "    </tr>\n",
       "    <tr>\n",
       "      <th>100</th>\n",
       "      <td>tot_hi_cred_lim</td>\n",
       "      <td>float64</td>\n",
       "      <td>178050</td>\n",
       "      <td>Total high credit/credit limit</td>\n",
       "    </tr>\n",
       "    <tr>\n",
       "      <th>101</th>\n",
       "      <td>total_bal_ex_mort</td>\n",
       "      <td>float64</td>\n",
       "      <td>7746</td>\n",
       "      <td>Total credit balance excluding mortgage</td>\n",
       "    </tr>\n",
       "    <tr>\n",
       "      <th>102</th>\n",
       "      <td>total_bc_limit</td>\n",
       "      <td>float64</td>\n",
       "      <td>2400</td>\n",
       "      <td>Total bankcard high credit/credit limit</td>\n",
       "    </tr>\n",
       "    <tr>\n",
       "      <th>103</th>\n",
       "      <td>total_il_high_credit_limit</td>\n",
       "      <td>float64</td>\n",
       "      <td>13734</td>\n",
       "      <td>Total installment high credit/credit limit</td>\n",
       "    </tr>\n",
       "    <tr>\n",
       "      <th>104</th>\n",
       "      <td>hardship_flag</td>\n",
       "      <td>object</td>\n",
       "      <td>N</td>\n",
       "      <td>Flags whether or not the borrower is on a hard...</td>\n",
       "    </tr>\n",
       "    <tr>\n",
       "      <th>105</th>\n",
       "      <td>debt_settlement_flag</td>\n",
       "      <td>object</td>\n",
       "      <td>N</td>\n",
       "      <td>Flags whether or not the borrower, who has cha...</td>\n",
       "    </tr>\n",
       "  </tbody>\n",
       "</table>\n",
       "</div>"
      ],
      "text/plain": [
       "                  Variable Name   dtypes first value  \\\n",
       "90          num_rev_tl_bal_gt_0  float64           4   \n",
       "91                     num_sats  float64           7   \n",
       "92             num_tl_120dpd_2m  float64           0   \n",
       "93                 num_tl_30dpd  float64           0   \n",
       "94           num_tl_90g_dpd_24m  float64           0   \n",
       "95           num_tl_op_past_12m  float64           3   \n",
       "96               pct_tl_nvr_dlq  float64        76.9   \n",
       "97             percent_bc_gt_75  float64           0   \n",
       "98         pub_rec_bankruptcies  float64           0   \n",
       "99                    tax_liens  float64           0   \n",
       "100             tot_hi_cred_lim  float64      178050   \n",
       "101           total_bal_ex_mort  float64        7746   \n",
       "102              total_bc_limit  float64        2400   \n",
       "103  total_il_high_credit_limit  float64       13734   \n",
       "104               hardship_flag   object           N   \n",
       "105        debt_settlement_flag   object           N   \n",
       "\n",
       "                                           Description  \n",
       "90          Number of revolving trades with balance >0  \n",
       "91                     Number of satisfactory accounts  \n",
       "92   Number of accounts currently 120 days past due...  \n",
       "93   Number of accounts currently 30 days past due ...  \n",
       "94   Number of accounts 90 or more days past due in...  \n",
       "95         Number of accounts opened in past 12 months  \n",
       "96                  Percent of trades never delinquent  \n",
       "97   Percentage of all bankcard accounts > 75% of l...  \n",
       "98                Number of public record bankruptcies  \n",
       "99                                 Number of tax liens  \n",
       "100                     Total high credit/credit limit  \n",
       "101            Total credit balance excluding mortgage  \n",
       "102            Total bankcard high credit/credit limit  \n",
       "103         Total installment high credit/credit limit  \n",
       "104  Flags whether or not the borrower is on a hard...  \n",
       "105  Flags whether or not the borrower, who has cha...  "
      ]
     },
     "execution_count": 53,
     "metadata": {},
     "output_type": "execute_result"
    }
   ],
   "source": [
    "#print number of column with different set attribute\n",
    "LC_Variables_Explained[90:108]"
   ]
  },
  {
   "cell_type": "code",
   "execution_count": 54,
   "metadata": {},
   "outputs": [],
   "source": [
    "#Add variable with respect to numerical and catagorical characteristic \n",
    "Numerical_Features_X1.append('num_tl_120dpd_2m')\n",
    "Numerical_Features_X1.append('num_tl_30dpd')\n",
    "Numerical_Features_X1.append('num_tl_90g_dpd_24m')\n",
    "Numerical_Features_X1.append('pub_rec_bankruptcies')"
   ]
  },
  {
   "cell_type": "code",
   "execution_count": 55,
   "metadata": {},
   "outputs": [
    {
     "name": "stderr",
     "output_type": "stream",
     "text": [
      "C:\\Users\\Nazmus\\anaconda3\\lib\\site-packages\\pandas\\core\\frame.py:3997: SettingWithCopyWarning: \n",
      "A value is trying to be set on a copy of a slice from a DataFrame\n",
      "\n",
      "See the caveats in the documentation: https://pandas.pydata.org/pandas-docs/stable/user_guide/indexing.html#returning-a-view-versus-a-copy\n",
      "  errors=errors,\n"
     ]
    }
   ],
   "source": [
    "#drop unrequired column \n",
    "LC_Data_Updated.drop(columns = ['num_rev_tl_bal_gt_0','num_sats','pct_tl_nvr_dlq','num_tl_op_past_12m','percent_bc_gt_75','tax_liens','tot_hi_cred_lim','total_bal_ex_mort','total_bc_limit','total_il_high_credit_limit','hardship_flag','debt_settlement_flag'], inplace = True)"
   ]
  },
  {
   "cell_type": "code",
   "execution_count": 56,
   "metadata": {},
   "outputs": [
    {
     "name": "stdout",
     "output_type": "stream",
     "text": [
      "(2650517, 32)\n"
     ]
    }
   ],
   "source": [
    "#print data shape after chosing variable related to our analysis\n",
    "print(LC_Data_Updated.shape)"
   ]
  },
  {
   "cell_type": "code",
   "execution_count": 57,
   "metadata": {},
   "outputs": [
    {
     "data": {
      "text/plain": [
       "loan_amnt                        0\n",
       "term                             0\n",
       "installment                      0\n",
       "loan_status                      0\n",
       "delinq_2yrs                     29\n",
       "open_acc                        29\n",
       "revol_bal                        0\n",
       "revol_util                    2287\n",
       "total_acc                       29\n",
       "out_prncp                        0\n",
       "recoveries                       0\n",
       "acc_now_delinq                  29\n",
       "tot_coll_amt                 70276\n",
       "max_bal_bc                  866129\n",
       "chargeoff_within_12_mths       145\n",
       "delinq_amnt                     29\n",
       "mo_sin_old_il_acct          149860\n",
       "mo_sin_old_rev_tl_op         70277\n",
       "mo_sin_rcnt_rev_tl_op        70277\n",
       "mo_sin_rcnt_tl               70276\n",
       "mort_acc                     50030\n",
       "mths_since_recent_bc         77879\n",
       "num_accts_ever_120_pd        70276\n",
       "num_actv_rev_tl              70276\n",
       "num_op_rev_tl                70276\n",
       "num_rev_accts                70277\n",
       "num_tl_120dpd_2m            160042\n",
       "num_tl_30dpd                 70276\n",
       "num_tl_90g_dpd_24m           70276\n",
       "pub_rec_bankruptcies          1365\n",
       "last_fico_range                  0\n",
       "FICO_Score                       0\n",
       "dtype: int64"
      ]
     },
     "execution_count": 57,
     "metadata": {},
     "output_type": "execute_result"
    }
   ],
   "source": [
    "#Find null values\n",
    "LC_Data_Updated.isna().sum()"
   ]
  },
  {
   "cell_type": "code",
   "execution_count": 58,
   "metadata": {},
   "outputs": [
    {
     "name": "stderr",
     "output_type": "stream",
     "text": [
      "C:\\Users\\Nazmus\\anaconda3\\lib\\site-packages\\ipykernel_launcher.py:2: SettingWithCopyWarning: \n",
      "A value is trying to be set on a copy of a slice from a DataFrame\n",
      "\n",
      "See the caveats in the documentation: https://pandas.pydata.org/pandas-docs/stable/user_guide/indexing.html#returning-a-view-versus-a-copy\n",
      "  \n"
     ]
    }
   ],
   "source": [
    "#drop null rows starting with the highest count\n",
    "LC_Data_Updated.dropna(subset=['mo_sin_old_il_acct','num_tl_120dpd_2m'],inplace=True)"
   ]
  },
  {
   "cell_type": "code",
   "execution_count": 59,
   "metadata": {},
   "outputs": [
    {
     "data": {
      "text/plain": [
       "loan_amnt                        0\n",
       "term                             0\n",
       "installment                      0\n",
       "loan_status                      0\n",
       "delinq_2yrs                      0\n",
       "open_acc                         0\n",
       "revol_bal                        0\n",
       "revol_util                    2078\n",
       "total_acc                        0\n",
       "out_prncp                        0\n",
       "recoveries                       0\n",
       "acc_now_delinq                   0\n",
       "tot_coll_amt                     0\n",
       "max_bal_bc                  745158\n",
       "chargeoff_within_12_mths         0\n",
       "delinq_amnt                      0\n",
       "mo_sin_old_il_acct               0\n",
       "mo_sin_old_rev_tl_op             1\n",
       "mo_sin_rcnt_rev_tl_op            1\n",
       "mo_sin_rcnt_tl                   0\n",
       "mort_acc                         0\n",
       "mths_since_recent_bc         26843\n",
       "num_accts_ever_120_pd            0\n",
       "num_actv_rev_tl                  0\n",
       "num_op_rev_tl                    0\n",
       "num_rev_accts                    1\n",
       "num_tl_120dpd_2m                 0\n",
       "num_tl_30dpd                     0\n",
       "num_tl_90g_dpd_24m               0\n",
       "pub_rec_bankruptcies             0\n",
       "last_fico_range                  0\n",
       "FICO_Score                       0\n",
       "dtype: int64"
      ]
     },
     "execution_count": 59,
     "metadata": {},
     "output_type": "execute_result"
    }
   ],
   "source": [
    "LC_Data_Updated.isna().sum()"
   ]
  },
  {
   "cell_type": "code",
   "execution_count": 60,
   "metadata": {},
   "outputs": [
    {
     "name": "stderr",
     "output_type": "stream",
     "text": [
      "C:\\Users\\Nazmus\\anaconda3\\lib\\site-packages\\ipykernel_launcher.py:2: SettingWithCopyWarning: \n",
      "A value is trying to be set on a copy of a slice from a DataFrame\n",
      "\n",
      "See the caveats in the documentation: https://pandas.pydata.org/pandas-docs/stable/user_guide/indexing.html#returning-a-view-versus-a-copy\n",
      "  \n"
     ]
    }
   ],
   "source": [
    "#Drop Null Rows\n",
    "LC_Data_Updated.dropna(subset=['mths_since_recent_bc','revol_util','num_rev_accts'],inplace=True)"
   ]
  },
  {
   "cell_type": "code",
   "execution_count": 61,
   "metadata": {},
   "outputs": [
    {
     "data": {
      "text/plain": [
       "loan_amnt                        0\n",
       "term                             0\n",
       "installment                      0\n",
       "loan_status                      0\n",
       "delinq_2yrs                      0\n",
       "open_acc                         0\n",
       "revol_bal                        0\n",
       "revol_util                       0\n",
       "total_acc                        0\n",
       "out_prncp                        0\n",
       "recoveries                       0\n",
       "acc_now_delinq                   0\n",
       "tot_coll_amt                     0\n",
       "max_bal_bc                  738321\n",
       "chargeoff_within_12_mths         0\n",
       "delinq_amnt                      0\n",
       "mo_sin_old_il_acct               0\n",
       "mo_sin_old_rev_tl_op             0\n",
       "mo_sin_rcnt_rev_tl_op            0\n",
       "mo_sin_rcnt_tl                   0\n",
       "mort_acc                         0\n",
       "mths_since_recent_bc             0\n",
       "num_accts_ever_120_pd            0\n",
       "num_actv_rev_tl                  0\n",
       "num_op_rev_tl                    0\n",
       "num_rev_accts                    0\n",
       "num_tl_120dpd_2m                 0\n",
       "num_tl_30dpd                     0\n",
       "num_tl_90g_dpd_24m               0\n",
       "pub_rec_bankruptcies             0\n",
       "last_fico_range                  0\n",
       "FICO_Score                       0\n",
       "dtype: int64"
      ]
     },
     "execution_count": 61,
     "metadata": {},
     "output_type": "execute_result"
    }
   ],
   "source": [
    "LC_Data_Updated.isna().sum()"
   ]
  },
  {
   "cell_type": "code",
   "execution_count": 62,
   "metadata": {},
   "outputs": [
    {
     "name": "stdout",
     "output_type": "stream",
     "text": [
      "(2386267, 32)\n"
     ]
    }
   ],
   "source": [
    "#Print Updated Data Shape\n",
    "print(LC_Data_Updated.shape)"
   ]
  },
  {
   "cell_type": "code",
   "execution_count": 63,
   "metadata": {},
   "outputs": [],
   "source": [
    "#Columns with unique value\n",
    "LC_Data_Updated.reset_index(inplace=True)"
   ]
  },
  {
   "cell_type": "code",
   "execution_count": 64,
   "metadata": {},
   "outputs": [
    {
     "name": "stdout",
     "output_type": "stream",
     "text": [
      " 36 months    1673631\n",
      " 60 months     712636\n",
      "Name: term, dtype: int64\n",
      "\n",
      "Current               1129712\n",
      "Fully Paid             977852\n",
      "Charged Off            239056\n",
      "Late (31-120 days)      24211\n",
      "In Grace Period         10383\n",
      "Late (16-30 days)        5013\n",
      "Default                    40\n",
      "Name: loan_status, dtype: int64\n",
      "\n",
      "0.0     2378125\n",
      "1.0        7688\n",
      "2.0         393\n",
      "3.0          44\n",
      "4.0          10\n",
      "5.0           3\n",
      "6.0           2\n",
      "14.0          1\n",
      "7.0           1\n",
      "Name: acc_now_delinq, dtype: int64\n",
      "\n",
      "0.0    2385038\n",
      "1.0       1178\n",
      "2.0         45\n",
      "3.0          3\n",
      "7.0          1\n",
      "6.0          1\n",
      "4.0          1\n",
      "Name: num_tl_120dpd_2m, dtype: int64\n",
      "\n",
      "0.0    2380850\n",
      "1.0       5149\n",
      "2.0        236\n",
      "3.0         25\n",
      "4.0          7\n",
      "Name: num_tl_30dpd, dtype: int64\n",
      "\n",
      "1    2104042\n",
      "0     282225\n",
      "Name: FICO_Score, dtype: int64\n",
      "\n"
     ]
    }
   ],
   "source": [
    "#Use to check whether any variable has binary rows and if one of the rows has less than 10% we drop that column\n",
    "for col in LC_Data_Updated.columns:\n",
    "    if (len(LC_Data_Updated[col].unique()) < 10):\n",
    "        print(LC_Data_Updated[col].value_counts())\n",
    "        print()"
   ]
  },
  {
   "cell_type": "code",
   "execution_count": 65,
   "metadata": {},
   "outputs": [
    {
     "data": {
      "text/html": [
       "<div>\n",
       "<style scoped>\n",
       "    .dataframe tbody tr th:only-of-type {\n",
       "        vertical-align: middle;\n",
       "    }\n",
       "\n",
       "    .dataframe tbody tr th {\n",
       "        vertical-align: top;\n",
       "    }\n",
       "\n",
       "    .dataframe thead th {\n",
       "        text-align: right;\n",
       "    }\n",
       "</style>\n",
       "<table border=\"1\" class=\"dataframe\">\n",
       "  <thead>\n",
       "    <tr style=\"text-align: right;\">\n",
       "      <th></th>\n",
       "      <th>loan_status</th>\n",
       "    </tr>\n",
       "  </thead>\n",
       "  <tbody>\n",
       "    <tr>\n",
       "      <th>0</th>\n",
       "      <td>Fully Paid</td>\n",
       "    </tr>\n",
       "    <tr>\n",
       "      <th>1</th>\n",
       "      <td>Fully Paid</td>\n",
       "    </tr>\n",
       "    <tr>\n",
       "      <th>2</th>\n",
       "      <td>Fully Paid</td>\n",
       "    </tr>\n",
       "    <tr>\n",
       "      <th>3</th>\n",
       "      <td>Current</td>\n",
       "    </tr>\n",
       "    <tr>\n",
       "      <th>4</th>\n",
       "      <td>Fully Paid</td>\n",
       "    </tr>\n",
       "  </tbody>\n",
       "</table>\n",
       "</div>"
      ],
      "text/plain": [
       "  loan_status\n",
       "0  Fully Paid\n",
       "1  Fully Paid\n",
       "2  Fully Paid\n",
       "3     Current\n",
       "4  Fully Paid"
      ]
     },
     "execution_count": 65,
     "metadata": {},
     "output_type": "execute_result"
    }
   ],
   "source": [
    "#Data Frame for Categorical Data X1\n",
    "Categorical_Data_X1=pd.DataFrame()\n",
    "for col in Categorical_Features_X1:\n",
    "    Categorical_Data_X1=pd.concat([ Categorical_Data_X1, LC_Data_Updated[col]], axis= 1)\n",
    "\n",
    "Categorical_Data_X1.head()"
   ]
  },
  {
   "cell_type": "code",
   "execution_count": 66,
   "metadata": {},
   "outputs": [
    {
     "data": {
      "text/html": [
       "<div>\n",
       "<style scoped>\n",
       "    .dataframe tbody tr th:only-of-type {\n",
       "        vertical-align: middle;\n",
       "    }\n",
       "\n",
       "    .dataframe tbody tr th {\n",
       "        vertical-align: top;\n",
       "    }\n",
       "\n",
       "    .dataframe thead th {\n",
       "        text-align: right;\n",
       "    }\n",
       "</style>\n",
       "<table border=\"1\" class=\"dataframe\">\n",
       "  <thead>\n",
       "    <tr style=\"text-align: right;\">\n",
       "      <th></th>\n",
       "    </tr>\n",
       "  </thead>\n",
       "  <tbody>\n",
       "  </tbody>\n",
       "</table>\n",
       "</div>"
      ],
      "text/plain": [
       "Empty DataFrame\n",
       "Columns: []\n",
       "Index: []"
      ]
     },
     "execution_count": 66,
     "metadata": {},
     "output_type": "execute_result"
    }
   ],
   "source": [
    "#Data Frame for Categorical Data X2\n",
    "Categorical_Data_X2=pd.DataFrame()\n",
    "for col in Categorical_Features_X2:\n",
    "    Categorical_Data_X2=pd.concat([ Categorical_Data_X2, LC_Data_Updated[col]], axis= 1)\n",
    "\n",
    "Categorical_Data_X2.head()"
   ]
  },
  {
   "cell_type": "code",
   "execution_count": 67,
   "metadata": {},
   "outputs": [
    {
     "data": {
      "text/html": [
       "<div>\n",
       "<style scoped>\n",
       "    .dataframe tbody tr th:only-of-type {\n",
       "        vertical-align: middle;\n",
       "    }\n",
       "\n",
       "    .dataframe tbody tr th {\n",
       "        vertical-align: top;\n",
       "    }\n",
       "\n",
       "    .dataframe thead th {\n",
       "        text-align: right;\n",
       "    }\n",
       "</style>\n",
       "<table border=\"1\" class=\"dataframe\">\n",
       "  <thead>\n",
       "    <tr style=\"text-align: right;\">\n",
       "      <th></th>\n",
       "      <th>term</th>\n",
       "    </tr>\n",
       "  </thead>\n",
       "  <tbody>\n",
       "    <tr>\n",
       "      <th>0</th>\n",
       "      <td>36 months</td>\n",
       "    </tr>\n",
       "    <tr>\n",
       "      <th>1</th>\n",
       "      <td>36 months</td>\n",
       "    </tr>\n",
       "    <tr>\n",
       "      <th>2</th>\n",
       "      <td>60 months</td>\n",
       "    </tr>\n",
       "    <tr>\n",
       "      <th>3</th>\n",
       "      <td>60 months</td>\n",
       "    </tr>\n",
       "    <tr>\n",
       "      <th>4</th>\n",
       "      <td>60 months</td>\n",
       "    </tr>\n",
       "  </tbody>\n",
       "</table>\n",
       "</div>"
      ],
      "text/plain": [
       "         term\n",
       "0   36 months\n",
       "1   36 months\n",
       "2   60 months\n",
       "3   60 months\n",
       "4   60 months"
      ]
     },
     "execution_count": 67,
     "metadata": {},
     "output_type": "execute_result"
    }
   ],
   "source": [
    "#Data Frame for Categorical Data X3\n",
    "Categorical_Data_X3=pd.DataFrame()\n",
    "for col in Categorical_Features_X3:\n",
    "    Categorical_Data_X3=pd.concat([ Categorical_Data_X3, LC_Data_Updated[col]], axis= 1)\n",
    "\n",
    "Categorical_Data_X3.head()"
   ]
  },
  {
   "cell_type": "code",
   "execution_count": 68,
   "metadata": {},
   "outputs": [
    {
     "data": {
      "text/html": [
       "<div>\n",
       "<style scoped>\n",
       "    .dataframe tbody tr th:only-of-type {\n",
       "        vertical-align: middle;\n",
       "    }\n",
       "\n",
       "    .dataframe tbody tr th {\n",
       "        vertical-align: top;\n",
       "    }\n",
       "\n",
       "    .dataframe thead th {\n",
       "        text-align: right;\n",
       "    }\n",
       "</style>\n",
       "<table border=\"1\" class=\"dataframe\">\n",
       "  <thead>\n",
       "    <tr style=\"text-align: right;\">\n",
       "      <th></th>\n",
       "    </tr>\n",
       "  </thead>\n",
       "  <tbody>\n",
       "  </tbody>\n",
       "</table>\n",
       "</div>"
      ],
      "text/plain": [
       "Empty DataFrame\n",
       "Columns: []\n",
       "Index: []"
      ]
     },
     "execution_count": 68,
     "metadata": {},
     "output_type": "execute_result"
    }
   ],
   "source": [
    "#Data Frame for Categorical Data X4\n",
    "Categorical_Data_X4=pd.DataFrame()\n",
    "for col in Categorical_Features_X4:\n",
    "    Categorical_Data_X4=pd.concat([ Categorical_Data_X4, LC_Data_Updated[col]], axis= 1)\n",
    "\n",
    "Categorical_Data_X4.head()"
   ]
  },
  {
   "cell_type": "code",
   "execution_count": 69,
   "metadata": {},
   "outputs": [
    {
     "data": {
      "text/html": [
       "<div>\n",
       "<style scoped>\n",
       "    .dataframe tbody tr th:only-of-type {\n",
       "        vertical-align: middle;\n",
       "    }\n",
       "\n",
       "    .dataframe tbody tr th {\n",
       "        vertical-align: top;\n",
       "    }\n",
       "\n",
       "    .dataframe thead th {\n",
       "        text-align: right;\n",
       "    }\n",
       "</style>\n",
       "<table border=\"1\" class=\"dataframe\">\n",
       "  <thead>\n",
       "    <tr style=\"text-align: right;\">\n",
       "      <th></th>\n",
       "    </tr>\n",
       "  </thead>\n",
       "  <tbody>\n",
       "  </tbody>\n",
       "</table>\n",
       "</div>"
      ],
      "text/plain": [
       "Empty DataFrame\n",
       "Columns: []\n",
       "Index: []"
      ]
     },
     "execution_count": 69,
     "metadata": {},
     "output_type": "execute_result"
    }
   ],
   "source": [
    "#Data Frame for Categorical Data X5\n",
    "Categorical_Data_X5=pd.DataFrame()\n",
    "for col in Categorical_Features_X5:\n",
    "    Categorical_Data_X5=pd.concat([ Categorical_Data_X5, LC_Data_Updated[col]], axis= 1)\n",
    "\n",
    "Categorical_Data_X5.head()"
   ]
  },
  {
   "cell_type": "code",
   "execution_count": 70,
   "metadata": {},
   "outputs": [
    {
     "data": {
      "text/html": [
       "<div>\n",
       "<style scoped>\n",
       "    .dataframe tbody tr th:only-of-type {\n",
       "        vertical-align: middle;\n",
       "    }\n",
       "\n",
       "    .dataframe tbody tr th {\n",
       "        vertical-align: top;\n",
       "    }\n",
       "\n",
       "    .dataframe thead th {\n",
       "        text-align: right;\n",
       "    }\n",
       "</style>\n",
       "<table border=\"1\" class=\"dataframe\">\n",
       "  <thead>\n",
       "    <tr style=\"text-align: right;\">\n",
       "      <th></th>\n",
       "      <th>installment</th>\n",
       "      <th>delinq_2yrs</th>\n",
       "      <th>acc_now_delinq</th>\n",
       "      <th>tot_coll_amt</th>\n",
       "      <th>chargeoff_within_12_mths</th>\n",
       "      <th>delinq_amnt</th>\n",
       "      <th>mths_since_recent_bc</th>\n",
       "      <th>num_accts_ever_120_pd</th>\n",
       "      <th>num_tl_120dpd_2m</th>\n",
       "      <th>num_tl_30dpd</th>\n",
       "      <th>num_tl_90g_dpd_24m</th>\n",
       "      <th>pub_rec_bankruptcies</th>\n",
       "    </tr>\n",
       "  </thead>\n",
       "  <tbody>\n",
       "    <tr>\n",
       "      <th>0</th>\n",
       "      <td>123.03</td>\n",
       "      <td>0.0</td>\n",
       "      <td>0.0</td>\n",
       "      <td>722.0</td>\n",
       "      <td>0.0</td>\n",
       "      <td>0.0</td>\n",
       "      <td>4.0</td>\n",
       "      <td>2.0</td>\n",
       "      <td>0.0</td>\n",
       "      <td>0.0</td>\n",
       "      <td>0.0</td>\n",
       "      <td>0.0</td>\n",
       "    </tr>\n",
       "    <tr>\n",
       "      <th>1</th>\n",
       "      <td>820.28</td>\n",
       "      <td>1.0</td>\n",
       "      <td>0.0</td>\n",
       "      <td>0.0</td>\n",
       "      <td>0.0</td>\n",
       "      <td>0.0</td>\n",
       "      <td>2.0</td>\n",
       "      <td>0.0</td>\n",
       "      <td>0.0</td>\n",
       "      <td>0.0</td>\n",
       "      <td>0.0</td>\n",
       "      <td>0.0</td>\n",
       "    </tr>\n",
       "    <tr>\n",
       "      <th>2</th>\n",
       "      <td>432.66</td>\n",
       "      <td>0.0</td>\n",
       "      <td>0.0</td>\n",
       "      <td>0.0</td>\n",
       "      <td>0.0</td>\n",
       "      <td>0.0</td>\n",
       "      <td>101.0</td>\n",
       "      <td>0.0</td>\n",
       "      <td>0.0</td>\n",
       "      <td>0.0</td>\n",
       "      <td>0.0</td>\n",
       "      <td>0.0</td>\n",
       "    </tr>\n",
       "    <tr>\n",
       "      <th>3</th>\n",
       "      <td>829.90</td>\n",
       "      <td>0.0</td>\n",
       "      <td>0.0</td>\n",
       "      <td>0.0</td>\n",
       "      <td>0.0</td>\n",
       "      <td>0.0</td>\n",
       "      <td>2.0</td>\n",
       "      <td>0.0</td>\n",
       "      <td>0.0</td>\n",
       "      <td>0.0</td>\n",
       "      <td>0.0</td>\n",
       "      <td>0.0</td>\n",
       "    </tr>\n",
       "    <tr>\n",
       "      <th>4</th>\n",
       "      <td>289.91</td>\n",
       "      <td>1.0</td>\n",
       "      <td>0.0</td>\n",
       "      <td>0.0</td>\n",
       "      <td>0.0</td>\n",
       "      <td>0.0</td>\n",
       "      <td>4.0</td>\n",
       "      <td>0.0</td>\n",
       "      <td>0.0</td>\n",
       "      <td>0.0</td>\n",
       "      <td>0.0</td>\n",
       "      <td>0.0</td>\n",
       "    </tr>\n",
       "  </tbody>\n",
       "</table>\n",
       "</div>"
      ],
      "text/plain": [
       "   installment  delinq_2yrs  acc_now_delinq  tot_coll_amt  \\\n",
       "0       123.03          0.0             0.0         722.0   \n",
       "1       820.28          1.0             0.0           0.0   \n",
       "2       432.66          0.0             0.0           0.0   \n",
       "3       829.90          0.0             0.0           0.0   \n",
       "4       289.91          1.0             0.0           0.0   \n",
       "\n",
       "   chargeoff_within_12_mths  delinq_amnt  mths_since_recent_bc  \\\n",
       "0                       0.0          0.0                   4.0   \n",
       "1                       0.0          0.0                   2.0   \n",
       "2                       0.0          0.0                 101.0   \n",
       "3                       0.0          0.0                   2.0   \n",
       "4                       0.0          0.0                   4.0   \n",
       "\n",
       "   num_accts_ever_120_pd  num_tl_120dpd_2m  num_tl_30dpd  num_tl_90g_dpd_24m  \\\n",
       "0                    2.0               0.0           0.0                 0.0   \n",
       "1                    0.0               0.0           0.0                 0.0   \n",
       "2                    0.0               0.0           0.0                 0.0   \n",
       "3                    0.0               0.0           0.0                 0.0   \n",
       "4                    0.0               0.0           0.0                 0.0   \n",
       "\n",
       "   pub_rec_bankruptcies  \n",
       "0                   0.0  \n",
       "1                   0.0  \n",
       "2                   0.0  \n",
       "3                   0.0  \n",
       "4                   0.0  "
      ]
     },
     "execution_count": 70,
     "metadata": {},
     "output_type": "execute_result"
    }
   ],
   "source": [
    "#Data Frame for Numerical Data X1\n",
    "#-----------------------------------------------------------------------------------------------------------------------------\n",
    "Numerical_Data_X1=pd.DataFrame()\n",
    "for col in Numerical_Features_X1:\n",
    "    Numerical_Data_X1=pd.concat([ Numerical_Data_X1, LC_Data_Updated[col]], axis= 1)\n",
    "\n",
    "Numerical_Data_X1.head()"
   ]
  },
  {
   "cell_type": "code",
   "execution_count": 71,
   "metadata": {},
   "outputs": [
    {
     "data": {
      "text/html": [
       "<div>\n",
       "<style scoped>\n",
       "    .dataframe tbody tr th:only-of-type {\n",
       "        vertical-align: middle;\n",
       "    }\n",
       "\n",
       "    .dataframe tbody tr th {\n",
       "        vertical-align: top;\n",
       "    }\n",
       "\n",
       "    .dataframe thead th {\n",
       "        text-align: right;\n",
       "    }\n",
       "</style>\n",
       "<table border=\"1\" class=\"dataframe\">\n",
       "  <thead>\n",
       "    <tr style=\"text-align: right;\">\n",
       "      <th></th>\n",
       "      <th>loan_amnt</th>\n",
       "      <th>revol_bal</th>\n",
       "      <th>revol_util</th>\n",
       "      <th>out_prncp</th>\n",
       "      <th>recoveries</th>\n",
       "      <th>max_bal_bc</th>\n",
       "    </tr>\n",
       "  </thead>\n",
       "  <tbody>\n",
       "    <tr>\n",
       "      <th>0</th>\n",
       "      <td>3600.0</td>\n",
       "      <td>2765.0</td>\n",
       "      <td>29.7</td>\n",
       "      <td>0.00</td>\n",
       "      <td>0.0</td>\n",
       "      <td>722.0</td>\n",
       "    </tr>\n",
       "    <tr>\n",
       "      <th>1</th>\n",
       "      <td>24700.0</td>\n",
       "      <td>21470.0</td>\n",
       "      <td>19.2</td>\n",
       "      <td>0.00</td>\n",
       "      <td>0.0</td>\n",
       "      <td>6472.0</td>\n",
       "    </tr>\n",
       "    <tr>\n",
       "      <th>2</th>\n",
       "      <td>20000.0</td>\n",
       "      <td>7869.0</td>\n",
       "      <td>56.2</td>\n",
       "      <td>0.00</td>\n",
       "      <td>0.0</td>\n",
       "      <td>2081.0</td>\n",
       "    </tr>\n",
       "    <tr>\n",
       "      <th>3</th>\n",
       "      <td>35000.0</td>\n",
       "      <td>7802.0</td>\n",
       "      <td>11.6</td>\n",
       "      <td>15897.65</td>\n",
       "      <td>0.0</td>\n",
       "      <td>6987.0</td>\n",
       "    </tr>\n",
       "    <tr>\n",
       "      <th>4</th>\n",
       "      <td>10400.0</td>\n",
       "      <td>21929.0</td>\n",
       "      <td>64.5</td>\n",
       "      <td>0.00</td>\n",
       "      <td>0.0</td>\n",
       "      <td>9702.0</td>\n",
       "    </tr>\n",
       "  </tbody>\n",
       "</table>\n",
       "</div>"
      ],
      "text/plain": [
       "   loan_amnt  revol_bal revol_util  out_prncp  recoveries  max_bal_bc\n",
       "0     3600.0     2765.0       29.7       0.00         0.0       722.0\n",
       "1    24700.0    21470.0       19.2       0.00         0.0      6472.0\n",
       "2    20000.0     7869.0       56.2       0.00         0.0      2081.0\n",
       "3    35000.0     7802.0       11.6   15897.65         0.0      6987.0\n",
       "4    10400.0    21929.0       64.5       0.00         0.0      9702.0"
      ]
     },
     "execution_count": 71,
     "metadata": {},
     "output_type": "execute_result"
    }
   ],
   "source": [
    "#Data Frame for Numerical Data X2\n",
    "#-----------------------------------------------------------------------------------------------------------------------------\n",
    "Numerical_Data_X2=pd.DataFrame()\n",
    "for col in Numerical_Features_X2:\n",
    "    Numerical_Data_X2=pd.concat([ Numerical_Data_X2, LC_Data_Updated[col]], axis= 1)\n",
    "\n",
    "Numerical_Data_X2.head()"
   ]
  },
  {
   "cell_type": "code",
   "execution_count": 72,
   "metadata": {},
   "outputs": [
    {
     "data": {
      "text/html": [
       "<div>\n",
       "<style scoped>\n",
       "    .dataframe tbody tr th:only-of-type {\n",
       "        vertical-align: middle;\n",
       "    }\n",
       "\n",
       "    .dataframe tbody tr th {\n",
       "        vertical-align: top;\n",
       "    }\n",
       "\n",
       "    .dataframe thead th {\n",
       "        text-align: right;\n",
       "    }\n",
       "</style>\n",
       "<table border=\"1\" class=\"dataframe\">\n",
       "  <thead>\n",
       "    <tr style=\"text-align: right;\">\n",
       "      <th></th>\n",
       "      <th>mo_sin_old_il_acct</th>\n",
       "      <th>mo_sin_old_rev_tl_op</th>\n",
       "    </tr>\n",
       "  </thead>\n",
       "  <tbody>\n",
       "    <tr>\n",
       "      <th>0</th>\n",
       "      <td>148.0</td>\n",
       "      <td>128.0</td>\n",
       "    </tr>\n",
       "    <tr>\n",
       "      <th>1</th>\n",
       "      <td>113.0</td>\n",
       "      <td>192.0</td>\n",
       "    </tr>\n",
       "    <tr>\n",
       "      <th>2</th>\n",
       "      <td>125.0</td>\n",
       "      <td>184.0</td>\n",
       "    </tr>\n",
       "    <tr>\n",
       "      <th>3</th>\n",
       "      <td>36.0</td>\n",
       "      <td>87.0</td>\n",
       "    </tr>\n",
       "    <tr>\n",
       "      <th>4</th>\n",
       "      <td>128.0</td>\n",
       "      <td>210.0</td>\n",
       "    </tr>\n",
       "  </tbody>\n",
       "</table>\n",
       "</div>"
      ],
      "text/plain": [
       "   mo_sin_old_il_acct  mo_sin_old_rev_tl_op\n",
       "0               148.0                 128.0\n",
       "1               113.0                 192.0\n",
       "2               125.0                 184.0\n",
       "3                36.0                  87.0\n",
       "4               128.0                 210.0"
      ]
     },
     "execution_count": 72,
     "metadata": {},
     "output_type": "execute_result"
    }
   ],
   "source": [
    "#Data Frame for Numerical Data X3\n",
    "#-----------------------------------------------------------------------------------------------------------------------------\n",
    "Numerical_Data_X3=pd.DataFrame()\n",
    "for col in Numerical_Features_X3:\n",
    "    Numerical_Data_X3=pd.concat([ Numerical_Data_X3, LC_Data_Updated[col]], axis= 1)\n",
    "\n",
    "Numerical_Data_X3.head()"
   ]
  },
  {
   "cell_type": "code",
   "execution_count": 73,
   "metadata": {},
   "outputs": [
    {
     "data": {
      "text/html": [
       "<div>\n",
       "<style scoped>\n",
       "    .dataframe tbody tr th:only-of-type {\n",
       "        vertical-align: middle;\n",
       "    }\n",
       "\n",
       "    .dataframe tbody tr th {\n",
       "        vertical-align: top;\n",
       "    }\n",
       "\n",
       "    .dataframe thead th {\n",
       "        text-align: right;\n",
       "    }\n",
       "</style>\n",
       "<table border=\"1\" class=\"dataframe\">\n",
       "  <thead>\n",
       "    <tr style=\"text-align: right;\">\n",
       "      <th></th>\n",
       "      <th>open_acc</th>\n",
       "      <th>total_acc</th>\n",
       "      <th>mort_acc</th>\n",
       "      <th>num_op_rev_tl</th>\n",
       "      <th>num_rev_accts</th>\n",
       "    </tr>\n",
       "  </thead>\n",
       "  <tbody>\n",
       "    <tr>\n",
       "      <th>0</th>\n",
       "      <td>7.0</td>\n",
       "      <td>13.0</td>\n",
       "      <td>1.0</td>\n",
       "      <td>4.0</td>\n",
       "      <td>9.0</td>\n",
       "    </tr>\n",
       "    <tr>\n",
       "      <th>1</th>\n",
       "      <td>22.0</td>\n",
       "      <td>38.0</td>\n",
       "      <td>4.0</td>\n",
       "      <td>20.0</td>\n",
       "      <td>27.0</td>\n",
       "    </tr>\n",
       "    <tr>\n",
       "      <th>2</th>\n",
       "      <td>6.0</td>\n",
       "      <td>18.0</td>\n",
       "      <td>5.0</td>\n",
       "      <td>4.0</td>\n",
       "      <td>7.0</td>\n",
       "    </tr>\n",
       "    <tr>\n",
       "      <th>3</th>\n",
       "      <td>13.0</td>\n",
       "      <td>17.0</td>\n",
       "      <td>1.0</td>\n",
       "      <td>10.0</td>\n",
       "      <td>13.0</td>\n",
       "    </tr>\n",
       "    <tr>\n",
       "      <th>4</th>\n",
       "      <td>12.0</td>\n",
       "      <td>35.0</td>\n",
       "      <td>6.0</td>\n",
       "      <td>7.0</td>\n",
       "      <td>19.0</td>\n",
       "    </tr>\n",
       "  </tbody>\n",
       "</table>\n",
       "</div>"
      ],
      "text/plain": [
       "   open_acc  total_acc  mort_acc  num_op_rev_tl  num_rev_accts\n",
       "0       7.0       13.0       1.0            4.0            9.0\n",
       "1      22.0       38.0       4.0           20.0           27.0\n",
       "2       6.0       18.0       5.0            4.0            7.0\n",
       "3      13.0       17.0       1.0           10.0           13.0\n",
       "4      12.0       35.0       6.0            7.0           19.0"
      ]
     },
     "execution_count": 73,
     "metadata": {},
     "output_type": "execute_result"
    }
   ],
   "source": [
    "#Data Frame for Numerical Data X4\n",
    "#-----------------------------------------------------------------------------------------------------------------------------\n",
    "Numerical_Data_X4=pd.DataFrame()\n",
    "for col in Numerical_Features_X4:\n",
    "    Numerical_Data_X4=pd.concat([ Numerical_Data_X4, LC_Data_Updated[col]], axis= 1)\n",
    "\n",
    "Numerical_Data_X4.head()"
   ]
  },
  {
   "cell_type": "code",
   "execution_count": 74,
   "metadata": {},
   "outputs": [
    {
     "data": {
      "text/html": [
       "<div>\n",
       "<style scoped>\n",
       "    .dataframe tbody tr th:only-of-type {\n",
       "        vertical-align: middle;\n",
       "    }\n",
       "\n",
       "    .dataframe tbody tr th {\n",
       "        vertical-align: top;\n",
       "    }\n",
       "\n",
       "    .dataframe thead th {\n",
       "        text-align: right;\n",
       "    }\n",
       "</style>\n",
       "<table border=\"1\" class=\"dataframe\">\n",
       "  <thead>\n",
       "    <tr style=\"text-align: right;\">\n",
       "      <th></th>\n",
       "      <th>mo_sin_rcnt_rev_tl_op</th>\n",
       "      <th>mo_sin_rcnt_tl</th>\n",
       "    </tr>\n",
       "  </thead>\n",
       "  <tbody>\n",
       "    <tr>\n",
       "      <th>0</th>\n",
       "      <td>3.0</td>\n",
       "      <td>3.0</td>\n",
       "    </tr>\n",
       "    <tr>\n",
       "      <th>1</th>\n",
       "      <td>2.0</td>\n",
       "      <td>2.0</td>\n",
       "    </tr>\n",
       "    <tr>\n",
       "      <th>2</th>\n",
       "      <td>14.0</td>\n",
       "      <td>14.0</td>\n",
       "    </tr>\n",
       "    <tr>\n",
       "      <th>3</th>\n",
       "      <td>2.0</td>\n",
       "      <td>2.0</td>\n",
       "    </tr>\n",
       "    <tr>\n",
       "      <th>4</th>\n",
       "      <td>4.0</td>\n",
       "      <td>4.0</td>\n",
       "    </tr>\n",
       "  </tbody>\n",
       "</table>\n",
       "</div>"
      ],
      "text/plain": [
       "   mo_sin_rcnt_rev_tl_op  mo_sin_rcnt_tl\n",
       "0                    3.0             3.0\n",
       "1                    2.0             2.0\n",
       "2                   14.0            14.0\n",
       "3                    2.0             2.0\n",
       "4                    4.0             4.0"
      ]
     },
     "execution_count": 74,
     "metadata": {},
     "output_type": "execute_result"
    }
   ],
   "source": [
    "#Data Frame for Numerical Data X5\n",
    "#-----------------------------------------------------------------------------------------------------------------------------\n",
    "Numerical_Data_X5=pd.DataFrame()\n",
    "for col in Numerical_Features_X5:\n",
    "    Numerical_Data_X5=pd.concat([ Numerical_Data_X5, LC_Data_Updated[col]], axis= 1)\n",
    "\n",
    "Numerical_Data_X5.head()"
   ]
  },
  {
   "cell_type": "code",
   "execution_count": 75,
   "metadata": {},
   "outputs": [],
   "source": [
    "#Drop Column due to high null value\n",
    "Numerical_Data_X2.drop(columns = ['max_bal_bc'], inplace = True)"
   ]
  },
  {
   "cell_type": "code",
   "execution_count": 76,
   "metadata": {},
   "outputs": [
    {
     "data": {
      "text/plain": [
       "<bound method Index.unique of Index(['installment', 'delinq_2yrs', 'acc_now_delinq', 'tot_coll_amt',\n",
       "       'chargeoff_within_12_mths', 'delinq_amnt', 'mths_since_recent_bc',\n",
       "       'num_accts_ever_120_pd', 'num_tl_120dpd_2m', 'num_tl_30dpd',\n",
       "       'num_tl_90g_dpd_24m', 'pub_rec_bankruptcies'],\n",
       "      dtype='object')>"
      ]
     },
     "execution_count": 76,
     "metadata": {},
     "output_type": "execute_result"
    }
   ],
   "source": [
    "Numerical_Data_X1.columns.unique"
   ]
  },
  {
   "cell_type": "code",
   "execution_count": 77,
   "metadata": {},
   "outputs": [
    {
     "name": "stdout",
     "output_type": "stream",
     "text": [
      "<class 'pandas.core.frame.DataFrame'>\n",
      "Index: 2386267 entries, 0 to 2386266\n",
      "Data columns (total 12 columns):\n",
      " #   Column                    Dtype  \n",
      "---  ------                    -----  \n",
      " 0   installment               float64\n",
      " 1   delinq_2yrs               float64\n",
      " 2   acc_now_delinq            float64\n",
      " 3   tot_coll_amt              float64\n",
      " 4   chargeoff_within_12_mths  float64\n",
      " 5   delinq_amnt               float64\n",
      " 6   mths_since_recent_bc      float64\n",
      " 7   num_accts_ever_120_pd     float64\n",
      " 8   num_tl_120dpd_2m          float64\n",
      " 9   num_tl_30dpd              float64\n",
      " 10  num_tl_90g_dpd_24m        float64\n",
      " 11  pub_rec_bankruptcies      float64\n",
      "dtypes: float64(12)\n",
      "memory usage: 236.7+ MB\n",
      "<class 'pandas.core.frame.DataFrame'>\n",
      "Index: 2386267 entries, 0 to 2386266\n",
      "Data columns (total 5 columns):\n",
      " #   Column      Dtype  \n",
      "---  ------      -----  \n",
      " 0   loan_amnt   float64\n",
      " 1   revol_bal   float64\n",
      " 2   revol_util  object \n",
      " 3   out_prncp   float64\n",
      " 4   recoveries  float64\n",
      "dtypes: float64(4), object(1)\n",
      "memory usage: 109.2+ MB\n",
      "<class 'pandas.core.frame.DataFrame'>\n",
      "Index: 2386267 entries, 0 to 2386266\n",
      "Data columns (total 2 columns):\n",
      " #   Column                Dtype  \n",
      "---  ------                -----  \n",
      " 0   mo_sin_old_il_acct    float64\n",
      " 1   mo_sin_old_rev_tl_op  float64\n",
      "dtypes: float64(2)\n",
      "memory usage: 54.6+ MB\n",
      "<class 'pandas.core.frame.DataFrame'>\n",
      "Index: 2386267 entries, 0 to 2386266\n",
      "Data columns (total 5 columns):\n",
      " #   Column         Dtype  \n",
      "---  ------         -----  \n",
      " 0   open_acc       float64\n",
      " 1   total_acc      float64\n",
      " 2   mort_acc       float64\n",
      " 3   num_op_rev_tl  float64\n",
      " 4   num_rev_accts  float64\n",
      "dtypes: float64(5)\n",
      "memory usage: 109.2+ MB\n",
      "<class 'pandas.core.frame.DataFrame'>\n",
      "Index: 2386267 entries, 0 to 2386266\n",
      "Data columns (total 2 columns):\n",
      " #   Column                 Dtype  \n",
      "---  ------                 -----  \n",
      " 0   mo_sin_rcnt_rev_tl_op  float64\n",
      " 1   mo_sin_rcnt_tl         float64\n",
      "dtypes: float64(2)\n",
      "memory usage: 54.6+ MB\n"
     ]
    }
   ],
   "source": [
    "#print numerical data info\n",
    "Numerical_Data_X1.info()\n",
    "Numerical_Data_X2.info()\n",
    "Numerical_Data_X3.info()\n",
    "Numerical_Data_X4.info()\n",
    "Numerical_Data_X5.info()"
   ]
  },
  {
   "cell_type": "code",
   "execution_count": 78,
   "metadata": {},
   "outputs": [
    {
     "data": {
      "text/plain": [
       "array(['29.7', '19.2', '56.2', ..., '108.80%', '125.70%', '106.30%'],\n",
       "      dtype=object)"
      ]
     },
     "execution_count": 78,
     "metadata": {},
     "output_type": "execute_result"
    }
   ],
   "source": [
    "#find abnormality in data\n",
    "Numerical_Data_X2.revol_util.unique()"
   ]
  },
  {
   "cell_type": "code",
   "execution_count": 79,
   "metadata": {},
   "outputs": [],
   "source": [
    "#convert object type into float\n",
    "Numerical_Data_X2['revol_util']=Numerical_Data_X2['revol_util'].str.strip('%').astype(float)"
   ]
  },
  {
   "cell_type": "code",
   "execution_count": 80,
   "metadata": {},
   "outputs": [],
   "source": [
    "#covert all into float data\n",
    "for col in Numerical_Data_X1.columns:\n",
    "    Numerical_Data_X1[col].astype(float)"
   ]
  },
  {
   "cell_type": "code",
   "execution_count": 81,
   "metadata": {},
   "outputs": [],
   "source": [
    "#covert all into float data\n",
    "for col in Numerical_Data_X2.columns:\n",
    "    Numerical_Data_X2[col].astype(float)"
   ]
  },
  {
   "cell_type": "code",
   "execution_count": 82,
   "metadata": {},
   "outputs": [],
   "source": [
    "#covert all into float data\n",
    "for col in Numerical_Data_X3.columns:\n",
    "    Numerical_Data_X3[col].astype(float)"
   ]
  },
  {
   "cell_type": "code",
   "execution_count": 83,
   "metadata": {},
   "outputs": [],
   "source": [
    "#covert all into float data\n",
    "for col in Numerical_Data_X4.columns:\n",
    "    Numerical_Data_X4[col].astype(float)"
   ]
  },
  {
   "cell_type": "code",
   "execution_count": 84,
   "metadata": {},
   "outputs": [],
   "source": [
    "#covert all into float data\n",
    "for col in Numerical_Data_X5.columns:\n",
    "    Numerical_Data_X5[col].astype(float)"
   ]
  },
  {
   "cell_type": "code",
   "execution_count": 85,
   "metadata": {},
   "outputs": [
    {
     "data": {
      "text/html": [
       "<div>\n",
       "<style scoped>\n",
       "    .dataframe tbody tr th:only-of-type {\n",
       "        vertical-align: middle;\n",
       "    }\n",
       "\n",
       "    .dataframe tbody tr th {\n",
       "        vertical-align: top;\n",
       "    }\n",
       "\n",
       "    .dataframe thead th {\n",
       "        text-align: right;\n",
       "    }\n",
       "</style>\n",
       "<table border=\"1\" class=\"dataframe\">\n",
       "  <thead>\n",
       "    <tr style=\"text-align: right;\">\n",
       "      <th></th>\n",
       "      <th>installment</th>\n",
       "      <th>delinq_2yrs</th>\n",
       "      <th>acc_now_delinq</th>\n",
       "      <th>tot_coll_amt</th>\n",
       "      <th>chargeoff_within_12_mths</th>\n",
       "      <th>delinq_amnt</th>\n",
       "      <th>mths_since_recent_bc</th>\n",
       "      <th>num_accts_ever_120_pd</th>\n",
       "      <th>num_tl_120dpd_2m</th>\n",
       "      <th>num_tl_30dpd</th>\n",
       "      <th>num_tl_90g_dpd_24m</th>\n",
       "      <th>pub_rec_bankruptcies</th>\n",
       "    </tr>\n",
       "  </thead>\n",
       "  <tbody>\n",
       "    <tr>\n",
       "      <th>count</th>\n",
       "      <td>2.386267e+06</td>\n",
       "      <td>2.386267e+06</td>\n",
       "      <td>2.386267e+06</td>\n",
       "      <td>2.386267e+06</td>\n",
       "      <td>2.386267e+06</td>\n",
       "      <td>2.386267e+06</td>\n",
       "      <td>2.386267e+06</td>\n",
       "      <td>2.386267e+06</td>\n",
       "      <td>2.386267e+06</td>\n",
       "      <td>2.386267e+06</td>\n",
       "      <td>2.386267e+06</td>\n",
       "      <td>2.386267e+06</td>\n",
       "    </tr>\n",
       "    <tr>\n",
       "      <th>mean</th>\n",
       "      <td>4.553606e+02</td>\n",
       "      <td>2.969751e-01</td>\n",
       "      <td>3.643348e-03</td>\n",
       "      <td>2.295407e+02</td>\n",
       "      <td>8.130272e-03</td>\n",
       "      <td>9.911923e+00</td>\n",
       "      <td>2.529821e+01</td>\n",
       "      <td>5.119972e-01</td>\n",
       "      <td>5.422696e-04</td>\n",
       "      <td>2.398726e-03</td>\n",
       "      <td>7.478250e-02</td>\n",
       "      <td>1.257458e-01</td>\n",
       "    </tr>\n",
       "    <tr>\n",
       "      <th>std</th>\n",
       "      <td>2.717466e+02</td>\n",
       "      <td>8.527318e-01</td>\n",
       "      <td>6.530344e-02</td>\n",
       "      <td>8.176505e+03</td>\n",
       "      <td>1.015565e-01</td>\n",
       "      <td>6.184408e+02</td>\n",
       "      <td>3.272307e+01</td>\n",
       "      <td>1.382808e+00</td>\n",
       "      <td>2.494867e-02</td>\n",
       "      <td>5.185395e-02</td>\n",
       "      <td>4.672636e-01</td>\n",
       "      <td>3.596420e-01</td>\n",
       "    </tr>\n",
       "    <tr>\n",
       "      <th>min</th>\n",
       "      <td>4.930000e+00</td>\n",
       "      <td>0.000000e+00</td>\n",
       "      <td>0.000000e+00</td>\n",
       "      <td>0.000000e+00</td>\n",
       "      <td>0.000000e+00</td>\n",
       "      <td>0.000000e+00</td>\n",
       "      <td>0.000000e+00</td>\n",
       "      <td>0.000000e+00</td>\n",
       "      <td>0.000000e+00</td>\n",
       "      <td>0.000000e+00</td>\n",
       "      <td>0.000000e+00</td>\n",
       "      <td>0.000000e+00</td>\n",
       "    </tr>\n",
       "    <tr>\n",
       "      <th>25%</th>\n",
       "      <td>2.578700e+02</td>\n",
       "      <td>0.000000e+00</td>\n",
       "      <td>0.000000e+00</td>\n",
       "      <td>0.000000e+00</td>\n",
       "      <td>0.000000e+00</td>\n",
       "      <td>0.000000e+00</td>\n",
       "      <td>6.000000e+00</td>\n",
       "      <td>0.000000e+00</td>\n",
       "      <td>0.000000e+00</td>\n",
       "      <td>0.000000e+00</td>\n",
       "      <td>0.000000e+00</td>\n",
       "      <td>0.000000e+00</td>\n",
       "    </tr>\n",
       "    <tr>\n",
       "      <th>50%</th>\n",
       "      <td>3.858000e+02</td>\n",
       "      <td>0.000000e+00</td>\n",
       "      <td>0.000000e+00</td>\n",
       "      <td>0.000000e+00</td>\n",
       "      <td>0.000000e+00</td>\n",
       "      <td>0.000000e+00</td>\n",
       "      <td>1.400000e+01</td>\n",
       "      <td>0.000000e+00</td>\n",
       "      <td>0.000000e+00</td>\n",
       "      <td>0.000000e+00</td>\n",
       "      <td>0.000000e+00</td>\n",
       "      <td>0.000000e+00</td>\n",
       "    </tr>\n",
       "    <tr>\n",
       "      <th>75%</th>\n",
       "      <td>6.082200e+02</td>\n",
       "      <td>0.000000e+00</td>\n",
       "      <td>0.000000e+00</td>\n",
       "      <td>0.000000e+00</td>\n",
       "      <td>0.000000e+00</td>\n",
       "      <td>0.000000e+00</td>\n",
       "      <td>3.000000e+01</td>\n",
       "      <td>0.000000e+00</td>\n",
       "      <td>0.000000e+00</td>\n",
       "      <td>0.000000e+00</td>\n",
       "      <td>0.000000e+00</td>\n",
       "      <td>0.000000e+00</td>\n",
       "    </tr>\n",
       "    <tr>\n",
       "      <th>max</th>\n",
       "      <td>1.719830e+03</td>\n",
       "      <td>5.800000e+01</td>\n",
       "      <td>1.400000e+01</td>\n",
       "      <td>9.152545e+06</td>\n",
       "      <td>9.000000e+00</td>\n",
       "      <td>1.384740e+05</td>\n",
       "      <td>6.750000e+02</td>\n",
       "      <td>5.800000e+01</td>\n",
       "      <td>7.000000e+00</td>\n",
       "      <td>4.000000e+00</td>\n",
       "      <td>5.800000e+01</td>\n",
       "      <td>1.200000e+01</td>\n",
       "    </tr>\n",
       "  </tbody>\n",
       "</table>\n",
       "</div>"
      ],
      "text/plain": [
       "        installment   delinq_2yrs  acc_now_delinq  tot_coll_amt  \\\n",
       "count  2.386267e+06  2.386267e+06    2.386267e+06  2.386267e+06   \n",
       "mean   4.553606e+02  2.969751e-01    3.643348e-03  2.295407e+02   \n",
       "std    2.717466e+02  8.527318e-01    6.530344e-02  8.176505e+03   \n",
       "min    4.930000e+00  0.000000e+00    0.000000e+00  0.000000e+00   \n",
       "25%    2.578700e+02  0.000000e+00    0.000000e+00  0.000000e+00   \n",
       "50%    3.858000e+02  0.000000e+00    0.000000e+00  0.000000e+00   \n",
       "75%    6.082200e+02  0.000000e+00    0.000000e+00  0.000000e+00   \n",
       "max    1.719830e+03  5.800000e+01    1.400000e+01  9.152545e+06   \n",
       "\n",
       "       chargeoff_within_12_mths   delinq_amnt  mths_since_recent_bc  \\\n",
       "count              2.386267e+06  2.386267e+06          2.386267e+06   \n",
       "mean               8.130272e-03  9.911923e+00          2.529821e+01   \n",
       "std                1.015565e-01  6.184408e+02          3.272307e+01   \n",
       "min                0.000000e+00  0.000000e+00          0.000000e+00   \n",
       "25%                0.000000e+00  0.000000e+00          6.000000e+00   \n",
       "50%                0.000000e+00  0.000000e+00          1.400000e+01   \n",
       "75%                0.000000e+00  0.000000e+00          3.000000e+01   \n",
       "max                9.000000e+00  1.384740e+05          6.750000e+02   \n",
       "\n",
       "       num_accts_ever_120_pd  num_tl_120dpd_2m  num_tl_30dpd  \\\n",
       "count           2.386267e+06      2.386267e+06  2.386267e+06   \n",
       "mean            5.119972e-01      5.422696e-04  2.398726e-03   \n",
       "std             1.382808e+00      2.494867e-02  5.185395e-02   \n",
       "min             0.000000e+00      0.000000e+00  0.000000e+00   \n",
       "25%             0.000000e+00      0.000000e+00  0.000000e+00   \n",
       "50%             0.000000e+00      0.000000e+00  0.000000e+00   \n",
       "75%             0.000000e+00      0.000000e+00  0.000000e+00   \n",
       "max             5.800000e+01      7.000000e+00  4.000000e+00   \n",
       "\n",
       "       num_tl_90g_dpd_24m  pub_rec_bankruptcies  \n",
       "count        2.386267e+06          2.386267e+06  \n",
       "mean         7.478250e-02          1.257458e-01  \n",
       "std          4.672636e-01          3.596420e-01  \n",
       "min          0.000000e+00          0.000000e+00  \n",
       "25%          0.000000e+00          0.000000e+00  \n",
       "50%          0.000000e+00          0.000000e+00  \n",
       "75%          0.000000e+00          0.000000e+00  \n",
       "max          5.800000e+01          1.200000e+01  "
      ]
     },
     "execution_count": 85,
     "metadata": {},
     "output_type": "execute_result"
    }
   ],
   "source": [
    "#description of numerical data\n",
    "Numerical_Data_X1.describe()"
   ]
  },
  {
   "cell_type": "code",
   "execution_count": 86,
   "metadata": {},
   "outputs": [
    {
     "data": {
      "text/html": [
       "<div>\n",
       "<style scoped>\n",
       "    .dataframe tbody tr th:only-of-type {\n",
       "        vertical-align: middle;\n",
       "    }\n",
       "\n",
       "    .dataframe tbody tr th {\n",
       "        vertical-align: top;\n",
       "    }\n",
       "\n",
       "    .dataframe thead th {\n",
       "        text-align: right;\n",
       "    }\n",
       "</style>\n",
       "<table border=\"1\" class=\"dataframe\">\n",
       "  <thead>\n",
       "    <tr style=\"text-align: right;\">\n",
       "      <th></th>\n",
       "      <th>loan_amnt</th>\n",
       "      <th>revol_bal</th>\n",
       "      <th>revol_util</th>\n",
       "      <th>out_prncp</th>\n",
       "      <th>recoveries</th>\n",
       "    </tr>\n",
       "  </thead>\n",
       "  <tbody>\n",
       "    <tr>\n",
       "      <th>count</th>\n",
       "      <td>2.386267e+06</td>\n",
       "      <td>2.386267e+06</td>\n",
       "      <td>2.386267e+06</td>\n",
       "      <td>2.386267e+06</td>\n",
       "      <td>2.386267e+06</td>\n",
       "    </tr>\n",
       "    <tr>\n",
       "      <th>mean</th>\n",
       "      <td>1.547219e+04</td>\n",
       "      <td>1.677451e+04</td>\n",
       "      <td>4.904508e+01</td>\n",
       "      <td>5.678958e+03</td>\n",
       "      <td>1.223377e+02</td>\n",
       "    </tr>\n",
       "    <tr>\n",
       "      <th>std</th>\n",
       "      <td>9.432191e+03</td>\n",
       "      <td>2.212674e+04</td>\n",
       "      <td>2.463852e+01</td>\n",
       "      <td>8.447919e+03</td>\n",
       "      <td>6.948068e+02</td>\n",
       "    </tr>\n",
       "    <tr>\n",
       "      <th>min</th>\n",
       "      <td>1.000000e+03</td>\n",
       "      <td>0.000000e+00</td>\n",
       "      <td>0.000000e+00</td>\n",
       "      <td>0.000000e+00</td>\n",
       "      <td>0.000000e+00</td>\n",
       "    </tr>\n",
       "    <tr>\n",
       "      <th>25%</th>\n",
       "      <td>8.000000e+03</td>\n",
       "      <td>6.112000e+03</td>\n",
       "      <td>3.010000e+01</td>\n",
       "      <td>0.000000e+00</td>\n",
       "      <td>0.000000e+00</td>\n",
       "    </tr>\n",
       "    <tr>\n",
       "      <th>50%</th>\n",
       "      <td>1.350000e+04</td>\n",
       "      <td>1.157800e+04</td>\n",
       "      <td>4.860000e+01</td>\n",
       "      <td>0.000000e+00</td>\n",
       "      <td>0.000000e+00</td>\n",
       "    </tr>\n",
       "    <tr>\n",
       "      <th>75%</th>\n",
       "      <td>2.040000e+04</td>\n",
       "      <td>2.061900e+04</td>\n",
       "      <td>6.790000e+01</td>\n",
       "      <td>9.077920e+03</td>\n",
       "      <td>0.000000e+00</td>\n",
       "    </tr>\n",
       "    <tr>\n",
       "      <th>max</th>\n",
       "      <td>4.000000e+04</td>\n",
       "      <td>2.904836e+06</td>\n",
       "      <td>3.666000e+02</td>\n",
       "      <td>4.000000e+04</td>\n",
       "      <td>4.180325e+04</td>\n",
       "    </tr>\n",
       "  </tbody>\n",
       "</table>\n",
       "</div>"
      ],
      "text/plain": [
       "          loan_amnt     revol_bal    revol_util     out_prncp    recoveries\n",
       "count  2.386267e+06  2.386267e+06  2.386267e+06  2.386267e+06  2.386267e+06\n",
       "mean   1.547219e+04  1.677451e+04  4.904508e+01  5.678958e+03  1.223377e+02\n",
       "std    9.432191e+03  2.212674e+04  2.463852e+01  8.447919e+03  6.948068e+02\n",
       "min    1.000000e+03  0.000000e+00  0.000000e+00  0.000000e+00  0.000000e+00\n",
       "25%    8.000000e+03  6.112000e+03  3.010000e+01  0.000000e+00  0.000000e+00\n",
       "50%    1.350000e+04  1.157800e+04  4.860000e+01  0.000000e+00  0.000000e+00\n",
       "75%    2.040000e+04  2.061900e+04  6.790000e+01  9.077920e+03  0.000000e+00\n",
       "max    4.000000e+04  2.904836e+06  3.666000e+02  4.000000e+04  4.180325e+04"
      ]
     },
     "execution_count": 86,
     "metadata": {},
     "output_type": "execute_result"
    }
   ],
   "source": [
    "#description of numerical data\n",
    "Numerical_Data_X2.describe()"
   ]
  },
  {
   "cell_type": "code",
   "execution_count": 87,
   "metadata": {},
   "outputs": [
    {
     "data": {
      "text/html": [
       "<div>\n",
       "<style scoped>\n",
       "    .dataframe tbody tr th:only-of-type {\n",
       "        vertical-align: middle;\n",
       "    }\n",
       "\n",
       "    .dataframe tbody tr th {\n",
       "        vertical-align: top;\n",
       "    }\n",
       "\n",
       "    .dataframe thead th {\n",
       "        text-align: right;\n",
       "    }\n",
       "</style>\n",
       "<table border=\"1\" class=\"dataframe\">\n",
       "  <thead>\n",
       "    <tr style=\"text-align: right;\">\n",
       "      <th></th>\n",
       "      <th>mo_sin_old_il_acct</th>\n",
       "      <th>mo_sin_old_rev_tl_op</th>\n",
       "    </tr>\n",
       "  </thead>\n",
       "  <tbody>\n",
       "    <tr>\n",
       "      <th>count</th>\n",
       "      <td>2.386267e+06</td>\n",
       "      <td>2.386267e+06</td>\n",
       "    </tr>\n",
       "    <tr>\n",
       "      <th>mean</th>\n",
       "      <td>1.254888e+02</td>\n",
       "      <td>1.799992e+02</td>\n",
       "    </tr>\n",
       "    <tr>\n",
       "      <th>std</th>\n",
       "      <td>5.383931e+01</td>\n",
       "      <td>9.673330e+01</td>\n",
       "    </tr>\n",
       "    <tr>\n",
       "      <th>min</th>\n",
       "      <td>0.000000e+00</td>\n",
       "      <td>1.000000e+00</td>\n",
       "    </tr>\n",
       "    <tr>\n",
       "      <th>25%</th>\n",
       "      <td>9.400000e+01</td>\n",
       "      <td>1.150000e+02</td>\n",
       "    </tr>\n",
       "    <tr>\n",
       "      <th>50%</th>\n",
       "      <td>1.300000e+02</td>\n",
       "      <td>1.620000e+02</td>\n",
       "    </tr>\n",
       "    <tr>\n",
       "      <th>75%</th>\n",
       "      <td>1.540000e+02</td>\n",
       "      <td>2.290000e+02</td>\n",
       "    </tr>\n",
       "    <tr>\n",
       "      <th>max</th>\n",
       "      <td>9.990000e+02</td>\n",
       "      <td>9.990000e+02</td>\n",
       "    </tr>\n",
       "  </tbody>\n",
       "</table>\n",
       "</div>"
      ],
      "text/plain": [
       "       mo_sin_old_il_acct  mo_sin_old_rev_tl_op\n",
       "count        2.386267e+06          2.386267e+06\n",
       "mean         1.254888e+02          1.799992e+02\n",
       "std          5.383931e+01          9.673330e+01\n",
       "min          0.000000e+00          1.000000e+00\n",
       "25%          9.400000e+01          1.150000e+02\n",
       "50%          1.300000e+02          1.620000e+02\n",
       "75%          1.540000e+02          2.290000e+02\n",
       "max          9.990000e+02          9.990000e+02"
      ]
     },
     "execution_count": 87,
     "metadata": {},
     "output_type": "execute_result"
    }
   ],
   "source": [
    "#description of numerical data\n",
    "Numerical_Data_X3.describe()"
   ]
  },
  {
   "cell_type": "code",
   "execution_count": 88,
   "metadata": {},
   "outputs": [
    {
     "data": {
      "text/html": [
       "<div>\n",
       "<style scoped>\n",
       "    .dataframe tbody tr th:only-of-type {\n",
       "        vertical-align: middle;\n",
       "    }\n",
       "\n",
       "    .dataframe tbody tr th {\n",
       "        vertical-align: top;\n",
       "    }\n",
       "\n",
       "    .dataframe thead th {\n",
       "        text-align: right;\n",
       "    }\n",
       "</style>\n",
       "<table border=\"1\" class=\"dataframe\">\n",
       "  <thead>\n",
       "    <tr style=\"text-align: right;\">\n",
       "      <th></th>\n",
       "      <th>open_acc</th>\n",
       "      <th>total_acc</th>\n",
       "      <th>mort_acc</th>\n",
       "      <th>num_op_rev_tl</th>\n",
       "      <th>num_rev_accts</th>\n",
       "    </tr>\n",
       "  </thead>\n",
       "  <tbody>\n",
       "    <tr>\n",
       "      <th>count</th>\n",
       "      <td>2.386267e+06</td>\n",
       "      <td>2.386267e+06</td>\n",
       "      <td>2.386267e+06</td>\n",
       "      <td>2.386267e+06</td>\n",
       "      <td>2.386267e+06</td>\n",
       "    </tr>\n",
       "    <tr>\n",
       "      <th>mean</th>\n",
       "      <td>1.185993e+01</td>\n",
       "      <td>2.449583e+01</td>\n",
       "      <td>1.548817e+00</td>\n",
       "      <td>8.326094e+00</td>\n",
       "      <td>1.393035e+01</td>\n",
       "    </tr>\n",
       "    <tr>\n",
       "      <th>std</th>\n",
       "      <td>5.690434e+00</td>\n",
       "      <td>1.197168e+01</td>\n",
       "      <td>1.881979e+00</td>\n",
       "      <td>4.720309e+00</td>\n",
       "      <td>7.987817e+00</td>\n",
       "    </tr>\n",
       "    <tr>\n",
       "      <th>min</th>\n",
       "      <td>1.000000e+00</td>\n",
       "      <td>3.000000e+00</td>\n",
       "      <td>0.000000e+00</td>\n",
       "      <td>1.000000e+00</td>\n",
       "      <td>1.000000e+00</td>\n",
       "    </tr>\n",
       "    <tr>\n",
       "      <th>25%</th>\n",
       "      <td>8.000000e+00</td>\n",
       "      <td>1.600000e+01</td>\n",
       "      <td>0.000000e+00</td>\n",
       "      <td>5.000000e+00</td>\n",
       "      <td>8.000000e+00</td>\n",
       "    </tr>\n",
       "    <tr>\n",
       "      <th>50%</th>\n",
       "      <td>1.100000e+01</td>\n",
       "      <td>2.300000e+01</td>\n",
       "      <td>1.000000e+00</td>\n",
       "      <td>7.000000e+00</td>\n",
       "      <td>1.200000e+01</td>\n",
       "    </tr>\n",
       "    <tr>\n",
       "      <th>75%</th>\n",
       "      <td>1.500000e+01</td>\n",
       "      <td>3.100000e+01</td>\n",
       "      <td>3.000000e+00</td>\n",
       "      <td>1.100000e+01</td>\n",
       "      <td>1.800000e+01</td>\n",
       "    </tr>\n",
       "    <tr>\n",
       "      <th>max</th>\n",
       "      <td>1.010000e+02</td>\n",
       "      <td>1.760000e+02</td>\n",
       "      <td>9.400000e+01</td>\n",
       "      <td>9.100000e+01</td>\n",
       "      <td>1.510000e+02</td>\n",
       "    </tr>\n",
       "  </tbody>\n",
       "</table>\n",
       "</div>"
      ],
      "text/plain": [
       "           open_acc     total_acc      mort_acc  num_op_rev_tl  num_rev_accts\n",
       "count  2.386267e+06  2.386267e+06  2.386267e+06   2.386267e+06   2.386267e+06\n",
       "mean   1.185993e+01  2.449583e+01  1.548817e+00   8.326094e+00   1.393035e+01\n",
       "std    5.690434e+00  1.197168e+01  1.881979e+00   4.720309e+00   7.987817e+00\n",
       "min    1.000000e+00  3.000000e+00  0.000000e+00   1.000000e+00   1.000000e+00\n",
       "25%    8.000000e+00  1.600000e+01  0.000000e+00   5.000000e+00   8.000000e+00\n",
       "50%    1.100000e+01  2.300000e+01  1.000000e+00   7.000000e+00   1.200000e+01\n",
       "75%    1.500000e+01  3.100000e+01  3.000000e+00   1.100000e+01   1.800000e+01\n",
       "max    1.010000e+02  1.760000e+02  9.400000e+01   9.100000e+01   1.510000e+02"
      ]
     },
     "execution_count": 88,
     "metadata": {},
     "output_type": "execute_result"
    }
   ],
   "source": [
    "#description of numerical data\n",
    "Numerical_Data_X4.describe()"
   ]
  },
  {
   "cell_type": "code",
   "execution_count": 89,
   "metadata": {},
   "outputs": [
    {
     "data": {
      "text/html": [
       "<div>\n",
       "<style scoped>\n",
       "    .dataframe tbody tr th:only-of-type {\n",
       "        vertical-align: middle;\n",
       "    }\n",
       "\n",
       "    .dataframe tbody tr th {\n",
       "        vertical-align: top;\n",
       "    }\n",
       "\n",
       "    .dataframe thead th {\n",
       "        text-align: right;\n",
       "    }\n",
       "</style>\n",
       "<table border=\"1\" class=\"dataframe\">\n",
       "  <thead>\n",
       "    <tr style=\"text-align: right;\">\n",
       "      <th></th>\n",
       "      <th>mo_sin_rcnt_rev_tl_op</th>\n",
       "      <th>mo_sin_rcnt_tl</th>\n",
       "    </tr>\n",
       "  </thead>\n",
       "  <tbody>\n",
       "    <tr>\n",
       "      <th>count</th>\n",
       "      <td>2.386267e+06</td>\n",
       "      <td>2.386267e+06</td>\n",
       "    </tr>\n",
       "    <tr>\n",
       "      <th>mean</th>\n",
       "      <td>1.425329e+01</td>\n",
       "      <td>8.199328e+00</td>\n",
       "    </tr>\n",
       "    <tr>\n",
       "      <th>std</th>\n",
       "      <td>1.754188e+01</td>\n",
       "      <td>8.611712e+00</td>\n",
       "    </tr>\n",
       "    <tr>\n",
       "      <th>min</th>\n",
       "      <td>0.000000e+00</td>\n",
       "      <td>0.000000e+00</td>\n",
       "    </tr>\n",
       "    <tr>\n",
       "      <th>25%</th>\n",
       "      <td>4.000000e+00</td>\n",
       "      <td>3.000000e+00</td>\n",
       "    </tr>\n",
       "    <tr>\n",
       "      <th>50%</th>\n",
       "      <td>9.000000e+00</td>\n",
       "      <td>6.000000e+00</td>\n",
       "    </tr>\n",
       "    <tr>\n",
       "      <th>75%</th>\n",
       "      <td>1.800000e+01</td>\n",
       "      <td>1.100000e+01</td>\n",
       "    </tr>\n",
       "    <tr>\n",
       "      <th>max</th>\n",
       "      <td>5.640000e+02</td>\n",
       "      <td>1.970000e+02</td>\n",
       "    </tr>\n",
       "  </tbody>\n",
       "</table>\n",
       "</div>"
      ],
      "text/plain": [
       "       mo_sin_rcnt_rev_tl_op  mo_sin_rcnt_tl\n",
       "count           2.386267e+06    2.386267e+06\n",
       "mean            1.425329e+01    8.199328e+00\n",
       "std             1.754188e+01    8.611712e+00\n",
       "min             0.000000e+00    0.000000e+00\n",
       "25%             4.000000e+00    3.000000e+00\n",
       "50%             9.000000e+00    6.000000e+00\n",
       "75%             1.800000e+01    1.100000e+01\n",
       "max             5.640000e+02    1.970000e+02"
      ]
     },
     "execution_count": 89,
     "metadata": {},
     "output_type": "execute_result"
    }
   ],
   "source": [
    "#description of numerical data\n",
    "Numerical_Data_X5.describe()"
   ]
  },
  {
   "cell_type": "code",
   "execution_count": 90,
   "metadata": {},
   "outputs": [
    {
     "name": "stdout",
     "output_type": "stream",
     "text": [
      "<class 'pandas.core.frame.DataFrame'>\n",
      "Index: 2386267 entries, 0 to 2386266\n",
      "Data columns (total 1 columns):\n",
      " #   Column       Dtype \n",
      "---  ------       ----- \n",
      " 0   loan_status  object\n",
      "dtypes: object(1)\n",
      "memory usage: 36.4+ MB\n"
     ]
    }
   ],
   "source": [
    "#print categorical data x1 info \n",
    "Categorical_Data_X1.info()"
   ]
  },
  {
   "cell_type": "code",
   "execution_count": 91,
   "metadata": {},
   "outputs": [
    {
     "name": "stdout",
     "output_type": "stream",
     "text": [
      "<class 'pandas.core.frame.DataFrame'>\n",
      "Index: 0 entries\n",
      "Empty DataFrame"
     ]
    }
   ],
   "source": [
    "#print categorical data x2 info \n",
    "Categorical_Data_X2.info()"
   ]
  },
  {
   "cell_type": "code",
   "execution_count": 92,
   "metadata": {},
   "outputs": [
    {
     "name": "stdout",
     "output_type": "stream",
     "text": [
      "<class 'pandas.core.frame.DataFrame'>\n",
      "Index: 2386267 entries, 0 to 2386266\n",
      "Data columns (total 1 columns):\n",
      " #   Column  Dtype \n",
      "---  ------  ----- \n",
      " 0   term    object\n",
      "dtypes: object(1)\n",
      "memory usage: 36.4+ MB\n"
     ]
    }
   ],
   "source": [
    "#print categorical data x3 info \n",
    "Categorical_Data_X3.info()"
   ]
  },
  {
   "cell_type": "code",
   "execution_count": 93,
   "metadata": {},
   "outputs": [
    {
     "name": "stdout",
     "output_type": "stream",
     "text": [
      "<class 'pandas.core.frame.DataFrame'>\n",
      "Index: 0 entries\n",
      "Empty DataFrame"
     ]
    }
   ],
   "source": [
    "#print categorical data x4 info \n",
    "Categorical_Data_X4.info()"
   ]
  },
  {
   "cell_type": "code",
   "execution_count": 94,
   "metadata": {},
   "outputs": [
    {
     "name": "stdout",
     "output_type": "stream",
     "text": [
      "<class 'pandas.core.frame.DataFrame'>\n",
      "Index: 0 entries\n",
      "Empty DataFrame"
     ]
    }
   ],
   "source": [
    "#print categorical data x5 info \n",
    "Categorical_Data_X5.info()"
   ]
  },
  {
   "cell_type": "code",
   "execution_count": 95,
   "metadata": {},
   "outputs": [
    {
     "name": "stdout",
     "output_type": "stream",
     "text": [
      "loan_status \n",
      "\n",
      " ['Fully Paid' 'Current' 'Charged Off' 'In Grace Period'\n",
      " 'Late (31-120 days)' 'Late (16-30 days)' 'Default'] \n",
      "\n",
      "\n",
      "\n"
     ]
    }
   ],
   "source": [
    "for col in Categorical_Data_X1.columns:\n",
    "    print(col,'\\n'*2,Categorical_Data_X1[col].unique(),'\\n'*3)\n",
    "#Converting Ordinal Value(Categorical Data)"
   ]
  },
  {
   "cell_type": "code",
   "execution_count": 96,
   "metadata": {},
   "outputs": [
    {
     "name": "stdout",
     "output_type": "stream",
     "text": [
      "term \n",
      "\n",
      " [' 36 months' ' 60 months'] \n",
      "\n",
      "\n",
      "\n"
     ]
    }
   ],
   "source": [
    "for col in Categorical_Data_X3.columns:\n",
    "    print(col,'\\n'*2,Categorical_Data_X3[col].unique(),'\\n'*3)\n",
    "#Converting Ordinal Value(Categorical Data)"
   ]
  },
  {
   "cell_type": "code",
   "execution_count": 97,
   "metadata": {},
   "outputs": [],
   "source": [
    "for col in Categorical_Data_X4.columns:\n",
    "    print(col,'\\n'*2,Categorical_Data_X4[col].unique(),'\\n'*3)\n",
    "#Converting Ordinal Value(Categorical Data)"
   ]
  },
  {
   "cell_type": "code",
   "execution_count": 98,
   "metadata": {},
   "outputs": [],
   "source": [
    "#Dummy Variables of Categorical data x1\n",
    "#------------------------------------------------------------------------------------------------------------------------------\n",
    "for col in Categorical_Data_X1.columns:\n",
    "    Dummy_Variables_X1 = pd.get_dummies(Categorical_Data_X1[col])\n",
    "    Dummy_Variables_X1.drop(Dummy_Variables_X1.columns[-1],axis=1,inplace=True)# dropping one of each to reduce multicoloniearity\n",
    "    Categorical_Data_X1 = pd.concat([Categorical_Data_X1, Dummy_Variables_X1], axis=1)\n",
    "    Categorical_Data_X1.drop(col, axis=1, inplace=True)"
   ]
  },
  {
   "cell_type": "code",
   "execution_count": 99,
   "metadata": {},
   "outputs": [],
   "source": [
    "#Dummy Variables of Categorical data x3\n",
    "#------------------------------------------------------------------------------------------------------------------------------\n",
    "for col in Categorical_Data_X3.columns:\n",
    "    Dummy_Variables_X3 = pd.get_dummies(Categorical_Data_X3[col])\n",
    "    Dummy_Variables_X3.drop(Dummy_Variables_X3.columns[-1],axis=1,inplace=True)# dropping one of each to reduce multicoloniearity\n",
    "    Categorical_Data_X3 = pd.concat([Categorical_Data_X3, Dummy_Variables_X3], axis=1)\n",
    "    Categorical_Data_X3.drop(col, axis=1, inplace=True)"
   ]
  },
  {
   "cell_type": "code",
   "execution_count": 100,
   "metadata": {},
   "outputs": [],
   "source": [
    "#Dummy Variables of Categorical data x4\n",
    "#------------------------------------------------------------------------------------------------------------------------------\n",
    "for col in Categorical_Data_X4.columns:\n",
    "    Dummy_Variables_X4 = pd.get_dummies(Categorical_Data_X4[col])\n",
    "    Dummy_Variables_X4.drop(Dummy_Variables_X4.columns[-1],axis=1,inplace=True)# dropping one of each to reduce multicoloniearity\n",
    "    Categorical_Data_X4 = pd.concat([Categorical_Data_X4, Dummy_Variables_X4], axis=1)\n",
    "    Categorical_Data_X4.drop(col, axis=1, inplace=True)"
   ]
  },
  {
   "cell_type": "code",
   "execution_count": 101,
   "metadata": {},
   "outputs": [],
   "source": [
    "#Dummy Variables of Categorical data x5\n",
    "#------------------------------------------------------------------------------------------------------------------------------\n",
    "for col in Categorical_Data_X5.columns:\n",
    "    Dummy_Variables_X5 = pd.get_dummies(Categorical_Data_X5[col])\n",
    "    Dummy_Variables_X5.drop(Dummy_Variables_X5.columns[-1],axis=1,inplace=True)# dropping one of each to reduce multicoloniearity\n",
    "    Categorical_Data_X5 = pd.concat([Categorical_Data_X5, Dummy_Variables_X5], axis=1)\n",
    "    Categorical_Data_X5.drop(col, axis=1, inplace=True)"
   ]
  },
  {
   "cell_type": "code",
   "execution_count": 102,
   "metadata": {},
   "outputs": [
    {
     "data": {
      "text/html": [
       "<div>\n",
       "<style scoped>\n",
       "    .dataframe tbody tr th:only-of-type {\n",
       "        vertical-align: middle;\n",
       "    }\n",
       "\n",
       "    .dataframe tbody tr th {\n",
       "        vertical-align: top;\n",
       "    }\n",
       "\n",
       "    .dataframe thead th {\n",
       "        text-align: right;\n",
       "    }\n",
       "</style>\n",
       "<table border=\"1\" class=\"dataframe\">\n",
       "  <thead>\n",
       "    <tr style=\"text-align: right;\">\n",
       "      <th></th>\n",
       "      <th>Charged Off</th>\n",
       "      <th>Current</th>\n",
       "      <th>Default</th>\n",
       "      <th>Fully Paid</th>\n",
       "      <th>In Grace Period</th>\n",
       "      <th>Late (16-30 days)</th>\n",
       "    </tr>\n",
       "  </thead>\n",
       "  <tbody>\n",
       "    <tr>\n",
       "      <th>0</th>\n",
       "      <td>0</td>\n",
       "      <td>0</td>\n",
       "      <td>0</td>\n",
       "      <td>1</td>\n",
       "      <td>0</td>\n",
       "      <td>0</td>\n",
       "    </tr>\n",
       "    <tr>\n",
       "      <th>1</th>\n",
       "      <td>0</td>\n",
       "      <td>0</td>\n",
       "      <td>0</td>\n",
       "      <td>1</td>\n",
       "      <td>0</td>\n",
       "      <td>0</td>\n",
       "    </tr>\n",
       "    <tr>\n",
       "      <th>2</th>\n",
       "      <td>0</td>\n",
       "      <td>0</td>\n",
       "      <td>0</td>\n",
       "      <td>1</td>\n",
       "      <td>0</td>\n",
       "      <td>0</td>\n",
       "    </tr>\n",
       "    <tr>\n",
       "      <th>3</th>\n",
       "      <td>0</td>\n",
       "      <td>1</td>\n",
       "      <td>0</td>\n",
       "      <td>0</td>\n",
       "      <td>0</td>\n",
       "      <td>0</td>\n",
       "    </tr>\n",
       "    <tr>\n",
       "      <th>4</th>\n",
       "      <td>0</td>\n",
       "      <td>0</td>\n",
       "      <td>0</td>\n",
       "      <td>1</td>\n",
       "      <td>0</td>\n",
       "      <td>0</td>\n",
       "    </tr>\n",
       "  </tbody>\n",
       "</table>\n",
       "</div>"
      ],
      "text/plain": [
       "   Charged Off  Current  Default  Fully Paid  In Grace Period  \\\n",
       "0            0        0        0           1                0   \n",
       "1            0        0        0           1                0   \n",
       "2            0        0        0           1                0   \n",
       "3            0        1        0           0                0   \n",
       "4            0        0        0           1                0   \n",
       "\n",
       "   Late (16-30 days)  \n",
       "0                  0  \n",
       "1                  0  \n",
       "2                  0  \n",
       "3                  0  \n",
       "4                  0  "
      ]
     },
     "execution_count": 102,
     "metadata": {},
     "output_type": "execute_result"
    }
   ],
   "source": [
    "Categorical_Data_X1.head()"
   ]
  },
  {
   "cell_type": "code",
   "execution_count": 103,
   "metadata": {},
   "outputs": [
    {
     "data": {
      "text/html": [
       "<div>\n",
       "<style scoped>\n",
       "    .dataframe tbody tr th:only-of-type {\n",
       "        vertical-align: middle;\n",
       "    }\n",
       "\n",
       "    .dataframe tbody tr th {\n",
       "        vertical-align: top;\n",
       "    }\n",
       "\n",
       "    .dataframe thead th {\n",
       "        text-align: right;\n",
       "    }\n",
       "</style>\n",
       "<table border=\"1\" class=\"dataframe\">\n",
       "  <thead>\n",
       "    <tr style=\"text-align: right;\">\n",
       "      <th></th>\n",
       "      <th>36 months</th>\n",
       "    </tr>\n",
       "  </thead>\n",
       "  <tbody>\n",
       "    <tr>\n",
       "      <th>0</th>\n",
       "      <td>1</td>\n",
       "    </tr>\n",
       "    <tr>\n",
       "      <th>1</th>\n",
       "      <td>1</td>\n",
       "    </tr>\n",
       "    <tr>\n",
       "      <th>2</th>\n",
       "      <td>0</td>\n",
       "    </tr>\n",
       "    <tr>\n",
       "      <th>3</th>\n",
       "      <td>0</td>\n",
       "    </tr>\n",
       "    <tr>\n",
       "      <th>4</th>\n",
       "      <td>0</td>\n",
       "    </tr>\n",
       "  </tbody>\n",
       "</table>\n",
       "</div>"
      ],
      "text/plain": [
       "    36 months\n",
       "0           1\n",
       "1           1\n",
       "2           0\n",
       "3           0\n",
       "4           0"
      ]
     },
     "execution_count": 103,
     "metadata": {},
     "output_type": "execute_result"
    }
   ],
   "source": [
    "Categorical_Data_X3.head()"
   ]
  },
  {
   "cell_type": "code",
   "execution_count": 104,
   "metadata": {},
   "outputs": [
    {
     "data": {
      "text/html": [
       "<div>\n",
       "<style scoped>\n",
       "    .dataframe tbody tr th:only-of-type {\n",
       "        vertical-align: middle;\n",
       "    }\n",
       "\n",
       "    .dataframe tbody tr th {\n",
       "        vertical-align: top;\n",
       "    }\n",
       "\n",
       "    .dataframe thead th {\n",
       "        text-align: right;\n",
       "    }\n",
       "</style>\n",
       "<table border=\"1\" class=\"dataframe\">\n",
       "  <thead>\n",
       "    <tr style=\"text-align: right;\">\n",
       "      <th></th>\n",
       "    </tr>\n",
       "  </thead>\n",
       "  <tbody>\n",
       "  </tbody>\n",
       "</table>\n",
       "</div>"
      ],
      "text/plain": [
       "Empty DataFrame\n",
       "Columns: []\n",
       "Index: []"
      ]
     },
     "execution_count": 104,
     "metadata": {},
     "output_type": "execute_result"
    }
   ],
   "source": [
    "Categorical_Data_X4.head()"
   ]
  },
  {
   "cell_type": "code",
   "execution_count": 105,
   "metadata": {},
   "outputs": [],
   "source": [
    "#covert into int\n",
    "for col in Categorical_Data_X1.columns:\n",
    "    Categorical_Data_X1[col].astype(int)"
   ]
  },
  {
   "cell_type": "code",
   "execution_count": 106,
   "metadata": {},
   "outputs": [],
   "source": [
    "#covert into int\n",
    "for col in Categorical_Data_X2.columns:\n",
    "    Categorical_Data_X2[col].astype(int)"
   ]
  },
  {
   "cell_type": "code",
   "execution_count": 107,
   "metadata": {},
   "outputs": [],
   "source": [
    "#covert into int\n",
    "for col in Categorical_Data_X3.columns:\n",
    "    Categorical_Data_X3[col].astype(int)"
   ]
  },
  {
   "cell_type": "code",
   "execution_count": 108,
   "metadata": {},
   "outputs": [],
   "source": [
    "#covert into int\n",
    "for col in Categorical_Data_X4.columns:\n",
    "    Categorical_Data_X4[col].astype(int)"
   ]
  },
  {
   "cell_type": "code",
   "execution_count": 109,
   "metadata": {},
   "outputs": [],
   "source": [
    "#covert into int\n",
    "for col in Categorical_Data_X5.columns:\n",
    "    Categorical_Data_X5[col].astype(int)"
   ]
  },
  {
   "cell_type": "code",
   "execution_count": 110,
   "metadata": {},
   "outputs": [
    {
     "data": {
      "text/plain": [
       "installment                 0\n",
       "delinq_2yrs                 0\n",
       "acc_now_delinq              0\n",
       "tot_coll_amt                0\n",
       "chargeoff_within_12_mths    0\n",
       "delinq_amnt                 0\n",
       "mths_since_recent_bc        0\n",
       "num_accts_ever_120_pd       0\n",
       "num_tl_120dpd_2m            0\n",
       "num_tl_30dpd                0\n",
       "num_tl_90g_dpd_24m          0\n",
       "pub_rec_bankruptcies        0\n",
       "dtype: int64"
      ]
     },
     "execution_count": 110,
     "metadata": {},
     "output_type": "execute_result"
    }
   ],
   "source": [
    "#Searching for null value\n",
    "Numerical_Data_X1.isna().sum()"
   ]
  },
  {
   "cell_type": "code",
   "execution_count": 111,
   "metadata": {},
   "outputs": [],
   "source": [
    "#Allocating weight to numerical data x1\n",
    "Numerical_Data_X1_Updated=(Numerical_Data_X1*0.35)"
   ]
  },
  {
   "cell_type": "code",
   "execution_count": 112,
   "metadata": {},
   "outputs": [],
   "source": [
    "#Allocating weight to numerical data x2\n",
    "Numerical_Data_X2_Updated=(Numerical_Data_X2*0.30)"
   ]
  },
  {
   "cell_type": "code",
   "execution_count": 113,
   "metadata": {},
   "outputs": [],
   "source": [
    "#Allocating weight to numerical data x3\n",
    "Numerical_Data_X3_Updated=(Numerical_Data_X3*0.15)"
   ]
  },
  {
   "cell_type": "code",
   "execution_count": 114,
   "metadata": {},
   "outputs": [],
   "source": [
    "#Allocating weight to numerical data x4\n",
    "Numerical_Data_X4_Updated=(Numerical_Data_X4*0.10)"
   ]
  },
  {
   "cell_type": "code",
   "execution_count": 115,
   "metadata": {},
   "outputs": [],
   "source": [
    "#Allocating weight to numerical data x5\n",
    "Numerical_Data_X5_Updated=(Numerical_Data_X5*0.10)"
   ]
  },
  {
   "cell_type": "code",
   "execution_count": 116,
   "metadata": {},
   "outputs": [],
   "source": [
    "#Merging the numerical data of all the categories x1+ x2+ x3+ x4+ x5 into one\n",
    "Numerical_Data_Merged=pd.concat([Numerical_Data_X1_Updated,Numerical_Data_X2_Updated,Numerical_Data_X3_Updated,Numerical_Data_X4_Updated,Numerical_Data_X5_Updated],axis=1)"
   ]
  },
  {
   "cell_type": "code",
   "execution_count": 117,
   "metadata": {},
   "outputs": [
    {
     "data": {
      "text/plain": [
       "installment                 0\n",
       "delinq_2yrs                 0\n",
       "acc_now_delinq              0\n",
       "tot_coll_amt                0\n",
       "chargeoff_within_12_mths    0\n",
       "delinq_amnt                 0\n",
       "mths_since_recent_bc        0\n",
       "num_accts_ever_120_pd       0\n",
       "num_tl_120dpd_2m            0\n",
       "num_tl_30dpd                0\n",
       "num_tl_90g_dpd_24m          0\n",
       "pub_rec_bankruptcies        0\n",
       "loan_amnt                   0\n",
       "revol_bal                   0\n",
       "revol_util                  0\n",
       "out_prncp                   0\n",
       "recoveries                  0\n",
       "mo_sin_old_il_acct          0\n",
       "mo_sin_old_rev_tl_op        0\n",
       "open_acc                    0\n",
       "total_acc                   0\n",
       "mort_acc                    0\n",
       "num_op_rev_tl               0\n",
       "num_rev_accts               0\n",
       "mo_sin_rcnt_rev_tl_op       0\n",
       "mo_sin_rcnt_tl              0\n",
       "dtype: int64"
      ]
     },
     "execution_count": 117,
     "metadata": {},
     "output_type": "execute_result"
    }
   ],
   "source": [
    "Numerical_Data_Merged.isna().sum()"
   ]
  },
  {
   "cell_type": "code",
   "execution_count": 118,
   "metadata": {},
   "outputs": [],
   "source": [
    "#Allocating weight to categorical data x1\n",
    "Categorical_Data_X1_Updated=(Categorical_Data_X1*0.35)"
   ]
  },
  {
   "cell_type": "code",
   "execution_count": 119,
   "metadata": {},
   "outputs": [],
   "source": [
    "#Allocating weight to categorical data x2\n",
    "Categorical_Data_X2_Updated=(Categorical_Data_X2*0.30)"
   ]
  },
  {
   "cell_type": "code",
   "execution_count": 120,
   "metadata": {},
   "outputs": [],
   "source": [
    "#Allocating weight to categorical data x3\n",
    "Categorical_Data_X3_Updated=(Categorical_Data_X3*0.15)"
   ]
  },
  {
   "cell_type": "code",
   "execution_count": 121,
   "metadata": {},
   "outputs": [],
   "source": [
    "#Allocating weight to categorical data x4\n",
    "Categorical_Data_X4_Updated=(Categorical_Data_X4*0.10)"
   ]
  },
  {
   "cell_type": "code",
   "execution_count": 122,
   "metadata": {},
   "outputs": [],
   "source": [
    "#Allocating weight to categorical data x5\n",
    "Categorical_Data_X5_Updated=(Categorical_Data_X5*0.10)"
   ]
  },
  {
   "cell_type": "code",
   "execution_count": 123,
   "metadata": {},
   "outputs": [],
   "source": [
    "#Merging the categorical data of all the categories x1+ x2+ x3+ x4+ x5 into one\n",
    "Categorical_Data_Merged=pd.concat([Categorical_Data_X1_Updated,Categorical_Data_X2_Updated,Categorical_Data_X3_Updated,Categorical_Data_X4_Updated,Categorical_Data_X5_Updated],axis=1)"
   ]
  },
  {
   "cell_type": "code",
   "execution_count": 124,
   "metadata": {},
   "outputs": [
    {
     "data": {
      "text/plain": [
       "Charged Off          0\n",
       "Current              0\n",
       "Default              0\n",
       "Fully Paid           0\n",
       "In Grace Period      0\n",
       "Late (16-30 days)    0\n",
       " 36 months           0\n",
       "dtype: int64"
      ]
     },
     "execution_count": 124,
     "metadata": {},
     "output_type": "execute_result"
    }
   ],
   "source": [
    "Categorical_Data_Merged.isna().sum()"
   ]
  },
  {
   "cell_type": "code",
   "execution_count": 125,
   "metadata": {},
   "outputs": [],
   "source": [
    "#import required libraries\n",
    "from sklearn.preprocessing import StandardScaler"
   ]
  },
  {
   "cell_type": "code",
   "execution_count": 126,
   "metadata": {},
   "outputs": [],
   "source": [
    "#Scale numerical data set \n",
    "Scaler = StandardScaler()\n",
    "Scaled_Numerical_Data_Merged = pd.DataFrame(Scaler.fit_transform(Numerical_Data_Merged),columns=Numerical_Data_Merged.columns)"
   ]
  },
  {
   "cell_type": "code",
   "execution_count": 127,
   "metadata": {},
   "outputs": [
    {
     "name": "stdout",
     "output_type": "stream",
     "text": [
      "(2386267, 33) (2386267,)\n"
     ]
    },
    {
     "data": {
      "text/html": [
       "<div>\n",
       "<style scoped>\n",
       "    .dataframe tbody tr th:only-of-type {\n",
       "        vertical-align: middle;\n",
       "    }\n",
       "\n",
       "    .dataframe tbody tr th {\n",
       "        vertical-align: top;\n",
       "    }\n",
       "\n",
       "    .dataframe thead th {\n",
       "        text-align: right;\n",
       "    }\n",
       "</style>\n",
       "<table border=\"1\" class=\"dataframe\">\n",
       "  <thead>\n",
       "    <tr style=\"text-align: right;\">\n",
       "      <th></th>\n",
       "      <th>installment</th>\n",
       "      <th>delinq_2yrs</th>\n",
       "      <th>acc_now_delinq</th>\n",
       "      <th>tot_coll_amt</th>\n",
       "      <th>chargeoff_within_12_mths</th>\n",
       "      <th>delinq_amnt</th>\n",
       "      <th>mths_since_recent_bc</th>\n",
       "      <th>num_accts_ever_120_pd</th>\n",
       "      <th>num_tl_120dpd_2m</th>\n",
       "      <th>num_tl_30dpd</th>\n",
       "      <th>...</th>\n",
       "      <th>num_rev_accts</th>\n",
       "      <th>mo_sin_rcnt_rev_tl_op</th>\n",
       "      <th>mo_sin_rcnt_tl</th>\n",
       "      <th>Charged Off</th>\n",
       "      <th>Current</th>\n",
       "      <th>Default</th>\n",
       "      <th>Fully Paid</th>\n",
       "      <th>In Grace Period</th>\n",
       "      <th>Late (16-30 days)</th>\n",
       "      <th>36 months</th>\n",
       "    </tr>\n",
       "  </thead>\n",
       "  <tbody>\n",
       "    <tr>\n",
       "      <th>0</th>\n",
       "      <td>-1.222943</td>\n",
       "      <td>-0.348263</td>\n",
       "      <td>-0.055791</td>\n",
       "      <td>0.060229</td>\n",
       "      <td>-0.080057</td>\n",
       "      <td>-0.016027</td>\n",
       "      <td>-0.650862</td>\n",
       "      <td>1.076073</td>\n",
       "      <td>-0.021735</td>\n",
       "      <td>-0.046259</td>\n",
       "      <td>...</td>\n",
       "      <td>-0.617234</td>\n",
       "      <td>-0.641510</td>\n",
       "      <td>-0.603751</td>\n",
       "      <td>0.0</td>\n",
       "      <td>0.00</td>\n",
       "      <td>0.0</td>\n",
       "      <td>0.35</td>\n",
       "      <td>0.0</td>\n",
       "      <td>0.0</td>\n",
       "      <td>0.15</td>\n",
       "    </tr>\n",
       "    <tr>\n",
       "      <th>1</th>\n",
       "      <td>1.342867</td>\n",
       "      <td>0.824439</td>\n",
       "      <td>-0.055791</td>\n",
       "      <td>-0.028073</td>\n",
       "      <td>-0.080057</td>\n",
       "      <td>-0.016027</td>\n",
       "      <td>-0.711981</td>\n",
       "      <td>-0.370259</td>\n",
       "      <td>-0.021735</td>\n",
       "      <td>-0.046259</td>\n",
       "      <td>...</td>\n",
       "      <td>1.636198</td>\n",
       "      <td>-0.698517</td>\n",
       "      <td>-0.719872</td>\n",
       "      <td>0.0</td>\n",
       "      <td>0.00</td>\n",
       "      <td>0.0</td>\n",
       "      <td>0.35</td>\n",
       "      <td>0.0</td>\n",
       "      <td>0.0</td>\n",
       "      <td>0.15</td>\n",
       "    </tr>\n",
       "    <tr>\n",
       "      <th>2</th>\n",
       "      <td>-0.083536</td>\n",
       "      <td>-0.348263</td>\n",
       "      <td>-0.055791</td>\n",
       "      <td>-0.028073</td>\n",
       "      <td>-0.080057</td>\n",
       "      <td>-0.016027</td>\n",
       "      <td>2.313408</td>\n",
       "      <td>-0.370259</td>\n",
       "      <td>-0.021735</td>\n",
       "      <td>-0.046259</td>\n",
       "      <td>...</td>\n",
       "      <td>-0.867616</td>\n",
       "      <td>-0.014439</td>\n",
       "      <td>0.673580</td>\n",
       "      <td>0.0</td>\n",
       "      <td>0.00</td>\n",
       "      <td>0.0</td>\n",
       "      <td>0.35</td>\n",
       "      <td>0.0</td>\n",
       "      <td>0.0</td>\n",
       "      <td>0.00</td>\n",
       "    </tr>\n",
       "    <tr>\n",
       "      <th>3</th>\n",
       "      <td>1.378268</td>\n",
       "      <td>-0.348263</td>\n",
       "      <td>-0.055791</td>\n",
       "      <td>-0.028073</td>\n",
       "      <td>-0.080057</td>\n",
       "      <td>-0.016027</td>\n",
       "      <td>-0.711981</td>\n",
       "      <td>-0.370259</td>\n",
       "      <td>-0.021735</td>\n",
       "      <td>-0.046259</td>\n",
       "      <td>...</td>\n",
       "      <td>-0.116472</td>\n",
       "      <td>-0.698517</td>\n",
       "      <td>-0.719872</td>\n",
       "      <td>0.0</td>\n",
       "      <td>0.35</td>\n",
       "      <td>0.0</td>\n",
       "      <td>0.00</td>\n",
       "      <td>0.0</td>\n",
       "      <td>0.0</td>\n",
       "      <td>0.00</td>\n",
       "    </tr>\n",
       "    <tr>\n",
       "      <th>4</th>\n",
       "      <td>-0.608842</td>\n",
       "      <td>0.824439</td>\n",
       "      <td>-0.055791</td>\n",
       "      <td>-0.028073</td>\n",
       "      <td>-0.080057</td>\n",
       "      <td>-0.016027</td>\n",
       "      <td>-0.650862</td>\n",
       "      <td>-0.370259</td>\n",
       "      <td>-0.021735</td>\n",
       "      <td>-0.046259</td>\n",
       "      <td>...</td>\n",
       "      <td>0.634672</td>\n",
       "      <td>-0.584504</td>\n",
       "      <td>-0.487630</td>\n",
       "      <td>0.0</td>\n",
       "      <td>0.00</td>\n",
       "      <td>0.0</td>\n",
       "      <td>0.35</td>\n",
       "      <td>0.0</td>\n",
       "      <td>0.0</td>\n",
       "      <td>0.00</td>\n",
       "    </tr>\n",
       "  </tbody>\n",
       "</table>\n",
       "<p>5 rows × 33 columns</p>\n",
       "</div>"
      ],
      "text/plain": [
       "   installment  delinq_2yrs  acc_now_delinq  tot_coll_amt  \\\n",
       "0    -1.222943    -0.348263       -0.055791      0.060229   \n",
       "1     1.342867     0.824439       -0.055791     -0.028073   \n",
       "2    -0.083536    -0.348263       -0.055791     -0.028073   \n",
       "3     1.378268    -0.348263       -0.055791     -0.028073   \n",
       "4    -0.608842     0.824439       -0.055791     -0.028073   \n",
       "\n",
       "   chargeoff_within_12_mths  delinq_amnt  mths_since_recent_bc  \\\n",
       "0                 -0.080057    -0.016027             -0.650862   \n",
       "1                 -0.080057    -0.016027             -0.711981   \n",
       "2                 -0.080057    -0.016027              2.313408   \n",
       "3                 -0.080057    -0.016027             -0.711981   \n",
       "4                 -0.080057    -0.016027             -0.650862   \n",
       "\n",
       "   num_accts_ever_120_pd  num_tl_120dpd_2m  num_tl_30dpd  ...  num_rev_accts  \\\n",
       "0               1.076073         -0.021735     -0.046259  ...      -0.617234   \n",
       "1              -0.370259         -0.021735     -0.046259  ...       1.636198   \n",
       "2              -0.370259         -0.021735     -0.046259  ...      -0.867616   \n",
       "3              -0.370259         -0.021735     -0.046259  ...      -0.116472   \n",
       "4              -0.370259         -0.021735     -0.046259  ...       0.634672   \n",
       "\n",
       "   mo_sin_rcnt_rev_tl_op  mo_sin_rcnt_tl  Charged Off  Current  Default  \\\n",
       "0              -0.641510       -0.603751          0.0     0.00      0.0   \n",
       "1              -0.698517       -0.719872          0.0     0.00      0.0   \n",
       "2              -0.014439        0.673580          0.0     0.00      0.0   \n",
       "3              -0.698517       -0.719872          0.0     0.35      0.0   \n",
       "4              -0.584504       -0.487630          0.0     0.00      0.0   \n",
       "\n",
       "   Fully Paid  In Grace Period  Late (16-30 days)   36 months  \n",
       "0        0.35              0.0                0.0        0.15  \n",
       "1        0.35              0.0                0.0        0.15  \n",
       "2        0.35              0.0                0.0        0.00  \n",
       "3        0.00              0.0                0.0        0.00  \n",
       "4        0.35              0.0                0.0        0.00  \n",
       "\n",
       "[5 rows x 33 columns]"
      ]
     },
     "execution_count": 127,
     "metadata": {},
     "output_type": "execute_result"
    }
   ],
   "source": [
    "#Merging Numerical and Categorical Data\n",
    "Independent_Variable=pd.concat([Scaled_Numerical_Data_Merged,Categorical_Data_Merged],axis=1)\n",
    "#------------------------------------------------------------------------------------------------------------------------------\n",
    "Target_Variable=LC_Data_Updated.FICO_Score\n",
    "print(Independent_Variable.shape, Target_Variable.shape)\n",
    "Independent_Variable.head()"
   ]
  },
  {
   "cell_type": "code",
   "execution_count": 128,
   "metadata": {},
   "outputs": [
    {
     "data": {
      "text/plain": [
       "['installment',\n",
       " 'delinq_2yrs',\n",
       " 'acc_now_delinq',\n",
       " 'tot_coll_amt',\n",
       " 'chargeoff_within_12_mths',\n",
       " 'delinq_amnt',\n",
       " 'mths_since_recent_bc',\n",
       " 'num_accts_ever_120_pd',\n",
       " 'num_tl_120dpd_2m',\n",
       " 'num_tl_30dpd',\n",
       " 'num_tl_90g_dpd_24m',\n",
       " 'pub_rec_bankruptcies',\n",
       " 'loan_amnt',\n",
       " 'revol_bal',\n",
       " 'revol_util',\n",
       " 'out_prncp',\n",
       " 'recoveries',\n",
       " 'mo_sin_old_il_acct',\n",
       " 'mo_sin_old_rev_tl_op',\n",
       " 'open_acc',\n",
       " 'total_acc',\n",
       " 'mort_acc',\n",
       " 'num_op_rev_tl',\n",
       " 'num_rev_accts',\n",
       " 'mo_sin_rcnt_rev_tl_op',\n",
       " 'mo_sin_rcnt_tl',\n",
       " 'Charged Off',\n",
       " 'Current',\n",
       " 'Default',\n",
       " 'Fully Paid',\n",
       " 'In Grace Period',\n",
       " 'Late (16-30 days)',\n",
       " ' 36 months']"
      ]
     },
     "execution_count": 128,
     "metadata": {},
     "output_type": "execute_result"
    }
   ],
   "source": [
    "#Checking Independent Data List\n",
    "Independent_Variable.columns.tolist()"
   ]
  },
  {
   "cell_type": "markdown",
   "metadata": {},
   "source": [
    "# Correlation"
   ]
  },
  {
   "cell_type": "code",
   "execution_count": 129,
   "metadata": {},
   "outputs": [
    {
     "data": {
      "text/plain": [
       "num_tl_30dpd           acc_now_delinq           0.801332\n",
       "num_tl_90g_dpd_24m     delinq_2yrs              0.647111\n",
       "loan_amnt              installment              0.943714\n",
       "out_prncp              loan_amnt                0.528806\n",
       "total_acc              open_acc                 0.717384\n",
       "num_op_rev_tl          open_acc                 0.837492\n",
       "                       total_acc                0.580970\n",
       "num_rev_accts          open_acc                 0.671557\n",
       "                       total_acc                0.762076\n",
       "                       num_op_rev_tl            0.800991\n",
       "mo_sin_rcnt_rev_tl_op  mths_since_recent_bc     0.621043\n",
       "mo_sin_rcnt_tl         mo_sin_rcnt_rev_tl_op    0.586768\n",
       "Charged Off            recoveries               0.527696\n",
       "Current                out_prncp                0.661045\n",
       "Fully Paid             out_prncp               -0.560132\n",
       "                       Current                 -0.790068\n",
       "dtype: float64"
      ]
     },
     "execution_count": 129,
     "metadata": {},
     "output_type": "execute_result"
    }
   ],
   "source": [
    "#Correlation between 2 variables \n",
    "cor = Independent_Variable.corr()\n",
    "cor.loc[:,:] = np.tril(cor, k=-1) # below main lower triangle of an array\n",
    "cor = cor.stack()\n",
    "cor[(cor > 0.50) | (cor < -0.50)]"
   ]
  },
  {
   "cell_type": "code",
   "execution_count": 130,
   "metadata": {},
   "outputs": [
    {
     "data": {
      "text/html": [
       "<div>\n",
       "<style scoped>\n",
       "    .dataframe tbody tr th:only-of-type {\n",
       "        vertical-align: middle;\n",
       "    }\n",
       "\n",
       "    .dataframe tbody tr th {\n",
       "        vertical-align: top;\n",
       "    }\n",
       "\n",
       "    .dataframe thead th {\n",
       "        text-align: right;\n",
       "    }\n",
       "</style>\n",
       "<table border=\"1\" class=\"dataframe\">\n",
       "  <thead>\n",
       "    <tr style=\"text-align: right;\">\n",
       "      <th></th>\n",
       "      <th>installment</th>\n",
       "      <th>delinq_2yrs</th>\n",
       "      <th>acc_now_delinq</th>\n",
       "      <th>tot_coll_amt</th>\n",
       "      <th>chargeoff_within_12_mths</th>\n",
       "      <th>delinq_amnt</th>\n",
       "      <th>mths_since_recent_bc</th>\n",
       "      <th>num_accts_ever_120_pd</th>\n",
       "      <th>num_tl_120dpd_2m</th>\n",
       "      <th>num_tl_30dpd</th>\n",
       "      <th>...</th>\n",
       "      <th>num_rev_accts</th>\n",
       "      <th>mo_sin_rcnt_rev_tl_op</th>\n",
       "      <th>mo_sin_rcnt_tl</th>\n",
       "      <th>Charged Off</th>\n",
       "      <th>Current</th>\n",
       "      <th>Default</th>\n",
       "      <th>Fully Paid</th>\n",
       "      <th>In Grace Period</th>\n",
       "      <th>Late (16-30 days)</th>\n",
       "      <th>36 months</th>\n",
       "    </tr>\n",
       "  </thead>\n",
       "  <tbody>\n",
       "    <tr>\n",
       "      <th>installment</th>\n",
       "      <td>1.000000</td>\n",
       "      <td>-0.002257</td>\n",
       "      <td>-0.000005</td>\n",
       "      <td>-0.003904</td>\n",
       "      <td>-0.002593</td>\n",
       "      <td>0.001460</td>\n",
       "      <td>0.018251</td>\n",
       "      <td>-0.046942</td>\n",
       "      <td>-0.000794</td>\n",
       "      <td>0.001593</td>\n",
       "      <td>...</td>\n",
       "      <td>0.144111</td>\n",
       "      <td>0.038667</td>\n",
       "      <td>0.025910</td>\n",
       "      <td>0.019926</td>\n",
       "      <td>0.033778</td>\n",
       "      <td>-0.000084</td>\n",
       "      <td>-0.053483</td>\n",
       "      <td>0.017072</td>\n",
       "      <td>0.010053</td>\n",
       "      <td>-0.131719</td>\n",
       "    </tr>\n",
       "    <tr>\n",
       "      <th>delinq_2yrs</th>\n",
       "      <td>-0.002257</td>\n",
       "      <td>1.000000</td>\n",
       "      <td>0.111054</td>\n",
       "      <td>0.000174</td>\n",
       "      <td>0.144206</td>\n",
       "      <td>0.027605</td>\n",
       "      <td>0.055819</td>\n",
       "      <td>0.218783</td>\n",
       "      <td>0.041399</td>\n",
       "      <td>0.093154</td>\n",
       "      <td>...</td>\n",
       "      <td>0.073034</td>\n",
       "      <td>0.027660</td>\n",
       "      <td>0.027003</td>\n",
       "      <td>0.022531</td>\n",
       "      <td>-0.031145</td>\n",
       "      <td>-0.000466</td>\n",
       "      <td>0.015521</td>\n",
       "      <td>0.006933</td>\n",
       "      <td>0.004618</td>\n",
       "      <td>0.015983</td>\n",
       "    </tr>\n",
       "    <tr>\n",
       "      <th>acc_now_delinq</th>\n",
       "      <td>-0.000005</td>\n",
       "      <td>0.111054</td>\n",
       "      <td>1.000000</td>\n",
       "      <td>0.000028</td>\n",
       "      <td>0.038818</td>\n",
       "      <td>0.170478</td>\n",
       "      <td>0.007603</td>\n",
       "      <td>0.018993</td>\n",
       "      <td>0.389755</td>\n",
       "      <td>0.801332</td>\n",
       "      <td>...</td>\n",
       "      <td>0.023342</td>\n",
       "      <td>0.000668</td>\n",
       "      <td>0.001303</td>\n",
       "      <td>0.011222</td>\n",
       "      <td>-0.024535</td>\n",
       "      <td>-0.000228</td>\n",
       "      <td>0.018442</td>\n",
       "      <td>-0.000763</td>\n",
       "      <td>-0.000317</td>\n",
       "      <td>0.001450</td>\n",
       "    </tr>\n",
       "    <tr>\n",
       "      <th>tot_coll_amt</th>\n",
       "      <td>-0.003904</td>\n",
       "      <td>0.000174</td>\n",
       "      <td>0.000028</td>\n",
       "      <td>1.000000</td>\n",
       "      <td>0.001990</td>\n",
       "      <td>0.000403</td>\n",
       "      <td>-0.001928</td>\n",
       "      <td>0.028596</td>\n",
       "      <td>0.000485</td>\n",
       "      <td>-0.000466</td>\n",
       "      <td>...</td>\n",
       "      <td>0.005916</td>\n",
       "      <td>-0.004253</td>\n",
       "      <td>-0.003544</td>\n",
       "      <td>0.000733</td>\n",
       "      <td>-0.003106</td>\n",
       "      <td>0.000199</td>\n",
       "      <td>0.002693</td>\n",
       "      <td>-0.000074</td>\n",
       "      <td>0.000153</td>\n",
       "      <td>0.002660</td>\n",
       "    </tr>\n",
       "    <tr>\n",
       "      <th>chargeoff_within_12_mths</th>\n",
       "      <td>-0.002593</td>\n",
       "      <td>0.144206</td>\n",
       "      <td>0.038818</td>\n",
       "      <td>0.001990</td>\n",
       "      <td>1.000000</td>\n",
       "      <td>0.012784</td>\n",
       "      <td>0.007288</td>\n",
       "      <td>0.124928</td>\n",
       "      <td>0.035805</td>\n",
       "      <td>0.001151</td>\n",
       "      <td>...</td>\n",
       "      <td>0.038170</td>\n",
       "      <td>0.000074</td>\n",
       "      <td>0.001954</td>\n",
       "      <td>0.004995</td>\n",
       "      <td>-0.011255</td>\n",
       "      <td>0.000680</td>\n",
       "      <td>0.007743</td>\n",
       "      <td>0.000225</td>\n",
       "      <td>0.001554</td>\n",
       "      <td>0.004300</td>\n",
       "    </tr>\n",
       "  </tbody>\n",
       "</table>\n",
       "<p>5 rows × 33 columns</p>\n",
       "</div>"
      ],
      "text/plain": [
       "                          installment  delinq_2yrs  acc_now_delinq  \\\n",
       "installment                  1.000000    -0.002257       -0.000005   \n",
       "delinq_2yrs                 -0.002257     1.000000        0.111054   \n",
       "acc_now_delinq              -0.000005     0.111054        1.000000   \n",
       "tot_coll_amt                -0.003904     0.000174        0.000028   \n",
       "chargeoff_within_12_mths    -0.002593     0.144206        0.038818   \n",
       "\n",
       "                          tot_coll_amt  chargeoff_within_12_mths  delinq_amnt  \\\n",
       "installment                  -0.003904                 -0.002593     0.001460   \n",
       "delinq_2yrs                   0.000174                  0.144206     0.027605   \n",
       "acc_now_delinq                0.000028                  0.038818     0.170478   \n",
       "tot_coll_amt                  1.000000                  0.001990     0.000403   \n",
       "chargeoff_within_12_mths      0.001990                  1.000000     0.012784   \n",
       "\n",
       "                          mths_since_recent_bc  num_accts_ever_120_pd  \\\n",
       "installment                           0.018251              -0.046942   \n",
       "delinq_2yrs                           0.055819               0.218783   \n",
       "acc_now_delinq                        0.007603               0.018993   \n",
       "tot_coll_amt                         -0.001928               0.028596   \n",
       "chargeoff_within_12_mths              0.007288               0.124928   \n",
       "\n",
       "                          num_tl_120dpd_2m  num_tl_30dpd  ...  num_rev_accts  \\\n",
       "installment                      -0.000794      0.001593  ...       0.144111   \n",
       "delinq_2yrs                       0.041399      0.093154  ...       0.073034   \n",
       "acc_now_delinq                    0.389755      0.801332  ...       0.023342   \n",
       "tot_coll_amt                      0.000485     -0.000466  ...       0.005916   \n",
       "chargeoff_within_12_mths          0.035805      0.001151  ...       0.038170   \n",
       "\n",
       "                          mo_sin_rcnt_rev_tl_op  mo_sin_rcnt_tl  Charged Off  \\\n",
       "installment                            0.038667        0.025910     0.019926   \n",
       "delinq_2yrs                            0.027660        0.027003     0.022531   \n",
       "acc_now_delinq                         0.000668        0.001303     0.011222   \n",
       "tot_coll_amt                          -0.004253       -0.003544     0.000733   \n",
       "chargeoff_within_12_mths               0.000074        0.001954     0.004995   \n",
       "\n",
       "                           Current   Default  Fully Paid  In Grace Period  \\\n",
       "installment               0.033778 -0.000084   -0.053483         0.017072   \n",
       "delinq_2yrs              -0.031145 -0.000466    0.015521         0.006933   \n",
       "acc_now_delinq           -0.024535 -0.000228    0.018442        -0.000763   \n",
       "tot_coll_amt             -0.003106  0.000199    0.002693        -0.000074   \n",
       "chargeoff_within_12_mths -0.011255  0.000680    0.007743         0.000225   \n",
       "\n",
       "                          Late (16-30 days)   36 months  \n",
       "installment                        0.010053   -0.131719  \n",
       "delinq_2yrs                        0.004618    0.015983  \n",
       "acc_now_delinq                    -0.000317    0.001450  \n",
       "tot_coll_amt                       0.000153    0.002660  \n",
       "chargeoff_within_12_mths           0.001554    0.004300  \n",
       "\n",
       "[5 rows x 33 columns]"
      ]
     },
     "execution_count": 130,
     "metadata": {},
     "output_type": "execute_result"
    }
   ],
   "source": [
    "# method : {‘pearson’, ‘kendall’, ‘spearman’} or callable\n",
    "Correlation_Variables = Independent_Variable.corr(method='pearson')\n",
    "Correlation_Variables.head()"
   ]
  },
  {
   "cell_type": "code",
   "execution_count": 131,
   "metadata": {},
   "outputs": [
    {
     "data": {
      "text/plain": [
       "<matplotlib.axes._subplots.AxesSubplot at 0x27a3a861248>"
      ]
     },
     "execution_count": 131,
     "metadata": {},
     "output_type": "execute_result"
    },
    {
     "data": {
      "image/png": "[encoded data removed]",
      "text/plain": [
       "<Figure size 864x576 with 2 Axes>"
      ]
     },
     "metadata": {
      "needs_background": "light"
     },
     "output_type": "display_data"
    }
   ],
   "source": [
    "##coorelation metrix in graph \n",
    "sns.heatmap(Correlation_Variables) # Heat Map"
   ]
  },
  {
   "cell_type": "code",
   "execution_count": 132,
   "metadata": {},
   "outputs": [
    {
     "data": {
      "text/plain": [
       "<matplotlib.axes._subplots.AxesSubplot at 0x27a3a9ee208>"
      ]
     },
     "execution_count": 132,
     "metadata": {},
     "output_type": "execute_result"
    },
    {
     "data": {
      "image/png": "[encoded data removed]",
      "text/plain": [
       "<Figure size 864x576 with 2 Axes>"
      ]
     },
     "metadata": {
      "needs_background": "light"
     },
     "output_type": "display_data"
    }
   ],
   "source": [
    "# Removing Top Right Triangle\n",
    "mask = np.zeros_like(Correlation_Variables, dtype=np.bool)\n",
    "mask[np.triu_indices_from(mask)] = True\n",
    "#Colors\n",
    "cmap = sns.diverging_palette(240, 10, as_cmap=True)\n",
    "sns.heatmap(Correlation_Variables, mask=mask, linewidths=.15, cmap=cmap, center=0)"
   ]
  },
  {
   "cell_type": "code",
   "execution_count": 133,
   "metadata": {},
   "outputs": [],
   "source": [
    "#Drop Variables which are highly correlated\n",
    "Independent_Variable.drop(columns = ['num_tl_30dpd','installment','open_acc'], inplace = True)"
   ]
  },
  {
   "cell_type": "code",
   "execution_count": 134,
   "metadata": {},
   "outputs": [],
   "source": [
    "#Drop Variables which are highly correlated\n",
    "Independent_Variable.drop(columns = ['num_rev_accts'], inplace = True)"
   ]
  },
  {
   "cell_type": "code",
   "execution_count": 135,
   "metadata": {},
   "outputs": [
    {
     "data": {
      "text/plain": [
       "delinq_2yrs                -0.038210\n",
       "acc_now_delinq             -0.010428\n",
       "tot_coll_amt               -0.001442\n",
       "chargeoff_within_12_mths   -0.002433\n",
       "delinq_amnt                -0.003768\n",
       "mths_since_recent_bc        0.050966\n",
       "num_accts_ever_120_pd      -0.024886\n",
       "num_tl_120dpd_2m           -0.003587\n",
       "num_tl_90g_dpd_24m         -0.018676\n",
       "pub_rec_bankruptcies       -0.017025\n",
       "loan_amnt                   0.041775\n",
       "revol_bal                   0.042430\n",
       "revol_util                 -0.087842\n",
       "out_prncp                   0.195020\n",
       "recoveries                 -0.299822\n",
       "mo_sin_old_il_acct          0.034748\n",
       "mo_sin_old_rev_tl_op        0.072981\n",
       "total_acc                   0.021081\n",
       "mort_acc                    0.054166\n",
       "num_op_rev_tl               0.001307\n",
       "mo_sin_rcnt_rev_tl_op       0.059721\n",
       "mo_sin_rcnt_tl              0.055227\n",
       "Charged Off                -0.651950\n",
       "Current                     0.271688\n",
       "Default                    -0.007692\n",
       "Fully Paid                  0.147884\n",
       "In Grace Period            -0.003155\n",
       "Late (16-30 days)          -0.010348\n",
       " 36 months                  0.032768\n",
       "dtype: float64"
      ]
     },
     "execution_count": 135,
     "metadata": {},
     "output_type": "execute_result"
    }
   ],
   "source": [
    "#Correlation of Variables with Target Variable\n",
    "Independent_Variable.corrwith(Target_Variable, axis = 0)"
   ]
  },
  {
   "cell_type": "markdown",
   "metadata": {},
   "source": [
    "# Train-Test Split"
   ]
  },
  {
   "cell_type": "code",
   "execution_count": 136,
   "metadata": {},
   "outputs": [],
   "source": [
    "#Import Required Libraries\n",
    "from sklearn.model_selection import KFold\n",
    "from sklearn.linear_model import LogisticRegression\n",
    "from sklearn.model_selection import cross_val_predict\n",
    "from sklearn.ensemble import RandomForestClassifier\n",
    "from sklearn.model_selection import train_test_split\n",
    "from sklearn.tree import DecisionTreeClassifier\n",
    "from sklearn.metrics import accuracy_score, confusion_matrix, classification_report\n",
    "from sklearn import svm\n",
    "from sklearn.pipeline import Pipeline\n",
    "from sklearn.metrics import recall_score\n",
    "import statsmodels.api as sm\n",
    "from statsmodels.formula.api import ols\n",
    "from sklearn.decomposition import PCA\n",
    "import warnings\n",
    "\n",
    "import itertools\n",
    "\n",
    "from imblearn.over_sampling import SMOTE"
   ]
  },
  {
   "cell_type": "code",
   "execution_count": 137,
   "metadata": {},
   "outputs": [],
   "source": [
    "#split dataset into train and test \n",
    "X_train, X_test, y_train, y_test = train_test_split(Independent_Variable, Target_Variable, test_size=0.2, random_state=42)"
   ]
  },
  {
   "cell_type": "code",
   "execution_count": 138,
   "metadata": {},
   "outputs": [
    {
     "name": "stdout",
     "output_type": "stream",
     "text": [
      "(1909013, 29) (1909013,)\n",
      "(477254, 29) (477254,)\n"
     ]
    }
   ],
   "source": [
    "#print train & test data shape \n",
    "print (X_train.shape, y_train.shape)\n",
    "print (X_test.shape, y_test.shape)"
   ]
  },
  {
   "cell_type": "markdown",
   "metadata": {},
   "source": [
    "# Undersampling"
   ]
  },
  {
   "cell_type": "code",
   "execution_count": 139,
   "metadata": {},
   "outputs": [
    {
     "name": "stdout",
     "output_type": "stream",
     "text": [
      "Number of X_train data:  (1909013, 29)\n",
      "Number of y_train data:  (1909013,)\n",
      "Number of X_test data:  (477254, 29)\n",
      "Number of y_test data:  (477254,)\n"
     ]
    }
   ],
   "source": [
    "# describes info about train and test set \n",
    "print(\"Number of X_train data: \", X_train.shape) \n",
    "print(\"Number of y_train data: \", y_train.shape) \n",
    "print(\"Number of X_test data: \", X_test.shape) \n",
    "print(\"Number of y_test data: \", y_test.shape) "
   ]
  },
  {
   "cell_type": "code",
   "execution_count": 140,
   "metadata": {},
   "outputs": [
    {
     "name": "stdout",
     "output_type": "stream",
     "text": [
      "Before UnderSampling, counts of label '1': 1683232\n",
      "Before UnderSampling, counts of label '0': 225781 \n",
      "\n"
     ]
    }
   ],
   "source": [
    "#print before undersampling data \n",
    "print(\"Before UnderSampling, counts of label '1': {}\".format(sum(y_train == 1))) \n",
    "print(\"Before UnderSampling, counts of label '0': {} \\n\".format(sum(y_train == 0))) "
   ]
  },
  {
   "cell_type": "code",
   "execution_count": 141,
   "metadata": {},
   "outputs": [],
   "source": [
    "#import required libraries\n",
    "from imblearn.under_sampling import RandomUnderSampler"
   ]
  },
  {
   "cell_type": "code",
   "execution_count": 142,
   "metadata": {},
   "outputs": [],
   "source": [
    "##undersampling \n",
    "rus = RandomUnderSampler(random_state= 42)\n",
    "X_train_Undersample, y_train_Undersample = rus.fit_sample(X_train, y_train)"
   ]
  },
  {
   "cell_type": "code",
   "execution_count": 143,
   "metadata": {},
   "outputs": [
    {
     "name": "stdout",
     "output_type": "stream",
     "text": [
      "After Undersampling of data, the shape of train_X: (451562, 29)\n",
      "After Undersampling of data, the shape of train_y: (451562,) \n",
      "\n",
      "After Undersampling of data, counts of label '1': 225781\n",
      "After Undersampling of data, counts of label '0': 225781\n"
     ]
    }
   ],
   "source": [
    "#print data set after undersampling \n",
    "print('After Undersampling of data, the shape of train_X: {}'.format(X_train_Undersample.shape)) \n",
    "print('After Undersampling of data, the shape of train_y: {} \\n'.format(y_train_Undersample.shape)) \n",
    "  \n",
    "print(\"After Undersampling of data, counts of label '1': {}\".format(sum(y_train_Undersample == 1))) \n",
    "print(\"After Undersampling of data, counts of label '0': {}\".format(sum(y_train_Undersample == 0))) "
   ]
  },
  {
   "cell_type": "markdown",
   "metadata": {},
   "source": [
    "# Evaluation Metrics"
   ]
  },
  {
   "cell_type": "code",
   "execution_count": 144,
   "metadata": {},
   "outputs": [],
   "source": [
    "#Import Required Libraries\n",
    "from sklearn.metrics import roc_curve\n",
    "from sklearn.metrics import roc_auc_score\n",
    "from sklearn.naive_bayes import GaussianNB"
   ]
  },
  {
   "cell_type": "code",
   "execution_count": 145,
   "metadata": {},
   "outputs": [],
   "source": [
    "#Confusion Matrics\n",
    "def plot_confusion_matrix(cm, classes,\n",
    "                          normalize=False,\n",
    "                          title='Confusion matrix',\n",
    "                          cmap=plt.cm.Blues):\n",
    "    \n",
    "    if normalize:\n",
    "        cm = cm.astype('float') / cm.sum(axis=1)[:, np.newaxis]\n",
    "        print(\"Normalized confusion matrix\")\n",
    "    else:\n",
    "        print('Confusion matrix, without normalization')\n",
    "\n",
    "    print(cm)\n",
    "\n",
    "    plt.imshow(cm, interpolation='nearest', cmap=cmap)\n",
    "    plt.title(title)\n",
    "    plt.colorbar()\n",
    "    tick_marks = np.arange(len(classes))\n",
    "    plt.xticks(tick_marks, classes, rotation=45)\n",
    "    plt.yticks(tick_marks, classes)\n",
    "\n",
    "    thresh = cm.max() / 2.\n",
    "    for i, j in itertools.product(range(cm.shape[0]), range(cm.shape[1])):\n",
    "        plt.text(j, i, format(cm[i, j]),\n",
    "                 horizontalalignment=\"center\",\n",
    "                 color=\"white\" if cm[i, j] > thresh else \"black\")\n",
    "\n",
    "    plt.ylabel('True label')\n",
    "    plt.xlabel('Predicted label')\n",
    "    plt.tight_layout()"
   ]
  },
  {
   "cell_type": "code",
   "execution_count": 146,
   "metadata": {},
   "outputs": [],
   "source": [
    "def plot_roc_curve(fpr, tpr):\n",
    "    plt.plot(fpr, tpr, color='orange', label='ROC')\n",
    "    plt.plot([0, 1], [0, 1], color='darkblue', linestyle='--')\n",
    "    plt.xlabel('False Positive Rate')\n",
    "    plt.ylabel('True Positive Rate')\n",
    "    plt.title('Receiver Operating Characteristic (ROC) Curve')\n",
    "    plt.legend()\n",
    "    plt.show()"
   ]
  },
  {
   "cell_type": "markdown",
   "metadata": {},
   "source": [
    "# Classification Models"
   ]
  },
  {
   "cell_type": "markdown",
   "metadata": {},
   "source": [
    "# Decision Tree"
   ]
  },
  {
   "cell_type": "code",
   "execution_count": 147,
   "metadata": {},
   "outputs": [],
   "source": [
    "clf_tree = DecisionTreeClassifier()"
   ]
  },
  {
   "cell_type": "code",
   "execution_count": 148,
   "metadata": {},
   "outputs": [
    {
     "data": {
      "text/plain": [
       "DecisionTreeClassifier()"
      ]
     },
     "execution_count": 148,
     "metadata": {},
     "output_type": "execute_result"
    }
   ],
   "source": [
    "clf_tree.fit(X_train_Undersample, y_train_Undersample)"
   ]
  },
  {
   "cell_type": "code",
   "execution_count": 149,
   "metadata": {},
   "outputs": [],
   "source": [
    "y_pred_tree = clf_tree.predict_proba(X_test)[:,1]"
   ]
  },
  {
   "cell_type": "code",
   "execution_count": 150,
   "metadata": {},
   "outputs": [
    {
     "name": "stdout",
     "output_type": "stream",
     "text": [
      "              precision    recall  f1-score   support\n",
      "\n",
      "           0       0.29      0.76      0.42     56444\n",
      "           1       0.96      0.75      0.84    420810\n",
      "\n",
      "    accuracy                           0.76    477254\n",
      "   macro avg       0.63      0.76      0.63    477254\n",
      "weighted avg       0.88      0.76      0.79    477254\n",
      "\n"
     ]
    }
   ],
   "source": [
    "print(classification_report(y_test, y_pred_tree))"
   ]
  },
  {
   "cell_type": "code",
   "execution_count": 151,
   "metadata": {},
   "outputs": [
    {
     "name": "stdout",
     "output_type": "stream",
     "text": [
      "Confusion matrix, without normalization\n",
      "[[ 43049  13395]\n",
      " [103411 317399]]\n"
     ]
    },
    {
     "data": {
      "image/png": "[encoded data removed]",
      "text/plain": [
       "<Figure size 864x576 with 2 Axes>"
      ]
     },
     "metadata": {
      "needs_background": "light"
     },
     "output_type": "display_data"
    }
   ],
   "source": [
    "cnf_matrix = confusion_matrix(y_test, y_pred_tree)\n",
    "plot_confusion_matrix(cnf_matrix, classes=[0,1])"
   ]
  },
  {
   "cell_type": "code",
   "execution_count": 152,
   "metadata": {},
   "outputs": [],
   "source": [
    "# Creating true and false positive rates\n",
    "false_positive_rate_tree, true_positive_rate_tree, threshold_tree = roc_curve(y_test, y_pred_tree)"
   ]
  },
  {
   "cell_type": "code",
   "execution_count": 153,
   "metadata": {},
   "outputs": [
    {
     "name": "stdout",
     "output_type": "stream",
     "text": [
      "roc_auc_score for DecisionTree:  0.7584712025012267\n"
     ]
    }
   ],
   "source": [
    "print('roc_auc_score for DecisionTree: ', roc_auc_score(y_test, y_pred_tree))"
   ]
  },
  {
   "cell_type": "code",
   "execution_count": 154,
   "metadata": {},
   "outputs": [
    {
     "data": {
      "image/png": "[encoded data removed]",
      "text/plain": [
       "<Figure size 720x720 with 1 Axes>"
      ]
     },
     "metadata": {
      "needs_background": "light"
     },
     "output_type": "display_data"
    }
   ],
   "source": [
    "plt.subplots(1, figsize=(10,10))\n",
    "plt.title('Receiver Operating Characteristic - DecisionTree')\n",
    "plt.plot(false_positive_rate_tree, true_positive_rate_tree)\n",
    "plt.plot([0, 1], ls=\"--\")\n",
    "plt.plot([0, 0], [1, 0] , c=\".7\"), plt.plot([1, 1] , c=\".7\")\n",
    "plt.ylabel('True Positive Rate')\n",
    "plt.xlabel('False Positive Rate')\n",
    "plt.show()"
   ]
  },
  {
   "cell_type": "code",
   "execution_count": 155,
   "metadata": {},
   "outputs": [],
   "source": [
    "#Import Required Libraries\n",
    "from sklearn.datasets import make_classification\n",
    "from sklearn.model_selection import KFold\n",
    "from sklearn.model_selection import cross_val_score\n",
    "from sklearn.linear_model import LogisticRegression\n",
    "from numpy import mean\n",
    "from numpy import std"
   ]
  },
  {
   "cell_type": "code",
   "execution_count": 156,
   "metadata": {},
   "outputs": [],
   "source": [
    "cv = KFold(n_splits=10, random_state=1, shuffle=True)"
   ]
  },
  {
   "cell_type": "code",
   "execution_count": 157,
   "metadata": {},
   "outputs": [
    {
     "name": "stdout",
     "output_type": "stream",
     "text": [
      "Accuracy: 0.758 (0.002)\n"
     ]
    }
   ],
   "source": [
    "scores = cross_val_score(clf_tree, X_train_Undersample,y_train_Undersample, scoring='accuracy', cv=cv, n_jobs=-1)\n",
    "print('Accuracy: %.3f (%.3f)' % (mean(scores), std(scores)))"
   ]
  },
  {
   "cell_type": "markdown",
   "metadata": {},
   "source": [
    "# Logistic Regression"
   ]
  },
  {
   "cell_type": "code",
   "execution_count": 158,
   "metadata": {},
   "outputs": [],
   "source": [
    "clf_reg = LogisticRegression()"
   ]
  },
  {
   "cell_type": "code",
   "execution_count": 159,
   "metadata": {},
   "outputs": [
    {
     "name": "stderr",
     "output_type": "stream",
     "text": [
      "C:\\Users\\Nazmus\\anaconda3\\lib\\site-packages\\sklearn\\linear_model\\_logistic.py:764: ConvergenceWarning: lbfgs failed to converge (status=1):\n",
      "STOP: TOTAL NO. of ITERATIONS REACHED LIMIT.\n",
      "\n",
      "Increase the number of iterations (max_iter) or scale the data as shown in:\n",
      "    https://scikit-learn.org/stable/modules/preprocessing.html\n",
      "Please also refer to the documentation for alternative solver options:\n",
      "    https://scikit-learn.org/stable/modules/linear_model.html#logistic-regression\n",
      "  extra_warning_msg=_LOGISTIC_SOLVER_CONVERGENCE_MSG)\n"
     ]
    },
    {
     "data": {
      "text/plain": [
       "LogisticRegression()"
      ]
     },
     "execution_count": 159,
     "metadata": {},
     "output_type": "execute_result"
    }
   ],
   "source": [
    "clf_reg.fit(X_train_Undersample, y_train_Undersample)"
   ]
  },
  {
   "cell_type": "code",
   "execution_count": 160,
   "metadata": {},
   "outputs": [],
   "source": [
    "y_pred_reg = clf_reg.predict_proba(X_test)[:,1]"
   ]
  },
  {
   "cell_type": "code",
   "execution_count": 161,
   "metadata": {},
   "outputs": [
    {
     "name": "stdout",
     "output_type": "stream",
     "text": [
      "              precision    recall  f1-score   support\n",
      "\n",
      "           0       0.61      0.71      0.66     56444\n",
      "           1       0.96      0.94      0.95    420810\n",
      "\n",
      "    accuracy                           0.91    477254\n",
      "   macro avg       0.78      0.83      0.80    477254\n",
      "weighted avg       0.92      0.91      0.91    477254\n",
      "\n"
     ]
    }
   ],
   "source": [
    "print(classification_report(y_test, y_pred_reg.round())) "
   ]
  },
  {
   "cell_type": "code",
   "execution_count": 162,
   "metadata": {},
   "outputs": [
    {
     "name": "stdout",
     "output_type": "stream",
     "text": [
      "Confusion matrix, without normalization\n",
      "[[ 40347  16097]\n",
      " [ 25942 394868]]\n"
     ]
    },
    {
     "data": {
      "image/png": "[encoded data removed]",
      "text/plain": [
       "<Figure size 864x576 with 2 Axes>"
      ]
     },
     "metadata": {
      "needs_background": "light"
     },
     "output_type": "display_data"
    }
   ],
   "source": [
    "cnf_matrix = confusion_matrix(y_test, y_pred_reg.round())\n",
    "plot_confusion_matrix(cnf_matrix, classes=[0,1])"
   ]
  },
  {
   "cell_type": "code",
   "execution_count": 163,
   "metadata": {},
   "outputs": [],
   "source": [
    "# Creating true and false positive rates\n",
    "false_positive_rate_reg, true_positive_rate_reg, threshold_reg = roc_curve(y_test, y_pred_reg)"
   ]
  },
  {
   "cell_type": "code",
   "execution_count": 164,
   "metadata": {},
   "outputs": [
    {
     "name": "stdout",
     "output_type": "stream",
     "text": [
      "roc_auc_score for LogisticRegression:  0.8976443893261248\n"
     ]
    }
   ],
   "source": [
    "print('roc_auc_score for LogisticRegression: ', roc_auc_score(y_test, y_pred_reg))"
   ]
  },
  {
   "cell_type": "code",
   "execution_count": 165,
   "metadata": {},
   "outputs": [
    {
     "data": {
      "image/png": "[encoded data removed]",
      "text/plain": [
       "<Figure size 720x720 with 1 Axes>"
      ]
     },
     "metadata": {
      "needs_background": "light"
     },
     "output_type": "display_data"
    }
   ],
   "source": [
    "plt.subplots(1, figsize=(10,10))\n",
    "plt.title('Receiver Operating Characteristic - LogisticRegression')\n",
    "plt.plot(false_positive_rate_reg, true_positive_rate_reg)\n",
    "plt.plot([0, 1], ls=\"--\")\n",
    "plt.plot([0, 0], [1, 0] , c=\".7\"), plt.plot([1, 1] , c=\".7\")\n",
    "plt.ylabel('True Positive Rate')\n",
    "plt.xlabel('False Positive Rate')\n",
    "plt.show()"
   ]
  },
  {
   "cell_type": "code",
   "execution_count": 166,
   "metadata": {},
   "outputs": [
    {
     "name": "stdout",
     "output_type": "stream",
     "text": [
      "Accuracy: 0.825 (0.002)\n"
     ]
    }
   ],
   "source": [
    "scores = cross_val_score(clf_reg, X_train_Undersample,y_train_Undersample, scoring='accuracy', cv=cv, n_jobs=-1)\n",
    "print('Accuracy: %.3f (%.3f)' % (mean(scores), std(scores)))"
   ]
  },
  {
   "cell_type": "markdown",
   "metadata": {},
   "source": [
    "# Naive Bayes"
   ]
  },
  {
   "cell_type": "code",
   "execution_count": 167,
   "metadata": {},
   "outputs": [],
   "source": [
    "clf_NB = GaussianNB()"
   ]
  },
  {
   "cell_type": "code",
   "execution_count": 168,
   "metadata": {},
   "outputs": [
    {
     "data": {
      "text/plain": [
       "GaussianNB()"
      ]
     },
     "execution_count": 168,
     "metadata": {},
     "output_type": "execute_result"
    }
   ],
   "source": [
    "clf_NB.fit(X_train_Undersample, y_train_Undersample)"
   ]
  },
  {
   "cell_type": "code",
   "execution_count": 169,
   "metadata": {},
   "outputs": [],
   "source": [
    "y_pred_NB = clf_NB.predict_proba(X_test)[:,1]"
   ]
  },
  {
   "cell_type": "code",
   "execution_count": 170,
   "metadata": {},
   "outputs": [
    {
     "name": "stdout",
     "output_type": "stream",
     "text": [
      "              precision    recall  f1-score   support\n",
      "\n",
      "           0       0.64      0.65      0.65     56444\n",
      "           1       0.95      0.95      0.95    420810\n",
      "\n",
      "    accuracy                           0.92    477254\n",
      "   macro avg       0.80      0.80      0.80    477254\n",
      "weighted avg       0.92      0.92      0.92    477254\n",
      "\n"
     ]
    }
   ],
   "source": [
    "print(classification_report(y_test, y_pred_NB.round())) "
   ]
  },
  {
   "cell_type": "code",
   "execution_count": 171,
   "metadata": {},
   "outputs": [
    {
     "name": "stdout",
     "output_type": "stream",
     "text": [
      "Confusion matrix, without normalization\n",
      "[[ 36748  19696]\n",
      " [ 20375 400435]]\n"
     ]
    },
    {
     "data": {
      "image/png": "[encoded data removed]",
      "text/plain": [
       "<Figure size 864x576 with 2 Axes>"
      ]
     },
     "metadata": {
      "needs_background": "light"
     },
     "output_type": "display_data"
    }
   ],
   "source": [
    "cnf_matrix = confusion_matrix(y_test, y_pred_NB.round())\n",
    "plot_confusion_matrix(cnf_matrix, classes=[0,1])"
   ]
  },
  {
   "cell_type": "code",
   "execution_count": 172,
   "metadata": {},
   "outputs": [],
   "source": [
    "# Creating true and false positive rates\n",
    "false_positive_rate_NB, true_positive_rate_NB, threshold_NB = roc_curve(y_test, y_pred_NB)"
   ]
  },
  {
   "cell_type": "code",
   "execution_count": 173,
   "metadata": {},
   "outputs": [
    {
     "name": "stdout",
     "output_type": "stream",
     "text": [
      "roc_auc_score for Naive Bayes:  0.8609386278087042\n"
     ]
    }
   ],
   "source": [
    "print('roc_auc_score for Naive Bayes: ', roc_auc_score(y_test, y_pred_NB))"
   ]
  },
  {
   "cell_type": "code",
   "execution_count": 174,
   "metadata": {},
   "outputs": [
    {
     "data": {
      "image/png": "[encoded data removed]",
      "text/plain": [
       "<Figure size 720x720 with 1 Axes>"
      ]
     },
     "metadata": {
      "needs_background": "light"
     },
     "output_type": "display_data"
    }
   ],
   "source": [
    "plt.subplots(1, figsize=(10,10))\n",
    "plt.title('Receiver Operating Characteristic - Naive Bayes')\n",
    "plt.plot(false_positive_rate_NB, true_positive_rate_NB)\n",
    "plt.plot([0, 1], ls=\"--\")\n",
    "plt.plot([0, 0], [1, 0] , c=\".7\"), plt.plot([1, 1] , c=\".7\")\n",
    "plt.ylabel('True Positive Rate')\n",
    "plt.xlabel('False Positive Rate')\n",
    "plt.show()"
   ]
  },
  {
   "cell_type": "code",
   "execution_count": 175,
   "metadata": {},
   "outputs": [
    {
     "name": "stdout",
     "output_type": "stream",
     "text": [
      "Accuracy: 0.800 (0.002)\n"
     ]
    }
   ],
   "source": [
    "scores = cross_val_score(clf_NB, X_train_Undersample,y_train_Undersample, scoring='accuracy', cv=cv, n_jobs=-1)\n",
    "print('Accuracy: %.3f (%.3f)' % (mean(scores), std(scores)))"
   ]
  },
  {
   "cell_type": "markdown",
   "metadata": {},
   "source": [
    "# RandomForestClassifier"
   ]
  },
  {
   "cell_type": "code",
   "execution_count": 176,
   "metadata": {},
   "outputs": [],
   "source": [
    "clf_rf = RandomForestClassifier()"
   ]
  },
  {
   "cell_type": "code",
   "execution_count": 177,
   "metadata": {},
   "outputs": [
    {
     "data": {
      "text/plain": [
       "RandomForestClassifier()"
      ]
     },
     "execution_count": 177,
     "metadata": {},
     "output_type": "execute_result"
    }
   ],
   "source": [
    "clf_rf.fit(X_train_Undersample, y_train_Undersample)"
   ]
  },
  {
   "cell_type": "code",
   "execution_count": 178,
   "metadata": {},
   "outputs": [],
   "source": [
    "y_pred_rf = clf_rf.predict_proba(X_test)[:,1]"
   ]
  },
  {
   "cell_type": "code",
   "execution_count": 179,
   "metadata": {},
   "outputs": [
    {
     "name": "stdout",
     "output_type": "stream",
     "text": [
      "              precision    recall  f1-score   support\n",
      "\n",
      "           0       0.53      0.75      0.62     56444\n",
      "           1       0.96      0.91      0.94    420810\n",
      "\n",
      "    accuracy                           0.89    477254\n",
      "   macro avg       0.75      0.83      0.78    477254\n",
      "weighted avg       0.91      0.89      0.90    477254\n",
      "\n"
     ]
    }
   ],
   "source": [
    "print(classification_report(y_test, y_pred_rf.round())) "
   ]
  },
  {
   "cell_type": "code",
   "execution_count": 180,
   "metadata": {},
   "outputs": [
    {
     "name": "stdout",
     "output_type": "stream",
     "text": [
      "Confusion matrix, without normalization\n",
      "[[ 42220  14224]\n",
      " [ 37379 383431]]\n"
     ]
    },
    {
     "data": {
      "image/png": "[encoded data removed]",
      "text/plain": [
       "<Figure size 864x576 with 2 Axes>"
      ]
     },
     "metadata": {
      "needs_background": "light"
     },
     "output_type": "display_data"
    }
   ],
   "source": [
    "cnf_matrix = confusion_matrix(y_test, y_pred_rf.round())\n",
    "plot_confusion_matrix(cnf_matrix, classes=[0,1])"
   ]
  },
  {
   "cell_type": "code",
   "execution_count": 181,
   "metadata": {},
   "outputs": [],
   "source": [
    "# Creating true and false positive rates\n",
    "false_positive_rate_rf, true_positive_rate_rf, threshold_rf = roc_curve(y_test, y_pred_rf)"
   ]
  },
  {
   "cell_type": "code",
   "execution_count": 182,
   "metadata": {},
   "outputs": [
    {
     "name": "stdout",
     "output_type": "stream",
     "text": [
      "roc_auc_score for RandomForestClassifier:  0.9047524095540987\n"
     ]
    }
   ],
   "source": [
    "print('roc_auc_score for RandomForestClassifier: ', roc_auc_score(y_test, y_pred_rf))"
   ]
  },
  {
   "cell_type": "code",
   "execution_count": 183,
   "metadata": {},
   "outputs": [
    {
     "data": {
      "image/png": "[encoded data removed]",
      "text/plain": [
       "<Figure size 720x720 with 1 Axes>"
      ]
     },
     "metadata": {
      "needs_background": "light"
     },
     "output_type": "display_data"
    }
   ],
   "source": [
    "plt.subplots(1, figsize=(10,10))\n",
    "plt.title('Receiver Operating Characteristic - RandomForestClassifier')\n",
    "plt.plot(false_positive_rate_rf, true_positive_rate_rf)\n",
    "plt.plot([0, 1], ls=\"--\")\n",
    "plt.plot([0, 0], [1, 0] , c=\".7\"), plt.plot([1, 1] , c=\".7\")\n",
    "plt.ylabel('True Positive Rate')\n",
    "plt.xlabel('False Positive Rate')\n",
    "plt.show()"
   ]
  },
  {
   "cell_type": "code",
   "execution_count": 184,
   "metadata": {},
   "outputs": [
    {
     "name": "stdout",
     "output_type": "stream",
     "text": [
      "Accuracy: 0.828 (0.002)\n"
     ]
    }
   ],
   "source": [
    "scores = cross_val_score(clf_rf, X_train_Undersample,y_train_Undersample, scoring='accuracy', cv=cv, n_jobs=-1)\n",
    "print('Accuracy: %.3f (%.3f)' % (mean(scores), std(scores)))"
   ]
  }
 ],
 "metadata": {
  "kernelspec": {
   "display_name": "Python 3",
   "language": "python",
   "name": "python3"
  },
  "language_info": {
   "codemirror_mode": {
    "name": "ipython",
    "version": 3
   },
   "file_extension": ".py",
   "mimetype": "text/x-python",
   "name": "python",
   "nbconvert_exporter": "python",
   "pygments_lexer": "ipython3",
   "version": "3.7.7"
  }
 },
 "nbformat": 4,
 "nbformat_minor": 4
}
