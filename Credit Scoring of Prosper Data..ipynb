{
 "cells": [
  {
   "cell_type": "code",
   "execution_count": 1,
   "metadata": {},
   "outputs": [],
   "source": [
    "#Import Libraries\n",
    "\n",
    "import pandas as pd\n",
    "import numpy as np\n",
    "import matplotlib.pyplot as plt\n",
    "import matplotlib\n",
    "import seaborn as sns\n",
    "%matplotlib inline\n",
    "plt.rcParams['figure.figsize'] = (12,8)\n",
    "\n",
    "from datetime import datetime\n",
    "from dateutil.parser import parse"
   ]
  },
  {
   "cell_type": "markdown",
   "metadata": {},
   "source": [
    "# Data Pre-Processing"
   ]
  },
  {
   "cell_type": "code",
   "execution_count": 2,
   "metadata": {},
   "outputs": [],
   "source": [
    "# import Prosper data for analysis \n",
    "LC_Data = pd.read_csv('prosperLoanData.csv', low_memory=False)"
   ]
  },
  {
   "cell_type": "code",
   "execution_count": 3,
   "metadata": {},
   "outputs": [
    {
     "name": "stdout",
     "output_type": "stream",
     "text": [
      "(113937, 81)\n"
     ]
    }
   ],
   "source": [
    "#print data shape\n",
    "print(LC_Data.shape)"
   ]
  },
  {
   "cell_type": "code",
   "execution_count": 4,
   "metadata": {},
   "outputs": [
    {
     "data": {
      "text/html": [
       "<div>\n",
       "<style scoped>\n",
       "    .dataframe tbody tr th:only-of-type {\n",
       "        vertical-align: middle;\n",
       "    }\n",
       "\n",
       "    .dataframe tbody tr th {\n",
       "        vertical-align: top;\n",
       "    }\n",
       "\n",
       "    .dataframe thead th {\n",
       "        text-align: right;\n",
       "    }\n",
       "</style>\n",
       "<table border=\"1\" class=\"dataframe\">\n",
       "  <thead>\n",
       "    <tr style=\"text-align: right;\">\n",
       "      <th></th>\n",
       "      <th>ListingKey</th>\n",
       "      <th>ListingNumber</th>\n",
       "      <th>ListingCreationDate</th>\n",
       "      <th>CreditGrade</th>\n",
       "      <th>Term</th>\n",
       "      <th>LoanStatus</th>\n",
       "      <th>ClosedDate</th>\n",
       "      <th>BorrowerAPR</th>\n",
       "      <th>BorrowerRate</th>\n",
       "      <th>LenderYield</th>\n",
       "      <th>...</th>\n",
       "      <th>LP_ServiceFees</th>\n",
       "      <th>LP_CollectionFees</th>\n",
       "      <th>LP_GrossPrincipalLoss</th>\n",
       "      <th>LP_NetPrincipalLoss</th>\n",
       "      <th>LP_NonPrincipalRecoverypayments</th>\n",
       "      <th>PercentFunded</th>\n",
       "      <th>Recommendations</th>\n",
       "      <th>InvestmentFromFriendsCount</th>\n",
       "      <th>InvestmentFromFriendsAmount</th>\n",
       "      <th>Investors</th>\n",
       "    </tr>\n",
       "  </thead>\n",
       "  <tbody>\n",
       "    <tr>\n",
       "      <th>0</th>\n",
       "      <td>1021339766868145413AB3B</td>\n",
       "      <td>193129</td>\n",
       "      <td>2007-08-26 19:09:29.263000000</td>\n",
       "      <td>C</td>\n",
       "      <td>36</td>\n",
       "      <td>Completed</td>\n",
       "      <td>2009-08-14 00:00:00</td>\n",
       "      <td>0.16516</td>\n",
       "      <td>0.1580</td>\n",
       "      <td>0.1380</td>\n",
       "      <td>...</td>\n",
       "      <td>-133.18</td>\n",
       "      <td>0.0</td>\n",
       "      <td>0.0</td>\n",
       "      <td>0.0</td>\n",
       "      <td>0.0</td>\n",
       "      <td>1.0</td>\n",
       "      <td>0</td>\n",
       "      <td>0</td>\n",
       "      <td>0.0</td>\n",
       "      <td>258</td>\n",
       "    </tr>\n",
       "    <tr>\n",
       "      <th>1</th>\n",
       "      <td>10273602499503308B223C1</td>\n",
       "      <td>1209647</td>\n",
       "      <td>2014-02-27 08:28:07.900000000</td>\n",
       "      <td>NaN</td>\n",
       "      <td>36</td>\n",
       "      <td>Current</td>\n",
       "      <td>NaN</td>\n",
       "      <td>0.12016</td>\n",
       "      <td>0.0920</td>\n",
       "      <td>0.0820</td>\n",
       "      <td>...</td>\n",
       "      <td>0.00</td>\n",
       "      <td>0.0</td>\n",
       "      <td>0.0</td>\n",
       "      <td>0.0</td>\n",
       "      <td>0.0</td>\n",
       "      <td>1.0</td>\n",
       "      <td>0</td>\n",
       "      <td>0</td>\n",
       "      <td>0.0</td>\n",
       "      <td>1</td>\n",
       "    </tr>\n",
       "    <tr>\n",
       "      <th>2</th>\n",
       "      <td>0EE9337825851032864889A</td>\n",
       "      <td>81716</td>\n",
       "      <td>2007-01-05 15:00:47.090000000</td>\n",
       "      <td>HR</td>\n",
       "      <td>36</td>\n",
       "      <td>Completed</td>\n",
       "      <td>2009-12-17 00:00:00</td>\n",
       "      <td>0.28269</td>\n",
       "      <td>0.2750</td>\n",
       "      <td>0.2400</td>\n",
       "      <td>...</td>\n",
       "      <td>-24.20</td>\n",
       "      <td>0.0</td>\n",
       "      <td>0.0</td>\n",
       "      <td>0.0</td>\n",
       "      <td>0.0</td>\n",
       "      <td>1.0</td>\n",
       "      <td>0</td>\n",
       "      <td>0</td>\n",
       "      <td>0.0</td>\n",
       "      <td>41</td>\n",
       "    </tr>\n",
       "    <tr>\n",
       "      <th>3</th>\n",
       "      <td>0EF5356002482715299901A</td>\n",
       "      <td>658116</td>\n",
       "      <td>2012-10-22 11:02:35.010000000</td>\n",
       "      <td>NaN</td>\n",
       "      <td>36</td>\n",
       "      <td>Current</td>\n",
       "      <td>NaN</td>\n",
       "      <td>0.12528</td>\n",
       "      <td>0.0974</td>\n",
       "      <td>0.0874</td>\n",
       "      <td>...</td>\n",
       "      <td>-108.01</td>\n",
       "      <td>0.0</td>\n",
       "      <td>0.0</td>\n",
       "      <td>0.0</td>\n",
       "      <td>0.0</td>\n",
       "      <td>1.0</td>\n",
       "      <td>0</td>\n",
       "      <td>0</td>\n",
       "      <td>0.0</td>\n",
       "      <td>158</td>\n",
       "    </tr>\n",
       "    <tr>\n",
       "      <th>4</th>\n",
       "      <td>0F023589499656230C5E3E2</td>\n",
       "      <td>909464</td>\n",
       "      <td>2013-09-14 18:38:39.097000000</td>\n",
       "      <td>NaN</td>\n",
       "      <td>36</td>\n",
       "      <td>Current</td>\n",
       "      <td>NaN</td>\n",
       "      <td>0.24614</td>\n",
       "      <td>0.2085</td>\n",
       "      <td>0.1985</td>\n",
       "      <td>...</td>\n",
       "      <td>-60.27</td>\n",
       "      <td>0.0</td>\n",
       "      <td>0.0</td>\n",
       "      <td>0.0</td>\n",
       "      <td>0.0</td>\n",
       "      <td>1.0</td>\n",
       "      <td>0</td>\n",
       "      <td>0</td>\n",
       "      <td>0.0</td>\n",
       "      <td>20</td>\n",
       "    </tr>\n",
       "  </tbody>\n",
       "</table>\n",
       "<p>5 rows × 81 columns</p>\n",
       "</div>"
      ],
      "text/plain": [
       "                ListingKey  ListingNumber            ListingCreationDate  \\\n",
       "0  1021339766868145413AB3B         193129  2007-08-26 19:09:29.263000000   \n",
       "1  10273602499503308B223C1        1209647  2014-02-27 08:28:07.900000000   \n",
       "2  0EE9337825851032864889A          81716  2007-01-05 15:00:47.090000000   \n",
       "3  0EF5356002482715299901A         658116  2012-10-22 11:02:35.010000000   \n",
       "4  0F023589499656230C5E3E2         909464  2013-09-14 18:38:39.097000000   \n",
       "\n",
       "  CreditGrade  Term LoanStatus           ClosedDate  BorrowerAPR  \\\n",
       "0           C    36  Completed  2009-08-14 00:00:00      0.16516   \n",
       "1         NaN    36    Current                  NaN      0.12016   \n",
       "2          HR    36  Completed  2009-12-17 00:00:00      0.28269   \n",
       "3         NaN    36    Current                  NaN      0.12528   \n",
       "4         NaN    36    Current                  NaN      0.24614   \n",
       "\n",
       "   BorrowerRate  LenderYield  ...  LP_ServiceFees  LP_CollectionFees  \\\n",
       "0        0.1580       0.1380  ...         -133.18                0.0   \n",
       "1        0.0920       0.0820  ...            0.00                0.0   \n",
       "2        0.2750       0.2400  ...          -24.20                0.0   \n",
       "3        0.0974       0.0874  ...         -108.01                0.0   \n",
       "4        0.2085       0.1985  ...          -60.27                0.0   \n",
       "\n",
       "   LP_GrossPrincipalLoss  LP_NetPrincipalLoss LP_NonPrincipalRecoverypayments  \\\n",
       "0                    0.0                  0.0                             0.0   \n",
       "1                    0.0                  0.0                             0.0   \n",
       "2                    0.0                  0.0                             0.0   \n",
       "3                    0.0                  0.0                             0.0   \n",
       "4                    0.0                  0.0                             0.0   \n",
       "\n",
       "   PercentFunded  Recommendations InvestmentFromFriendsCount  \\\n",
       "0            1.0                0                          0   \n",
       "1            1.0                0                          0   \n",
       "2            1.0                0                          0   \n",
       "3            1.0                0                          0   \n",
       "4            1.0                0                          0   \n",
       "\n",
       "  InvestmentFromFriendsAmount Investors  \n",
       "0                         0.0       258  \n",
       "1                         0.0         1  \n",
       "2                         0.0        41  \n",
       "3                         0.0       158  \n",
       "4                         0.0        20  \n",
       "\n",
       "[5 rows x 81 columns]"
      ]
     },
     "execution_count": 4,
     "metadata": {},
     "output_type": "execute_result"
    }
   ],
   "source": [
    "#print data head\n",
    "LC_Data.head()"
   ]
  },
  {
   "cell_type": "code",
   "execution_count": 5,
   "metadata": {},
   "outputs": [
    {
     "data": {
      "text/plain": [
       "['ListingKey',\n",
       " 'ListingNumber',\n",
       " 'ListingCreationDate',\n",
       " 'CreditGrade',\n",
       " 'Term',\n",
       " 'LoanStatus',\n",
       " 'ClosedDate',\n",
       " 'BorrowerAPR',\n",
       " 'BorrowerRate',\n",
       " 'LenderYield',\n",
       " 'EstimatedEffectiveYield',\n",
       " 'EstimatedLoss',\n",
       " 'EstimatedReturn',\n",
       " 'ProsperRating (numeric)',\n",
       " 'ProsperRating (Alpha)',\n",
       " 'ProsperScore',\n",
       " 'ListingCategory (numeric)',\n",
       " 'BorrowerState',\n",
       " 'Occupation',\n",
       " 'EmploymentStatus',\n",
       " 'EmploymentStatusDuration',\n",
       " 'IsBorrowerHomeowner',\n",
       " 'CurrentlyInGroup',\n",
       " 'GroupKey',\n",
       " 'DateCreditPulled',\n",
       " 'CreditScoreRangeLower',\n",
       " 'CreditScoreRangeUpper',\n",
       " 'FirstRecordedCreditLine',\n",
       " 'CurrentCreditLines',\n",
       " 'OpenCreditLines',\n",
       " 'TotalCreditLinespast7years',\n",
       " 'OpenRevolvingAccounts',\n",
       " 'OpenRevolvingMonthlyPayment',\n",
       " 'InquiriesLast6Months',\n",
       " 'TotalInquiries',\n",
       " 'CurrentDelinquencies',\n",
       " 'AmountDelinquent',\n",
       " 'DelinquenciesLast7Years',\n",
       " 'PublicRecordsLast10Years',\n",
       " 'PublicRecordsLast12Months',\n",
       " 'RevolvingCreditBalance',\n",
       " 'BankcardUtilization',\n",
       " 'AvailableBankcardCredit',\n",
       " 'TotalTrades',\n",
       " 'TradesNeverDelinquent (percentage)',\n",
       " 'TradesOpenedLast6Months',\n",
       " 'DebtToIncomeRatio',\n",
       " 'IncomeRange',\n",
       " 'IncomeVerifiable',\n",
       " 'StatedMonthlyIncome',\n",
       " 'LoanKey',\n",
       " 'TotalProsperLoans',\n",
       " 'TotalProsperPaymentsBilled',\n",
       " 'OnTimeProsperPayments',\n",
       " 'ProsperPaymentsLessThanOneMonthLate',\n",
       " 'ProsperPaymentsOneMonthPlusLate',\n",
       " 'ProsperPrincipalBorrowed',\n",
       " 'ProsperPrincipalOutstanding',\n",
       " 'ScorexChangeAtTimeOfListing',\n",
       " 'LoanCurrentDaysDelinquent',\n",
       " 'LoanFirstDefaultedCycleNumber',\n",
       " 'LoanMonthsSinceOrigination',\n",
       " 'LoanNumber',\n",
       " 'LoanOriginalAmount',\n",
       " 'LoanOriginationDate',\n",
       " 'LoanOriginationQuarter',\n",
       " 'MemberKey',\n",
       " 'MonthlyLoanPayment',\n",
       " 'LP_CustomerPayments',\n",
       " 'LP_CustomerPrincipalPayments',\n",
       " 'LP_InterestandFees',\n",
       " 'LP_ServiceFees',\n",
       " 'LP_CollectionFees',\n",
       " 'LP_GrossPrincipalLoss',\n",
       " 'LP_NetPrincipalLoss',\n",
       " 'LP_NonPrincipalRecoverypayments',\n",
       " 'PercentFunded',\n",
       " 'Recommendations',\n",
       " 'InvestmentFromFriendsCount',\n",
       " 'InvestmentFromFriendsAmount',\n",
       " 'Investors']"
      ]
     },
     "execution_count": 5,
     "metadata": {},
     "output_type": "execute_result"
    }
   ],
   "source": [
    "#print total column list \n",
    "LC_Data.columns.tolist()"
   ]
  },
  {
   "cell_type": "code",
   "execution_count": 6,
   "metadata": {},
   "outputs": [],
   "source": [
    "#import data dictionary\n",
    "LC_Data_Dictionary = pd.read_csv('Prosper Loan Data - Variable Definitions.csv',encoding= 'unicode_escape')"
   ]
  },
  {
   "cell_type": "code",
   "execution_count": 7,
   "metadata": {},
   "outputs": [
    {
     "name": "stdout",
     "output_type": "stream",
     "text": [
      "(81, 2)\n"
     ]
    }
   ],
   "source": [
    "#print data shape\n",
    "print(LC_Data_Dictionary.shape)"
   ]
  },
  {
   "cell_type": "code",
   "execution_count": 8,
   "metadata": {},
   "outputs": [
    {
     "data": {
      "text/html": [
       "<div>\n",
       "<style scoped>\n",
       "    .dataframe tbody tr th:only-of-type {\n",
       "        vertical-align: middle;\n",
       "    }\n",
       "\n",
       "    .dataframe tbody tr th {\n",
       "        vertical-align: top;\n",
       "    }\n",
       "\n",
       "    .dataframe thead th {\n",
       "        text-align: right;\n",
       "    }\n",
       "</style>\n",
       "<table border=\"1\" class=\"dataframe\">\n",
       "  <thead>\n",
       "    <tr style=\"text-align: right;\">\n",
       "      <th></th>\n",
       "      <th>Variable</th>\n",
       "      <th>Description</th>\n",
       "    </tr>\n",
       "  </thead>\n",
       "  <tbody>\n",
       "    <tr>\n",
       "      <th>0</th>\n",
       "      <td>ListingKey</td>\n",
       "      <td>Unique key for each listing, same value as the...</td>\n",
       "    </tr>\n",
       "    <tr>\n",
       "      <th>1</th>\n",
       "      <td>ListingNumber</td>\n",
       "      <td>The number that uniquely identifies the listin...</td>\n",
       "    </tr>\n",
       "    <tr>\n",
       "      <th>2</th>\n",
       "      <td>ListingCreationDate</td>\n",
       "      <td>The date the listing was created.</td>\n",
       "    </tr>\n",
       "    <tr>\n",
       "      <th>3</th>\n",
       "      <td>CreditGrade</td>\n",
       "      <td>The Credit rating that was assigned at the tim...</td>\n",
       "    </tr>\n",
       "    <tr>\n",
       "      <th>4</th>\n",
       "      <td>Term</td>\n",
       "      <td>The length of the loan expressed in months.</td>\n",
       "    </tr>\n",
       "  </tbody>\n",
       "</table>\n",
       "</div>"
      ],
      "text/plain": [
       "              Variable                                        Description\n",
       "0           ListingKey  Unique key for each listing, same value as the...\n",
       "1        ListingNumber  The number that uniquely identifies the listin...\n",
       "2  ListingCreationDate                  The date the listing was created.\n",
       "3          CreditGrade  The Credit rating that was assigned at the tim...\n",
       "4                 Term        The length of the loan expressed in months."
      ]
     },
     "execution_count": 8,
     "metadata": {},
     "output_type": "execute_result"
    }
   ],
   "source": [
    "#print data head\n",
    "LC_Data_Dictionary.head()"
   ]
  },
  {
   "cell_type": "code",
   "execution_count": 9,
   "metadata": {},
   "outputs": [],
   "source": [
    "#keep column which has less then 50% null value\n",
    "LC_Data_Dictionary_Update = LC_Data_Dictionary.loc[:, LC_Data_Dictionary.isnull().sum() < 0.5*LC_Data_Dictionary.shape[0]]"
   ]
  },
  {
   "cell_type": "code",
   "execution_count": 10,
   "metadata": {},
   "outputs": [
    {
     "name": "stdout",
     "output_type": "stream",
     "text": [
      "(81, 2)\n"
     ]
    }
   ],
   "source": [
    "#print data dictionary shape\n",
    "print(LC_Data_Dictionary_Update.shape)"
   ]
  },
  {
   "cell_type": "code",
   "execution_count": 11,
   "metadata": {},
   "outputs": [
    {
     "data": {
      "text/html": [
       "<div>\n",
       "<style scoped>\n",
       "    .dataframe tbody tr th:only-of-type {\n",
       "        vertical-align: middle;\n",
       "    }\n",
       "\n",
       "    .dataframe tbody tr th {\n",
       "        vertical-align: top;\n",
       "    }\n",
       "\n",
       "    .dataframe thead th {\n",
       "        text-align: right;\n",
       "    }\n",
       "</style>\n",
       "<table border=\"1\" class=\"dataframe\">\n",
       "  <thead>\n",
       "    <tr style=\"text-align: right;\">\n",
       "      <th></th>\n",
       "      <th>Variable</th>\n",
       "      <th>Description</th>\n",
       "    </tr>\n",
       "  </thead>\n",
       "  <tbody>\n",
       "    <tr>\n",
       "      <th>0</th>\n",
       "      <td>ListingKey</td>\n",
       "      <td>Unique key for each listing, same value as the...</td>\n",
       "    </tr>\n",
       "    <tr>\n",
       "      <th>1</th>\n",
       "      <td>ListingNumber</td>\n",
       "      <td>The number that uniquely identifies the listin...</td>\n",
       "    </tr>\n",
       "    <tr>\n",
       "      <th>2</th>\n",
       "      <td>ListingCreationDate</td>\n",
       "      <td>The date the listing was created.</td>\n",
       "    </tr>\n",
       "    <tr>\n",
       "      <th>3</th>\n",
       "      <td>CreditGrade</td>\n",
       "      <td>The Credit rating that was assigned at the tim...</td>\n",
       "    </tr>\n",
       "    <tr>\n",
       "      <th>4</th>\n",
       "      <td>Term</td>\n",
       "      <td>The length of the loan expressed in months.</td>\n",
       "    </tr>\n",
       "  </tbody>\n",
       "</table>\n",
       "</div>"
      ],
      "text/plain": [
       "              Variable                                        Description\n",
       "0           ListingKey  Unique key for each listing, same value as the...\n",
       "1        ListingNumber  The number that uniquely identifies the listin...\n",
       "2  ListingCreationDate                  The date the listing was created.\n",
       "3          CreditGrade  The Credit rating that was assigned at the tim...\n",
       "4                 Term        The length of the loan expressed in months."
      ]
     },
     "execution_count": 11,
     "metadata": {},
     "output_type": "execute_result"
    }
   ],
   "source": [
    "#print data dictionary head after removing null column \n",
    "LC_Data_Dictionary_Update.head()"
   ]
  },
  {
   "cell_type": "code",
   "execution_count": 12,
   "metadata": {},
   "outputs": [
    {
     "name": "stdout",
     "output_type": "stream",
     "text": [
      "['Variable', 'Description']\n"
     ]
    }
   ],
   "source": [
    "##print number of column name\n",
    "print(LC_Data_Dictionary_Update.columns.tolist())"
   ]
  },
  {
   "cell_type": "code",
   "execution_count": 13,
   "metadata": {},
   "outputs": [],
   "source": [
    "#rename data dectionary\n",
    "LC_Data_Dictionary_Update = LC_Data_Dictionary_Update.rename(columns={'Variable': 'Variable Name', 'Description': 'Description'})"
   ]
  },
  {
   "cell_type": "code",
   "execution_count": 14,
   "metadata": {},
   "outputs": [
    {
     "data": {
      "text/plain": [
       "ListingKey                         0\n",
       "ListingNumber                      0\n",
       "ListingCreationDate                0\n",
       "CreditGrade                    84984\n",
       "Term                               0\n",
       "                               ...  \n",
       "PercentFunded                      0\n",
       "Recommendations                    0\n",
       "InvestmentFromFriendsCount         0\n",
       "InvestmentFromFriendsAmount        0\n",
       "Investors                          0\n",
       "Length: 81, dtype: int64"
      ]
     },
     "execution_count": 14,
     "metadata": {},
     "output_type": "execute_result"
    }
   ],
   "source": [
    "#to check the sum of null values in each column\n",
    "LC_Data.isna().sum()"
   ]
  },
  {
   "cell_type": "code",
   "execution_count": 15,
   "metadata": {},
   "outputs": [],
   "source": [
    "#Dropping all columns with 50% missing values\n",
    "LC_Data_Updated = LC_Data.loc[:, LC_Data.isnull().sum() < 0.5*LC_Data.shape[0]]"
   ]
  },
  {
   "cell_type": "code",
   "execution_count": 16,
   "metadata": {},
   "outputs": [
    {
     "name": "stdout",
     "output_type": "stream",
     "text": [
      "(113937, 69)\n"
     ]
    }
   ],
   "source": [
    "#print data shape\n",
    "print(LC_Data_Updated.shape)"
   ]
  },
  {
   "cell_type": "code",
   "execution_count": 17,
   "metadata": {},
   "outputs": [],
   "source": [
    "#merge data set with data dictionary with new shape \n",
    "LC_Data_Explanation = pd.DataFrame(LC_Data_Updated.dtypes,columns=['dtypes'])\n",
    "LC_Data_Explanation = LC_Data_Explanation.reset_index()\n",
    "LC_Data_Explanation['Variable Name'] = LC_Data_Explanation['index']\n",
    "LC_Data_Explanation = LC_Data_Explanation[['Variable Name','dtypes']]\n",
    "LC_Data_Explanation['first value'] = LC_Data_Updated.loc[0].values\n",
    "LC_Variables_Explained = LC_Data_Explanation.merge(LC_Data_Dictionary_Update, on='Variable Name',how='left')"
   ]
  },
  {
   "cell_type": "code",
   "execution_count": 18,
   "metadata": {},
   "outputs": [
    {
     "data": {
      "text/html": [
       "<div>\n",
       "<style scoped>\n",
       "    .dataframe tbody tr th:only-of-type {\n",
       "        vertical-align: middle;\n",
       "    }\n",
       "\n",
       "    .dataframe tbody tr th {\n",
       "        vertical-align: top;\n",
       "    }\n",
       "\n",
       "    .dataframe thead th {\n",
       "        text-align: right;\n",
       "    }\n",
       "</style>\n",
       "<table border=\"1\" class=\"dataframe\">\n",
       "  <thead>\n",
       "    <tr style=\"text-align: right;\">\n",
       "      <th></th>\n",
       "      <th>Variable Name</th>\n",
       "      <th>dtypes</th>\n",
       "      <th>first value</th>\n",
       "      <th>Description</th>\n",
       "    </tr>\n",
       "  </thead>\n",
       "  <tbody>\n",
       "    <tr>\n",
       "      <th>0</th>\n",
       "      <td>ListingKey</td>\n",
       "      <td>object</td>\n",
       "      <td>1021339766868145413AB3B</td>\n",
       "      <td>Unique key for each listing, same value as the...</td>\n",
       "    </tr>\n",
       "    <tr>\n",
       "      <th>1</th>\n",
       "      <td>ListingNumber</td>\n",
       "      <td>int64</td>\n",
       "      <td>193129</td>\n",
       "      <td>The number that uniquely identifies the listin...</td>\n",
       "    </tr>\n",
       "    <tr>\n",
       "      <th>2</th>\n",
       "      <td>ListingCreationDate</td>\n",
       "      <td>object</td>\n",
       "      <td>2007-08-26 19:09:29.263000000</td>\n",
       "      <td>The date the listing was created.</td>\n",
       "    </tr>\n",
       "    <tr>\n",
       "      <th>3</th>\n",
       "      <td>Term</td>\n",
       "      <td>int64</td>\n",
       "      <td>36</td>\n",
       "      <td>The length of the loan expressed in months.</td>\n",
       "    </tr>\n",
       "    <tr>\n",
       "      <th>4</th>\n",
       "      <td>LoanStatus</td>\n",
       "      <td>object</td>\n",
       "      <td>Completed</td>\n",
       "      <td>The current status of the loan: Cancelled,  Ch...</td>\n",
       "    </tr>\n",
       "  </tbody>\n",
       "</table>\n",
       "</div>"
      ],
      "text/plain": [
       "         Variable Name  dtypes                    first value  \\\n",
       "0           ListingKey  object        1021339766868145413AB3B   \n",
       "1        ListingNumber   int64                         193129   \n",
       "2  ListingCreationDate  object  2007-08-26 19:09:29.263000000   \n",
       "3                 Term   int64                             36   \n",
       "4           LoanStatus  object                      Completed   \n",
       "\n",
       "                                         Description  \n",
       "0  Unique key for each listing, same value as the...  \n",
       "1  The number that uniquely identifies the listin...  \n",
       "2                  The date the listing was created.  \n",
       "3        The length of the loan expressed in months.  \n",
       "4  The current status of the loan: Cancelled,  Ch...  "
      ]
     },
     "execution_count": 18,
     "metadata": {},
     "output_type": "execute_result"
    }
   ],
   "source": [
    "#print data head after marged\n",
    "LC_Variables_Explained.head()"
   ]
  },
  {
   "cell_type": "code",
   "execution_count": 19,
   "metadata": {},
   "outputs": [
    {
     "data": {
      "text/plain": [
       "Current                   56576\n",
       "Completed                 38074\n",
       "Chargedoff                11992\n",
       "Defaulted                  5018\n",
       "Past Due (1-15 days)        806\n",
       "Past Due (31-60 days)       363\n",
       "Past Due (61-90 days)       313\n",
       "Past Due (91-120 days)      304\n",
       "Past Due (16-30 days)       265\n",
       "FinalPaymentInProgress      205\n",
       "Past Due (>120 days)         16\n",
       "Cancelled                     5\n",
       "Name: LoanStatus, dtype: int64"
      ]
     },
     "execution_count": 19,
     "metadata": {},
     "output_type": "execute_result"
    }
   ],
   "source": [
    "#Set loan_status as Target Column\n",
    "LC_Data_Updated.LoanStatus.value_counts()"
   ]
  },
  {
   "cell_type": "code",
   "execution_count": 20,
   "metadata": {},
   "outputs": [],
   "source": [
    "# Dropping rows of Target Column\n",
    "LC_Data_Updated = LC_Data_Updated[LC_Data_Updated.LoanStatus != 'Current']\n",
    "\n",
    "LC_Data_Updated = LC_Data_Updated[LC_Data_Updated.LoanStatus != 'FinalPaymentInProgress']\n",
    "LC_Data_Updated = LC_Data_Updated[LC_Data_Updated.LoanStatus != 'Cancelled ']"
   ]
  },
  {
   "cell_type": "code",
   "execution_count": 21,
   "metadata": {},
   "outputs": [],
   "source": [
    "#Rename target variable and classified it into binary\n",
    "LC_Data_Updated['Credit_Score'] = np.where(LC_Data_Updated.loc[:, 'LoanStatus'].isin(['Chargedoff', 'Defaulted',\n",
    "                                                                       'Past Due (1-15 days)','Past Due (31-60 days)','Past Due (61-90 days)','Past Due (91-120 days)','Past Due (16-30 days)','Past Due (>120 days)']), 0, 1)"
   ]
  },
  {
   "cell_type": "code",
   "execution_count": 23,
   "metadata": {},
   "outputs": [
    {
     "data": {
      "text/plain": [
       "1    38079\n",
       "0    19077\n",
       "Name: Credit_Score, dtype: int64"
      ]
     },
     "execution_count": 23,
     "metadata": {},
     "output_type": "execute_result"
    }
   ],
   "source": [
    "#value counts after categorization of  target variable \n",
    "LC_Data_Updated.Credit_Score.value_counts()"
   ]
  },
  {
   "cell_type": "code",
   "execution_count": 24,
   "metadata": {},
   "outputs": [],
   "source": [
    "#Dropping the Orgininal loan_status column since we already converted the target function to binary\n",
    "LC_Data_Updated.drop(columns = ['LoanStatus'], inplace = True)"
   ]
  },
  {
   "cell_type": "code",
   "execution_count": 25,
   "metadata": {},
   "outputs": [
    {
     "data": {
      "text/plain": [
       "69"
      ]
     },
     "execution_count": 25,
     "metadata": {},
     "output_type": "execute_result"
    }
   ],
   "source": [
    "#Analyzing Predictive Column\n",
    "len(LC_Data_Updated.columns)"
   ]
  },
  {
   "cell_type": "code",
   "execution_count": 26,
   "metadata": {},
   "outputs": [],
   "source": [
    "#creation of a list in order to store the columns that will retian as categorical or numerical\n",
    "Categorical_Features=[]\n",
    "Numerical_Features=[]"
   ]
  },
  {
   "cell_type": "code",
   "execution_count": 27,
   "metadata": {},
   "outputs": [
    {
     "data": {
      "text/html": [
       "<div>\n",
       "<style scoped>\n",
       "    .dataframe tbody tr th:only-of-type {\n",
       "        vertical-align: middle;\n",
       "    }\n",
       "\n",
       "    .dataframe tbody tr th {\n",
       "        vertical-align: top;\n",
       "    }\n",
       "\n",
       "    .dataframe thead th {\n",
       "        text-align: right;\n",
       "    }\n",
       "</style>\n",
       "<table border=\"1\" class=\"dataframe\">\n",
       "  <thead>\n",
       "    <tr style=\"text-align: right;\">\n",
       "      <th></th>\n",
       "      <th>Variable Name</th>\n",
       "      <th>dtypes</th>\n",
       "      <th>first value</th>\n",
       "      <th>Description</th>\n",
       "    </tr>\n",
       "  </thead>\n",
       "  <tbody>\n",
       "    <tr>\n",
       "      <th>0</th>\n",
       "      <td>ListingKey</td>\n",
       "      <td>object</td>\n",
       "      <td>1021339766868145413AB3B</td>\n",
       "      <td>Unique key for each listing, same value as the...</td>\n",
       "    </tr>\n",
       "    <tr>\n",
       "      <th>1</th>\n",
       "      <td>ListingNumber</td>\n",
       "      <td>int64</td>\n",
       "      <td>193129</td>\n",
       "      <td>The number that uniquely identifies the listin...</td>\n",
       "    </tr>\n",
       "    <tr>\n",
       "      <th>2</th>\n",
       "      <td>ListingCreationDate</td>\n",
       "      <td>object</td>\n",
       "      <td>2007-08-26 19:09:29.263000000</td>\n",
       "      <td>The date the listing was created.</td>\n",
       "    </tr>\n",
       "    <tr>\n",
       "      <th>3</th>\n",
       "      <td>Term</td>\n",
       "      <td>int64</td>\n",
       "      <td>36</td>\n",
       "      <td>The length of the loan expressed in months.</td>\n",
       "    </tr>\n",
       "    <tr>\n",
       "      <th>4</th>\n",
       "      <td>LoanStatus</td>\n",
       "      <td>object</td>\n",
       "      <td>Completed</td>\n",
       "      <td>The current status of the loan: Cancelled,  Ch...</td>\n",
       "    </tr>\n",
       "    <tr>\n",
       "      <th>5</th>\n",
       "      <td>BorrowerAPR</td>\n",
       "      <td>float64</td>\n",
       "      <td>0.16516</td>\n",
       "      <td>The Borrower's Annual Percentage Rate (APR) fo...</td>\n",
       "    </tr>\n",
       "    <tr>\n",
       "      <th>6</th>\n",
       "      <td>BorrowerRate</td>\n",
       "      <td>float64</td>\n",
       "      <td>0.158</td>\n",
       "      <td>The Borrower's interest rate for this loan.</td>\n",
       "    </tr>\n",
       "    <tr>\n",
       "      <th>7</th>\n",
       "      <td>LenderYield</td>\n",
       "      <td>float64</td>\n",
       "      <td>0.138</td>\n",
       "      <td>The Lender yield on the loan. Lender yield is ...</td>\n",
       "    </tr>\n",
       "    <tr>\n",
       "      <th>8</th>\n",
       "      <td>EstimatedEffectiveYield</td>\n",
       "      <td>float64</td>\n",
       "      <td>NaN</td>\n",
       "      <td>Effective yield is equal to the borrower inter...</td>\n",
       "    </tr>\n",
       "    <tr>\n",
       "      <th>9</th>\n",
       "      <td>EstimatedLoss</td>\n",
       "      <td>float64</td>\n",
       "      <td>NaN</td>\n",
       "      <td>Estimated loss is the estimated principal loss...</td>\n",
       "    </tr>\n",
       "    <tr>\n",
       "      <th>10</th>\n",
       "      <td>EstimatedReturn</td>\n",
       "      <td>float64</td>\n",
       "      <td>NaN</td>\n",
       "      <td>The estimated return assigned to the listing a...</td>\n",
       "    </tr>\n",
       "    <tr>\n",
       "      <th>11</th>\n",
       "      <td>ProsperRating (numeric)</td>\n",
       "      <td>float64</td>\n",
       "      <td>NaN</td>\n",
       "      <td>The  Prosper Rating assigned at the time the l...</td>\n",
       "    </tr>\n",
       "    <tr>\n",
       "      <th>12</th>\n",
       "      <td>ProsperRating (Alpha)</td>\n",
       "      <td>object</td>\n",
       "      <td>NaN</td>\n",
       "      <td>The Prosper Rating assigned at the time the li...</td>\n",
       "    </tr>\n",
       "    <tr>\n",
       "      <th>13</th>\n",
       "      <td>ProsperScore</td>\n",
       "      <td>float64</td>\n",
       "      <td>NaN</td>\n",
       "      <td>A custom risk score built using historical Pro...</td>\n",
       "    </tr>\n",
       "    <tr>\n",
       "      <th>14</th>\n",
       "      <td>ListingCategory (numeric)</td>\n",
       "      <td>int64</td>\n",
       "      <td>0</td>\n",
       "      <td>NaN</td>\n",
       "    </tr>\n",
       "  </tbody>\n",
       "</table>\n",
       "</div>"
      ],
      "text/plain": [
       "                Variable Name   dtypes                    first value  \\\n",
       "0                  ListingKey   object        1021339766868145413AB3B   \n",
       "1               ListingNumber    int64                         193129   \n",
       "2         ListingCreationDate   object  2007-08-26 19:09:29.263000000   \n",
       "3                        Term    int64                             36   \n",
       "4                  LoanStatus   object                      Completed   \n",
       "5                 BorrowerAPR  float64                        0.16516   \n",
       "6                BorrowerRate  float64                          0.158   \n",
       "7                 LenderYield  float64                          0.138   \n",
       "8     EstimatedEffectiveYield  float64                            NaN   \n",
       "9               EstimatedLoss  float64                            NaN   \n",
       "10            EstimatedReturn  float64                            NaN   \n",
       "11    ProsperRating (numeric)  float64                            NaN   \n",
       "12      ProsperRating (Alpha)   object                            NaN   \n",
       "13               ProsperScore  float64                            NaN   \n",
       "14  ListingCategory (numeric)    int64                              0   \n",
       "\n",
       "                                          Description  \n",
       "0   Unique key for each listing, same value as the...  \n",
       "1   The number that uniquely identifies the listin...  \n",
       "2                   The date the listing was created.  \n",
       "3         The length of the loan expressed in months.  \n",
       "4   The current status of the loan: Cancelled,  Ch...  \n",
       "5   The Borrower's Annual Percentage Rate (APR) fo...  \n",
       "6        The Borrower's interest rate for this loan.   \n",
       "7   The Lender yield on the loan. Lender yield is ...  \n",
       "8   Effective yield is equal to the borrower inter...  \n",
       "9   Estimated loss is the estimated principal loss...  \n",
       "10  The estimated return assigned to the listing a...  \n",
       "11  The  Prosper Rating assigned at the time the l...  \n",
       "12  The Prosper Rating assigned at the time the li...  \n",
       "13  A custom risk score built using historical Pro...  \n",
       "14                                                NaN  "
      ]
     },
     "execution_count": 27,
     "metadata": {},
     "output_type": "execute_result"
    }
   ],
   "source": [
    "#print number of column with different set attributes \n",
    "LC_Variables_Explained[:15]"
   ]
  },
  {
   "cell_type": "code",
   "execution_count": 28,
   "metadata": {},
   "outputs": [],
   "source": [
    "#droped unrequired column \n",
    "LC_Data_Updated.drop(columns = ['ListingKey','ListingNumber','ListingCreationDate','LenderYield','EstimatedEffectiveYield','ProsperRating (numeric)','ProsperRating (Alpha)','ListingCategory (numeric)'], inplace = True)"
   ]
  },
  {
   "cell_type": "code",
   "execution_count": 29,
   "metadata": {},
   "outputs": [
    {
     "data": {
      "text/plain": [
       "array([36, 60, 12], dtype=int64)"
      ]
     },
     "execution_count": 29,
     "metadata": {},
     "output_type": "execute_result"
    }
   ],
   "source": [
    "#print uniqueness of Term\n",
    "LC_Data_Updated.Term.unique()"
   ]
  },
  {
   "cell_type": "code",
   "execution_count": 30,
   "metadata": {},
   "outputs": [],
   "source": [
    "#Add variable with respect to numerical and catagorical characteristic \n",
    "Numerical_Features.append('Term')\n",
    "Numerical_Features.append('BorrowerAPR')\n",
    "Numerical_Features.append('BorrowerRate')\n",
    "Numerical_Features.append('EstimatedLoss')\n",
    "Numerical_Features.append('EstimatedReturn')\n",
    "Numerical_Features.append('ProsperScore')"
   ]
  },
  {
   "cell_type": "code",
   "execution_count": 31,
   "metadata": {},
   "outputs": [
    {
     "data": {
      "text/html": [
       "<div>\n",
       "<style scoped>\n",
       "    .dataframe tbody tr th:only-of-type {\n",
       "        vertical-align: middle;\n",
       "    }\n",
       "\n",
       "    .dataframe tbody tr th {\n",
       "        vertical-align: top;\n",
       "    }\n",
       "\n",
       "    .dataframe thead th {\n",
       "        text-align: right;\n",
       "    }\n",
       "</style>\n",
       "<table border=\"1\" class=\"dataframe\">\n",
       "  <thead>\n",
       "    <tr style=\"text-align: right;\">\n",
       "      <th></th>\n",
       "      <th>Variable Name</th>\n",
       "      <th>dtypes</th>\n",
       "      <th>first value</th>\n",
       "      <th>Description</th>\n",
       "    </tr>\n",
       "  </thead>\n",
       "  <tbody>\n",
       "    <tr>\n",
       "      <th>15</th>\n",
       "      <td>BorrowerState</td>\n",
       "      <td>object</td>\n",
       "      <td>CO</td>\n",
       "      <td>The two letter abbreviation of the state of th...</td>\n",
       "    </tr>\n",
       "    <tr>\n",
       "      <th>16</th>\n",
       "      <td>Occupation</td>\n",
       "      <td>object</td>\n",
       "      <td>Other</td>\n",
       "      <td>The Occupation selected by the Borrower at the...</td>\n",
       "    </tr>\n",
       "    <tr>\n",
       "      <th>17</th>\n",
       "      <td>EmploymentStatus</td>\n",
       "      <td>object</td>\n",
       "      <td>Self-employed</td>\n",
       "      <td>The employment status of the borrower at the t...</td>\n",
       "    </tr>\n",
       "    <tr>\n",
       "      <th>18</th>\n",
       "      <td>EmploymentStatusDuration</td>\n",
       "      <td>float64</td>\n",
       "      <td>2</td>\n",
       "      <td>The length in months of the employment status ...</td>\n",
       "    </tr>\n",
       "    <tr>\n",
       "      <th>19</th>\n",
       "      <td>IsBorrowerHomeowner</td>\n",
       "      <td>bool</td>\n",
       "      <td>True</td>\n",
       "      <td>A Borrower will be classified as a homowner if...</td>\n",
       "    </tr>\n",
       "    <tr>\n",
       "      <th>20</th>\n",
       "      <td>CurrentlyInGroup</td>\n",
       "      <td>bool</td>\n",
       "      <td>True</td>\n",
       "      <td>Specifies whether or not the Borrower was in a...</td>\n",
       "    </tr>\n",
       "    <tr>\n",
       "      <th>21</th>\n",
       "      <td>DateCreditPulled</td>\n",
       "      <td>object</td>\n",
       "      <td>2007-08-26 18:41:46.780000000</td>\n",
       "      <td>The date the credit profile was pulled.</td>\n",
       "    </tr>\n",
       "    <tr>\n",
       "      <th>22</th>\n",
       "      <td>CreditScoreRangeLower</td>\n",
       "      <td>float64</td>\n",
       "      <td>640</td>\n",
       "      <td>The lower value representing the range of the ...</td>\n",
       "    </tr>\n",
       "    <tr>\n",
       "      <th>23</th>\n",
       "      <td>CreditScoreRangeUpper</td>\n",
       "      <td>float64</td>\n",
       "      <td>659</td>\n",
       "      <td>The upper value representing the range of the ...</td>\n",
       "    </tr>\n",
       "    <tr>\n",
       "      <th>24</th>\n",
       "      <td>FirstRecordedCreditLine</td>\n",
       "      <td>object</td>\n",
       "      <td>2001-10-11 00:00:00</td>\n",
       "      <td>The date the first credit line was opened.</td>\n",
       "    </tr>\n",
       "    <tr>\n",
       "      <th>25</th>\n",
       "      <td>CurrentCreditLines</td>\n",
       "      <td>float64</td>\n",
       "      <td>5</td>\n",
       "      <td>Number of current credit lines at the time the...</td>\n",
       "    </tr>\n",
       "    <tr>\n",
       "      <th>26</th>\n",
       "      <td>OpenCreditLines</td>\n",
       "      <td>float64</td>\n",
       "      <td>4</td>\n",
       "      <td>Number of open credit lines at the time the cr...</td>\n",
       "    </tr>\n",
       "    <tr>\n",
       "      <th>27</th>\n",
       "      <td>TotalCreditLinespast7years</td>\n",
       "      <td>float64</td>\n",
       "      <td>12</td>\n",
       "      <td>Number of credit lines in the past seven years...</td>\n",
       "    </tr>\n",
       "    <tr>\n",
       "      <th>28</th>\n",
       "      <td>OpenRevolvingAccounts</td>\n",
       "      <td>int64</td>\n",
       "      <td>1</td>\n",
       "      <td>Number of open revolving accounts at the time ...</td>\n",
       "    </tr>\n",
       "    <tr>\n",
       "      <th>29</th>\n",
       "      <td>OpenRevolvingMonthlyPayment</td>\n",
       "      <td>float64</td>\n",
       "      <td>24</td>\n",
       "      <td>Monthly payment on revolving accounts at the t...</td>\n",
       "    </tr>\n",
       "  </tbody>\n",
       "</table>\n",
       "</div>"
      ],
      "text/plain": [
       "                  Variable Name   dtypes                    first value  \\\n",
       "15                BorrowerState   object                             CO   \n",
       "16                   Occupation   object                          Other   \n",
       "17             EmploymentStatus   object                  Self-employed   \n",
       "18     EmploymentStatusDuration  float64                              2   \n",
       "19          IsBorrowerHomeowner     bool                           True   \n",
       "20             CurrentlyInGroup     bool                           True   \n",
       "21             DateCreditPulled   object  2007-08-26 18:41:46.780000000   \n",
       "22        CreditScoreRangeLower  float64                            640   \n",
       "23        CreditScoreRangeUpper  float64                            659   \n",
       "24      FirstRecordedCreditLine   object            2001-10-11 00:00:00   \n",
       "25           CurrentCreditLines  float64                              5   \n",
       "26              OpenCreditLines  float64                              4   \n",
       "27   TotalCreditLinespast7years  float64                             12   \n",
       "28        OpenRevolvingAccounts    int64                              1   \n",
       "29  OpenRevolvingMonthlyPayment  float64                             24   \n",
       "\n",
       "                                          Description  \n",
       "15  The two letter abbreviation of the state of th...  \n",
       "16  The Occupation selected by the Borrower at the...  \n",
       "17  The employment status of the borrower at the t...  \n",
       "18  The length in months of the employment status ...  \n",
       "19  A Borrower will be classified as a homowner if...  \n",
       "20  Specifies whether or not the Borrower was in a...  \n",
       "21           The date the credit profile was pulled.   \n",
       "22  The lower value representing the range of the ...  \n",
       "23  The upper value representing the range of the ...  \n",
       "24         The date the first credit line was opened.  \n",
       "25  Number of current credit lines at the time the...  \n",
       "26  Number of open credit lines at the time the cr...  \n",
       "27  Number of credit lines in the past seven years...  \n",
       "28  Number of open revolving accounts at the time ...  \n",
       "29  Monthly payment on revolving accounts at the t...  "
      ]
     },
     "execution_count": 31,
     "metadata": {},
     "output_type": "execute_result"
    }
   ],
   "source": [
    "#Print number of column with different set attributes \n",
    "LC_Variables_Explained[15:30]"
   ]
  },
  {
   "cell_type": "code",
   "execution_count": 32,
   "metadata": {},
   "outputs": [
    {
     "data": {
      "text/plain": [
       "array([  24.,    0.,   40., ..., 1941., 2832., 1850.])"
      ]
     },
     "execution_count": 32,
     "metadata": {},
     "output_type": "execute_result"
    }
   ],
   "source": [
    "#print uniqueness of OpenRevolvingMonthlyPayment \n",
    "LC_Data_Updated.OpenRevolvingMonthlyPayment.unique()"
   ]
  },
  {
   "cell_type": "code",
   "execution_count": 33,
   "metadata": {},
   "outputs": [],
   "source": [
    "#drop columns that are not required\n",
    "LC_Data_Updated.drop(columns = ['BorrowerState','Occupation','CurrentlyInGroup','DateCreditPulled','CreditScoreRangeLower','CreditScoreRangeUpper','FirstRecordedCreditLine','CurrentCreditLines','OpenCreditLines','OpenRevolvingMonthlyPayment'], inplace = True)"
   ]
  },
  {
   "cell_type": "code",
   "execution_count": 34,
   "metadata": {},
   "outputs": [],
   "source": [
    "#add variable with respect to numerical and catagorical characteristic \n",
    "Categorical_Features.append('EmploymentStatus')\n",
    "Categorical_Features.append('IsBorrowerHomeowner')\n",
    "Numerical_Features.append('EmploymentStatusDuration')\n",
    "Numerical_Features.append('OpenRevolvingAccounts')\n",
    "Numerical_Features.append('TotalCreditLinespast7years')"
   ]
  },
  {
   "cell_type": "code",
   "execution_count": 35,
   "metadata": {},
   "outputs": [
    {
     "data": {
      "text/html": [
       "<div>\n",
       "<style scoped>\n",
       "    .dataframe tbody tr th:only-of-type {\n",
       "        vertical-align: middle;\n",
       "    }\n",
       "\n",
       "    .dataframe tbody tr th {\n",
       "        vertical-align: top;\n",
       "    }\n",
       "\n",
       "    .dataframe thead th {\n",
       "        text-align: right;\n",
       "    }\n",
       "</style>\n",
       "<table border=\"1\" class=\"dataframe\">\n",
       "  <thead>\n",
       "    <tr style=\"text-align: right;\">\n",
       "      <th></th>\n",
       "      <th>Variable Name</th>\n",
       "      <th>dtypes</th>\n",
       "      <th>first value</th>\n",
       "      <th>Description</th>\n",
       "    </tr>\n",
       "  </thead>\n",
       "  <tbody>\n",
       "    <tr>\n",
       "      <th>30</th>\n",
       "      <td>InquiriesLast6Months</td>\n",
       "      <td>float64</td>\n",
       "      <td>3</td>\n",
       "      <td>Number of inquiries in the past six months at ...</td>\n",
       "    </tr>\n",
       "    <tr>\n",
       "      <th>31</th>\n",
       "      <td>TotalInquiries</td>\n",
       "      <td>float64</td>\n",
       "      <td>3</td>\n",
       "      <td>Total number of inquiries at the time the cred...</td>\n",
       "    </tr>\n",
       "    <tr>\n",
       "      <th>32</th>\n",
       "      <td>CurrentDelinquencies</td>\n",
       "      <td>float64</td>\n",
       "      <td>2</td>\n",
       "      <td>Number of accounts delinquent at the time the ...</td>\n",
       "    </tr>\n",
       "    <tr>\n",
       "      <th>33</th>\n",
       "      <td>AmountDelinquent</td>\n",
       "      <td>float64</td>\n",
       "      <td>472</td>\n",
       "      <td>Dollars delinquent at the time the credit prof...</td>\n",
       "    </tr>\n",
       "    <tr>\n",
       "      <th>34</th>\n",
       "      <td>DelinquenciesLast7Years</td>\n",
       "      <td>float64</td>\n",
       "      <td>4</td>\n",
       "      <td>Number of delinquencies in the past 7 years at...</td>\n",
       "    </tr>\n",
       "    <tr>\n",
       "      <th>35</th>\n",
       "      <td>PublicRecordsLast10Years</td>\n",
       "      <td>float64</td>\n",
       "      <td>0</td>\n",
       "      <td>Number of public records in the past 10 years ...</td>\n",
       "    </tr>\n",
       "    <tr>\n",
       "      <th>36</th>\n",
       "      <td>PublicRecordsLast12Months</td>\n",
       "      <td>float64</td>\n",
       "      <td>0</td>\n",
       "      <td>Number of public records in the past 12 months...</td>\n",
       "    </tr>\n",
       "    <tr>\n",
       "      <th>37</th>\n",
       "      <td>RevolvingCreditBalance</td>\n",
       "      <td>float64</td>\n",
       "      <td>0</td>\n",
       "      <td>Dollars of revolving credit at the time the cr...</td>\n",
       "    </tr>\n",
       "    <tr>\n",
       "      <th>38</th>\n",
       "      <td>BankcardUtilization</td>\n",
       "      <td>float64</td>\n",
       "      <td>0</td>\n",
       "      <td>The percentage of available revolving credit t...</td>\n",
       "    </tr>\n",
       "    <tr>\n",
       "      <th>39</th>\n",
       "      <td>AvailableBankcardCredit</td>\n",
       "      <td>float64</td>\n",
       "      <td>1500</td>\n",
       "      <td>The total available credit via bank card at th...</td>\n",
       "    </tr>\n",
       "    <tr>\n",
       "      <th>40</th>\n",
       "      <td>TotalTrades</td>\n",
       "      <td>float64</td>\n",
       "      <td>11</td>\n",
       "      <td>Number of trade lines ever opened at the time ...</td>\n",
       "    </tr>\n",
       "    <tr>\n",
       "      <th>41</th>\n",
       "      <td>TradesNeverDelinquent (percentage)</td>\n",
       "      <td>float64</td>\n",
       "      <td>0.81</td>\n",
       "      <td>NaN</td>\n",
       "    </tr>\n",
       "    <tr>\n",
       "      <th>42</th>\n",
       "      <td>TradesOpenedLast6Months</td>\n",
       "      <td>float64</td>\n",
       "      <td>0</td>\n",
       "      <td>Number of trades opened in the last 6 months a...</td>\n",
       "    </tr>\n",
       "    <tr>\n",
       "      <th>43</th>\n",
       "      <td>DebtToIncomeRatio</td>\n",
       "      <td>float64</td>\n",
       "      <td>0.17</td>\n",
       "      <td>The debt to income ratio of the borrower at th...</td>\n",
       "    </tr>\n",
       "    <tr>\n",
       "      <th>44</th>\n",
       "      <td>IncomeRange</td>\n",
       "      <td>object</td>\n",
       "      <td>$25,000-49,999</td>\n",
       "      <td>The income range of the borrower at the time t...</td>\n",
       "    </tr>\n",
       "  </tbody>\n",
       "</table>\n",
       "</div>"
      ],
      "text/plain": [
       "                         Variable Name   dtypes     first value  \\\n",
       "30                InquiriesLast6Months  float64               3   \n",
       "31                      TotalInquiries  float64               3   \n",
       "32                CurrentDelinquencies  float64               2   \n",
       "33                    AmountDelinquent  float64             472   \n",
       "34             DelinquenciesLast7Years  float64               4   \n",
       "35            PublicRecordsLast10Years  float64               0   \n",
       "36           PublicRecordsLast12Months  float64               0   \n",
       "37              RevolvingCreditBalance  float64               0   \n",
       "38                 BankcardUtilization  float64               0   \n",
       "39             AvailableBankcardCredit  float64            1500   \n",
       "40                         TotalTrades  float64              11   \n",
       "41  TradesNeverDelinquent (percentage)  float64            0.81   \n",
       "42             TradesOpenedLast6Months  float64               0   \n",
       "43                   DebtToIncomeRatio  float64            0.17   \n",
       "44                         IncomeRange   object  $25,000-49,999   \n",
       "\n",
       "                                          Description  \n",
       "30  Number of inquiries in the past six months at ...  \n",
       "31  Total number of inquiries at the time the cred...  \n",
       "32  Number of accounts delinquent at the time the ...  \n",
       "33  Dollars delinquent at the time the credit prof...  \n",
       "34  Number of delinquencies in the past 7 years at...  \n",
       "35  Number of public records in the past 10 years ...  \n",
       "36  Number of public records in the past 12 months...  \n",
       "37  Dollars of revolving credit at the time the cr...  \n",
       "38  The percentage of available revolving credit t...  \n",
       "39  The total available credit via bank card at th...  \n",
       "40  Number of trade lines ever opened at the time ...  \n",
       "41                                                NaN  \n",
       "42  Number of trades opened in the last 6 months a...  \n",
       "43  The debt to income ratio of the borrower at th...  \n",
       "44  The income range of the borrower at the time t...  "
      ]
     },
     "execution_count": 35,
     "metadata": {},
     "output_type": "execute_result"
    }
   ],
   "source": [
    "#print number of column with different set attributes \n",
    "LC_Variables_Explained[30:45]"
   ]
  },
  {
   "cell_type": "code",
   "execution_count": 36,
   "metadata": {},
   "outputs": [],
   "source": [
    "#drop columns that are not required\n",
    "LC_Data_Updated.drop(columns = ['TotalInquiries','DelinquenciesLast7Years','PublicRecordsLast10Years','PublicRecordsLast12Months','TotalTrades','TradesNeverDelinquent (percentage)','TradesOpenedLast6Months'], inplace = True)"
   ]
  },
  {
   "cell_type": "code",
   "execution_count": 37,
   "metadata": {},
   "outputs": [],
   "source": [
    "#Add variable with respect to numerical and catagorical characteristic \n",
    "Numerical_Features.append('InquiriesLast6Months')\n",
    "Numerical_Features.append('CurrentDelinquencies')\n",
    "Numerical_Features.append('AmountDelinquent')\n",
    "Numerical_Features.append('RevolvingCreditBalance')\n",
    "Numerical_Features.append('BankcardUtilization')\n",
    "Numerical_Features.append('AvailableBankcardCredit')\n",
    "Numerical_Features.append('DebtToIncomeRatio')\n",
    "Categorical_Features.append('IncomeRange')"
   ]
  },
  {
   "cell_type": "code",
   "execution_count": 38,
   "metadata": {},
   "outputs": [
    {
     "data": {
      "text/html": [
       "<div>\n",
       "<style scoped>\n",
       "    .dataframe tbody tr th:only-of-type {\n",
       "        vertical-align: middle;\n",
       "    }\n",
       "\n",
       "    .dataframe tbody tr th {\n",
       "        vertical-align: top;\n",
       "    }\n",
       "\n",
       "    .dataframe thead th {\n",
       "        text-align: right;\n",
       "    }\n",
       "</style>\n",
       "<table border=\"1\" class=\"dataframe\">\n",
       "  <thead>\n",
       "    <tr style=\"text-align: right;\">\n",
       "      <th></th>\n",
       "      <th>Variable Name</th>\n",
       "      <th>dtypes</th>\n",
       "      <th>first value</th>\n",
       "      <th>Description</th>\n",
       "    </tr>\n",
       "  </thead>\n",
       "  <tbody>\n",
       "    <tr>\n",
       "      <th>45</th>\n",
       "      <td>IncomeVerifiable</td>\n",
       "      <td>bool</td>\n",
       "      <td>True</td>\n",
       "      <td>The borrower indicated they have the required ...</td>\n",
       "    </tr>\n",
       "    <tr>\n",
       "      <th>46</th>\n",
       "      <td>StatedMonthlyIncome</td>\n",
       "      <td>float64</td>\n",
       "      <td>3083.33</td>\n",
       "      <td>The monthly income the borrower stated at the ...</td>\n",
       "    </tr>\n",
       "    <tr>\n",
       "      <th>47</th>\n",
       "      <td>LoanKey</td>\n",
       "      <td>object</td>\n",
       "      <td>E33A3400205839220442E84</td>\n",
       "      <td>Unique key for each loan. This is the same key...</td>\n",
       "    </tr>\n",
       "    <tr>\n",
       "      <th>48</th>\n",
       "      <td>LoanCurrentDaysDelinquent</td>\n",
       "      <td>int64</td>\n",
       "      <td>0</td>\n",
       "      <td>The number of days delinquent.</td>\n",
       "    </tr>\n",
       "    <tr>\n",
       "      <th>49</th>\n",
       "      <td>LoanMonthsSinceOrigination</td>\n",
       "      <td>int64</td>\n",
       "      <td>78</td>\n",
       "      <td>Number of months since the loan originated.</td>\n",
       "    </tr>\n",
       "    <tr>\n",
       "      <th>50</th>\n",
       "      <td>LoanNumber</td>\n",
       "      <td>int64</td>\n",
       "      <td>19141</td>\n",
       "      <td>Unique numeric value associated with the loan.</td>\n",
       "    </tr>\n",
       "    <tr>\n",
       "      <th>51</th>\n",
       "      <td>LoanOriginalAmount</td>\n",
       "      <td>int64</td>\n",
       "      <td>9425</td>\n",
       "      <td>The origination amount of the loan.</td>\n",
       "    </tr>\n",
       "    <tr>\n",
       "      <th>52</th>\n",
       "      <td>LoanOriginationDate</td>\n",
       "      <td>object</td>\n",
       "      <td>2007-09-12 00:00:00</td>\n",
       "      <td>The date the loan was originated.</td>\n",
       "    </tr>\n",
       "    <tr>\n",
       "      <th>53</th>\n",
       "      <td>LoanOriginationQuarter</td>\n",
       "      <td>object</td>\n",
       "      <td>Q3 2007</td>\n",
       "      <td>The quarter in which the loan was originated.</td>\n",
       "    </tr>\n",
       "    <tr>\n",
       "      <th>54</th>\n",
       "      <td>MemberKey</td>\n",
       "      <td>object</td>\n",
       "      <td>1F3E3376408759268057EDA</td>\n",
       "      <td>The unique key that is associated with the bor...</td>\n",
       "    </tr>\n",
       "    <tr>\n",
       "      <th>55</th>\n",
       "      <td>MonthlyLoanPayment</td>\n",
       "      <td>float64</td>\n",
       "      <td>330.43</td>\n",
       "      <td>The scheduled monthly loan payment.</td>\n",
       "    </tr>\n",
       "    <tr>\n",
       "      <th>56</th>\n",
       "      <td>LP_CustomerPayments</td>\n",
       "      <td>float64</td>\n",
       "      <td>11396.1</td>\n",
       "      <td>Pre charge-off cumulative gross payments made ...</td>\n",
       "    </tr>\n",
       "    <tr>\n",
       "      <th>57</th>\n",
       "      <td>LP_CustomerPrincipalPayments</td>\n",
       "      <td>float64</td>\n",
       "      <td>9425</td>\n",
       "      <td>Pre charge-off cumulative principal payments m...</td>\n",
       "    </tr>\n",
       "    <tr>\n",
       "      <th>58</th>\n",
       "      <td>LP_InterestandFees</td>\n",
       "      <td>float64</td>\n",
       "      <td>1971.14</td>\n",
       "      <td>Pre charge-off cumulative interest and fees pa...</td>\n",
       "    </tr>\n",
       "    <tr>\n",
       "      <th>59</th>\n",
       "      <td>LP_ServiceFees</td>\n",
       "      <td>float64</td>\n",
       "      <td>-133.18</td>\n",
       "      <td>Cumulative service fees paid by the investors ...</td>\n",
       "    </tr>\n",
       "  </tbody>\n",
       "</table>\n",
       "</div>"
      ],
      "text/plain": [
       "                   Variable Name   dtypes              first value  \\\n",
       "45              IncomeVerifiable     bool                     True   \n",
       "46           StatedMonthlyIncome  float64                  3083.33   \n",
       "47                       LoanKey   object  E33A3400205839220442E84   \n",
       "48     LoanCurrentDaysDelinquent    int64                        0   \n",
       "49    LoanMonthsSinceOrigination    int64                       78   \n",
       "50                    LoanNumber    int64                    19141   \n",
       "51            LoanOriginalAmount    int64                     9425   \n",
       "52           LoanOriginationDate   object      2007-09-12 00:00:00   \n",
       "53        LoanOriginationQuarter   object                  Q3 2007   \n",
       "54                     MemberKey   object  1F3E3376408759268057EDA   \n",
       "55            MonthlyLoanPayment  float64                   330.43   \n",
       "56           LP_CustomerPayments  float64                  11396.1   \n",
       "57  LP_CustomerPrincipalPayments  float64                     9425   \n",
       "58            LP_InterestandFees  float64                  1971.14   \n",
       "59                LP_ServiceFees  float64                  -133.18   \n",
       "\n",
       "                                          Description  \n",
       "45  The borrower indicated they have the required ...  \n",
       "46  The monthly income the borrower stated at the ...  \n",
       "47  Unique key for each loan. This is the same key...  \n",
       "48                    The number of days delinquent.   \n",
       "49        Number of months since the loan originated.  \n",
       "50     Unique numeric value associated with the loan.  \n",
       "51                The origination amount of the loan.  \n",
       "52                  The date the loan was originated.  \n",
       "53      The quarter in which the loan was originated.  \n",
       "54  The unique key that is associated with the bor...  \n",
       "55                The scheduled monthly loan payment.  \n",
       "56  Pre charge-off cumulative gross payments made ...  \n",
       "57  Pre charge-off cumulative principal payments m...  \n",
       "58  Pre charge-off cumulative interest and fees pa...  \n",
       "59  Cumulative service fees paid by the investors ...  "
      ]
     },
     "execution_count": 38,
     "metadata": {},
     "output_type": "execute_result"
    }
   ],
   "source": [
    "#print number of column with different set attributes \n",
    "LC_Variables_Explained[45:60]"
   ]
  },
  {
   "cell_type": "code",
   "execution_count": 39,
   "metadata": {},
   "outputs": [],
   "source": [
    "#Drop columns that are not required\n",
    "LC_Data_Updated.drop(columns = ['IncomeVerifiable','StatedMonthlyIncome','LoanKey','LoanCurrentDaysDelinquent','LoanMonthsSinceOrigination','LoanNumber','LoanOriginationDate','LoanOriginationQuarter','MemberKey','LP_CustomerPayments','LP_CustomerPrincipalPayments','LP_InterestandFees','LP_ServiceFees'], inplace = True)"
   ]
  },
  {
   "cell_type": "code",
   "execution_count": 40,
   "metadata": {},
   "outputs": [],
   "source": [
    "#add variable respect to numerical and catagorical characteristic \n",
    "Numerical_Features.append('LoanOriginalAmount')\n",
    "Numerical_Features.append('MonthlyLoanPayment')"
   ]
  },
  {
   "cell_type": "code",
   "execution_count": 41,
   "metadata": {},
   "outputs": [
    {
     "data": {
      "text/html": [
       "<div>\n",
       "<style scoped>\n",
       "    .dataframe tbody tr th:only-of-type {\n",
       "        vertical-align: middle;\n",
       "    }\n",
       "\n",
       "    .dataframe tbody tr th {\n",
       "        vertical-align: top;\n",
       "    }\n",
       "\n",
       "    .dataframe thead th {\n",
       "        text-align: right;\n",
       "    }\n",
       "</style>\n",
       "<table border=\"1\" class=\"dataframe\">\n",
       "  <thead>\n",
       "    <tr style=\"text-align: right;\">\n",
       "      <th></th>\n",
       "      <th>Variable Name</th>\n",
       "      <th>dtypes</th>\n",
       "      <th>first value</th>\n",
       "      <th>Description</th>\n",
       "    </tr>\n",
       "  </thead>\n",
       "  <tbody>\n",
       "    <tr>\n",
       "      <th>60</th>\n",
       "      <td>LP_CollectionFees</td>\n",
       "      <td>float64</td>\n",
       "      <td>0</td>\n",
       "      <td>Cumulative collection fees paid by the investo...</td>\n",
       "    </tr>\n",
       "    <tr>\n",
       "      <th>61</th>\n",
       "      <td>LP_GrossPrincipalLoss</td>\n",
       "      <td>float64</td>\n",
       "      <td>0</td>\n",
       "      <td>The gross charged off amount of the loan.</td>\n",
       "    </tr>\n",
       "    <tr>\n",
       "      <th>62</th>\n",
       "      <td>LP_NetPrincipalLoss</td>\n",
       "      <td>float64</td>\n",
       "      <td>0</td>\n",
       "      <td>The principal that remains uncollected after a...</td>\n",
       "    </tr>\n",
       "    <tr>\n",
       "      <th>63</th>\n",
       "      <td>LP_NonPrincipalRecoverypayments</td>\n",
       "      <td>float64</td>\n",
       "      <td>0</td>\n",
       "      <td>The interest and fee component of any recovery...</td>\n",
       "    </tr>\n",
       "    <tr>\n",
       "      <th>64</th>\n",
       "      <td>PercentFunded</td>\n",
       "      <td>float64</td>\n",
       "      <td>1</td>\n",
       "      <td>Percent the listing was funded.</td>\n",
       "    </tr>\n",
       "    <tr>\n",
       "      <th>65</th>\n",
       "      <td>Recommendations</td>\n",
       "      <td>int64</td>\n",
       "      <td>0</td>\n",
       "      <td>Number of recommendations the borrower had at ...</td>\n",
       "    </tr>\n",
       "    <tr>\n",
       "      <th>66</th>\n",
       "      <td>InvestmentFromFriendsCount</td>\n",
       "      <td>int64</td>\n",
       "      <td>0</td>\n",
       "      <td>Number of friends that made an investment in t...</td>\n",
       "    </tr>\n",
       "    <tr>\n",
       "      <th>67</th>\n",
       "      <td>InvestmentFromFriendsAmount</td>\n",
       "      <td>float64</td>\n",
       "      <td>0</td>\n",
       "      <td>Dollar amount of investments that were made by...</td>\n",
       "    </tr>\n",
       "    <tr>\n",
       "      <th>68</th>\n",
       "      <td>Investors</td>\n",
       "      <td>int64</td>\n",
       "      <td>258</td>\n",
       "      <td>The number of investors that funded the loan.</td>\n",
       "    </tr>\n",
       "  </tbody>\n",
       "</table>\n",
       "</div>"
      ],
      "text/plain": [
       "                      Variable Name   dtypes first value  \\\n",
       "60                LP_CollectionFees  float64           0   \n",
       "61            LP_GrossPrincipalLoss  float64           0   \n",
       "62              LP_NetPrincipalLoss  float64           0   \n",
       "63  LP_NonPrincipalRecoverypayments  float64           0   \n",
       "64                    PercentFunded  float64           1   \n",
       "65                  Recommendations    int64           0   \n",
       "66       InvestmentFromFriendsCount    int64           0   \n",
       "67      InvestmentFromFriendsAmount  float64           0   \n",
       "68                        Investors    int64         258   \n",
       "\n",
       "                                          Description  \n",
       "60  Cumulative collection fees paid by the investo...  \n",
       "61          The gross charged off amount of the loan.  \n",
       "62  The principal that remains uncollected after a...  \n",
       "63  The interest and fee component of any recovery...  \n",
       "64                    Percent the listing was funded.  \n",
       "65  Number of recommendations the borrower had at ...  \n",
       "66  Number of friends that made an investment in t...  \n",
       "67  Dollar amount of investments that were made by...  \n",
       "68      The number of investors that funded the loan.  "
      ]
     },
     "execution_count": 41,
     "metadata": {},
     "output_type": "execute_result"
    }
   ],
   "source": [
    "#print number of column with different set attributes \n",
    "LC_Variables_Explained[60:]"
   ]
  },
  {
   "cell_type": "code",
   "execution_count": 42,
   "metadata": {},
   "outputs": [],
   "source": [
    "#Drop columns that are not required\n",
    "LC_Data_Updated.drop(columns = ['LP_CollectionFees','LP_NonPrincipalRecoverypayments','PercentFunded','Recommendations','InvestmentFromFriendsCount','InvestmentFromFriendsAmount','Investors'], inplace = True)"
   ]
  },
  {
   "cell_type": "code",
   "execution_count": 43,
   "metadata": {},
   "outputs": [],
   "source": [
    "#add variable respect to numerical and catagorical characteristic \n",
    "Numerical_Features.append('LP_GrossPrincipalLoss')\n",
    "Numerical_Features.append('LP_NetPrincipalLoss')"
   ]
  },
  {
   "cell_type": "code",
   "execution_count": 44,
   "metadata": {},
   "outputs": [
    {
     "name": "stdout",
     "output_type": "stream",
     "text": [
      "(57156, 24)\n"
     ]
    }
   ],
   "source": [
    "#print data shape after chosing variable related to our analysis\n",
    "print(LC_Data_Updated.shape)"
   ]
  },
  {
   "cell_type": "code",
   "execution_count": 45,
   "metadata": {},
   "outputs": [
    {
     "data": {
      "text/plain": [
       "Term                              0\n",
       "BorrowerAPR                      25\n",
       "BorrowerRate                      0\n",
       "EstimatedLoss                 29084\n",
       "EstimatedReturn               29084\n",
       "ProsperScore                  29084\n",
       "EmploymentStatus               2255\n",
       "EmploymentStatusDuration       7615\n",
       "IsBorrowerHomeowner               0\n",
       "TotalCreditLinespast7years      697\n",
       "OpenRevolvingAccounts             0\n",
       "InquiriesLast6Months            697\n",
       "CurrentDelinquencies            697\n",
       "AmountDelinquent               7622\n",
       "RevolvingCreditBalance         7604\n",
       "BankcardUtilization            7604\n",
       "AvailableBankcardCredit        7544\n",
       "DebtToIncomeRatio              4440\n",
       "IncomeRange                       0\n",
       "LoanOriginalAmount                0\n",
       "MonthlyLoanPayment                0\n",
       "LP_GrossPrincipalLoss             0\n",
       "LP_NetPrincipalLoss               0\n",
       "Credit_Score                      0\n",
       "dtype: int64"
      ]
     },
     "execution_count": 45,
     "metadata": {},
     "output_type": "execute_result"
    }
   ],
   "source": [
    "#print null values \n",
    "LC_Data_Updated.isna().sum()"
   ]
  },
  {
   "cell_type": "code",
   "execution_count": 46,
   "metadata": {},
   "outputs": [],
   "source": [
    "#drop null rows starting with the highest count\n",
    "LC_Data_Updated.dropna(subset=['EstimatedLoss','EstimatedReturn','ProsperScore'],inplace=True)"
   ]
  },
  {
   "cell_type": "code",
   "execution_count": 47,
   "metadata": {},
   "outputs": [
    {
     "data": {
      "text/plain": [
       "Term                             0\n",
       "BorrowerAPR                      0\n",
       "BorrowerRate                     0\n",
       "EstimatedLoss                    0\n",
       "EstimatedReturn                  0\n",
       "ProsperScore                     0\n",
       "EmploymentStatus                 0\n",
       "EmploymentStatusDuration         9\n",
       "IsBorrowerHomeowner              0\n",
       "TotalCreditLinespast7years       0\n",
       "OpenRevolvingAccounts            0\n",
       "InquiriesLast6Months             0\n",
       "CurrentDelinquencies             0\n",
       "AmountDelinquent                 0\n",
       "RevolvingCreditBalance           0\n",
       "BankcardUtilization              0\n",
       "AvailableBankcardCredit          0\n",
       "DebtToIncomeRatio             3182\n",
       "IncomeRange                      0\n",
       "LoanOriginalAmount               0\n",
       "MonthlyLoanPayment               0\n",
       "LP_GrossPrincipalLoss            0\n",
       "LP_NetPrincipalLoss              0\n",
       "Credit_Score                     0\n",
       "dtype: int64"
      ]
     },
     "execution_count": 47,
     "metadata": {},
     "output_type": "execute_result"
    }
   ],
   "source": [
    "#print null values \n",
    "LC_Data_Updated.isna().sum()"
   ]
  },
  {
   "cell_type": "code",
   "execution_count": 48,
   "metadata": {},
   "outputs": [],
   "source": [
    "#drop null rows\n",
    "LC_Data_Updated.dropna(subset=['DebtToIncomeRatio'],inplace=True)"
   ]
  },
  {
   "cell_type": "code",
   "execution_count": 49,
   "metadata": {},
   "outputs": [],
   "source": [
    "#drop null rows\n",
    "LC_Data_Updated.dropna(subset=['EmploymentStatusDuration'],inplace=True)"
   ]
  },
  {
   "cell_type": "code",
   "execution_count": 50,
   "metadata": {},
   "outputs": [
    {
     "data": {
      "text/plain": [
       "Term                          0\n",
       "BorrowerAPR                   0\n",
       "BorrowerRate                  0\n",
       "EstimatedLoss                 0\n",
       "EstimatedReturn               0\n",
       "ProsperScore                  0\n",
       "EmploymentStatus              0\n",
       "EmploymentStatusDuration      0\n",
       "IsBorrowerHomeowner           0\n",
       "TotalCreditLinespast7years    0\n",
       "OpenRevolvingAccounts         0\n",
       "InquiriesLast6Months          0\n",
       "CurrentDelinquencies          0\n",
       "AmountDelinquent              0\n",
       "RevolvingCreditBalance        0\n",
       "BankcardUtilization           0\n",
       "AvailableBankcardCredit       0\n",
       "DebtToIncomeRatio             0\n",
       "IncomeRange                   0\n",
       "LoanOriginalAmount            0\n",
       "MonthlyLoanPayment            0\n",
       "LP_GrossPrincipalLoss         0\n",
       "LP_NetPrincipalLoss           0\n",
       "Credit_Score                  0\n",
       "dtype: int64"
      ]
     },
     "execution_count": 50,
     "metadata": {},
     "output_type": "execute_result"
    }
   ],
   "source": [
    "#print null values \n",
    "LC_Data_Updated.isna().sum()"
   ]
  },
  {
   "cell_type": "code",
   "execution_count": 51,
   "metadata": {},
   "outputs": [],
   "source": [
    "#reset dataset\n",
    "LC_Data_Updated.reset_index(inplace=True)"
   ]
  },
  {
   "cell_type": "code",
   "execution_count": 52,
   "metadata": {},
   "outputs": [],
   "source": [
    "#Columns with one unique value\n",
    "LC_Data_Updated = LC_Data_Updated.loc[:,LC_Data_Updated.apply(pd.Series.nunique) != 1]"
   ]
  },
  {
   "cell_type": "code",
   "execution_count": 53,
   "metadata": {},
   "outputs": [
    {
     "name": "stdout",
     "output_type": "stream",
     "text": [
      "36    19569\n",
      "60     3963\n",
      "12     1354\n",
      "Name: Term, dtype: int64\n",
      "\n",
      "Employed         17397\n",
      "Full-time         6313\n",
      "Other              752\n",
      "Retired            242\n",
      "Part-time          180\n",
      "Not employed         1\n",
      "Self-employed        1\n",
      "Name: EmploymentStatus, dtype: int64\n",
      "\n",
      "True     13238\n",
      "False    11648\n",
      "Name: IsBorrowerHomeowner, dtype: int64\n",
      "\n",
      "$25,000-49,999    8011\n",
      "$50,000-74,999    7332\n",
      "$75,000-99,999    4051\n",
      "$100,000+         3862\n",
      "$1-24,999         1629\n",
      "Not employed         1\n",
      "Name: IncomeRange, dtype: int64\n",
      "\n",
      "1    17700\n",
      "0     7186\n",
      "Name: Credit_Score, dtype: int64\n",
      "\n"
     ]
    }
   ],
   "source": [
    "#Use to check whether any variable has binary rows and if one of the rows has less than 10% we drop that column\n",
    "for col in LC_Data_Updated.columns:\n",
    "    if (len(LC_Data_Updated[col].unique()) < 10):\n",
    "        print(LC_Data_Updated[col].value_counts())\n",
    "        print()"
   ]
  },
  {
   "cell_type": "code",
   "execution_count": 54,
   "metadata": {},
   "outputs": [
    {
     "data": {
      "text/html": [
       "<div>\n",
       "<style scoped>\n",
       "    .dataframe tbody tr th:only-of-type {\n",
       "        vertical-align: middle;\n",
       "    }\n",
       "\n",
       "    .dataframe tbody tr th {\n",
       "        vertical-align: top;\n",
       "    }\n",
       "\n",
       "    .dataframe thead th {\n",
       "        text-align: right;\n",
       "    }\n",
       "</style>\n",
       "<table border=\"1\" class=\"dataframe\">\n",
       "  <thead>\n",
       "    <tr style=\"text-align: right;\">\n",
       "      <th></th>\n",
       "      <th>EmploymentStatus</th>\n",
       "      <th>IsBorrowerHomeowner</th>\n",
       "      <th>IncomeRange</th>\n",
       "    </tr>\n",
       "  </thead>\n",
       "  <tbody>\n",
       "    <tr>\n",
       "      <th>0</th>\n",
       "      <td>Employed</td>\n",
       "      <td>False</td>\n",
       "      <td>$25,000-49,999</td>\n",
       "    </tr>\n",
       "    <tr>\n",
       "      <th>1</th>\n",
       "      <td>Other</td>\n",
       "      <td>True</td>\n",
       "      <td>$50,000-74,999</td>\n",
       "    </tr>\n",
       "    <tr>\n",
       "      <th>2</th>\n",
       "      <td>Employed</td>\n",
       "      <td>False</td>\n",
       "      <td>$25,000-49,999</td>\n",
       "    </tr>\n",
       "    <tr>\n",
       "      <th>3</th>\n",
       "      <td>Employed</td>\n",
       "      <td>False</td>\n",
       "      <td>$25,000-49,999</td>\n",
       "    </tr>\n",
       "    <tr>\n",
       "      <th>4</th>\n",
       "      <td>Full-time</td>\n",
       "      <td>True</td>\n",
       "      <td>$75,000-99,999</td>\n",
       "    </tr>\n",
       "  </tbody>\n",
       "</table>\n",
       "</div>"
      ],
      "text/plain": [
       "  EmploymentStatus  IsBorrowerHomeowner     IncomeRange\n",
       "0         Employed                False  $25,000-49,999\n",
       "1            Other                 True  $50,000-74,999\n",
       "2         Employed                False  $25,000-49,999\n",
       "3         Employed                False  $25,000-49,999\n",
       "4        Full-time                 True  $75,000-99,999"
      ]
     },
     "execution_count": 54,
     "metadata": {},
     "output_type": "execute_result"
    }
   ],
   "source": [
    "#Data Frame for Categorical Data\n",
    "Categorical_Data=pd.DataFrame()\n",
    "for col in Categorical_Features:\n",
    "    Categorical_Data=pd.concat([ Categorical_Data, LC_Data_Updated[col]], axis= 1)\n",
    "\n",
    "Categorical_Data.head()"
   ]
  },
  {
   "cell_type": "code",
   "execution_count": 55,
   "metadata": {},
   "outputs": [
    {
     "data": {
      "text/html": [
       "<div>\n",
       "<style scoped>\n",
       "    .dataframe tbody tr th:only-of-type {\n",
       "        vertical-align: middle;\n",
       "    }\n",
       "\n",
       "    .dataframe tbody tr th {\n",
       "        vertical-align: top;\n",
       "    }\n",
       "\n",
       "    .dataframe thead th {\n",
       "        text-align: right;\n",
       "    }\n",
       "</style>\n",
       "<table border=\"1\" class=\"dataframe\">\n",
       "  <thead>\n",
       "    <tr style=\"text-align: right;\">\n",
       "      <th></th>\n",
       "      <th>Term</th>\n",
       "      <th>BorrowerAPR</th>\n",
       "      <th>BorrowerRate</th>\n",
       "      <th>EstimatedLoss</th>\n",
       "      <th>EstimatedReturn</th>\n",
       "      <th>ProsperScore</th>\n",
       "      <th>EmploymentStatusDuration</th>\n",
       "      <th>OpenRevolvingAccounts</th>\n",
       "      <th>TotalCreditLinespast7years</th>\n",
       "      <th>InquiriesLast6Months</th>\n",
       "      <th>CurrentDelinquencies</th>\n",
       "      <th>AmountDelinquent</th>\n",
       "      <th>RevolvingCreditBalance</th>\n",
       "      <th>BankcardUtilization</th>\n",
       "      <th>AvailableBankcardCredit</th>\n",
       "      <th>DebtToIncomeRatio</th>\n",
       "      <th>LoanOriginalAmount</th>\n",
       "      <th>MonthlyLoanPayment</th>\n",
       "      <th>LP_GrossPrincipalLoss</th>\n",
       "      <th>LP_NetPrincipalLoss</th>\n",
       "    </tr>\n",
       "  </thead>\n",
       "  <tbody>\n",
       "    <tr>\n",
       "      <th>0</th>\n",
       "      <td>36</td>\n",
       "      <td>0.17969</td>\n",
       "      <td>0.1435</td>\n",
       "      <td>0.0524</td>\n",
       "      <td>0.0740</td>\n",
       "      <td>4.0</td>\n",
       "      <td>1.0</td>\n",
       "      <td>8</td>\n",
       "      <td>29.0</td>\n",
       "      <td>1.0</td>\n",
       "      <td>0.0</td>\n",
       "      <td>0.0</td>\n",
       "      <td>8624.0</td>\n",
       "      <td>0.70</td>\n",
       "      <td>3626.0</td>\n",
       "      <td>0.18</td>\n",
       "      <td>4000</td>\n",
       "      <td>137.39</td>\n",
       "      <td>0.00</td>\n",
       "      <td>0.00</td>\n",
       "    </tr>\n",
       "    <tr>\n",
       "      <th>1</th>\n",
       "      <td>36</td>\n",
       "      <td>0.35797</td>\n",
       "      <td>0.3177</td>\n",
       "      <td>0.1650</td>\n",
       "      <td>0.1246</td>\n",
       "      <td>5.0</td>\n",
       "      <td>121.0</td>\n",
       "      <td>5</td>\n",
       "      <td>18.0</td>\n",
       "      <td>0.0</td>\n",
       "      <td>0.0</td>\n",
       "      <td>0.0</td>\n",
       "      <td>9103.0</td>\n",
       "      <td>0.97</td>\n",
       "      <td>178.0</td>\n",
       "      <td>0.49</td>\n",
       "      <td>4000</td>\n",
       "      <td>173.71</td>\n",
       "      <td>3790.25</td>\n",
       "      <td>3790.25</td>\n",
       "    </tr>\n",
       "    <tr>\n",
       "      <th>2</th>\n",
       "      <td>36</td>\n",
       "      <td>0.28032</td>\n",
       "      <td>0.2419</td>\n",
       "      <td>0.1075</td>\n",
       "      <td>0.1051</td>\n",
       "      <td>5.0</td>\n",
       "      <td>3.0</td>\n",
       "      <td>5</td>\n",
       "      <td>34.0</td>\n",
       "      <td>0.0</td>\n",
       "      <td>0.0</td>\n",
       "      <td>0.0</td>\n",
       "      <td>7975.0</td>\n",
       "      <td>0.84</td>\n",
       "      <td>607.0</td>\n",
       "      <td>0.39</td>\n",
       "      <td>2000</td>\n",
       "      <td>78.67</td>\n",
       "      <td>1882.27</td>\n",
       "      <td>1882.27</td>\n",
       "    </tr>\n",
       "    <tr>\n",
       "      <th>3</th>\n",
       "      <td>60</td>\n",
       "      <td>0.30748</td>\n",
       "      <td>0.2809</td>\n",
       "      <td>0.1225</td>\n",
       "      <td>0.1248</td>\n",
       "      <td>3.0</td>\n",
       "      <td>25.0</td>\n",
       "      <td>6</td>\n",
       "      <td>12.0</td>\n",
       "      <td>2.0</td>\n",
       "      <td>0.0</td>\n",
       "      <td>0.0</td>\n",
       "      <td>2033.0</td>\n",
       "      <td>0.30</td>\n",
       "      <td>3619.0</td>\n",
       "      <td>0.11</td>\n",
       "      <td>4000</td>\n",
       "      <td>124.76</td>\n",
       "      <td>0.00</td>\n",
       "      <td>0.00</td>\n",
       "    </tr>\n",
       "    <tr>\n",
       "      <th>4</th>\n",
       "      <td>36</td>\n",
       "      <td>0.11296</td>\n",
       "      <td>0.0920</td>\n",
       "      <td>0.0210</td>\n",
       "      <td>0.0608</td>\n",
       "      <td>9.0</td>\n",
       "      <td>10.0</td>\n",
       "      <td>11</td>\n",
       "      <td>49.0</td>\n",
       "      <td>2.0</td>\n",
       "      <td>0.0</td>\n",
       "      <td>0.0</td>\n",
       "      <td>7246.0</td>\n",
       "      <td>0.09</td>\n",
       "      <td>30794.0</td>\n",
       "      <td>0.26</td>\n",
       "      <td>4000</td>\n",
       "      <td>0.00</td>\n",
       "      <td>0.00</td>\n",
       "      <td>0.00</td>\n",
       "    </tr>\n",
       "  </tbody>\n",
       "</table>\n",
       "</div>"
      ],
      "text/plain": [
       "   Term  BorrowerAPR  BorrowerRate  EstimatedLoss  EstimatedReturn  \\\n",
       "0    36      0.17969        0.1435         0.0524           0.0740   \n",
       "1    36      0.35797        0.3177         0.1650           0.1246   \n",
       "2    36      0.28032        0.2419         0.1075           0.1051   \n",
       "3    60      0.30748        0.2809         0.1225           0.1248   \n",
       "4    36      0.11296        0.0920         0.0210           0.0608   \n",
       "\n",
       "   ProsperScore  EmploymentStatusDuration  OpenRevolvingAccounts  \\\n",
       "0           4.0                       1.0                      8   \n",
       "1           5.0                     121.0                      5   \n",
       "2           5.0                       3.0                      5   \n",
       "3           3.0                      25.0                      6   \n",
       "4           9.0                      10.0                     11   \n",
       "\n",
       "   TotalCreditLinespast7years  InquiriesLast6Months  CurrentDelinquencies  \\\n",
       "0                        29.0                   1.0                   0.0   \n",
       "1                        18.0                   0.0                   0.0   \n",
       "2                        34.0                   0.0                   0.0   \n",
       "3                        12.0                   2.0                   0.0   \n",
       "4                        49.0                   2.0                   0.0   \n",
       "\n",
       "   AmountDelinquent  RevolvingCreditBalance  BankcardUtilization  \\\n",
       "0               0.0                  8624.0                 0.70   \n",
       "1               0.0                  9103.0                 0.97   \n",
       "2               0.0                  7975.0                 0.84   \n",
       "3               0.0                  2033.0                 0.30   \n",
       "4               0.0                  7246.0                 0.09   \n",
       "\n",
       "   AvailableBankcardCredit  DebtToIncomeRatio  LoanOriginalAmount  \\\n",
       "0                   3626.0               0.18                4000   \n",
       "1                    178.0               0.49                4000   \n",
       "2                    607.0               0.39                2000   \n",
       "3                   3619.0               0.11                4000   \n",
       "4                  30794.0               0.26                4000   \n",
       "\n",
       "   MonthlyLoanPayment  LP_GrossPrincipalLoss  LP_NetPrincipalLoss  \n",
       "0              137.39                   0.00                 0.00  \n",
       "1              173.71                3790.25              3790.25  \n",
       "2               78.67                1882.27              1882.27  \n",
       "3              124.76                   0.00                 0.00  \n",
       "4                0.00                   0.00                 0.00  "
      ]
     },
     "execution_count": 55,
     "metadata": {},
     "output_type": "execute_result"
    }
   ],
   "source": [
    "#Data Frame for Numerical Data\n",
    "Numerical_Data=pd.DataFrame()\n",
    "for col in Numerical_Features:\n",
    "    Numerical_Data=pd.concat([ Numerical_Data, LC_Data_Updated[col]], axis= 1)\n",
    "\n",
    "Numerical_Data.head()"
   ]
  },
  {
   "cell_type": "code",
   "execution_count": 56,
   "metadata": {},
   "outputs": [
    {
     "name": "stdout",
     "output_type": "stream",
     "text": [
      "<class 'pandas.core.frame.DataFrame'>\n",
      "Index: 24886 entries, 0 to 24885\n",
      "Data columns (total 20 columns):\n",
      " #   Column                      Non-Null Count  Dtype  \n",
      "---  ------                      --------------  -----  \n",
      " 0   Term                        24886 non-null  int64  \n",
      " 1   BorrowerAPR                 24886 non-null  float64\n",
      " 2   BorrowerRate                24886 non-null  float64\n",
      " 3   EstimatedLoss               24886 non-null  float64\n",
      " 4   EstimatedReturn             24886 non-null  float64\n",
      " 5   ProsperScore                24886 non-null  float64\n",
      " 6   EmploymentStatusDuration    24886 non-null  float64\n",
      " 7   OpenRevolvingAccounts       24886 non-null  int64  \n",
      " 8   TotalCreditLinespast7years  24886 non-null  float64\n",
      " 9   InquiriesLast6Months        24886 non-null  float64\n",
      " 10  CurrentDelinquencies        24886 non-null  float64\n",
      " 11  AmountDelinquent            24886 non-null  float64\n",
      " 12  RevolvingCreditBalance      24886 non-null  float64\n",
      " 13  BankcardUtilization         24886 non-null  float64\n",
      " 14  AvailableBankcardCredit     24886 non-null  float64\n",
      " 15  DebtToIncomeRatio           24886 non-null  float64\n",
      " 16  LoanOriginalAmount          24886 non-null  int64  \n",
      " 17  MonthlyLoanPayment          24886 non-null  float64\n",
      " 18  LP_GrossPrincipalLoss       24886 non-null  float64\n",
      " 19  LP_NetPrincipalLoss         24886 non-null  float64\n",
      "dtypes: float64(17), int64(3)\n",
      "memory usage: 4.0+ MB\n"
     ]
    }
   ],
   "source": [
    "#print numerical data info\n",
    "Numerical_Data.info()"
   ]
  },
  {
   "cell_type": "code",
   "execution_count": 58,
   "metadata": {},
   "outputs": [],
   "source": [
    "#covert all into float data\n",
    "for col in Numerical_Data.columns:\n",
    "    Numerical_Data[col].astype(float)"
   ]
  },
  {
   "cell_type": "code",
   "execution_count": 59,
   "metadata": {},
   "outputs": [
    {
     "data": {
      "text/html": [
       "<div>\n",
       "<style scoped>\n",
       "    .dataframe tbody tr th:only-of-type {\n",
       "        vertical-align: middle;\n",
       "    }\n",
       "\n",
       "    .dataframe tbody tr th {\n",
       "        vertical-align: top;\n",
       "    }\n",
       "\n",
       "    .dataframe thead th {\n",
       "        text-align: right;\n",
       "    }\n",
       "</style>\n",
       "<table border=\"1\" class=\"dataframe\">\n",
       "  <thead>\n",
       "    <tr style=\"text-align: right;\">\n",
       "      <th></th>\n",
       "      <th>Term</th>\n",
       "      <th>BorrowerAPR</th>\n",
       "      <th>BorrowerRate</th>\n",
       "      <th>EstimatedLoss</th>\n",
       "      <th>EstimatedReturn</th>\n",
       "      <th>ProsperScore</th>\n",
       "      <th>EmploymentStatusDuration</th>\n",
       "      <th>OpenRevolvingAccounts</th>\n",
       "      <th>TotalCreditLinespast7years</th>\n",
       "      <th>InquiriesLast6Months</th>\n",
       "      <th>CurrentDelinquencies</th>\n",
       "      <th>AmountDelinquent</th>\n",
       "      <th>RevolvingCreditBalance</th>\n",
       "      <th>BankcardUtilization</th>\n",
       "      <th>AvailableBankcardCredit</th>\n",
       "      <th>DebtToIncomeRatio</th>\n",
       "      <th>LoanOriginalAmount</th>\n",
       "      <th>MonthlyLoanPayment</th>\n",
       "      <th>LP_GrossPrincipalLoss</th>\n",
       "      <th>LP_NetPrincipalLoss</th>\n",
       "    </tr>\n",
       "  </thead>\n",
       "  <tbody>\n",
       "    <tr>\n",
       "      <th>count</th>\n",
       "      <td>24886.000000</td>\n",
       "      <td>24886.000000</td>\n",
       "      <td>24886.000000</td>\n",
       "      <td>24886.000000</td>\n",
       "      <td>24886.000000</td>\n",
       "      <td>24886.000000</td>\n",
       "      <td>24886.000000</td>\n",
       "      <td>24886.000000</td>\n",
       "      <td>24886.000000</td>\n",
       "      <td>24886.000000</td>\n",
       "      <td>24886.000000</td>\n",
       "      <td>24886.000000</td>\n",
       "      <td>24886.000000</td>\n",
       "      <td>24886.000000</td>\n",
       "      <td>24886.000000</td>\n",
       "      <td>24886.000000</td>\n",
       "      <td>24886.000000</td>\n",
       "      <td>24886.000000</td>\n",
       "      <td>24886.000000</td>\n",
       "      <td>24886.000000</td>\n",
       "    </tr>\n",
       "    <tr>\n",
       "      <th>mean</th>\n",
       "      <td>38.516113</td>\n",
       "      <td>0.248132</td>\n",
       "      <td>0.216672</td>\n",
       "      <td>0.091436</td>\n",
       "      <td>0.106891</td>\n",
       "      <td>6.325524</td>\n",
       "      <td>94.371132</td>\n",
       "      <td>6.517158</td>\n",
       "      <td>27.207426</td>\n",
       "      <td>1.208672</td>\n",
       "      <td>0.395122</td>\n",
       "      <td>1068.675319</td>\n",
       "      <td>15278.946315</td>\n",
       "      <td>0.525123</td>\n",
       "      <td>10803.460379</td>\n",
       "      <td>0.252085</td>\n",
       "      <td>6658.237483</td>\n",
       "      <td>238.804643</td>\n",
       "      <td>1087.326617</td>\n",
       "      <td>1062.847951</td>\n",
       "    </tr>\n",
       "    <tr>\n",
       "      <th>std</th>\n",
       "      <td>10.804569</td>\n",
       "      <td>0.089344</td>\n",
       "      <td>0.083220</td>\n",
       "      <td>0.053608</td>\n",
       "      <td>0.037045</td>\n",
       "      <td>2.296085</td>\n",
       "      <td>89.331922</td>\n",
       "      <td>4.272477</td>\n",
       "      <td>14.075027</td>\n",
       "      <td>1.627192</td>\n",
       "      <td>1.289169</td>\n",
       "      <td>7463.329688</td>\n",
       "      <td>29312.135638</td>\n",
       "      <td>0.328037</td>\n",
       "      <td>19856.946263</td>\n",
       "      <td>0.391952</td>\n",
       "      <td>4969.545701</td>\n",
       "      <td>172.037226</td>\n",
       "      <td>2820.620714</td>\n",
       "      <td>2789.595265</td>\n",
       "    </tr>\n",
       "    <tr>\n",
       "      <th>min</th>\n",
       "      <td>12.000000</td>\n",
       "      <td>0.045830</td>\n",
       "      <td>0.040000</td>\n",
       "      <td>0.004900</td>\n",
       "      <td>-0.181600</td>\n",
       "      <td>1.000000</td>\n",
       "      <td>0.000000</td>\n",
       "      <td>0.000000</td>\n",
       "      <td>2.000000</td>\n",
       "      <td>0.000000</td>\n",
       "      <td>0.000000</td>\n",
       "      <td>0.000000</td>\n",
       "      <td>0.000000</td>\n",
       "      <td>0.000000</td>\n",
       "      <td>0.000000</td>\n",
       "      <td>0.000000</td>\n",
       "      <td>1000.000000</td>\n",
       "      <td>0.000000</td>\n",
       "      <td>-94.200000</td>\n",
       "      <td>-437.680000</td>\n",
       "    </tr>\n",
       "    <tr>\n",
       "      <th>25%</th>\n",
       "      <td>36.000000</td>\n",
       "      <td>0.173590</td>\n",
       "      <td>0.144900</td>\n",
       "      <td>0.050000</td>\n",
       "      <td>0.078200</td>\n",
       "      <td>5.000000</td>\n",
       "      <td>30.000000</td>\n",
       "      <td>3.000000</td>\n",
       "      <td>17.000000</td>\n",
       "      <td>0.000000</td>\n",
       "      <td>0.000000</td>\n",
       "      <td>0.000000</td>\n",
       "      <td>2168.250000</td>\n",
       "      <td>0.240000</td>\n",
       "      <td>795.250000</td>\n",
       "      <td>0.130000</td>\n",
       "      <td>3000.000000</td>\n",
       "      <td>126.670000</td>\n",
       "      <td>0.000000</td>\n",
       "      <td>0.000000</td>\n",
       "    </tr>\n",
       "    <tr>\n",
       "      <th>50%</th>\n",
       "      <td>36.000000</td>\n",
       "      <td>0.257810</td>\n",
       "      <td>0.222000</td>\n",
       "      <td>0.089000</td>\n",
       "      <td>0.111500</td>\n",
       "      <td>6.000000</td>\n",
       "      <td>66.000000</td>\n",
       "      <td>6.000000</td>\n",
       "      <td>25.000000</td>\n",
       "      <td>1.000000</td>\n",
       "      <td>0.000000</td>\n",
       "      <td>0.000000</td>\n",
       "      <td>6938.500000</td>\n",
       "      <td>0.550000</td>\n",
       "      <td>3958.000000</td>\n",
       "      <td>0.200000</td>\n",
       "      <td>5000.000000</td>\n",
       "      <td>181.490000</td>\n",
       "      <td>0.000000</td>\n",
       "      <td>0.000000</td>\n",
       "    </tr>\n",
       "    <tr>\n",
       "      <th>75%</th>\n",
       "      <td>36.000000</td>\n",
       "      <td>0.329870</td>\n",
       "      <td>0.290000</td>\n",
       "      <td>0.132500</td>\n",
       "      <td>0.135700</td>\n",
       "      <td>8.000000</td>\n",
       "      <td>132.000000</td>\n",
       "      <td>9.000000</td>\n",
       "      <td>35.000000</td>\n",
       "      <td>2.000000</td>\n",
       "      <td>0.000000</td>\n",
       "      <td>0.000000</td>\n",
       "      <td>16780.750000</td>\n",
       "      <td>0.830000</td>\n",
       "      <td>12739.750000</td>\n",
       "      <td>0.300000</td>\n",
       "      <td>9000.000000</td>\n",
       "      <td>321.680000</td>\n",
       "      <td>0.000000</td>\n",
       "      <td>0.000000</td>\n",
       "    </tr>\n",
       "    <tr>\n",
       "      <th>max</th>\n",
       "      <td>60.000000</td>\n",
       "      <td>0.423950</td>\n",
       "      <td>0.360000</td>\n",
       "      <td>0.366000</td>\n",
       "      <td>0.266700</td>\n",
       "      <td>11.000000</td>\n",
       "      <td>755.000000</td>\n",
       "      <td>47.000000</td>\n",
       "      <td>124.000000</td>\n",
       "      <td>22.000000</td>\n",
       "      <td>32.000000</td>\n",
       "      <td>327677.000000</td>\n",
       "      <td>879785.000000</td>\n",
       "      <td>2.500000</td>\n",
       "      <td>498374.000000</td>\n",
       "      <td>10.010000</td>\n",
       "      <td>35000.000000</td>\n",
       "      <td>2251.510000</td>\n",
       "      <td>25000.000000</td>\n",
       "      <td>25000.000000</td>\n",
       "    </tr>\n",
       "  </tbody>\n",
       "</table>\n",
       "</div>"
      ],
      "text/plain": [
       "               Term   BorrowerAPR  BorrowerRate  EstimatedLoss  \\\n",
       "count  24886.000000  24886.000000  24886.000000   24886.000000   \n",
       "mean      38.516113      0.248132      0.216672       0.091436   \n",
       "std       10.804569      0.089344      0.083220       0.053608   \n",
       "min       12.000000      0.045830      0.040000       0.004900   \n",
       "25%       36.000000      0.173590      0.144900       0.050000   \n",
       "50%       36.000000      0.257810      0.222000       0.089000   \n",
       "75%       36.000000      0.329870      0.290000       0.132500   \n",
       "max       60.000000      0.423950      0.360000       0.366000   \n",
       "\n",
       "       EstimatedReturn  ProsperScore  EmploymentStatusDuration  \\\n",
       "count     24886.000000  24886.000000              24886.000000   \n",
       "mean          0.106891      6.325524                 94.371132   \n",
       "std           0.037045      2.296085                 89.331922   \n",
       "min          -0.181600      1.000000                  0.000000   \n",
       "25%           0.078200      5.000000                 30.000000   \n",
       "50%           0.111500      6.000000                 66.000000   \n",
       "75%           0.135700      8.000000                132.000000   \n",
       "max           0.266700     11.000000                755.000000   \n",
       "\n",
       "       OpenRevolvingAccounts  TotalCreditLinespast7years  \\\n",
       "count           24886.000000                24886.000000   \n",
       "mean                6.517158                   27.207426   \n",
       "std                 4.272477                   14.075027   \n",
       "min                 0.000000                    2.000000   \n",
       "25%                 3.000000                   17.000000   \n",
       "50%                 6.000000                   25.000000   \n",
       "75%                 9.000000                   35.000000   \n",
       "max                47.000000                  124.000000   \n",
       "\n",
       "       InquiriesLast6Months  CurrentDelinquencies  AmountDelinquent  \\\n",
       "count          24886.000000          24886.000000      24886.000000   \n",
       "mean               1.208672              0.395122       1068.675319   \n",
       "std                1.627192              1.289169       7463.329688   \n",
       "min                0.000000              0.000000          0.000000   \n",
       "25%                0.000000              0.000000          0.000000   \n",
       "50%                1.000000              0.000000          0.000000   \n",
       "75%                2.000000              0.000000          0.000000   \n",
       "max               22.000000             32.000000     327677.000000   \n",
       "\n",
       "       RevolvingCreditBalance  BankcardUtilization  AvailableBankcardCredit  \\\n",
       "count            24886.000000         24886.000000             24886.000000   \n",
       "mean             15278.946315             0.525123             10803.460379   \n",
       "std              29312.135638             0.328037             19856.946263   \n",
       "min                  0.000000             0.000000                 0.000000   \n",
       "25%               2168.250000             0.240000               795.250000   \n",
       "50%               6938.500000             0.550000              3958.000000   \n",
       "75%              16780.750000             0.830000             12739.750000   \n",
       "max             879785.000000             2.500000            498374.000000   \n",
       "\n",
       "       DebtToIncomeRatio  LoanOriginalAmount  MonthlyLoanPayment  \\\n",
       "count       24886.000000        24886.000000        24886.000000   \n",
       "mean            0.252085         6658.237483          238.804643   \n",
       "std             0.391952         4969.545701          172.037226   \n",
       "min             0.000000         1000.000000            0.000000   \n",
       "25%             0.130000         3000.000000          126.670000   \n",
       "50%             0.200000         5000.000000          181.490000   \n",
       "75%             0.300000         9000.000000          321.680000   \n",
       "max            10.010000        35000.000000         2251.510000   \n",
       "\n",
       "       LP_GrossPrincipalLoss  LP_NetPrincipalLoss  \n",
       "count           24886.000000         24886.000000  \n",
       "mean             1087.326617          1062.847951  \n",
       "std              2820.620714          2789.595265  \n",
       "min               -94.200000          -437.680000  \n",
       "25%                 0.000000             0.000000  \n",
       "50%                 0.000000             0.000000  \n",
       "75%                 0.000000             0.000000  \n",
       "max             25000.000000         25000.000000  "
      ]
     },
     "execution_count": 59,
     "metadata": {},
     "output_type": "execute_result"
    }
   ],
   "source": [
    "#print numerical data description \n",
    "Numerical_Data.describe()"
   ]
  },
  {
   "cell_type": "code",
   "execution_count": 61,
   "metadata": {},
   "outputs": [
    {
     "name": "stdout",
     "output_type": "stream",
     "text": [
      "<class 'pandas.core.frame.DataFrame'>\n",
      "Index: 24886 entries, 0 to 24885\n",
      "Data columns (total 3 columns):\n",
      " #   Column               Non-Null Count  Dtype \n",
      "---  ------               --------------  ----- \n",
      " 0   EmploymentStatus     24886 non-null  object\n",
      " 1   IsBorrowerHomeowner  24886 non-null  bool  \n",
      " 2   IncomeRange          24886 non-null  object\n",
      "dtypes: bool(1), object(2)\n",
      "memory usage: 607.6+ KB\n"
     ]
    }
   ],
   "source": [
    "#print categorical data info \n",
    "Categorical_Data.info()"
   ]
  },
  {
   "cell_type": "code",
   "execution_count": 62,
   "metadata": {},
   "outputs": [
    {
     "name": "stdout",
     "output_type": "stream",
     "text": [
      "EmploymentStatus \n",
      "\n",
      " ['Employed' 'Other' 'Full-time' 'Part-time' 'Retired' 'Not employed'\n",
      " 'Self-employed'] \n",
      "\n",
      "\n",
      "\n",
      "IsBorrowerHomeowner \n",
      "\n",
      " [False  True] \n",
      "\n",
      "\n",
      "\n",
      "IncomeRange \n",
      "\n",
      " ['$25,000-49,999' '$50,000-74,999' '$75,000-99,999' '$100,000+'\n",
      " '$1-24,999' 'Not employed'] \n",
      "\n",
      "\n",
      "\n"
     ]
    }
   ],
   "source": [
    "#Converting Ordinal Value(Categorical Data)\n",
    "for col in Categorical_Data.columns:\n",
    "    print(col,'\\n'*2,Categorical_Data[col].unique(),'\\n'*3)"
   ]
  },
  {
   "cell_type": "code",
   "execution_count": 63,
   "metadata": {},
   "outputs": [],
   "source": [
    "#Dummy Variables\n",
    "for col in Categorical_Data.columns:\n",
    "    Dummy_Variables = pd.get_dummies(Categorical_Data[col])\n",
    "    Dummy_Variables.drop(Dummy_Variables.columns[-1],axis=1,inplace=True)# dropping one of each to reduce multicoloniearity\n",
    "    Categorical_Data = pd.concat([Categorical_Data, Dummy_Variables], axis=1)\n",
    "    Categorical_Data.drop(col, axis=1, inplace=True)"
   ]
  },
  {
   "cell_type": "code",
   "execution_count": 64,
   "metadata": {},
   "outputs": [
    {
     "data": {
      "text/html": [
       "<div>\n",
       "<style scoped>\n",
       "    .dataframe tbody tr th:only-of-type {\n",
       "        vertical-align: middle;\n",
       "    }\n",
       "\n",
       "    .dataframe tbody tr th {\n",
       "        vertical-align: top;\n",
       "    }\n",
       "\n",
       "    .dataframe thead th {\n",
       "        text-align: right;\n",
       "    }\n",
       "</style>\n",
       "<table border=\"1\" class=\"dataframe\">\n",
       "  <thead>\n",
       "    <tr style=\"text-align: right;\">\n",
       "      <th></th>\n",
       "      <th>Employed</th>\n",
       "      <th>Full-time</th>\n",
       "      <th>Not employed</th>\n",
       "      <th>Other</th>\n",
       "      <th>Part-time</th>\n",
       "      <th>Retired</th>\n",
       "      <th>False</th>\n",
       "      <th>$1-24,999</th>\n",
       "      <th>$100,000+</th>\n",
       "      <th>$25,000-49,999</th>\n",
       "      <th>$50,000-74,999</th>\n",
       "      <th>$75,000-99,999</th>\n",
       "    </tr>\n",
       "  </thead>\n",
       "  <tbody>\n",
       "    <tr>\n",
       "      <th>0</th>\n",
       "      <td>1</td>\n",
       "      <td>0</td>\n",
       "      <td>0</td>\n",
       "      <td>0</td>\n",
       "      <td>0</td>\n",
       "      <td>0</td>\n",
       "      <td>1</td>\n",
       "      <td>0</td>\n",
       "      <td>0</td>\n",
       "      <td>1</td>\n",
       "      <td>0</td>\n",
       "      <td>0</td>\n",
       "    </tr>\n",
       "    <tr>\n",
       "      <th>1</th>\n",
       "      <td>0</td>\n",
       "      <td>0</td>\n",
       "      <td>0</td>\n",
       "      <td>1</td>\n",
       "      <td>0</td>\n",
       "      <td>0</td>\n",
       "      <td>0</td>\n",
       "      <td>0</td>\n",
       "      <td>0</td>\n",
       "      <td>0</td>\n",
       "      <td>1</td>\n",
       "      <td>0</td>\n",
       "    </tr>\n",
       "    <tr>\n",
       "      <th>2</th>\n",
       "      <td>1</td>\n",
       "      <td>0</td>\n",
       "      <td>0</td>\n",
       "      <td>0</td>\n",
       "      <td>0</td>\n",
       "      <td>0</td>\n",
       "      <td>1</td>\n",
       "      <td>0</td>\n",
       "      <td>0</td>\n",
       "      <td>1</td>\n",
       "      <td>0</td>\n",
       "      <td>0</td>\n",
       "    </tr>\n",
       "    <tr>\n",
       "      <th>3</th>\n",
       "      <td>1</td>\n",
       "      <td>0</td>\n",
       "      <td>0</td>\n",
       "      <td>0</td>\n",
       "      <td>0</td>\n",
       "      <td>0</td>\n",
       "      <td>1</td>\n",
       "      <td>0</td>\n",
       "      <td>0</td>\n",
       "      <td>1</td>\n",
       "      <td>0</td>\n",
       "      <td>0</td>\n",
       "    </tr>\n",
       "    <tr>\n",
       "      <th>4</th>\n",
       "      <td>0</td>\n",
       "      <td>1</td>\n",
       "      <td>0</td>\n",
       "      <td>0</td>\n",
       "      <td>0</td>\n",
       "      <td>0</td>\n",
       "      <td>0</td>\n",
       "      <td>0</td>\n",
       "      <td>0</td>\n",
       "      <td>0</td>\n",
       "      <td>0</td>\n",
       "      <td>1</td>\n",
       "    </tr>\n",
       "  </tbody>\n",
       "</table>\n",
       "</div>"
      ],
      "text/plain": [
       "   Employed  Full-time  Not employed  Other  Part-time  Retired  False  \\\n",
       "0         1          0             0      0          0        0      1   \n",
       "1         0          0             0      1          0        0      0   \n",
       "2         1          0             0      0          0        0      1   \n",
       "3         1          0             0      0          0        0      1   \n",
       "4         0          1             0      0          0        0      0   \n",
       "\n",
       "   $1-24,999  $100,000+  $25,000-49,999  $50,000-74,999  $75,000-99,999  \n",
       "0          0          0               1               0               0  \n",
       "1          0          0               0               1               0  \n",
       "2          0          0               1               0               0  \n",
       "3          0          0               1               0               0  \n",
       "4          0          0               0               0               1  "
      ]
     },
     "execution_count": 64,
     "metadata": {},
     "output_type": "execute_result"
    }
   ],
   "source": [
    "#print categorical data head\n",
    "Categorical_Data.head()"
   ]
  },
  {
   "cell_type": "code",
   "execution_count": 65,
   "metadata": {},
   "outputs": [],
   "source": [
    "#covert into int\n",
    "for col in Categorical_Data.columns:\n",
    "    Categorical_Data[col].astype(int)"
   ]
  },
  {
   "cell_type": "code",
   "execution_count": 66,
   "metadata": {},
   "outputs": [
    {
     "data": {
      "text/plain": [
       "['Employed',\n",
       " 'Full-time',\n",
       " 'Not employed',\n",
       " 'Other',\n",
       " 'Part-time',\n",
       " 'Retired',\n",
       " False,\n",
       " '$1-24,999',\n",
       " '$100,000+',\n",
       " '$25,000-49,999',\n",
       " '$50,000-74,999',\n",
       " '$75,000-99,999']"
      ]
     },
     "execution_count": 66,
     "metadata": {},
     "output_type": "execute_result"
    }
   ],
   "source": [
    "Categorical_Data.columns.tolist()"
   ]
  },
  {
   "cell_type": "code",
   "execution_count": 67,
   "metadata": {},
   "outputs": [],
   "source": [
    "#import libraries \n",
    "from sklearn.preprocessing import StandardScaler"
   ]
  },
  {
   "cell_type": "code",
   "execution_count": 68,
   "metadata": {},
   "outputs": [],
   "source": [
    "#Scale numerical data set \n",
    "Scaler = StandardScaler()\n",
    "Scaled_Numerical_Data = pd.DataFrame(Scaler.fit_transform(Numerical_Data),columns=Numerical_Data.columns)"
   ]
  },
  {
   "cell_type": "code",
   "execution_count": 69,
   "metadata": {},
   "outputs": [
    {
     "name": "stdout",
     "output_type": "stream",
     "text": [
      "(24886, 32) (24886,)\n"
     ]
    },
    {
     "data": {
      "text/html": [
       "<div>\n",
       "<style scoped>\n",
       "    .dataframe tbody tr th:only-of-type {\n",
       "        vertical-align: middle;\n",
       "    }\n",
       "\n",
       "    .dataframe tbody tr th {\n",
       "        vertical-align: top;\n",
       "    }\n",
       "\n",
       "    .dataframe thead th {\n",
       "        text-align: right;\n",
       "    }\n",
       "</style>\n",
       "<table border=\"1\" class=\"dataframe\">\n",
       "  <thead>\n",
       "    <tr style=\"text-align: right;\">\n",
       "      <th></th>\n",
       "      <th>Term</th>\n",
       "      <th>BorrowerAPR</th>\n",
       "      <th>BorrowerRate</th>\n",
       "      <th>EstimatedLoss</th>\n",
       "      <th>EstimatedReturn</th>\n",
       "      <th>ProsperScore</th>\n",
       "      <th>EmploymentStatusDuration</th>\n",
       "      <th>OpenRevolvingAccounts</th>\n",
       "      <th>TotalCreditLinespast7years</th>\n",
       "      <th>InquiriesLast6Months</th>\n",
       "      <th>...</th>\n",
       "      <th>Not employed</th>\n",
       "      <th>Other</th>\n",
       "      <th>Part-time</th>\n",
       "      <th>Retired</th>\n",
       "      <th>False</th>\n",
       "      <th>$1-24,999</th>\n",
       "      <th>$100,000+</th>\n",
       "      <th>$25,000-49,999</th>\n",
       "      <th>$50,000-74,999</th>\n",
       "      <th>$75,000-99,999</th>\n",
       "    </tr>\n",
       "  </thead>\n",
       "  <tbody>\n",
       "    <tr>\n",
       "      <th>0</th>\n",
       "      <td>-0.232880</td>\n",
       "      <td>-0.766069</td>\n",
       "      <td>-0.879268</td>\n",
       "      <td>-0.728194</td>\n",
       "      <td>-0.887899</td>\n",
       "      <td>-1.012842</td>\n",
       "      <td>-1.045237</td>\n",
       "      <td>0.347075</td>\n",
       "      <td>0.127361</td>\n",
       "      <td>-0.128243</td>\n",
       "      <td>...</td>\n",
       "      <td>0</td>\n",
       "      <td>0</td>\n",
       "      <td>0</td>\n",
       "      <td>0</td>\n",
       "      <td>1</td>\n",
       "      <td>0</td>\n",
       "      <td>0</td>\n",
       "      <td>1</td>\n",
       "      <td>0</td>\n",
       "      <td>0</td>\n",
       "    </tr>\n",
       "    <tr>\n",
       "      <th>1</th>\n",
       "      <td>-0.232880</td>\n",
       "      <td>1.229406</td>\n",
       "      <td>1.214009</td>\n",
       "      <td>1.372296</td>\n",
       "      <td>0.478045</td>\n",
       "      <td>-0.577309</td>\n",
       "      <td>0.298095</td>\n",
       "      <td>-0.355108</td>\n",
       "      <td>-0.654181</td>\n",
       "      <td>-0.742811</td>\n",
       "      <td>...</td>\n",
       "      <td>0</td>\n",
       "      <td>1</td>\n",
       "      <td>0</td>\n",
       "      <td>0</td>\n",
       "      <td>0</td>\n",
       "      <td>0</td>\n",
       "      <td>0</td>\n",
       "      <td>0</td>\n",
       "      <td>1</td>\n",
       "      <td>0</td>\n",
       "    </tr>\n",
       "    <tr>\n",
       "      <th>2</th>\n",
       "      <td>-0.232880</td>\n",
       "      <td>0.360275</td>\n",
       "      <td>0.303157</td>\n",
       "      <td>0.299666</td>\n",
       "      <td>-0.048356</td>\n",
       "      <td>-0.577309</td>\n",
       "      <td>-1.022848</td>\n",
       "      <td>-0.355108</td>\n",
       "      <td>0.482607</td>\n",
       "      <td>-0.742811</td>\n",
       "      <td>...</td>\n",
       "      <td>0</td>\n",
       "      <td>0</td>\n",
       "      <td>0</td>\n",
       "      <td>0</td>\n",
       "      <td>1</td>\n",
       "      <td>0</td>\n",
       "      <td>0</td>\n",
       "      <td>1</td>\n",
       "      <td>0</td>\n",
       "      <td>0</td>\n",
       "    </tr>\n",
       "    <tr>\n",
       "      <th>3</th>\n",
       "      <td>1.988447</td>\n",
       "      <td>0.664275</td>\n",
       "      <td>0.771801</td>\n",
       "      <td>0.579482</td>\n",
       "      <td>0.483444</td>\n",
       "      <td>-1.448374</td>\n",
       "      <td>-0.776570</td>\n",
       "      <td>-0.121047</td>\n",
       "      <td>-1.080476</td>\n",
       "      <td>0.486325</td>\n",
       "      <td>...</td>\n",
       "      <td>0</td>\n",
       "      <td>0</td>\n",
       "      <td>0</td>\n",
       "      <td>0</td>\n",
       "      <td>1</td>\n",
       "      <td>0</td>\n",
       "      <td>0</td>\n",
       "      <td>1</td>\n",
       "      <td>0</td>\n",
       "      <td>0</td>\n",
       "    </tr>\n",
       "    <tr>\n",
       "      <th>4</th>\n",
       "      <td>-0.232880</td>\n",
       "      <td>-1.512973</td>\n",
       "      <td>-1.498118</td>\n",
       "      <td>-1.313944</td>\n",
       "      <td>-1.244232</td>\n",
       "      <td>1.164821</td>\n",
       "      <td>-0.944487</td>\n",
       "      <td>1.049258</td>\n",
       "      <td>1.548346</td>\n",
       "      <td>0.486325</td>\n",
       "      <td>...</td>\n",
       "      <td>0</td>\n",
       "      <td>0</td>\n",
       "      <td>0</td>\n",
       "      <td>0</td>\n",
       "      <td>0</td>\n",
       "      <td>0</td>\n",
       "      <td>0</td>\n",
       "      <td>0</td>\n",
       "      <td>0</td>\n",
       "      <td>1</td>\n",
       "    </tr>\n",
       "  </tbody>\n",
       "</table>\n",
       "<p>5 rows × 32 columns</p>\n",
       "</div>"
      ],
      "text/plain": [
       "       Term  BorrowerAPR  BorrowerRate  EstimatedLoss  EstimatedReturn  \\\n",
       "0 -0.232880    -0.766069     -0.879268      -0.728194        -0.887899   \n",
       "1 -0.232880     1.229406      1.214009       1.372296         0.478045   \n",
       "2 -0.232880     0.360275      0.303157       0.299666        -0.048356   \n",
       "3  1.988447     0.664275      0.771801       0.579482         0.483444   \n",
       "4 -0.232880    -1.512973     -1.498118      -1.313944        -1.244232   \n",
       "\n",
       "   ProsperScore  EmploymentStatusDuration  OpenRevolvingAccounts  \\\n",
       "0     -1.012842                 -1.045237               0.347075   \n",
       "1     -0.577309                  0.298095              -0.355108   \n",
       "2     -0.577309                 -1.022848              -0.355108   \n",
       "3     -1.448374                 -0.776570              -0.121047   \n",
       "4      1.164821                 -0.944487               1.049258   \n",
       "\n",
       "   TotalCreditLinespast7years  InquiriesLast6Months  ...  Not employed  Other  \\\n",
       "0                    0.127361             -0.128243  ...             0      0   \n",
       "1                   -0.654181             -0.742811  ...             0      1   \n",
       "2                    0.482607             -0.742811  ...             0      0   \n",
       "3                   -1.080476              0.486325  ...             0      0   \n",
       "4                    1.548346              0.486325  ...             0      0   \n",
       "\n",
       "   Part-time  Retired  False  $1-24,999  $100,000+  $25,000-49,999  \\\n",
       "0          0        0      1          0          0               1   \n",
       "1          0        0      0          0          0               0   \n",
       "2          0        0      1          0          0               1   \n",
       "3          0        0      1          0          0               1   \n",
       "4          0        0      0          0          0               0   \n",
       "\n",
       "   $50,000-74,999  $75,000-99,999  \n",
       "0               0               0  \n",
       "1               1               0  \n",
       "2               0               0  \n",
       "3               0               0  \n",
       "4               0               1  \n",
       "\n",
       "[5 rows x 32 columns]"
      ]
     },
     "execution_count": 69,
     "metadata": {},
     "output_type": "execute_result"
    }
   ],
   "source": [
    "#Merging Numerical and Categorical Data\n",
    "Independent_Variable=pd.concat([Scaled_Numerical_Data,Categorical_Data],axis=1)\n",
    "#------------------------------------------------------------------------------------------------------------------------------\n",
    "Target_Variable=LC_Data_Updated.Credit_Score\n",
    "print(Independent_Variable.shape, Target_Variable.shape)\n",
    "Independent_Variable.head()"
   ]
  },
  {
   "cell_type": "markdown",
   "metadata": {},
   "source": [
    "# Feature Engineering"
   ]
  },
  {
   "cell_type": "code",
   "execution_count": 70,
   "metadata": {},
   "outputs": [],
   "source": [
    "#import libraries \n",
    "from sklearn.ensemble import RandomForestClassifier \n",
    "from sklearn.datasets import make_classification\n",
    "from sklearn.ensemble import ExtraTreesClassifier"
   ]
  },
  {
   "cell_type": "code",
   "execution_count": 71,
   "metadata": {},
   "outputs": [
    {
     "name": "stdout",
     "output_type": "stream",
     "text": [
      "Feature ranking:\n",
      "1. feature 19 (0.298339)\n",
      "2. feature 18 (0.263283)\n",
      "3. feature 2 (0.032700)\n",
      "4. feature 1 (0.030297)\n",
      "5. feature 5 (0.027250)\n",
      "6. feature 4 (0.026640)\n",
      "7. feature 3 (0.024211)\n",
      "8. feature 6 (0.022934)\n",
      "9. feature 15 (0.022852)\n",
      "10. feature 13 (0.022754)\n",
      "11. feature 8 (0.022122)\n",
      "12. feature 14 (0.021712)\n",
      "13. feature 12 (0.021438)\n",
      "14. feature 7 (0.021300)\n",
      "15. feature 17 (0.020719)\n",
      "16. feature 16 (0.020164)\n",
      "17. feature 9 (0.017194)\n",
      "18. feature 0 (0.014788)\n",
      "19. feature 10 (0.012358)\n",
      "20. feature 11 (0.010552)\n",
      "21. feature 26 (0.008637)\n",
      "22. feature 21 (0.007637)\n",
      "23. feature 29 (0.005944)\n",
      "24. feature 20 (0.004227)\n",
      "25. feature 28 (0.004184)\n",
      "26. feature 23 (0.004104)\n",
      "27. feature 30 (0.004049)\n",
      "28. feature 31 (0.003473)\n",
      "29. feature 27 (0.003008)\n",
      "30. feature 25 (0.000572)\n",
      "31. feature 24 (0.000558)\n",
      "32. feature 22 (0.000001)\n"
     ]
    }
   ],
   "source": [
    "#data ranking based on importance regarding target variable \n",
    "forest = ExtraTreesClassifier(n_estimators=250,random_state=0)\n",
    "forest.fit(Independent_Variable, Target_Variable)\n",
    "importances = forest.feature_importances_\n",
    "std = np.std([tree.feature_importances_ for tree in forest.estimators_],axis=0)\n",
    "indices = np.argsort(importances)[::-1]\n",
    "print(\"Feature ranking:\")\n",
    "for f in range(Independent_Variable.shape[1]):\n",
    "    print(\"%d. feature %d (%f)\" % (f + 1, indices[f], importances[indices[f]]))"
   ]
  },
  {
   "cell_type": "code",
   "execution_count": 72,
   "metadata": {},
   "outputs": [
    {
     "data": {
      "text/plain": [
       "['Term',\n",
       " 'BorrowerAPR',\n",
       " 'BorrowerRate',\n",
       " 'EstimatedLoss',\n",
       " 'EstimatedReturn',\n",
       " 'ProsperScore',\n",
       " 'EmploymentStatusDuration',\n",
       " 'OpenRevolvingAccounts',\n",
       " 'TotalCreditLinespast7years',\n",
       " 'InquiriesLast6Months',\n",
       " 'CurrentDelinquencies',\n",
       " 'AmountDelinquent',\n",
       " 'RevolvingCreditBalance',\n",
       " 'BankcardUtilization',\n",
       " 'AvailableBankcardCredit',\n",
       " 'DebtToIncomeRatio',\n",
       " 'LoanOriginalAmount',\n",
       " 'MonthlyLoanPayment',\n",
       " 'LP_GrossPrincipalLoss',\n",
       " 'LP_NetPrincipalLoss',\n",
       " 'Employed',\n",
       " 'Full-time',\n",
       " 'Not employed',\n",
       " 'Other',\n",
       " 'Part-time',\n",
       " 'Retired',\n",
       " False,\n",
       " '$1-24,999',\n",
       " '$100,000+',\n",
       " '$25,000-49,999',\n",
       " '$50,000-74,999',\n",
       " '$75,000-99,999']"
      ]
     },
     "execution_count": 72,
     "metadata": {},
     "output_type": "execute_result"
    }
   ],
   "source": [
    "#column name \n",
    "Independent_Variable.columns.tolist()"
   ]
  },
  {
   "cell_type": "code",
   "execution_count": 73,
   "metadata": {},
   "outputs": [
    {
     "data": {
      "image/png": "[encoded data removed]",
      "text/plain": [
       "<Figure size 864x576 with 1 Axes>"
      ]
     },
     "metadata": {
      "needs_background": "light"
     },
     "output_type": "display_data"
    }
   ],
   "source": [
    "#figure to see importance of different variable  \n",
    "plt.figure()\n",
    "plt.title(\"Feature importances\")\n",
    "plt.bar(range(Independent_Variable.shape[1]), importances[indices],\n",
    "       color=\"r\", yerr=std[indices], align=\"center\")\n",
    "plt.xticks(range(Independent_Variable.shape[1]), indices)\n",
    "plt.xlim([-1, Independent_Variable.shape[1]])\n",
    "plt.show()"
   ]
  },
  {
   "cell_type": "code",
   "execution_count": 74,
   "metadata": {},
   "outputs": [
    {
     "name": "stdout",
     "output_type": "stream",
     "text": [
      "(24886, 32)\n"
     ]
    }
   ],
   "source": [
    "#print independent variable data shape \n",
    "print(Independent_Variable.shape)"
   ]
  },
  {
   "cell_type": "code",
   "execution_count": 75,
   "metadata": {},
   "outputs": [
    {
     "name": "stdout",
     "output_type": "stream",
     "text": [
      "0.03125000000000001\n"
     ]
    }
   ],
   "source": [
    "mean =np.mean(importances)\n",
    "print (mean)"
   ]
  },
  {
   "cell_type": "code",
   "execution_count": 76,
   "metadata": {},
   "outputs": [],
   "source": [
    "#1. feature 19  'LP_NetPrincipalLoss',\n",
    "#2. feature 18  'LP_GrossPrincipalLoss',\n",
    "#3. feature 2  'BorrowerRate',\n",
    "#4. feature 1  'BorrowerAPR',\n",
    "#5. feature 5  'ProsperScore',\n",
    "#6. feature 4  'EstimatedReturn',\n",
    "#7. feature 3  'EstimatedLoss',\n",
    "#8. feature 6  'EmploymentStatusDuration',\n",
    "#9. feature 15  'DebtToIncomeRatio',\n",
    "#10. feature 13  'BankcardUtilization',\n",
    "#11. feature 8  'TotalCreditLinespast7years',\n",
    "#12. feature 14  'AvailableBankcardCredit',\n",
    "#13. feature 12  'RevolvingCreditBalance',\n",
    "#14. feature 7  'OpenRevolvingAccounts',\n",
    "#15. feature 17  'MonthlyLoanPayment',\n",
    "#16. feature 16  'LoanOriginalAmount',\n",
    "#17. feature 9  'InquiriesLast6Months',\n",
    "#18. feature 0 'Term',\n",
    "#19. feature 10  'CurrentDelinquencies',\n",
    "#20. feature 11  'AmountDelinquent',"
   ]
  },
  {
   "cell_type": "code",
   "execution_count": 77,
   "metadata": {},
   "outputs": [],
   "source": [
    "#drop insignificant variable \n",
    "Independent_Variable.drop(columns = ['Employed','Full-time','Not employed','Other','Part-time','Retired','$1-24,999','$100,000+','$25,000-49,999','$50,000-74,999','$75,000-99,999'], inplace = True)"
   ]
  },
  {
   "cell_type": "markdown",
   "metadata": {},
   "source": [
    "# Correlation"
   ]
  },
  {
   "cell_type": "code",
   "execution_count": 78,
   "metadata": {},
   "outputs": [
    {
     "data": {
      "text/plain": [
       "BorrowerRate                BorrowerAPR              0.989747\n",
       "EstimatedLoss               BorrowerAPR              0.921305\n",
       "                            BorrowerRate             0.914292\n",
       "EstimatedReturn             BorrowerAPR              0.734547\n",
       "                            BorrowerRate             0.767819\n",
       "ProsperScore                BorrowerAPR             -0.730988\n",
       "                            BorrowerRate            -0.711754\n",
       "                            EstimatedLoss           -0.743781\n",
       "TotalCreditLinespast7years  OpenRevolvingAccounts    0.510511\n",
       "MonthlyLoanPayment          LoanOriginalAmount       0.859871\n",
       "LP_NetPrincipalLoss         LP_GrossPrincipalLoss    0.992565\n",
       "dtype: float64"
      ]
     },
     "execution_count": 78,
     "metadata": {},
     "output_type": "execute_result"
    }
   ],
   "source": [
    "#Correlation between 2 variables \n",
    "cor = Independent_Variable.corr()\n",
    "cor.loc[:,:] = np.tril(cor, k=-1) # below main lower triangle of an array\n",
    "cor = cor.stack()\n",
    "cor[(cor > 0.50) | (cor < -0.50)]"
   ]
  },
  {
   "cell_type": "code",
   "execution_count": 79,
   "metadata": {},
   "outputs": [
    {
     "data": {
      "text/html": [
       "<div>\n",
       "<style scoped>\n",
       "    .dataframe tbody tr th:only-of-type {\n",
       "        vertical-align: middle;\n",
       "    }\n",
       "\n",
       "    .dataframe tbody tr th {\n",
       "        vertical-align: top;\n",
       "    }\n",
       "\n",
       "    .dataframe thead th {\n",
       "        text-align: right;\n",
       "    }\n",
       "</style>\n",
       "<table border=\"1\" class=\"dataframe\">\n",
       "  <thead>\n",
       "    <tr style=\"text-align: right;\">\n",
       "      <th></th>\n",
       "      <th>Term</th>\n",
       "      <th>BorrowerAPR</th>\n",
       "      <th>BorrowerRate</th>\n",
       "      <th>EstimatedLoss</th>\n",
       "      <th>EstimatedReturn</th>\n",
       "      <th>ProsperScore</th>\n",
       "      <th>EmploymentStatusDuration</th>\n",
       "      <th>OpenRevolvingAccounts</th>\n",
       "      <th>TotalCreditLinespast7years</th>\n",
       "      <th>InquiriesLast6Months</th>\n",
       "      <th>...</th>\n",
       "      <th>AmountDelinquent</th>\n",
       "      <th>RevolvingCreditBalance</th>\n",
       "      <th>BankcardUtilization</th>\n",
       "      <th>AvailableBankcardCredit</th>\n",
       "      <th>DebtToIncomeRatio</th>\n",
       "      <th>LoanOriginalAmount</th>\n",
       "      <th>MonthlyLoanPayment</th>\n",
       "      <th>LP_GrossPrincipalLoss</th>\n",
       "      <th>LP_NetPrincipalLoss</th>\n",
       "      <th>False</th>\n",
       "    </tr>\n",
       "  </thead>\n",
       "  <tbody>\n",
       "    <tr>\n",
       "      <th>Term</th>\n",
       "      <td>1.000000</td>\n",
       "      <td>0.038045</td>\n",
       "      <td>0.121338</td>\n",
       "      <td>-0.042744</td>\n",
       "      <td>0.319602</td>\n",
       "      <td>-0.063418</td>\n",
       "      <td>0.048411</td>\n",
       "      <td>0.037768</td>\n",
       "      <td>0.046288</td>\n",
       "      <td>-0.003589</td>\n",
       "      <td>...</td>\n",
       "      <td>-0.002648</td>\n",
       "      <td>0.019127</td>\n",
       "      <td>0.031117</td>\n",
       "      <td>-0.025538</td>\n",
       "      <td>0.021239</td>\n",
       "      <td>0.360000</td>\n",
       "      <td>0.027285</td>\n",
       "      <td>0.231034</td>\n",
       "      <td>0.232664</td>\n",
       "      <td>-0.043854</td>\n",
       "    </tr>\n",
       "    <tr>\n",
       "      <th>BorrowerAPR</th>\n",
       "      <td>0.038045</td>\n",
       "      <td>1.000000</td>\n",
       "      <td>0.989747</td>\n",
       "      <td>0.921305</td>\n",
       "      <td>0.734547</td>\n",
       "      <td>-0.730988</td>\n",
       "      <td>0.028415</td>\n",
       "      <td>-0.098792</td>\n",
       "      <td>0.030647</td>\n",
       "      <td>0.281906</td>\n",
       "      <td>...</td>\n",
       "      <td>0.062803</td>\n",
       "      <td>-0.035050</td>\n",
       "      <td>0.324518</td>\n",
       "      <td>-0.407280</td>\n",
       "      <td>0.127191</td>\n",
       "      <td>-0.308042</td>\n",
       "      <td>-0.195840</td>\n",
       "      <td>0.089869</td>\n",
       "      <td>0.088599</td>\n",
       "      <td>0.094492</td>\n",
       "    </tr>\n",
       "    <tr>\n",
       "      <th>BorrowerRate</th>\n",
       "      <td>0.121338</td>\n",
       "      <td>0.989747</td>\n",
       "      <td>1.000000</td>\n",
       "      <td>0.914292</td>\n",
       "      <td>0.767819</td>\n",
       "      <td>-0.711754</td>\n",
       "      <td>0.028006</td>\n",
       "      <td>-0.095999</td>\n",
       "      <td>0.031948</td>\n",
       "      <td>0.277811</td>\n",
       "      <td>...</td>\n",
       "      <td>0.057674</td>\n",
       "      <td>-0.033403</td>\n",
       "      <td>0.319018</td>\n",
       "      <td>-0.396225</td>\n",
       "      <td>0.125898</td>\n",
       "      <td>-0.287874</td>\n",
       "      <td>-0.211033</td>\n",
       "      <td>0.102306</td>\n",
       "      <td>0.100991</td>\n",
       "      <td>0.084503</td>\n",
       "    </tr>\n",
       "    <tr>\n",
       "      <th>EstimatedLoss</th>\n",
       "      <td>-0.042744</td>\n",
       "      <td>0.921305</td>\n",
       "      <td>0.914292</td>\n",
       "      <td>1.000000</td>\n",
       "      <td>0.446376</td>\n",
       "      <td>-0.743781</td>\n",
       "      <td>0.023205</td>\n",
       "      <td>-0.105743</td>\n",
       "      <td>0.028741</td>\n",
       "      <td>0.316732</td>\n",
       "      <td>...</td>\n",
       "      <td>0.061476</td>\n",
       "      <td>-0.048773</td>\n",
       "      <td>0.293121</td>\n",
       "      <td>-0.368314</td>\n",
       "      <td>0.118731</td>\n",
       "      <td>-0.348672</td>\n",
       "      <td>-0.230795</td>\n",
       "      <td>0.044618</td>\n",
       "      <td>0.043527</td>\n",
       "      <td>0.081932</td>\n",
       "    </tr>\n",
       "    <tr>\n",
       "      <th>EstimatedReturn</th>\n",
       "      <td>0.319602</td>\n",
       "      <td>0.734547</td>\n",
       "      <td>0.767819</td>\n",
       "      <td>0.446376</td>\n",
       "      <td>1.000000</td>\n",
       "      <td>-0.374588</td>\n",
       "      <td>0.020208</td>\n",
       "      <td>-0.053642</td>\n",
       "      <td>0.021112</td>\n",
       "      <td>0.113892</td>\n",
       "      <td>...</td>\n",
       "      <td>0.030180</td>\n",
       "      <td>0.001698</td>\n",
       "      <td>0.240287</td>\n",
       "      <td>-0.299334</td>\n",
       "      <td>0.087458</td>\n",
       "      <td>-0.093968</td>\n",
       "      <td>-0.106210</td>\n",
       "      <td>0.161920</td>\n",
       "      <td>0.160453</td>\n",
       "      <td>0.058462</td>\n",
       "    </tr>\n",
       "  </tbody>\n",
       "</table>\n",
       "<p>5 rows × 21 columns</p>\n",
       "</div>"
      ],
      "text/plain": [
       "                     Term  BorrowerAPR  BorrowerRate  EstimatedLoss  \\\n",
       "Term             1.000000     0.038045      0.121338      -0.042744   \n",
       "BorrowerAPR      0.038045     1.000000      0.989747       0.921305   \n",
       "BorrowerRate     0.121338     0.989747      1.000000       0.914292   \n",
       "EstimatedLoss   -0.042744     0.921305      0.914292       1.000000   \n",
       "EstimatedReturn  0.319602     0.734547      0.767819       0.446376   \n",
       "\n",
       "                 EstimatedReturn  ProsperScore  EmploymentStatusDuration  \\\n",
       "Term                    0.319602     -0.063418                  0.048411   \n",
       "BorrowerAPR             0.734547     -0.730988                  0.028415   \n",
       "BorrowerRate            0.767819     -0.711754                  0.028006   \n",
       "EstimatedLoss           0.446376     -0.743781                  0.023205   \n",
       "EstimatedReturn         1.000000     -0.374588                  0.020208   \n",
       "\n",
       "                 OpenRevolvingAccounts  TotalCreditLinespast7years  \\\n",
       "Term                          0.037768                    0.046288   \n",
       "BorrowerAPR                  -0.098792                    0.030647   \n",
       "BorrowerRate                 -0.095999                    0.031948   \n",
       "EstimatedLoss                -0.105743                    0.028741   \n",
       "EstimatedReturn              -0.053642                    0.021112   \n",
       "\n",
       "                 InquiriesLast6Months  ...  AmountDelinquent  \\\n",
       "Term                        -0.003589  ...         -0.002648   \n",
       "BorrowerAPR                  0.281906  ...          0.062803   \n",
       "BorrowerRate                 0.277811  ...          0.057674   \n",
       "EstimatedLoss                0.316732  ...          0.061476   \n",
       "EstimatedReturn              0.113892  ...          0.030180   \n",
       "\n",
       "                 RevolvingCreditBalance  BankcardUtilization  \\\n",
       "Term                           0.019127             0.031117   \n",
       "BorrowerAPR                   -0.035050             0.324518   \n",
       "BorrowerRate                  -0.033403             0.319018   \n",
       "EstimatedLoss                 -0.048773             0.293121   \n",
       "EstimatedReturn                0.001698             0.240287   \n",
       "\n",
       "                 AvailableBankcardCredit  DebtToIncomeRatio  \\\n",
       "Term                           -0.025538           0.021239   \n",
       "BorrowerAPR                    -0.407280           0.127191   \n",
       "BorrowerRate                   -0.396225           0.125898   \n",
       "EstimatedLoss                  -0.368314           0.118731   \n",
       "EstimatedReturn                -0.299334           0.087458   \n",
       "\n",
       "                 LoanOriginalAmount  MonthlyLoanPayment  \\\n",
       "Term                       0.360000            0.027285   \n",
       "BorrowerAPR               -0.308042           -0.195840   \n",
       "BorrowerRate              -0.287874           -0.211033   \n",
       "EstimatedLoss             -0.348672           -0.230795   \n",
       "EstimatedReturn           -0.093968           -0.106210   \n",
       "\n",
       "                 LP_GrossPrincipalLoss  LP_NetPrincipalLoss     False  \n",
       "Term                          0.231034             0.232664 -0.043854  \n",
       "BorrowerAPR                   0.089869             0.088599  0.094492  \n",
       "BorrowerRate                  0.102306             0.100991  0.084503  \n",
       "EstimatedLoss                 0.044618             0.043527  0.081932  \n",
       "EstimatedReturn               0.161920             0.160453  0.058462  \n",
       "\n",
       "[5 rows x 21 columns]"
      ]
     },
     "execution_count": 79,
     "metadata": {},
     "output_type": "execute_result"
    }
   ],
   "source": [
    "# method : {‘pearson’, ‘kendall’, ‘spearman’} or callable\n",
    "Correlation_Variables = Independent_Variable.corr(method='pearson')\n",
    "Correlation_Variables.head()"
   ]
  },
  {
   "cell_type": "code",
   "execution_count": 80,
   "metadata": {},
   "outputs": [
    {
     "data": {
      "image/png": "[encoded data removed]",
      "text/plain": [
       "<Figure size 1152x576 with 2 Axes>"
      ]
     },
     "metadata": {
      "needs_background": "light"
     },
     "output_type": "display_data"
    }
   ],
   "source": [
    "#Visualization\n",
    "fig, axs = plt.subplots(1,2,figsize=(16,8))\n",
    "sns.countplot(x='Credit_Score',data=LC_Data_Updated,ax=axs[0])\n",
    "axs[0].set_title(\"Frequency of Credit Score\")\n",
    "LC_Data_Updated.Credit_Score.value_counts().plot(x=None,y=None, kind='pie', ax=axs[1],autopct='%1.2f%%')\n",
    "axs[1].set_title(\"Percentage of Credit Score\")\n",
    "plt.show()"
   ]
  },
  {
   "cell_type": "code",
   "execution_count": 81,
   "metadata": {},
   "outputs": [
    {
     "data": {
      "text/plain": [
       "<matplotlib.axes._subplots.AxesSubplot at 0x23cf6793908>"
      ]
     },
     "execution_count": 81,
     "metadata": {},
     "output_type": "execute_result"
    },
    {
     "data": {
      "image/png": "[encoded data removed]",
      "text/plain": [
       "<Figure size 864x576 with 2 Axes>"
      ]
     },
     "metadata": {
      "needs_background": "light"
     },
     "output_type": "display_data"
    }
   ],
   "source": [
    "#coorelation metrix in graph \n",
    "sns.heatmap(Correlation_Variables) # Heat Map"
   ]
  },
  {
   "cell_type": "code",
   "execution_count": 82,
   "metadata": {},
   "outputs": [
    {
     "data": {
      "text/plain": [
       "<matplotlib.axes._subplots.AxesSubplot at 0x23c81002088>"
      ]
     },
     "execution_count": 82,
     "metadata": {},
     "output_type": "execute_result"
    },
    {
     "data": {
      "image/png": "[encoded data removed]",
      "text/plain": [
       "<Figure size 864x576 with 2 Axes>"
      ]
     },
     "metadata": {
      "needs_background": "light"
     },
     "output_type": "display_data"
    }
   ],
   "source": [
    "# Removing Top Right Triangle\n",
    "mask = np.zeros_like(Correlation_Variables, dtype=np.bool)\n",
    "mask[np.triu_indices_from(mask)] = True\n",
    "#Colors\n",
    "cmap = sns.diverging_palette(240, 10, as_cmap=True)\n",
    "sns.heatmap(Correlation_Variables, mask=mask, linewidths=.15, cmap=cmap, center=0)\n"
   ]
  },
  {
   "cell_type": "code",
   "execution_count": 83,
   "metadata": {},
   "outputs": [],
   "source": [
    "#drop independent variables which is highly correlated \n",
    "Independent_Variable.drop(columns = ['BorrowerAPR','LP_GrossPrincipalLoss','BorrowerRate','LoanOriginalAmount'], inplace = True)"
   ]
  },
  {
   "cell_type": "code",
   "execution_count": 84,
   "metadata": {},
   "outputs": [
    {
     "data": {
      "text/plain": [
       "Term                         -0.176997\n",
       "EstimatedLoss                -0.216701\n",
       "EstimatedReturn              -0.223667\n",
       "ProsperScore                  0.236467\n",
       "EmploymentStatusDuration     -0.010766\n",
       "OpenRevolvingAccounts         0.050231\n",
       "TotalCreditLinespast7years    0.044272\n",
       "InquiriesLast6Months         -0.079586\n",
       "CurrentDelinquencies         -0.084439\n",
       "AmountDelinquent             -0.025570\n",
       "RevolvingCreditBalance        0.030948\n",
       "BankcardUtilization          -0.032660\n",
       "AvailableBankcardCredit       0.102749\n",
       "DebtToIncomeRatio            -0.074376\n",
       "MonthlyLoanPayment           -0.001451\n",
       "LP_NetPrincipalLoss          -0.597973\n",
       "False                        -0.043814\n",
       "dtype: float64"
      ]
     },
     "execution_count": 84,
     "metadata": {},
     "output_type": "execute_result"
    }
   ],
   "source": [
    "#correlation with target variable \n",
    "Independent_Variable.corrwith(Target_Variable, axis = 0)"
   ]
  },
  {
   "cell_type": "code",
   "execution_count": 85,
   "metadata": {},
   "outputs": [
    {
     "data": {
      "text/plain": [
       "ProsperScore                EstimatedLoss           -0.743781\n",
       "TotalCreditLinespast7years  OpenRevolvingAccounts    0.510511\n",
       "dtype: float64"
      ]
     },
     "execution_count": 85,
     "metadata": {},
     "output_type": "execute_result"
    }
   ],
   "source": [
    "#correlation with independent variable \n",
    "cor = Independent_Variable.corr()\n",
    "cor.loc[:,:] = np.tril(cor, k=-1) # below main lower triangle of an array\n",
    "cor = cor.stack()\n",
    "cor[(cor > 0.50) | (cor < -0.50)]"
   ]
  },
  {
   "cell_type": "code",
   "execution_count": 86,
   "metadata": {},
   "outputs": [
    {
     "data": {
      "text/plain": [
       "['Term',\n",
       " 'EstimatedLoss',\n",
       " 'EstimatedReturn',\n",
       " 'ProsperScore',\n",
       " 'EmploymentStatusDuration',\n",
       " 'OpenRevolvingAccounts',\n",
       " 'TotalCreditLinespast7years',\n",
       " 'InquiriesLast6Months',\n",
       " 'CurrentDelinquencies',\n",
       " 'AmountDelinquent',\n",
       " 'RevolvingCreditBalance',\n",
       " 'BankcardUtilization',\n",
       " 'AvailableBankcardCredit',\n",
       " 'DebtToIncomeRatio',\n",
       " 'MonthlyLoanPayment',\n",
       " 'LP_NetPrincipalLoss',\n",
       " False]"
      ]
     },
     "execution_count": 86,
     "metadata": {},
     "output_type": "execute_result"
    }
   ],
   "source": [
    "Independent_Variable.columns.tolist()"
   ]
  },
  {
   "cell_type": "markdown",
   "metadata": {},
   "source": [
    "# Graphical Representation"
   ]
  },
  {
   "cell_type": "code",
   "execution_count": 88,
   "metadata": {},
   "outputs": [
    {
     "data": {
      "text/plain": [
       "<matplotlib.axes._subplots.AxesSubplot at 0x23c81607b88>"
      ]
     },
     "execution_count": 88,
     "metadata": {},
     "output_type": "execute_result"
    },
    {
     "data": {
      "image/png": "[encoded data removed]",
      "text/plain": [
       "<Figure size 1440x360 with 1 Axes>"
      ]
     },
     "metadata": {
      "needs_background": "light"
     },
     "output_type": "display_data"
    }
   ],
   "source": [
    "plt.subplots(figsize = (20,5))\n",
    "sns.countplot(x = 'Term', hue = 'Credit_Score', data = LC_Data_Updated)"
   ]
  },
  {
   "cell_type": "code",
   "execution_count": 89,
   "metadata": {},
   "outputs": [
    {
     "data": {
      "text/plain": [
       "<matplotlib.axes._subplots.AxesSubplot at 0x23c8166f208>"
      ]
     },
     "execution_count": 89,
     "metadata": {},
     "output_type": "execute_result"
    },
    {
     "data": {
      "image/png": "[encoded data removed]",
      "text/plain": [
       "<Figure size 1440x360 with 1 Axes>"
      ]
     },
     "metadata": {
      "needs_background": "light"
     },
     "output_type": "display_data"
    }
   ],
   "source": [
    "plt.subplots(figsize = (20,5))\n",
    "sns.countplot(x = 'EstimatedLoss', hue = 'Credit_Score', data = LC_Data_Updated)"
   ]
  },
  {
   "cell_type": "code",
   "execution_count": 90,
   "metadata": {},
   "outputs": [
    {
     "data": {
      "text/plain": [
       "<matplotlib.axes._subplots.AxesSubplot at 0x23c81d9e708>"
      ]
     },
     "execution_count": 90,
     "metadata": {},
     "output_type": "execute_result"
    },
    {
     "data": {
      "image/png": "[encoded data removed]",
      "text/plain": [
       "<Figure size 1440x360 with 1 Axes>"
      ]
     },
     "metadata": {
      "needs_background": "light"
     },
     "output_type": "display_data"
    }
   ],
   "source": [
    "plt.subplots(figsize = (20,5))\n",
    "sns.countplot(x = 'EstimatedReturn', hue = 'Credit_Score', data = LC_Data_Updated)"
   ]
  },
  {
   "cell_type": "code",
   "execution_count": 91,
   "metadata": {},
   "outputs": [
    {
     "data": {
      "text/plain": [
       "<matplotlib.axes._subplots.AxesSubplot at 0x23c846bfe08>"
      ]
     },
     "execution_count": 91,
     "metadata": {},
     "output_type": "execute_result"
    },
    {
     "data": {
      "image/png": "[encoded data removed]",
      "text/plain": [
       "<Figure size 1440x360 with 1 Axes>"
      ]
     },
     "metadata": {
      "needs_background": "light"
     },
     "output_type": "display_data"
    }
   ],
   "source": [
    "plt.subplots(figsize = (20,5))\n",
    "sns.countplot(x = 'ProsperScore', hue = 'Credit_Score', data = LC_Data_Updated)"
   ]
  },
  {
   "cell_type": "code",
   "execution_count": 92,
   "metadata": {},
   "outputs": [
    {
     "data": {
      "text/plain": [
       "<matplotlib.axes._subplots.AxesSubplot at 0x23c82c96748>"
      ]
     },
     "execution_count": 92,
     "metadata": {},
     "output_type": "execute_result"
    },
    {
     "data": {
      "image/png": "[encoded data removed]",
      "text/plain": [
       "<Figure size 1440x360 with 1 Axes>"
      ]
     },
     "metadata": {
      "needs_background": "light"
     },
     "output_type": "display_data"
    }
   ],
   "source": [
    "plt.subplots(figsize = (20,5))\n",
    "sns.countplot(x = 'EmploymentStatusDuration', hue = 'Credit_Score', data = LC_Data_Updated)"
   ]
  },
  {
   "cell_type": "code",
   "execution_count": 93,
   "metadata": {},
   "outputs": [
    {
     "data": {
      "text/plain": [
       "<matplotlib.axes._subplots.AxesSubplot at 0x23c85a71e08>"
      ]
     },
     "execution_count": 93,
     "metadata": {},
     "output_type": "execute_result"
    },
    {
     "data": {
      "image/png": "[encoded data removed]",
      "text/plain": [
       "<Figure size 1440x360 with 1 Axes>"
      ]
     },
     "metadata": {
      "needs_background": "light"
     },
     "output_type": "display_data"
    }
   ],
   "source": [
    "plt.subplots(figsize = (20,5))\n",
    "sns.countplot(x = 'OpenRevolvingAccounts', hue = 'Credit_Score', data = LC_Data_Updated)"
   ]
  },
  {
   "cell_type": "code",
   "execution_count": 94,
   "metadata": {},
   "outputs": [
    {
     "data": {
      "text/plain": [
       "<matplotlib.axes._subplots.AxesSubplot at 0x23c87a66208>"
      ]
     },
     "execution_count": 94,
     "metadata": {},
     "output_type": "execute_result"
    },
    {
     "data": {
      "image/png": "[encoded data removed]",
      "text/plain": [
       "<Figure size 1440x360 with 1 Axes>"
      ]
     },
     "metadata": {
      "needs_background": "light"
     },
     "output_type": "display_data"
    }
   ],
   "source": [
    "plt.subplots(figsize = (20,5))\n",
    "sns.countplot(x = 'TotalCreditLinespast7years', hue = 'Credit_Score', data = LC_Data_Updated)"
   ]
  },
  {
   "cell_type": "code",
   "execution_count": 95,
   "metadata": {},
   "outputs": [
    {
     "data": {
      "text/plain": [
       "<matplotlib.axes._subplots.AxesSubplot at 0x23c88224788>"
      ]
     },
     "execution_count": 95,
     "metadata": {},
     "output_type": "execute_result"
    },
    {
     "data": {
      "image/png": "[encoded data removed]",
      "text/plain": [
       "<Figure size 1440x360 with 1 Axes>"
      ]
     },
     "metadata": {
      "needs_background": "light"
     },
     "output_type": "display_data"
    }
   ],
   "source": [
    "plt.subplots(figsize = (20,5))\n",
    "sns.countplot(x = 'InquiriesLast6Months', hue = 'Credit_Score', data = LC_Data_Updated)"
   ]
  },
  {
   "cell_type": "code",
   "execution_count": 96,
   "metadata": {},
   "outputs": [
    {
     "data": {
      "text/plain": [
       "<matplotlib.axes._subplots.AxesSubplot at 0x23c882e0448>"
      ]
     },
     "execution_count": 96,
     "metadata": {},
     "output_type": "execute_result"
    },
    {
     "data": {
      "image/png": "[encoded data removed]",
      "text/plain": [
       "<Figure size 1440x360 with 1 Axes>"
      ]
     },
     "metadata": {
      "needs_background": "light"
     },
     "output_type": "display_data"
    }
   ],
   "source": [
    "plt.subplots(figsize = (20,5))\n",
    "sns.countplot(x = 'CurrentDelinquencies', hue = 'Credit_Score', data = LC_Data_Updated)"
   ]
  },
  {
   "cell_type": "code",
   "execution_count": 97,
   "metadata": {},
   "outputs": [
    {
     "data": {
      "text/plain": [
       "<matplotlib.axes._subplots.AxesSubplot at 0x23c88322648>"
      ]
     },
     "execution_count": 97,
     "metadata": {},
     "output_type": "execute_result"
    },
    {
     "data": {
      "image/png": "[encoded data removed]",
      "text/plain": [
       "<Figure size 1440x360 with 1 Axes>"
      ]
     },
     "metadata": {
      "needs_background": "light"
     },
     "output_type": "display_data"
    }
   ],
   "source": [
    "plt.subplots(figsize = (20,5))\n",
    "sns.countplot(x = 'BankcardUtilization', hue = 'Credit_Score', data = LC_Data_Updated)"
   ]
  },
  {
   "cell_type": "code",
   "execution_count": 98,
   "metadata": {},
   "outputs": [
    {
     "data": {
      "text/plain": [
       "<matplotlib.axes._subplots.AxesSubplot at 0x23c886412c8>"
      ]
     },
     "execution_count": 98,
     "metadata": {},
     "output_type": "execute_result"
    },
    {
     "data": {
      "image/png": "[encoded data removed]",
      "text/plain": [
       "<Figure size 1440x360 with 1 Axes>"
      ]
     },
     "metadata": {
      "needs_background": "light"
     },
     "output_type": "display_data"
    }
   ],
   "source": [
    "plt.subplots(figsize = (20,5))\n",
    "sns.countplot(x = 'DebtToIncomeRatio', hue = 'Credit_Score', data = LC_Data_Updated)"
   ]
  },
  {
   "cell_type": "markdown",
   "metadata": {},
   "source": [
    "# Train-Test Split"
   ]
  },
  {
   "cell_type": "code",
   "execution_count": 99,
   "metadata": {},
   "outputs": [],
   "source": [
    "#import required libraries\n",
    "from sklearn.model_selection import KFold\n",
    "from sklearn.linear_model import LogisticRegression\n",
    "from sklearn.model_selection import cross_val_predict\n",
    "from sklearn.ensemble import RandomForestClassifier\n",
    "from sklearn.model_selection import train_test_split\n",
    "from sklearn.tree import DecisionTreeClassifier\n",
    "from sklearn.metrics import accuracy_score, confusion_matrix, classification_report\n",
    "from sklearn import svm\n",
    "from sklearn.pipeline import Pipeline\n",
    "from sklearn.metrics import recall_score\n",
    "import statsmodels.api as sm\n",
    "from statsmodels.formula.api import ols\n",
    "from sklearn.decomposition import PCA\n",
    "import warnings\n",
    "\n",
    "import itertools\n",
    "\n",
    "from imblearn.over_sampling import SMOTE"
   ]
  },
  {
   "cell_type": "code",
   "execution_count": 100,
   "metadata": {},
   "outputs": [],
   "source": [
    "#split dataset into train and test \n",
    "X_train, X_test, y_train, y_test = train_test_split(Independent_Variable, Target_Variable, test_size=0.2, random_state=42)"
   ]
  },
  {
   "cell_type": "code",
   "execution_count": 101,
   "metadata": {},
   "outputs": [
    {
     "name": "stdout",
     "output_type": "stream",
     "text": [
      "(19908, 17) (19908,)\n",
      "(4978, 17) (4978,)\n"
     ]
    }
   ],
   "source": [
    "#print train & test data shape \n",
    "print (X_train.shape, y_train.shape)\n",
    "print (X_test.shape, y_test.shape)"
   ]
  },
  {
   "cell_type": "markdown",
   "metadata": {},
   "source": [
    "# Undersampling"
   ]
  },
  {
   "cell_type": "code",
   "execution_count": 102,
   "metadata": {},
   "outputs": [
    {
     "name": "stdout",
     "output_type": "stream",
     "text": [
      "Number of X_train data:  (19908, 17)\n",
      "Number of y_train data:  (19908,)\n",
      "Number of X_test data:  (4978, 17)\n",
      "Number of y_test data:  (4978,)\n"
     ]
    }
   ],
   "source": [
    "# describes info about train and test set \n",
    "print(\"Number of X_train data: \", X_train.shape) \n",
    "print(\"Number of y_train data: \", y_train.shape) \n",
    "print(\"Number of X_test data: \", X_test.shape) \n",
    "print(\"Number of y_test data: \", y_test.shape) "
   ]
  },
  {
   "cell_type": "code",
   "execution_count": 103,
   "metadata": {},
   "outputs": [
    {
     "name": "stdout",
     "output_type": "stream",
     "text": [
      "Before UnderSampling, counts of label '1': 14162\n",
      "Before UnderSampling, counts of label '0': 5746 \n",
      "\n"
     ]
    }
   ],
   "source": [
    "#print before undersampling data \n",
    "print(\"Before UnderSampling, counts of label '1': {}\".format(sum(y_train == 1))) \n",
    "print(\"Before UnderSampling, counts of label '0': {} \\n\".format(sum(y_train == 0))) "
   ]
  },
  {
   "cell_type": "code",
   "execution_count": 104,
   "metadata": {},
   "outputs": [],
   "source": [
    "#import required libraries \n",
    "from imblearn.under_sampling import RandomUnderSampler"
   ]
  },
  {
   "cell_type": "code",
   "execution_count": 105,
   "metadata": {},
   "outputs": [],
   "source": [
    "#undersampling \n",
    "rus = RandomUnderSampler(random_state= 42)\n",
    "X_train_Undersample, y_train_Undersample = rus.fit_sample(X_train, y_train)"
   ]
  },
  {
   "cell_type": "code",
   "execution_count": 106,
   "metadata": {},
   "outputs": [
    {
     "name": "stdout",
     "output_type": "stream",
     "text": [
      "After Undersampling of data, the shape of train_X: (11492, 17)\n",
      "After Undersampling of data, the shape of train_y: (11492,) \n",
      "\n",
      "After Undersampling of data, counts of label '1': 5746\n",
      "After Undersampling of data, counts of label '0': 5746\n"
     ]
    }
   ],
   "source": [
    "#print data set after undersampling \n",
    "print('After Undersampling of data, the shape of train_X: {}'.format(X_train_Undersample.shape)) \n",
    "print('After Undersampling of data, the shape of train_y: {} \\n'.format(y_train_Undersample.shape)) \n",
    "  \n",
    "print(\"After Undersampling of data, counts of label '1': {}\".format(sum(y_train_Undersample == 1))) \n",
    "print(\"After Undersampling of data, counts of label '0': {}\".format(sum(y_train_Undersample == 0))) "
   ]
  },
  {
   "cell_type": "markdown",
   "metadata": {},
   "source": [
    "# Evaluation Metrics"
   ]
  },
  {
   "cell_type": "code",
   "execution_count": 107,
   "metadata": {},
   "outputs": [],
   "source": [
    "#import required libraries\n",
    "from sklearn.metrics import roc_curve\n",
    "from sklearn.metrics import roc_auc_score\n",
    "from sklearn.naive_bayes import GaussianNB"
   ]
  },
  {
   "cell_type": "code",
   "execution_count": 108,
   "metadata": {},
   "outputs": [],
   "source": [
    "#Confusion Matrics\n",
    "def plot_confusion_matrix(cm, classes,\n",
    "                          normalize=False,\n",
    "                          title='Confusion matrix',\n",
    "                          cmap=plt.cm.Blues):\n",
    "    \n",
    "    if normalize:\n",
    "        cm = cm.astype('float') / cm.sum(axis=1)[:, np.newaxis]\n",
    "        print(\"Normalized confusion matrix\")\n",
    "    else:\n",
    "        print('Confusion matrix, without normalization')\n",
    "\n",
    "    print(cm)\n",
    "\n",
    "    plt.imshow(cm, interpolation='nearest', cmap=cmap)\n",
    "    plt.title(title)\n",
    "    plt.colorbar()\n",
    "    tick_marks = np.arange(len(classes))\n",
    "    plt.xticks(tick_marks, classes, rotation=45)\n",
    "    plt.yticks(tick_marks, classes)\n",
    "\n",
    "    thresh = cm.max() / 2.\n",
    "    for i, j in itertools.product(range(cm.shape[0]), range(cm.shape[1])):\n",
    "        plt.text(j, i, format(cm[i, j]),\n",
    "                 horizontalalignment=\"center\",\n",
    "                 color=\"white\" if cm[i, j] > thresh else \"black\")\n",
    "\n",
    "    plt.ylabel('True label')\n",
    "    plt.xlabel('Predicted label')\n",
    "    plt.tight_layout()"
   ]
  },
  {
   "cell_type": "code",
   "execution_count": 109,
   "metadata": {},
   "outputs": [],
   "source": [
    "#ROC Curve\n",
    "from sklearn.metrics import roc_curve\n",
    "from sklearn.metrics import roc_auc_score"
   ]
  },
  {
   "cell_type": "code",
   "execution_count": 110,
   "metadata": {},
   "outputs": [],
   "source": [
    "#roc curve function \n",
    "def plot_roc_curve(fpr, tpr):\n",
    "    plt.plot(fpr, tpr, color='orange', label='ROC')\n",
    "    plt.plot([0, 1], [0, 1], color='darkblue', linestyle='--')\n",
    "    plt.xlabel('False Positive Rate')\n",
    "    plt.ylabel('True Positive Rate')\n",
    "    plt.title('Receiver Operating Characteristic (ROC) Curve')\n",
    "    plt.legend()\n",
    "    plt.show()"
   ]
  },
  {
   "cell_type": "markdown",
   "metadata": {},
   "source": [
    "# Classification Models"
   ]
  },
  {
   "cell_type": "markdown",
   "metadata": {},
   "source": [
    "# Decision Tree"
   ]
  },
  {
   "cell_type": "code",
   "execution_count": 111,
   "metadata": {},
   "outputs": [],
   "source": [
    "clf_tree = DecisionTreeClassifier()"
   ]
  },
  {
   "cell_type": "code",
   "execution_count": 112,
   "metadata": {},
   "outputs": [
    {
     "data": {
      "text/plain": [
       "DecisionTreeClassifier()"
      ]
     },
     "execution_count": 112,
     "metadata": {},
     "output_type": "execute_result"
    }
   ],
   "source": [
    "clf_tree.fit(X_train_Undersample, y_train_Undersample)"
   ]
  },
  {
   "cell_type": "code",
   "execution_count": 113,
   "metadata": {},
   "outputs": [],
   "source": [
    "y_pred_tree = clf_tree.predict_proba(X_test)[:,1]"
   ]
  },
  {
   "cell_type": "code",
   "execution_count": 114,
   "metadata": {},
   "outputs": [
    {
     "name": "stdout",
     "output_type": "stream",
     "text": [
      "              precision    recall  f1-score   support\n",
      "\n",
      "           0       0.63      0.83      0.72      1440\n",
      "           1       0.92      0.80      0.86      3538\n",
      "\n",
      "    accuracy                           0.81      4978\n",
      "   macro avg       0.78      0.82      0.79      4978\n",
      "weighted avg       0.84      0.81      0.82      4978\n",
      "\n"
     ]
    }
   ],
   "source": [
    "print(classification_report(y_test, y_pred_tree))"
   ]
  },
  {
   "cell_type": "code",
   "execution_count": 115,
   "metadata": {},
   "outputs": [
    {
     "name": "stdout",
     "output_type": "stream",
     "text": [
      "Confusion matrix, without normalization\n",
      "[[1198  242]\n",
      " [ 697 2841]]\n"
     ]
    },
    {
     "data": {
      "image/png": "[encoded data removed]",
      "text/plain": [
       "<Figure size 864x576 with 2 Axes>"
      ]
     },
     "metadata": {
      "needs_background": "light"
     },
     "output_type": "display_data"
    }
   ],
   "source": [
    "cnf_matrix = confusion_matrix(y_test, y_pred_tree)\n",
    "plot_confusion_matrix(cnf_matrix, classes=[0,1])"
   ]
  },
  {
   "cell_type": "code",
   "execution_count": 116,
   "metadata": {},
   "outputs": [],
   "source": [
    "# Creating true and false positive rates\n",
    "false_positive_rate_tree, true_positive_rate_tree, threshold_tree = roc_curve(y_test, y_pred_tree)"
   ]
  },
  {
   "cell_type": "code",
   "execution_count": 117,
   "metadata": {},
   "outputs": [
    {
     "name": "stdout",
     "output_type": "stream",
     "text": [
      "roc_auc_score for DecisionTree:  0.8174702437032849\n"
     ]
    }
   ],
   "source": [
    "print('roc_auc_score for DecisionTree: ', roc_auc_score(y_test, y_pred_tree))"
   ]
  },
  {
   "cell_type": "code",
   "execution_count": 118,
   "metadata": {},
   "outputs": [
    {
     "data": {
      "image/png": "[encoded data removed]",
      "text/plain": [
       "<Figure size 720x720 with 1 Axes>"
      ]
     },
     "metadata": {
      "needs_background": "light"
     },
     "output_type": "display_data"
    }
   ],
   "source": [
    "plt.subplots(1, figsize=(10,10))\n",
    "plt.title('Receiver Operating Characteristic - DecisionTree')\n",
    "plt.plot(false_positive_rate_tree, true_positive_rate_tree)\n",
    "plt.plot([0, 1], ls=\"--\")\n",
    "plt.plot([0, 0], [1, 0] , c=\".7\"), plt.plot([1, 1] , c=\".7\")\n",
    "plt.ylabel('True Positive Rate')\n",
    "plt.xlabel('False Positive Rate')\n",
    "plt.show()"
   ]
  },
  {
   "cell_type": "code",
   "execution_count": 120,
   "metadata": {},
   "outputs": [],
   "source": [
    "#import required libraries\n",
    "from sklearn.datasets import make_classification\n",
    "from sklearn.model_selection import KFold\n",
    "from sklearn.model_selection import cross_val_score\n",
    "from sklearn.linear_model import LogisticRegression\n",
    "from numpy import mean\n",
    "from numpy import std"
   ]
  },
  {
   "cell_type": "code",
   "execution_count": 121,
   "metadata": {},
   "outputs": [],
   "source": [
    "cv = KFold(n_splits=10, random_state=1, shuffle=True)"
   ]
  },
  {
   "cell_type": "code",
   "execution_count": 122,
   "metadata": {},
   "outputs": [
    {
     "name": "stdout",
     "output_type": "stream",
     "text": [
      "Accuracy: 0.819 (0.009)\n"
     ]
    }
   ],
   "source": [
    "scores = cross_val_score(clf_tree, X_train_Undersample,y_train_Undersample, scoring='accuracy', cv=cv, n_jobs=-1)\n",
    "# report performance\n",
    "print('Accuracy: %.3f (%.3f)' % (mean(scores), std(scores)))"
   ]
  },
  {
   "cell_type": "markdown",
   "metadata": {},
   "source": [
    "# Logistic Regression"
   ]
  },
  {
   "cell_type": "code",
   "execution_count": 123,
   "metadata": {},
   "outputs": [],
   "source": [
    "clf_reg = LogisticRegression()"
   ]
  },
  {
   "cell_type": "code",
   "execution_count": 124,
   "metadata": {},
   "outputs": [
    {
     "data": {
      "text/plain": [
       "LogisticRegression()"
      ]
     },
     "execution_count": 124,
     "metadata": {},
     "output_type": "execute_result"
    }
   ],
   "source": [
    "clf_reg.fit(X_train_Undersample, y_train_Undersample)"
   ]
  },
  {
   "cell_type": "code",
   "execution_count": 125,
   "metadata": {},
   "outputs": [],
   "source": [
    "y_pred_reg = clf_reg.predict_proba(X_test)[:,1]"
   ]
  },
  {
   "cell_type": "code",
   "execution_count": 126,
   "metadata": {},
   "outputs": [
    {
     "name": "stdout",
     "output_type": "stream",
     "text": [
      "              precision    recall  f1-score   support\n",
      "\n",
      "           0       0.88      0.75      0.81      1440\n",
      "           1       0.91      0.96      0.93      3538\n",
      "\n",
      "    accuracy                           0.90      4978\n",
      "   macro avg       0.89      0.85      0.87      4978\n",
      "weighted avg       0.90      0.90      0.90      4978\n",
      "\n"
     ]
    }
   ],
   "source": [
    "print(classification_report(y_test, y_pred_reg.round())) "
   ]
  },
  {
   "cell_type": "code",
   "execution_count": 127,
   "metadata": {},
   "outputs": [
    {
     "name": "stdout",
     "output_type": "stream",
     "text": [
      "Confusion matrix, without normalization\n",
      "[[1085  355]\n",
      " [ 155 3383]]\n"
     ]
    },
    {
     "data": {
      "image/png": "[encoded data removed]",
      "text/plain": [
       "<Figure size 864x576 with 2 Axes>"
      ]
     },
     "metadata": {
      "needs_background": "light"
     },
     "output_type": "display_data"
    }
   ],
   "source": [
    "cnf_matrix = confusion_matrix(y_test, y_pred_reg.round())\n",
    "plot_confusion_matrix(cnf_matrix, classes=[0,1])"
   ]
  },
  {
   "cell_type": "code",
   "execution_count": 128,
   "metadata": {},
   "outputs": [],
   "source": [
    "# Creating true and false positive rates\n",
    "false_positive_rate_reg, true_positive_rate_reg, threshold_reg = roc_curve(y_test, y_pred_reg)"
   ]
  },
  {
   "cell_type": "code",
   "execution_count": 129,
   "metadata": {},
   "outputs": [
    {
     "name": "stdout",
     "output_type": "stream",
     "text": [
      "roc_auc_score for LogisticRegression:  0.9311487186734502\n"
     ]
    }
   ],
   "source": [
    "print('roc_auc_score for LogisticRegression: ', roc_auc_score(y_test, y_pred_reg))"
   ]
  },
  {
   "cell_type": "code",
   "execution_count": 130,
   "metadata": {},
   "outputs": [
    {
     "data": {
      "image/png": "[encoded data removed]",
      "text/plain": [
       "<Figure size 720x720 with 1 Axes>"
      ]
     },
     "metadata": {
      "needs_background": "light"
     },
     "output_type": "display_data"
    }
   ],
   "source": [
    "plt.subplots(1, figsize=(10,10))\n",
    "plt.title('Receiver Operating Characteristic - LogisticRegression')\n",
    "plt.plot(false_positive_rate_reg, true_positive_rate_reg)\n",
    "plt.plot([0, 1], ls=\"--\")\n",
    "plt.plot([0, 0], [1, 0] , c=\".7\"), plt.plot([1, 1] , c=\".7\")\n",
    "plt.ylabel('True Positive Rate')\n",
    "plt.xlabel('False Positive Rate')\n",
    "plt.show()"
   ]
  },
  {
   "cell_type": "code",
   "execution_count": 131,
   "metadata": {},
   "outputs": [
    {
     "name": "stdout",
     "output_type": "stream",
     "text": [
      "Accuracy: 0.855 (0.009)\n"
     ]
    }
   ],
   "source": [
    "scores = cross_val_score(clf_reg, X_train_Undersample,y_train_Undersample, scoring='accuracy', cv=cv, n_jobs=-1)\n",
    "# report performance\n",
    "print('Accuracy: %.3f (%.3f)' % (mean(scores), std(scores)))"
   ]
  },
  {
   "cell_type": "markdown",
   "metadata": {},
   "source": [
    "# Naive Bayes"
   ]
  },
  {
   "cell_type": "code",
   "execution_count": 132,
   "metadata": {},
   "outputs": [],
   "source": [
    "clf_NB = GaussianNB()"
   ]
  },
  {
   "cell_type": "code",
   "execution_count": 133,
   "metadata": {},
   "outputs": [
    {
     "data": {
      "text/plain": [
       "GaussianNB()"
      ]
     },
     "execution_count": 133,
     "metadata": {},
     "output_type": "execute_result"
    }
   ],
   "source": [
    "clf_NB.fit(X_train_Undersample, y_train_Undersample)"
   ]
  },
  {
   "cell_type": "code",
   "execution_count": 134,
   "metadata": {},
   "outputs": [],
   "source": [
    "y_pred_NB = clf_NB.predict_proba(X_test)[:,1]"
   ]
  },
  {
   "cell_type": "code",
   "execution_count": 135,
   "metadata": {},
   "outputs": [
    {
     "name": "stdout",
     "output_type": "stream",
     "text": [
      "              precision    recall  f1-score   support\n",
      "\n",
      "           0       0.96      0.72      0.82      1440\n",
      "           1       0.90      0.99      0.94      3538\n",
      "\n",
      "    accuracy                           0.91      4978\n",
      "   macro avg       0.93      0.86      0.88      4978\n",
      "weighted avg       0.92      0.91      0.91      4978\n",
      "\n"
     ]
    }
   ],
   "source": [
    "print(classification_report(y_test, y_pred_NB.round())) \n"
   ]
  },
  {
   "cell_type": "code",
   "execution_count": 136,
   "metadata": {},
   "outputs": [
    {
     "name": "stdout",
     "output_type": "stream",
     "text": [
      "Confusion matrix, without normalization\n",
      "[[1043  397]\n",
      " [  46 3492]]\n"
     ]
    },
    {
     "data": {
      "image/png": "[encoded data removed]",
      "text/plain": [
       "<Figure size 864x576 with 2 Axes>"
      ]
     },
     "metadata": {
      "needs_background": "light"
     },
     "output_type": "display_data"
    }
   ],
   "source": [
    "cnf_matrix = confusion_matrix(y_test, y_pred_NB.round())\n",
    "plot_confusion_matrix(cnf_matrix, classes=[0,1])"
   ]
  },
  {
   "cell_type": "code",
   "execution_count": 137,
   "metadata": {},
   "outputs": [],
   "source": [
    "# Creating true and false positive rates\n",
    "false_positive_rate_NB, true_positive_rate_NB, threshold_NB = roc_curve(y_test, y_pred_NB)"
   ]
  },
  {
   "cell_type": "code",
   "execution_count": 138,
   "metadata": {},
   "outputs": [
    {
     "name": "stdout",
     "output_type": "stream",
     "text": [
      "roc_auc_score for Naive Bayes:  0.9120982114816909\n"
     ]
    }
   ],
   "source": [
    "print('roc_auc_score for Naive Bayes: ', roc_auc_score(y_test, y_pred_NB))"
   ]
  },
  {
   "cell_type": "code",
   "execution_count": 139,
   "metadata": {},
   "outputs": [
    {
     "data": {
      "image/png": "[encoded data removed]",
      "text/plain": [
       "<Figure size 720x720 with 1 Axes>"
      ]
     },
     "metadata": {
      "needs_background": "light"
     },
     "output_type": "display_data"
    }
   ],
   "source": [
    "plt.subplots(1, figsize=(10,10))\n",
    "plt.title('Receiver Operating Characteristic - Naive Bayes')\n",
    "plt.plot(false_positive_rate_NB, true_positive_rate_NB)\n",
    "plt.plot([0, 1], ls=\"--\")\n",
    "plt.plot([0, 0], [1, 0] , c=\".7\"), plt.plot([1, 1] , c=\".7\")\n",
    "plt.ylabel('True Positive Rate')\n",
    "plt.xlabel('False Positive Rate')\n",
    "plt.show()"
   ]
  },
  {
   "cell_type": "code",
   "execution_count": 140,
   "metadata": {},
   "outputs": [
    {
     "name": "stdout",
     "output_type": "stream",
     "text": [
      "Accuracy: 0.859 (0.010)\n"
     ]
    }
   ],
   "source": [
    "scores = cross_val_score(clf_NB, X_train_Undersample,y_train_Undersample, scoring='accuracy', cv=cv, n_jobs=-1)\n",
    "# report performance\n",
    "print('Accuracy: %.3f (%.3f)' % (mean(scores), std(scores)))"
   ]
  },
  {
   "cell_type": "markdown",
   "metadata": {},
   "source": [
    "# RandomForestClassifier"
   ]
  },
  {
   "cell_type": "code",
   "execution_count": 141,
   "metadata": {},
   "outputs": [],
   "source": [
    "clf_rf = RandomForestClassifier()"
   ]
  },
  {
   "cell_type": "code",
   "execution_count": 142,
   "metadata": {},
   "outputs": [
    {
     "data": {
      "text/plain": [
       "RandomForestClassifier()"
      ]
     },
     "execution_count": 142,
     "metadata": {},
     "output_type": "execute_result"
    }
   ],
   "source": [
    "clf_rf.fit(X_train_Undersample, y_train_Undersample)"
   ]
  },
  {
   "cell_type": "code",
   "execution_count": 143,
   "metadata": {},
   "outputs": [],
   "source": [
    "y_pred_rf = clf_rf.predict_proba(X_test)[:,1]"
   ]
  },
  {
   "cell_type": "code",
   "execution_count": 144,
   "metadata": {},
   "outputs": [
    {
     "name": "stdout",
     "output_type": "stream",
     "text": [
      "              precision    recall  f1-score   support\n",
      "\n",
      "           0       0.83      0.79      0.81      1440\n",
      "           1       0.92      0.94      0.93      3538\n",
      "\n",
      "    accuracy                           0.89      4978\n",
      "   macro avg       0.87      0.86      0.87      4978\n",
      "weighted avg       0.89      0.89      0.89      4978\n",
      "\n"
     ]
    }
   ],
   "source": [
    "print(classification_report(y_test, y_pred_rf.round()))"
   ]
  },
  {
   "cell_type": "code",
   "execution_count": 145,
   "metadata": {},
   "outputs": [
    {
     "name": "stdout",
     "output_type": "stream",
     "text": [
      "Confusion matrix, without normalization\n",
      "[[1138  302]\n",
      " [ 228 3310]]\n"
     ]
    },
    {
     "data": {
      "image/png": "[encoded data removed]",
      "text/plain": [
       "<Figure size 864x576 with 2 Axes>"
      ]
     },
     "metadata": {
      "needs_background": "light"
     },
     "output_type": "display_data"
    }
   ],
   "source": [
    "cnf_matrix = confusion_matrix(y_test, y_pred_rf.round())\n",
    "plot_confusion_matrix(cnf_matrix, classes=[0,1])"
   ]
  },
  {
   "cell_type": "code",
   "execution_count": 146,
   "metadata": {},
   "outputs": [],
   "source": [
    "# Creating true and false positive rates\n",
    "false_positive_rate_rf, true_positive_rate_rf, threshold_rf = roc_curve(y_test, y_pred_rf)"
   ]
  },
  {
   "cell_type": "code",
   "execution_count": 147,
   "metadata": {},
   "outputs": [
    {
     "name": "stdout",
     "output_type": "stream",
     "text": [
      "roc_auc_score for RandomForestClassifier:  0.941193137208718\n"
     ]
    }
   ],
   "source": [
    "print('roc_auc_score for RandomForestClassifier: ', roc_auc_score(y_test, y_pred_rf))"
   ]
  },
  {
   "cell_type": "code",
   "execution_count": 148,
   "metadata": {},
   "outputs": [
    {
     "data": {
      "image/png": "[encoded data removed]",
      "text/plain": [
       "<Figure size 720x720 with 1 Axes>"
      ]
     },
     "metadata": {
      "needs_background": "light"
     },
     "output_type": "display_data"
    }
   ],
   "source": [
    "plt.subplots(1, figsize=(10,10))\n",
    "plt.title('Receiver Operating Characteristic - RandomForestClassifier')\n",
    "plt.plot(false_positive_rate_rf, true_positive_rate_rf)\n",
    "plt.plot([0, 1], ls=\"--\")\n",
    "plt.plot([0, 0], [1, 0] , c=\".7\"), plt.plot([1, 1] , c=\".7\")\n",
    "plt.ylabel('True Positive Rate')\n",
    "plt.xlabel('False Positive Rate')\n",
    "plt.show()"
   ]
  },
  {
   "cell_type": "code",
   "execution_count": 149,
   "metadata": {},
   "outputs": [
    {
     "name": "stdout",
     "output_type": "stream",
     "text": [
      "Accuracy: 0.869 (0.010)\n"
     ]
    }
   ],
   "source": [
    "scores = cross_val_score(clf_rf, X_train_Undersample,y_train_Undersample, scoring='accuracy', cv=cv, n_jobs=-1)\n",
    "print('Accuracy: %.3f (%.3f)' % (mean(scores), std(scores)))"
   ]
  },
  {
   "cell_type": "markdown",
   "metadata": {},
   "source": [
    "# Support Vector Machine"
   ]
  },
  {
   "cell_type": "code",
   "execution_count": 156,
   "metadata": {},
   "outputs": [],
   "source": [
    "clf_svm = svm.SVC(random_state=123)"
   ]
  },
  {
   "cell_type": "code",
   "execution_count": 157,
   "metadata": {},
   "outputs": [
    {
     "data": {
      "text/plain": [
       "SVC(random_state=123)"
      ]
     },
     "execution_count": 157,
     "metadata": {},
     "output_type": "execute_result"
    }
   ],
   "source": [
    "clf_svm.fit(X_train_Undersample, y_train_Undersample)"
   ]
  },
  {
   "cell_type": "code",
   "execution_count": 158,
   "metadata": {},
   "outputs": [],
   "source": [
    "y_pred_SVM= clf_svm.predict(X_test)"
   ]
  },
  {
   "cell_type": "code",
   "execution_count": 159,
   "metadata": {},
   "outputs": [
    {
     "name": "stdout",
     "output_type": "stream",
     "text": [
      "              precision    recall  f1-score   support\n",
      "\n",
      "           0       0.93      0.71      0.81      1440\n",
      "           1       0.89      0.98      0.93      3538\n",
      "\n",
      "    accuracy                           0.90      4978\n",
      "   macro avg       0.91      0.85      0.87      4978\n",
      "weighted avg       0.90      0.90      0.90      4978\n",
      "\n"
     ]
    }
   ],
   "source": [
    "print(classification_report(y_test, y_pred_SVM.round())) "
   ]
  },
  {
   "cell_type": "code",
   "execution_count": 160,
   "metadata": {},
   "outputs": [
    {
     "name": "stdout",
     "output_type": "stream",
     "text": [
      "Confusion matrix, without normalization\n",
      "[[1027  413]\n",
      " [  79 3459]]\n"
     ]
    },
    {
     "data": {
      "image/png": "[encoded data removed]",
      "text/plain": [
       "<Figure size 864x576 with 2 Axes>"
      ]
     },
     "metadata": {
      "needs_background": "light"
     },
     "output_type": "display_data"
    }
   ],
   "source": [
    "cnf_matrix = confusion_matrix(y_test, y_pred_SVM.round())\n",
    "plot_confusion_matrix(cnf_matrix, classes=[0,1])"
   ]
  },
  {
   "cell_type": "code",
   "execution_count": 161,
   "metadata": {},
   "outputs": [],
   "source": [
    "# Creating true and false positive rates\n",
    "false_positive_rate_SVM, true_positive_rate_SVM, threshold_SVM = roc_curve(y_test, y_pred_SVM)"
   ]
  },
  {
   "cell_type": "code",
   "execution_count": 162,
   "metadata": {},
   "outputs": [
    {
     "name": "stdout",
     "output_type": "stream",
     "text": [
      "roc_auc_score for SVM:  0.8454327225048678\n"
     ]
    }
   ],
   "source": [
    "print('roc_auc_score for SVM: ', roc_auc_score(y_test, y_pred_SVM))"
   ]
  },
  {
   "cell_type": "code",
   "execution_count": 164,
   "metadata": {},
   "outputs": [
    {
     "data": {
      "image/png": "[encoded data removed]",
      "text/plain": [
       "<Figure size 720x720 with 1 Axes>"
      ]
     },
     "metadata": {
      "needs_background": "light"
     },
     "output_type": "display_data"
    }
   ],
   "source": [
    "plt.subplots(1, figsize=(10,10))\n",
    "plt.title('Receiver Operating Characteristic - SVM')\n",
    "plt.plot(false_positive_rate_SVM, true_positive_rate_SVM)\n",
    "plt.plot([0, 1], ls=\"--\")\n",
    "plt.plot([0, 0], [1, 0] , c=\".7\"), plt.plot([1, 1] , c=\".7\")\n",
    "plt.ylabel('True Positive Rate')\n",
    "plt.xlabel('False Positive Rate')\n",
    "plt.show()"
   ]
  },
  {
   "cell_type": "code",
   "execution_count": 165,
   "metadata": {},
   "outputs": [
    {
     "name": "stdout",
     "output_type": "stream",
     "text": [
      "Accuracy: 0.845 (0.013)\n"
     ]
    }
   ],
   "source": [
    "scores = cross_val_score(clf_svm, X_train_Undersample,y_train_Undersample, scoring='accuracy', cv=cv, n_jobs=-1)\n",
    "# report performance\n",
    "print('Accuracy: %.3f (%.3f)' % (mean(scores), std(scores)))"
   ]
  },
  {
   "cell_type": "code",
   "execution_count": null,
   "metadata": {},
   "outputs": [],
   "source": [
    " "
   ]
  }
 ],
 "metadata": {
  "kernelspec": {
   "display_name": "Python 3",
   "language": "python",
   "name": "python3"
  },
  "language_info": {
   "codemirror_mode": {
    "name": "ipython",
    "version": 3
   },
   "file_extension": ".py",
   "mimetype": "text/x-python",
   "name": "python",
   "nbconvert_exporter": "python",
   "pygments_lexer": "ipython3",
   "version": "3.7.7"
  }
 },
 "nbformat": 4,
 "nbformat_minor": 4
}
