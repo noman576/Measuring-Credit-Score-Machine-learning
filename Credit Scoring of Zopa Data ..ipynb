{
 "cells": [
  {
   "cell_type": "code",
   "execution_count": 1,
   "metadata": {},
   "outputs": [],
   "source": [
    "#Import Libraries\n",
    "\n",
    "import pandas as pd\n",
    "import numpy as np\n",
    "import matplotlib.pyplot as plt\n",
    "import matplotlib\n",
    "import seaborn as sns\n",
    "%matplotlib inline\n",
    "plt.rcParams['figure.figsize'] = (12,8)\n",
    "\n",
    "from datetime import datetime\n",
    "from dateutil.parser import parse"
   ]
  },
  {
   "cell_type": "code",
   "execution_count": 2,
   "metadata": {},
   "outputs": [],
   "source": [
    "# import Zopa data for analysis \n",
    "LC_Data = pd.read_csv('data_for_loanbook_extract_2020-04-01.csv', low_memory=False)"
   ]
  },
  {
   "cell_type": "markdown",
   "metadata": {},
   "source": [
    "# Data Pre-Processing"
   ]
  },
  {
   "cell_type": "code",
   "execution_count": 3,
   "metadata": {},
   "outputs": [
    {
     "name": "stdout",
     "output_type": "stream",
     "text": [
      "(734079, 14)\n"
     ]
    }
   ],
   "source": [
    "#print data shape\n",
    "print(LC_Data.shape)"
   ]
  },
  {
   "cell_type": "code",
   "execution_count": 4,
   "metadata": {},
   "outputs": [
    {
     "data": {
      "text/html": [
       "<div>\n",
       "<style scoped>\n",
       "    .dataframe tbody tr th:only-of-type {\n",
       "        vertical-align: middle;\n",
       "    }\n",
       "\n",
       "    .dataframe tbody tr th {\n",
       "        vertical-align: top;\n",
       "    }\n",
       "\n",
       "    .dataframe thead th {\n",
       "        text-align: right;\n",
       "    }\n",
       "</style>\n",
       "<table border=\"1\" class=\"dataframe\">\n",
       "  <thead>\n",
       "    <tr style=\"text-align: right;\">\n",
       "      <th></th>\n",
       "      <th>Snapshot Date</th>\n",
       "      <th>Encrypted Loan ID</th>\n",
       "      <th>Encrypted Borrower ID</th>\n",
       "      <th>Disbursal date</th>\n",
       "      <th>Original Loan Amount</th>\n",
       "      <th>Principal Collected</th>\n",
       "      <th>Interest Collected</th>\n",
       "      <th>Total number of payments</th>\n",
       "      <th>Last payment date</th>\n",
       "      <th>Term</th>\n",
       "      <th>Lending rate</th>\n",
       "      <th>Latest Status</th>\n",
       "      <th>Date of Default</th>\n",
       "      <th>PostCode</th>\n",
       "    </tr>\n",
       "  </thead>\n",
       "  <tbody>\n",
       "    <tr>\n",
       "      <th>0</th>\n",
       "      <td>01/04/2020</td>\n",
       "      <td>KiNr6fWbDJawb+iWDqxa5Z0ujFJY0SdvrNcnx6ohotjTmh...</td>\n",
       "      <td>K9/BbjsErCJgqotvqUKWD/Rnpb+f9QsOdxZIT17NjWpW3i...</td>\n",
       "      <td>31/01/2006</td>\n",
       "      <td>9000.0</td>\n",
       "      <td>9000.0</td>\n",
       "      <td>679.560000</td>\n",
       "      <td>36</td>\n",
       "      <td>05/02/2009</td>\n",
       "      <td>36</td>\n",
       "      <td>0.0491</td>\n",
       "      <td>Completed</td>\n",
       "      <td>NaN</td>\n",
       "      <td>NaN</td>\n",
       "    </tr>\n",
       "    <tr>\n",
       "      <th>1</th>\n",
       "      <td>01/04/2020</td>\n",
       "      <td>KEG5ZcmNwkBdev/wAbhXY3k/jTzMEsD5oGgthuwDk3KAhI...</td>\n",
       "      <td>KCZ0hABCC6lkGViMDi6V+UE/jTzMEsD5oGgthuwDk3KAhI...</td>\n",
       "      <td>01/12/2009</td>\n",
       "      <td>12120.0</td>\n",
       "      <td>12120.0</td>\n",
       "      <td>1433.160000</td>\n",
       "      <td>37</td>\n",
       "      <td>11/12/2012</td>\n",
       "      <td>36</td>\n",
       "      <td>0.0872</td>\n",
       "      <td>Completed</td>\n",
       "      <td>NaN</td>\n",
       "      <td>DG13</td>\n",
       "    </tr>\n",
       "    <tr>\n",
       "      <th>2</th>\n",
       "      <td>01/04/2020</td>\n",
       "      <td>K/eXt8OTkQr+K+q7hB7NwfE/jTzMEsD5oGgthuwDk3KAhI...</td>\n",
       "      <td>Kbzjqk1XQcW30KMO5xaeQD0/jTzMEsD5oGgthuwDk3KAhI...</td>\n",
       "      <td>12/01/2010</td>\n",
       "      <td>3120.0</td>\n",
       "      <td>3120.0</td>\n",
       "      <td>351.840000</td>\n",
       "      <td>36</td>\n",
       "      <td>23/08/2012</td>\n",
       "      <td>36</td>\n",
       "      <td>0.0786</td>\n",
       "      <td>Completed</td>\n",
       "      <td>NaN</td>\n",
       "      <td>NaN</td>\n",
       "    </tr>\n",
       "    <tr>\n",
       "      <th>3</th>\n",
       "      <td>01/04/2020</td>\n",
       "      <td>KHAjSlBZP8dfKKSvZ1P0RoE/jTzMEsD5oGgthuwDk3KAhI...</td>\n",
       "      <td>KpImAAXOHamrMyTha6zoo18XjNjekFAKeIog8thsa/dMhI...</td>\n",
       "      <td>17/11/2009</td>\n",
       "      <td>1120.0</td>\n",
       "      <td>1120.0</td>\n",
       "      <td>141.550000</td>\n",
       "      <td>21</td>\n",
       "      <td>17/08/2011</td>\n",
       "      <td>36</td>\n",
       "      <td>0.1007</td>\n",
       "      <td>Completed</td>\n",
       "      <td>NaN</td>\n",
       "      <td>HP19</td>\n",
       "    </tr>\n",
       "    <tr>\n",
       "      <th>4</th>\n",
       "      <td>01/04/2020</td>\n",
       "      <td>Ka/qq6opoNm3Ru0g4tZ60kU/jTzMEsD5oGgthuwDk3KAhI...</td>\n",
       "      <td>KDAVgrkygXXP76b4gAYvv3k/jTzMEsD5oGgthuwDk3KAhI...</td>\n",
       "      <td>22/12/2009</td>\n",
       "      <td>10120.0</td>\n",
       "      <td>10120.0</td>\n",
       "      <td>1333.989778</td>\n",
       "      <td>18</td>\n",
       "      <td>17/06/2011</td>\n",
       "      <td>60</td>\n",
       "      <td>0.1062</td>\n",
       "      <td>Completed</td>\n",
       "      <td>NaN</td>\n",
       "      <td>ST3</td>\n",
       "    </tr>\n",
       "  </tbody>\n",
       "</table>\n",
       "</div>"
      ],
      "text/plain": [
       "  Snapshot Date                                  Encrypted Loan ID  \\\n",
       "0    01/04/2020  KiNr6fWbDJawb+iWDqxa5Z0ujFJY0SdvrNcnx6ohotjTmh...   \n",
       "1    01/04/2020  KEG5ZcmNwkBdev/wAbhXY3k/jTzMEsD5oGgthuwDk3KAhI...   \n",
       "2    01/04/2020  K/eXt8OTkQr+K+q7hB7NwfE/jTzMEsD5oGgthuwDk3KAhI...   \n",
       "3    01/04/2020  KHAjSlBZP8dfKKSvZ1P0RoE/jTzMEsD5oGgthuwDk3KAhI...   \n",
       "4    01/04/2020  Ka/qq6opoNm3Ru0g4tZ60kU/jTzMEsD5oGgthuwDk3KAhI...   \n",
       "\n",
       "                               Encrypted Borrower ID Disbursal date  \\\n",
       "0  K9/BbjsErCJgqotvqUKWD/Rnpb+f9QsOdxZIT17NjWpW3i...     31/01/2006   \n",
       "1  KCZ0hABCC6lkGViMDi6V+UE/jTzMEsD5oGgthuwDk3KAhI...     01/12/2009   \n",
       "2  Kbzjqk1XQcW30KMO5xaeQD0/jTzMEsD5oGgthuwDk3KAhI...     12/01/2010   \n",
       "3  KpImAAXOHamrMyTha6zoo18XjNjekFAKeIog8thsa/dMhI...     17/11/2009   \n",
       "4  KDAVgrkygXXP76b4gAYvv3k/jTzMEsD5oGgthuwDk3KAhI...     22/12/2009   \n",
       "\n",
       "   Original Loan Amount  Principal Collected  Interest Collected  \\\n",
       "0                9000.0               9000.0          679.560000   \n",
       "1               12120.0              12120.0         1433.160000   \n",
       "2                3120.0               3120.0          351.840000   \n",
       "3                1120.0               1120.0          141.550000   \n",
       "4               10120.0              10120.0         1333.989778   \n",
       "\n",
       "   Total number of payments Last payment date  Term  Lending rate  \\\n",
       "0                        36        05/02/2009    36        0.0491   \n",
       "1                        37        11/12/2012    36        0.0872   \n",
       "2                        36        23/08/2012    36        0.0786   \n",
       "3                        21        17/08/2011    36        0.1007   \n",
       "4                        18        17/06/2011    60        0.1062   \n",
       "\n",
       "  Latest Status Date of Default PostCode  \n",
       "0     Completed             NaN      NaN  \n",
       "1     Completed             NaN     DG13  \n",
       "2     Completed             NaN      NaN  \n",
       "3     Completed             NaN     HP19  \n",
       "4     Completed             NaN      ST3  "
      ]
     },
     "execution_count": 4,
     "metadata": {},
     "output_type": "execute_result"
    }
   ],
   "source": [
    "#print data head\n",
    "LC_Data.head()"
   ]
  },
  {
   "cell_type": "code",
   "execution_count": 5,
   "metadata": {},
   "outputs": [
    {
     "data": {
      "text/plain": [
       "['Snapshot Date',\n",
       " 'Encrypted Loan ID',\n",
       " 'Encrypted Borrower ID',\n",
       " 'Disbursal date',\n",
       " 'Original Loan Amount',\n",
       " 'Principal Collected',\n",
       " 'Interest Collected',\n",
       " 'Total number of payments',\n",
       " 'Last payment date',\n",
       " 'Term',\n",
       " 'Lending rate',\n",
       " 'Latest Status',\n",
       " 'Date of Default',\n",
       " 'PostCode']"
      ]
     },
     "execution_count": 5,
     "metadata": {},
     "output_type": "execute_result"
    }
   ],
   "source": [
    "##print total column list \n",
    "LC_Data.columns.tolist()"
   ]
  },
  {
   "cell_type": "code",
   "execution_count": 6,
   "metadata": {},
   "outputs": [],
   "source": [
    "LC_Data_Updated = LC_Data.loc[:, LC_Data.isnull().sum() < 0.5*LC_Data.shape[0]]\n",
    "#Dropping all columns with 50% missing values"
   ]
  },
  {
   "cell_type": "code",
   "execution_count": 7,
   "metadata": {},
   "outputs": [
    {
     "name": "stdout",
     "output_type": "stream",
     "text": [
      "(734079, 13)\n"
     ]
    }
   ],
   "source": [
    "#print data shape\n",
    "print(LC_Data_Updated.shape)"
   ]
  },
  {
   "cell_type": "code",
   "execution_count": 8,
   "metadata": {},
   "outputs": [
    {
     "data": {
      "text/html": [
       "<div>\n",
       "<style scoped>\n",
       "    .dataframe tbody tr th:only-of-type {\n",
       "        vertical-align: middle;\n",
       "    }\n",
       "\n",
       "    .dataframe tbody tr th {\n",
       "        vertical-align: top;\n",
       "    }\n",
       "\n",
       "    .dataframe thead th {\n",
       "        text-align: right;\n",
       "    }\n",
       "</style>\n",
       "<table border=\"1\" class=\"dataframe\">\n",
       "  <thead>\n",
       "    <tr style=\"text-align: right;\">\n",
       "      <th></th>\n",
       "      <th>Snapshot Date</th>\n",
       "      <th>Encrypted Loan ID</th>\n",
       "      <th>Encrypted Borrower ID</th>\n",
       "      <th>Disbursal date</th>\n",
       "      <th>Original Loan Amount</th>\n",
       "      <th>Principal Collected</th>\n",
       "      <th>Interest Collected</th>\n",
       "      <th>Total number of payments</th>\n",
       "      <th>Last payment date</th>\n",
       "      <th>Term</th>\n",
       "      <th>Lending rate</th>\n",
       "      <th>Latest Status</th>\n",
       "      <th>PostCode</th>\n",
       "    </tr>\n",
       "  </thead>\n",
       "  <tbody>\n",
       "    <tr>\n",
       "      <th>0</th>\n",
       "      <td>01/04/2020</td>\n",
       "      <td>KiNr6fWbDJawb+iWDqxa5Z0ujFJY0SdvrNcnx6ohotjTmh...</td>\n",
       "      <td>K9/BbjsErCJgqotvqUKWD/Rnpb+f9QsOdxZIT17NjWpW3i...</td>\n",
       "      <td>31/01/2006</td>\n",
       "      <td>9000.0</td>\n",
       "      <td>9000.0</td>\n",
       "      <td>679.560000</td>\n",
       "      <td>36</td>\n",
       "      <td>05/02/2009</td>\n",
       "      <td>36</td>\n",
       "      <td>0.0491</td>\n",
       "      <td>Completed</td>\n",
       "      <td>NaN</td>\n",
       "    </tr>\n",
       "    <tr>\n",
       "      <th>1</th>\n",
       "      <td>01/04/2020</td>\n",
       "      <td>KEG5ZcmNwkBdev/wAbhXY3k/jTzMEsD5oGgthuwDk3KAhI...</td>\n",
       "      <td>KCZ0hABCC6lkGViMDi6V+UE/jTzMEsD5oGgthuwDk3KAhI...</td>\n",
       "      <td>01/12/2009</td>\n",
       "      <td>12120.0</td>\n",
       "      <td>12120.0</td>\n",
       "      <td>1433.160000</td>\n",
       "      <td>37</td>\n",
       "      <td>11/12/2012</td>\n",
       "      <td>36</td>\n",
       "      <td>0.0872</td>\n",
       "      <td>Completed</td>\n",
       "      <td>DG13</td>\n",
       "    </tr>\n",
       "    <tr>\n",
       "      <th>2</th>\n",
       "      <td>01/04/2020</td>\n",
       "      <td>K/eXt8OTkQr+K+q7hB7NwfE/jTzMEsD5oGgthuwDk3KAhI...</td>\n",
       "      <td>Kbzjqk1XQcW30KMO5xaeQD0/jTzMEsD5oGgthuwDk3KAhI...</td>\n",
       "      <td>12/01/2010</td>\n",
       "      <td>3120.0</td>\n",
       "      <td>3120.0</td>\n",
       "      <td>351.840000</td>\n",
       "      <td>36</td>\n",
       "      <td>23/08/2012</td>\n",
       "      <td>36</td>\n",
       "      <td>0.0786</td>\n",
       "      <td>Completed</td>\n",
       "      <td>NaN</td>\n",
       "    </tr>\n",
       "    <tr>\n",
       "      <th>3</th>\n",
       "      <td>01/04/2020</td>\n",
       "      <td>KHAjSlBZP8dfKKSvZ1P0RoE/jTzMEsD5oGgthuwDk3KAhI...</td>\n",
       "      <td>KpImAAXOHamrMyTha6zoo18XjNjekFAKeIog8thsa/dMhI...</td>\n",
       "      <td>17/11/2009</td>\n",
       "      <td>1120.0</td>\n",
       "      <td>1120.0</td>\n",
       "      <td>141.550000</td>\n",
       "      <td>21</td>\n",
       "      <td>17/08/2011</td>\n",
       "      <td>36</td>\n",
       "      <td>0.1007</td>\n",
       "      <td>Completed</td>\n",
       "      <td>HP19</td>\n",
       "    </tr>\n",
       "    <tr>\n",
       "      <th>4</th>\n",
       "      <td>01/04/2020</td>\n",
       "      <td>Ka/qq6opoNm3Ru0g4tZ60kU/jTzMEsD5oGgthuwDk3KAhI...</td>\n",
       "      <td>KDAVgrkygXXP76b4gAYvv3k/jTzMEsD5oGgthuwDk3KAhI...</td>\n",
       "      <td>22/12/2009</td>\n",
       "      <td>10120.0</td>\n",
       "      <td>10120.0</td>\n",
       "      <td>1333.989778</td>\n",
       "      <td>18</td>\n",
       "      <td>17/06/2011</td>\n",
       "      <td>60</td>\n",
       "      <td>0.1062</td>\n",
       "      <td>Completed</td>\n",
       "      <td>ST3</td>\n",
       "    </tr>\n",
       "  </tbody>\n",
       "</table>\n",
       "</div>"
      ],
      "text/plain": [
       "  Snapshot Date                                  Encrypted Loan ID  \\\n",
       "0    01/04/2020  KiNr6fWbDJawb+iWDqxa5Z0ujFJY0SdvrNcnx6ohotjTmh...   \n",
       "1    01/04/2020  KEG5ZcmNwkBdev/wAbhXY3k/jTzMEsD5oGgthuwDk3KAhI...   \n",
       "2    01/04/2020  K/eXt8OTkQr+K+q7hB7NwfE/jTzMEsD5oGgthuwDk3KAhI...   \n",
       "3    01/04/2020  KHAjSlBZP8dfKKSvZ1P0RoE/jTzMEsD5oGgthuwDk3KAhI...   \n",
       "4    01/04/2020  Ka/qq6opoNm3Ru0g4tZ60kU/jTzMEsD5oGgthuwDk3KAhI...   \n",
       "\n",
       "                               Encrypted Borrower ID Disbursal date  \\\n",
       "0  K9/BbjsErCJgqotvqUKWD/Rnpb+f9QsOdxZIT17NjWpW3i...     31/01/2006   \n",
       "1  KCZ0hABCC6lkGViMDi6V+UE/jTzMEsD5oGgthuwDk3KAhI...     01/12/2009   \n",
       "2  Kbzjqk1XQcW30KMO5xaeQD0/jTzMEsD5oGgthuwDk3KAhI...     12/01/2010   \n",
       "3  KpImAAXOHamrMyTha6zoo18XjNjekFAKeIog8thsa/dMhI...     17/11/2009   \n",
       "4  KDAVgrkygXXP76b4gAYvv3k/jTzMEsD5oGgthuwDk3KAhI...     22/12/2009   \n",
       "\n",
       "   Original Loan Amount  Principal Collected  Interest Collected  \\\n",
       "0                9000.0               9000.0          679.560000   \n",
       "1               12120.0              12120.0         1433.160000   \n",
       "2                3120.0               3120.0          351.840000   \n",
       "3                1120.0               1120.0          141.550000   \n",
       "4               10120.0              10120.0         1333.989778   \n",
       "\n",
       "   Total number of payments Last payment date  Term  Lending rate  \\\n",
       "0                        36        05/02/2009    36        0.0491   \n",
       "1                        37        11/12/2012    36        0.0872   \n",
       "2                        36        23/08/2012    36        0.0786   \n",
       "3                        21        17/08/2011    36        0.1007   \n",
       "4                        18        17/06/2011    60        0.1062   \n",
       "\n",
       "  Latest Status PostCode  \n",
       "0     Completed      NaN  \n",
       "1     Completed     DG13  \n",
       "2     Completed      NaN  \n",
       "3     Completed     HP19  \n",
       "4     Completed      ST3  "
      ]
     },
     "execution_count": 8,
     "metadata": {},
     "output_type": "execute_result"
    }
   ],
   "source": [
    "#print data head\n",
    "LC_Data_Updated.head()"
   ]
  },
  {
   "cell_type": "code",
   "execution_count": 9,
   "metadata": {},
   "outputs": [],
   "source": [
    "#renaming column name\n",
    "LC_Data_Updated = LC_Data_Updated.rename(columns={'Snapshot Date':'Snap Date','Encrypted Loan ID':'Loan ID','Encrypted Borrower ID': 'Borowwer ID', 'Disbursal date': 'Date', 'Original Loan Amount': 'Loan Amount', 'Principal Collected': 'Principal Amount', 'Interest Collected': 'Interest Amount', 'Total number of payments': 'Number_Of_Payment', 'Last payment date':'Last_Payment_Date', 'Term': 'Term', 'Lending rate': 'Interest Rate', 'Latest Status': 'Status', 'Date of Default': 'Date_of_Default', 'PostCode': 'Post_Code'})"
   ]
  },
  {
   "cell_type": "code",
   "execution_count": 10,
   "metadata": {},
   "outputs": [
    {
     "data": {
      "text/plain": [
       "['Snap Date',\n",
       " 'Loan ID',\n",
       " 'Borowwer ID',\n",
       " 'Date',\n",
       " 'Loan Amount',\n",
       " 'Principal Amount',\n",
       " 'Interest Amount',\n",
       " 'Number_Of_Payment',\n",
       " 'Last_Payment_Date',\n",
       " 'Term',\n",
       " 'Interest Rate',\n",
       " 'Status',\n",
       " 'Post_Code']"
      ]
     },
     "execution_count": 10,
     "metadata": {},
     "output_type": "execute_result"
    }
   ],
   "source": [
    "#print total column list \n",
    "LC_Data_Updated.columns.tolist()"
   ]
  },
  {
   "cell_type": "code",
   "execution_count": 11,
   "metadata": {},
   "outputs": [
    {
     "data": {
      "text/plain": [
       "Completed    416772\n",
       "Active       257302\n",
       "Default       37533\n",
       "Late          22472\n",
       "Name: Status, dtype: int64"
      ]
     },
     "execution_count": 11,
     "metadata": {},
     "output_type": "execute_result"
    }
   ],
   "source": [
    "#Target Column is Status\n",
    "LC_Data_Updated.Status.value_counts()"
   ]
  },
  {
   "cell_type": "code",
   "execution_count": 12,
   "metadata": {},
   "outputs": [],
   "source": [
    "# Dropping unrequired rows from target column\n",
    "LC_Data_Updated = LC_Data_Updated[LC_Data_Updated.Status != 'Active']"
   ]
  },
  {
   "cell_type": "code",
   "execution_count": 13,
   "metadata": {},
   "outputs": [
    {
     "data": {
      "text/plain": [
       "Completed    416772\n",
       "Default       37533\n",
       "Late          22472\n",
       "Name: Status, dtype: int64"
      ]
     },
     "execution_count": 13,
     "metadata": {},
     "output_type": "execute_result"
    }
   ],
   "source": [
    "LC_Data_Updated.Status.value_counts()"
   ]
  },
  {
   "cell_type": "code",
   "execution_count": 14,
   "metadata": {},
   "outputs": [],
   "source": [
    "#Rename target variable and classified it into binary\n",
    "LC_Data_Updated['Credit_Score'] = np.where(LC_Data_Updated.loc[:, 'Status'].isin(['Late', 'Default']), 0, 1)"
   ]
  },
  {
   "cell_type": "code",
   "execution_count": 15,
   "metadata": {},
   "outputs": [
    {
     "data": {
      "text/plain": [
       "1    416772\n",
       "0     60005\n",
       "Name: Credit_Score, dtype: int64"
      ]
     },
     "execution_count": 15,
     "metadata": {},
     "output_type": "execute_result"
    }
   ],
   "source": [
    "#value counts after categorization of  target variable \n",
    "LC_Data_Updated.Credit_Score.value_counts()"
   ]
  },
  {
   "cell_type": "code",
   "execution_count": 16,
   "metadata": {},
   "outputs": [],
   "source": [
    "#Dropping the Orgininal loan_status column since we already converted the target function to binary\n",
    "LC_Data_Updated.drop(columns = ['Status'], inplace = True)"
   ]
  },
  {
   "cell_type": "code",
   "execution_count": 17,
   "metadata": {},
   "outputs": [
    {
     "data": {
      "text/plain": [
       "13"
      ]
     },
     "execution_count": 17,
     "metadata": {},
     "output_type": "execute_result"
    }
   ],
   "source": [
    "#Analyzing Predictive Column\n",
    "len(LC_Data_Updated.columns)"
   ]
  },
  {
   "cell_type": "code",
   "execution_count": 18,
   "metadata": {},
   "outputs": [],
   "source": [
    "#creation of a list in order to store the columns that will retian as categorical or numerical\n",
    "#------------------------------------------------------------------------\n",
    "Categorical_Features=[]\n",
    "Numerical_Features=[]"
   ]
  },
  {
   "cell_type": "code",
   "execution_count": 19,
   "metadata": {},
   "outputs": [
    {
     "data": {
      "text/html": [
       "<div>\n",
       "<style scoped>\n",
       "    .dataframe tbody tr th:only-of-type {\n",
       "        vertical-align: middle;\n",
       "    }\n",
       "\n",
       "    .dataframe tbody tr th {\n",
       "        vertical-align: top;\n",
       "    }\n",
       "\n",
       "    .dataframe thead th {\n",
       "        text-align: right;\n",
       "    }\n",
       "</style>\n",
       "<table border=\"1\" class=\"dataframe\">\n",
       "  <thead>\n",
       "    <tr style=\"text-align: right;\">\n",
       "      <th></th>\n",
       "      <th>Snap Date</th>\n",
       "      <th>Loan ID</th>\n",
       "      <th>Borowwer ID</th>\n",
       "      <th>Date</th>\n",
       "      <th>Loan Amount</th>\n",
       "      <th>Principal Amount</th>\n",
       "      <th>Interest Amount</th>\n",
       "      <th>Number_Of_Payment</th>\n",
       "      <th>Last_Payment_Date</th>\n",
       "      <th>Term</th>\n",
       "      <th>Interest Rate</th>\n",
       "      <th>Post_Code</th>\n",
       "      <th>Credit_Score</th>\n",
       "    </tr>\n",
       "  </thead>\n",
       "  <tbody>\n",
       "    <tr>\n",
       "      <th>0</th>\n",
       "      <td>01/04/2020</td>\n",
       "      <td>KiNr6fWbDJawb+iWDqxa5Z0ujFJY0SdvrNcnx6ohotjTmh...</td>\n",
       "      <td>K9/BbjsErCJgqotvqUKWD/Rnpb+f9QsOdxZIT17NjWpW3i...</td>\n",
       "      <td>31/01/2006</td>\n",
       "      <td>9000.0</td>\n",
       "      <td>9000.000000</td>\n",
       "      <td>679.560000</td>\n",
       "      <td>36</td>\n",
       "      <td>05/02/2009</td>\n",
       "      <td>36</td>\n",
       "      <td>0.0491</td>\n",
       "      <td>NaN</td>\n",
       "      <td>1</td>\n",
       "    </tr>\n",
       "    <tr>\n",
       "      <th>1</th>\n",
       "      <td>01/04/2020</td>\n",
       "      <td>KEG5ZcmNwkBdev/wAbhXY3k/jTzMEsD5oGgthuwDk3KAhI...</td>\n",
       "      <td>KCZ0hABCC6lkGViMDi6V+UE/jTzMEsD5oGgthuwDk3KAhI...</td>\n",
       "      <td>01/12/2009</td>\n",
       "      <td>12120.0</td>\n",
       "      <td>12120.000000</td>\n",
       "      <td>1433.160000</td>\n",
       "      <td>37</td>\n",
       "      <td>11/12/2012</td>\n",
       "      <td>36</td>\n",
       "      <td>0.0872</td>\n",
       "      <td>DG13</td>\n",
       "      <td>1</td>\n",
       "    </tr>\n",
       "    <tr>\n",
       "      <th>2</th>\n",
       "      <td>01/04/2020</td>\n",
       "      <td>K/eXt8OTkQr+K+q7hB7NwfE/jTzMEsD5oGgthuwDk3KAhI...</td>\n",
       "      <td>Kbzjqk1XQcW30KMO5xaeQD0/jTzMEsD5oGgthuwDk3KAhI...</td>\n",
       "      <td>12/01/2010</td>\n",
       "      <td>3120.0</td>\n",
       "      <td>3120.000000</td>\n",
       "      <td>351.840000</td>\n",
       "      <td>36</td>\n",
       "      <td>23/08/2012</td>\n",
       "      <td>36</td>\n",
       "      <td>0.0786</td>\n",
       "      <td>NaN</td>\n",
       "      <td>1</td>\n",
       "    </tr>\n",
       "    <tr>\n",
       "      <th>3</th>\n",
       "      <td>01/04/2020</td>\n",
       "      <td>KHAjSlBZP8dfKKSvZ1P0RoE/jTzMEsD5oGgthuwDk3KAhI...</td>\n",
       "      <td>KpImAAXOHamrMyTha6zoo18XjNjekFAKeIog8thsa/dMhI...</td>\n",
       "      <td>17/11/2009</td>\n",
       "      <td>1120.0</td>\n",
       "      <td>1120.000000</td>\n",
       "      <td>141.550000</td>\n",
       "      <td>21</td>\n",
       "      <td>17/08/2011</td>\n",
       "      <td>36</td>\n",
       "      <td>0.1007</td>\n",
       "      <td>HP19</td>\n",
       "      <td>1</td>\n",
       "    </tr>\n",
       "    <tr>\n",
       "      <th>4</th>\n",
       "      <td>01/04/2020</td>\n",
       "      <td>Ka/qq6opoNm3Ru0g4tZ60kU/jTzMEsD5oGgthuwDk3KAhI...</td>\n",
       "      <td>KDAVgrkygXXP76b4gAYvv3k/jTzMEsD5oGgthuwDk3KAhI...</td>\n",
       "      <td>22/12/2009</td>\n",
       "      <td>10120.0</td>\n",
       "      <td>10120.000000</td>\n",
       "      <td>1333.989778</td>\n",
       "      <td>18</td>\n",
       "      <td>17/06/2011</td>\n",
       "      <td>60</td>\n",
       "      <td>0.1062</td>\n",
       "      <td>ST3</td>\n",
       "      <td>1</td>\n",
       "    </tr>\n",
       "    <tr>\n",
       "      <th>...</th>\n",
       "      <td>...</td>\n",
       "      <td>...</td>\n",
       "      <td>...</td>\n",
       "      <td>...</td>\n",
       "      <td>...</td>\n",
       "      <td>...</td>\n",
       "      <td>...</td>\n",
       "      <td>...</td>\n",
       "      <td>...</td>\n",
       "      <td>...</td>\n",
       "      <td>...</td>\n",
       "      <td>...</td>\n",
       "      <td>...</td>\n",
       "    </tr>\n",
       "    <tr>\n",
       "      <th>734074</th>\n",
       "      <td>01/04/2020</td>\n",
       "      <td>K+WtdLhUsyg5X/QWjeRha3+jz9Kzxom7RYfVd8+QeeAeFR...</td>\n",
       "      <td>KbHNPXjHDA/HpWe06ga16/GR2JtFQVCvNHNiiBhNP92aLY...</td>\n",
       "      <td>20/07/2016</td>\n",
       "      <td>1300.0</td>\n",
       "      <td>517.750089</td>\n",
       "      <td>71.529911</td>\n",
       "      <td>10</td>\n",
       "      <td>05/06/2017</td>\n",
       "      <td>24</td>\n",
       "      <td>0.0790</td>\n",
       "      <td>TS23</td>\n",
       "      <td>0</td>\n",
       "    </tr>\n",
       "    <tr>\n",
       "      <th>734075</th>\n",
       "      <td>01/04/2020</td>\n",
       "      <td>KIK0lRN432Ykyn4h+ZhMdcn6yMP40whh4JrRd9Fr1LmGl6...</td>\n",
       "      <td>KnjRiBcw6grVlZHW9rH4l6Uq1uiI3xobTG86Kw7NROUlWG...</td>\n",
       "      <td>11/01/2006</td>\n",
       "      <td>3000.0</td>\n",
       "      <td>3000.000000</td>\n",
       "      <td>225.430000</td>\n",
       "      <td>37</td>\n",
       "      <td>21/05/2009</td>\n",
       "      <td>36</td>\n",
       "      <td>0.0480</td>\n",
       "      <td>SS17</td>\n",
       "      <td>1</td>\n",
       "    </tr>\n",
       "    <tr>\n",
       "      <th>734076</th>\n",
       "      <td>01/04/2020</td>\n",
       "      <td>Ky90MqrXpKSfuJOzEFR5ZxnWHge6RnPgpjD/rmUxjYQuQr...</td>\n",
       "      <td>KaojDT3Yt74B7AWpYbyl0nrBen8pPpwUI4ZNLxbyez0puP...</td>\n",
       "      <td>09/03/2006</td>\n",
       "      <td>3000.0</td>\n",
       "      <td>3000.000000</td>\n",
       "      <td>213.000000</td>\n",
       "      <td>36</td>\n",
       "      <td>07/04/2009</td>\n",
       "      <td>36</td>\n",
       "      <td>0.0442</td>\n",
       "      <td>LU2</td>\n",
       "      <td>1</td>\n",
       "    </tr>\n",
       "    <tr>\n",
       "      <th>734077</th>\n",
       "      <td>01/04/2020</td>\n",
       "      <td>KH4x+f4TkZjjJywzrQJC/WFT/1xl9LX9/GZ13uYal76M3S...</td>\n",
       "      <td>KcW/2Bt/x7NxTXMt6DX1PCGR2JtFQVCvNHNiiBhNP92aLY...</td>\n",
       "      <td>12/08/2016</td>\n",
       "      <td>2000.0</td>\n",
       "      <td>2000.000000</td>\n",
       "      <td>171.110000</td>\n",
       "      <td>24</td>\n",
       "      <td>04/09/2018</td>\n",
       "      <td>24</td>\n",
       "      <td>0.0790</td>\n",
       "      <td>CT11</td>\n",
       "      <td>1</td>\n",
       "    </tr>\n",
       "    <tr>\n",
       "      <th>734078</th>\n",
       "      <td>01/04/2020</td>\n",
       "      <td>K87ZEM7ZMRlqFGwXZmiusurYPqNfIewPWLu86iXdrJqZz1...</td>\n",
       "      <td>KMcslVBtWTPHqo7tjE2YBWdmgFUeWbuJqvEW6plqNpZCdZ...</td>\n",
       "      <td>21/06/2006</td>\n",
       "      <td>6030.0</td>\n",
       "      <td>6030.000000</td>\n",
       "      <td>403.190000</td>\n",
       "      <td>21</td>\n",
       "      <td>27/03/2008</td>\n",
       "      <td>36</td>\n",
       "      <td>0.0524</td>\n",
       "      <td>NaN</td>\n",
       "      <td>1</td>\n",
       "    </tr>\n",
       "  </tbody>\n",
       "</table>\n",
       "<p>476777 rows × 13 columns</p>\n",
       "</div>"
      ],
      "text/plain": [
       "         Snap Date                                            Loan ID  \\\n",
       "0       01/04/2020  KiNr6fWbDJawb+iWDqxa5Z0ujFJY0SdvrNcnx6ohotjTmh...   \n",
       "1       01/04/2020  KEG5ZcmNwkBdev/wAbhXY3k/jTzMEsD5oGgthuwDk3KAhI...   \n",
       "2       01/04/2020  K/eXt8OTkQr+K+q7hB7NwfE/jTzMEsD5oGgthuwDk3KAhI...   \n",
       "3       01/04/2020  KHAjSlBZP8dfKKSvZ1P0RoE/jTzMEsD5oGgthuwDk3KAhI...   \n",
       "4       01/04/2020  Ka/qq6opoNm3Ru0g4tZ60kU/jTzMEsD5oGgthuwDk3KAhI...   \n",
       "...            ...                                                ...   \n",
       "734074  01/04/2020  K+WtdLhUsyg5X/QWjeRha3+jz9Kzxom7RYfVd8+QeeAeFR...   \n",
       "734075  01/04/2020  KIK0lRN432Ykyn4h+ZhMdcn6yMP40whh4JrRd9Fr1LmGl6...   \n",
       "734076  01/04/2020  Ky90MqrXpKSfuJOzEFR5ZxnWHge6RnPgpjD/rmUxjYQuQr...   \n",
       "734077  01/04/2020  KH4x+f4TkZjjJywzrQJC/WFT/1xl9LX9/GZ13uYal76M3S...   \n",
       "734078  01/04/2020  K87ZEM7ZMRlqFGwXZmiusurYPqNfIewPWLu86iXdrJqZz1...   \n",
       "\n",
       "                                              Borowwer ID        Date  \\\n",
       "0       K9/BbjsErCJgqotvqUKWD/Rnpb+f9QsOdxZIT17NjWpW3i...  31/01/2006   \n",
       "1       KCZ0hABCC6lkGViMDi6V+UE/jTzMEsD5oGgthuwDk3KAhI...  01/12/2009   \n",
       "2       Kbzjqk1XQcW30KMO5xaeQD0/jTzMEsD5oGgthuwDk3KAhI...  12/01/2010   \n",
       "3       KpImAAXOHamrMyTha6zoo18XjNjekFAKeIog8thsa/dMhI...  17/11/2009   \n",
       "4       KDAVgrkygXXP76b4gAYvv3k/jTzMEsD5oGgthuwDk3KAhI...  22/12/2009   \n",
       "...                                                   ...         ...   \n",
       "734074  KbHNPXjHDA/HpWe06ga16/GR2JtFQVCvNHNiiBhNP92aLY...  20/07/2016   \n",
       "734075  KnjRiBcw6grVlZHW9rH4l6Uq1uiI3xobTG86Kw7NROUlWG...  11/01/2006   \n",
       "734076  KaojDT3Yt74B7AWpYbyl0nrBen8pPpwUI4ZNLxbyez0puP...  09/03/2006   \n",
       "734077  KcW/2Bt/x7NxTXMt6DX1PCGR2JtFQVCvNHNiiBhNP92aLY...  12/08/2016   \n",
       "734078  KMcslVBtWTPHqo7tjE2YBWdmgFUeWbuJqvEW6plqNpZCdZ...  21/06/2006   \n",
       "\n",
       "        Loan Amount  Principal Amount  Interest Amount  Number_Of_Payment  \\\n",
       "0            9000.0       9000.000000       679.560000                 36   \n",
       "1           12120.0      12120.000000      1433.160000                 37   \n",
       "2            3120.0       3120.000000       351.840000                 36   \n",
       "3            1120.0       1120.000000       141.550000                 21   \n",
       "4           10120.0      10120.000000      1333.989778                 18   \n",
       "...             ...               ...              ...                ...   \n",
       "734074       1300.0        517.750089        71.529911                 10   \n",
       "734075       3000.0       3000.000000       225.430000                 37   \n",
       "734076       3000.0       3000.000000       213.000000                 36   \n",
       "734077       2000.0       2000.000000       171.110000                 24   \n",
       "734078       6030.0       6030.000000       403.190000                 21   \n",
       "\n",
       "       Last_Payment_Date  Term  Interest Rate Post_Code  Credit_Score  \n",
       "0             05/02/2009    36         0.0491       NaN             1  \n",
       "1             11/12/2012    36         0.0872      DG13             1  \n",
       "2             23/08/2012    36         0.0786       NaN             1  \n",
       "3             17/08/2011    36         0.1007      HP19             1  \n",
       "4             17/06/2011    60         0.1062       ST3             1  \n",
       "...                  ...   ...            ...       ...           ...  \n",
       "734074        05/06/2017    24         0.0790      TS23             0  \n",
       "734075        21/05/2009    36         0.0480      SS17             1  \n",
       "734076        07/04/2009    36         0.0442       LU2             1  \n",
       "734077        04/09/2018    24         0.0790      CT11             1  \n",
       "734078        27/03/2008    36         0.0524       NaN             1  \n",
       "\n",
       "[476777 rows x 13 columns]"
      ]
     },
     "execution_count": 19,
     "metadata": {},
     "output_type": "execute_result"
    }
   ],
   "source": [
    "##print number of column with different set attributes \n",
    "LC_Data_Updated"
   ]
  },
  {
   "cell_type": "code",
   "execution_count": 20,
   "metadata": {},
   "outputs": [],
   "source": [
    "#Dropping Unrequired Columns\n",
    "LC_Data_Updated.drop(columns = ['Snap Date','Loan ID','Borowwer ID','Date','Last_Payment_Date','Post_Code'], inplace = True)"
   ]
  },
  {
   "cell_type": "code",
   "execution_count": 21,
   "metadata": {},
   "outputs": [],
   "source": [
    "#Add variable with respect to numerical and catagorical characteristic \n",
    "Numerical_Features.append('Loan Amount')\n",
    "Numerical_Features.append('Principal Amount')\n",
    "Numerical_Features.append('Interest Amount')\n",
    "Numerical_Features.append('Number_Of_Payment')\n",
    "Numerical_Features.append('Term')\n",
    "Numerical_Features.append('Interest Rate')"
   ]
  },
  {
   "cell_type": "code",
   "execution_count": 22,
   "metadata": {},
   "outputs": [
    {
     "name": "stdout",
     "output_type": "stream",
     "text": [
      "(476777, 7)\n"
     ]
    }
   ],
   "source": [
    "#print data shape after chosing variable related to our analysis\n",
    "print(LC_Data_Updated.shape)"
   ]
  },
  {
   "cell_type": "code",
   "execution_count": 23,
   "metadata": {},
   "outputs": [
    {
     "data": {
      "text/plain": [
       "Loan Amount          0\n",
       "Principal Amount     0\n",
       "Interest Amount      0\n",
       "Number_Of_Payment    0\n",
       "Term                 0\n",
       "Interest Rate        0\n",
       "Credit_Score         0\n",
       "dtype: int64"
      ]
     },
     "execution_count": 23,
     "metadata": {},
     "output_type": "execute_result"
    }
   ],
   "source": [
    "#Check for Null Values\n",
    "LC_Data_Updated.isna().sum()"
   ]
  },
  {
   "cell_type": "code",
   "execution_count": 24,
   "metadata": {},
   "outputs": [],
   "source": [
    "##reset dataset\n",
    "LC_Data_Updated.reset_index(inplace=True)"
   ]
  },
  {
   "cell_type": "code",
   "execution_count": 25,
   "metadata": {},
   "outputs": [],
   "source": [
    "LC_Data_Updated = LC_Data_Updated.loc[:,LC_Data_Updated.apply(pd.Series.nunique) != 1]\n",
    "#Print Columns with unique value"
   ]
  },
  {
   "cell_type": "code",
   "execution_count": 26,
   "metadata": {},
   "outputs": [
    {
     "name": "stdout",
     "output_type": "stream",
     "text": [
      "1    416772\n",
      "0     60005\n",
      "Name: Credit_Score, dtype: int64\n",
      "\n"
     ]
    }
   ],
   "source": [
    "for col in LC_Data_Updated.columns:\n",
    "    if (len(LC_Data_Updated[col].unique()) < 10):\n",
    "        print(LC_Data_Updated[col].value_counts())\n",
    "        print()\n",
    "#Use to check whether any variable has binary rows and if one of the rows has less than 10% we drop that column"
   ]
  },
  {
   "cell_type": "code",
   "execution_count": 27,
   "metadata": {},
   "outputs": [
    {
     "data": {
      "text/html": [
       "<div>\n",
       "<style scoped>\n",
       "    .dataframe tbody tr th:only-of-type {\n",
       "        vertical-align: middle;\n",
       "    }\n",
       "\n",
       "    .dataframe tbody tr th {\n",
       "        vertical-align: top;\n",
       "    }\n",
       "\n",
       "    .dataframe thead th {\n",
       "        text-align: right;\n",
       "    }\n",
       "</style>\n",
       "<table border=\"1\" class=\"dataframe\">\n",
       "  <thead>\n",
       "    <tr style=\"text-align: right;\">\n",
       "      <th></th>\n",
       "      <th>Loan Amount</th>\n",
       "      <th>Principal Amount</th>\n",
       "      <th>Interest Amount</th>\n",
       "      <th>Number_Of_Payment</th>\n",
       "      <th>Term</th>\n",
       "      <th>Interest Rate</th>\n",
       "    </tr>\n",
       "  </thead>\n",
       "  <tbody>\n",
       "    <tr>\n",
       "      <th>0</th>\n",
       "      <td>9000.0</td>\n",
       "      <td>9000.0</td>\n",
       "      <td>679.560000</td>\n",
       "      <td>36</td>\n",
       "      <td>36</td>\n",
       "      <td>0.0491</td>\n",
       "    </tr>\n",
       "    <tr>\n",
       "      <th>1</th>\n",
       "      <td>12120.0</td>\n",
       "      <td>12120.0</td>\n",
       "      <td>1433.160000</td>\n",
       "      <td>37</td>\n",
       "      <td>36</td>\n",
       "      <td>0.0872</td>\n",
       "    </tr>\n",
       "    <tr>\n",
       "      <th>2</th>\n",
       "      <td>3120.0</td>\n",
       "      <td>3120.0</td>\n",
       "      <td>351.840000</td>\n",
       "      <td>36</td>\n",
       "      <td>36</td>\n",
       "      <td>0.0786</td>\n",
       "    </tr>\n",
       "    <tr>\n",
       "      <th>3</th>\n",
       "      <td>1120.0</td>\n",
       "      <td>1120.0</td>\n",
       "      <td>141.550000</td>\n",
       "      <td>21</td>\n",
       "      <td>36</td>\n",
       "      <td>0.1007</td>\n",
       "    </tr>\n",
       "    <tr>\n",
       "      <th>4</th>\n",
       "      <td>10120.0</td>\n",
       "      <td>10120.0</td>\n",
       "      <td>1333.989778</td>\n",
       "      <td>18</td>\n",
       "      <td>60</td>\n",
       "      <td>0.1062</td>\n",
       "    </tr>\n",
       "  </tbody>\n",
       "</table>\n",
       "</div>"
      ],
      "text/plain": [
       "   Loan Amount  Principal Amount  Interest Amount  Number_Of_Payment  Term  \\\n",
       "0       9000.0            9000.0       679.560000                 36    36   \n",
       "1      12120.0           12120.0      1433.160000                 37    36   \n",
       "2       3120.0            3120.0       351.840000                 36    36   \n",
       "3       1120.0            1120.0       141.550000                 21    36   \n",
       "4      10120.0           10120.0      1333.989778                 18    60   \n",
       "\n",
       "   Interest Rate  \n",
       "0         0.0491  \n",
       "1         0.0872  \n",
       "2         0.0786  \n",
       "3         0.1007  \n",
       "4         0.1062  "
      ]
     },
     "execution_count": 27,
     "metadata": {},
     "output_type": "execute_result"
    }
   ],
   "source": [
    "#Data Frame for Numerical Data\n",
    "#-----------------------------------------------------------------------------------------------------------------------------\n",
    "Numerical_Data=pd.DataFrame()\n",
    "for col in Numerical_Features:\n",
    "    Numerical_Data=pd.concat([ Numerical_Data, LC_Data_Updated[col]], axis= 1)\n",
    "\n",
    "Numerical_Data.head()"
   ]
  },
  {
   "cell_type": "code",
   "execution_count": 28,
   "metadata": {},
   "outputs": [
    {
     "name": "stdout",
     "output_type": "stream",
     "text": [
      "<class 'pandas.core.frame.DataFrame'>\n",
      "Index: 476777 entries, 0 to 476776\n",
      "Data columns (total 6 columns):\n",
      " #   Column             Non-Null Count   Dtype  \n",
      "---  ------             --------------   -----  \n",
      " 0   Loan Amount        476777 non-null  float64\n",
      " 1   Principal Amount   476777 non-null  float64\n",
      " 2   Interest Amount    476777 non-null  float64\n",
      " 3   Number_Of_Payment  476777 non-null  int64  \n",
      " 4   Term               476777 non-null  int64  \n",
      " 5   Interest Rate      476777 non-null  float64\n",
      "dtypes: float64(4), int64(2)\n",
      "memory usage: 25.5+ MB\n"
     ]
    }
   ],
   "source": [
    "#Numerical Data Info\n",
    "Numerical_Data.info()"
   ]
  },
  {
   "cell_type": "code",
   "execution_count": 29,
   "metadata": {},
   "outputs": [],
   "source": [
    "#convert all into float\n",
    "for col in Numerical_Data.columns:\n",
    "    Numerical_Data[col].astype(float)"
   ]
  },
  {
   "cell_type": "code",
   "execution_count": 30,
   "metadata": {},
   "outputs": [
    {
     "data": {
      "text/html": [
       "<div>\n",
       "<style scoped>\n",
       "    .dataframe tbody tr th:only-of-type {\n",
       "        vertical-align: middle;\n",
       "    }\n",
       "\n",
       "    .dataframe tbody tr th {\n",
       "        vertical-align: top;\n",
       "    }\n",
       "\n",
       "    .dataframe thead th {\n",
       "        text-align: right;\n",
       "    }\n",
       "</style>\n",
       "<table border=\"1\" class=\"dataframe\">\n",
       "  <thead>\n",
       "    <tr style=\"text-align: right;\">\n",
       "      <th></th>\n",
       "      <th>Loan Amount</th>\n",
       "      <th>Principal Amount</th>\n",
       "      <th>Interest Amount</th>\n",
       "      <th>Number_Of_Payment</th>\n",
       "      <th>Term</th>\n",
       "      <th>Interest Rate</th>\n",
       "    </tr>\n",
       "  </thead>\n",
       "  <tbody>\n",
       "    <tr>\n",
       "      <th>count</th>\n",
       "      <td>476777.000000</td>\n",
       "      <td>476777.000000</td>\n",
       "      <td>476777.000000</td>\n",
       "      <td>476777.000000</td>\n",
       "      <td>476777.000000</td>\n",
       "      <td>476777.000000</td>\n",
       "    </tr>\n",
       "    <tr>\n",
       "      <th>mean</th>\n",
       "      <td>6446.544036</td>\n",
       "      <td>5741.735501</td>\n",
       "      <td>580.607948</td>\n",
       "      <td>20.557059</td>\n",
       "      <td>39.885062</td>\n",
       "      <td>0.094748</td>\n",
       "    </tr>\n",
       "    <tr>\n",
       "      <th>std</th>\n",
       "      <td>5152.041205</td>\n",
       "      <td>4935.731029</td>\n",
       "      <td>759.242810</td>\n",
       "      <td>14.298970</td>\n",
       "      <td>15.952087</td>\n",
       "      <td>0.061116</td>\n",
       "    </tr>\n",
       "    <tr>\n",
       "      <th>min</th>\n",
       "      <td>260.000000</td>\n",
       "      <td>0.000000</td>\n",
       "      <td>0.000000</td>\n",
       "      <td>0.000000</td>\n",
       "      <td>6.000000</td>\n",
       "      <td>0.010000</td>\n",
       "    </tr>\n",
       "    <tr>\n",
       "      <th>25%</th>\n",
       "      <td>2900.000000</td>\n",
       "      <td>2160.000000</td>\n",
       "      <td>136.960000</td>\n",
       "      <td>10.000000</td>\n",
       "      <td>24.000000</td>\n",
       "      <td>0.051300</td>\n",
       "    </tr>\n",
       "    <tr>\n",
       "      <th>50%</th>\n",
       "      <td>5050.000000</td>\n",
       "      <td>4220.000000</td>\n",
       "      <td>328.290000</td>\n",
       "      <td>18.000000</td>\n",
       "      <td>36.000000</td>\n",
       "      <td>0.074000</td>\n",
       "    </tr>\n",
       "    <tr>\n",
       "      <th>75%</th>\n",
       "      <td>8610.000000</td>\n",
       "      <td>7690.000000</td>\n",
       "      <td>710.210000</td>\n",
       "      <td>30.000000</td>\n",
       "      <td>60.000000</td>\n",
       "      <td>0.121900</td>\n",
       "    </tr>\n",
       "    <tr>\n",
       "      <th>max</th>\n",
       "      <td>35000.000000</td>\n",
       "      <td>35000.000000</td>\n",
       "      <td>13710.655610</td>\n",
       "      <td>276.000000</td>\n",
       "      <td>60.000000</td>\n",
       "      <td>0.337800</td>\n",
       "    </tr>\n",
       "  </tbody>\n",
       "</table>\n",
       "</div>"
      ],
      "text/plain": [
       "         Loan Amount  Principal Amount  Interest Amount  Number_Of_Payment  \\\n",
       "count  476777.000000     476777.000000    476777.000000      476777.000000   \n",
       "mean     6446.544036       5741.735501       580.607948          20.557059   \n",
       "std      5152.041205       4935.731029       759.242810          14.298970   \n",
       "min       260.000000          0.000000         0.000000           0.000000   \n",
       "25%      2900.000000       2160.000000       136.960000          10.000000   \n",
       "50%      5050.000000       4220.000000       328.290000          18.000000   \n",
       "75%      8610.000000       7690.000000       710.210000          30.000000   \n",
       "max     35000.000000      35000.000000     13710.655610         276.000000   \n",
       "\n",
       "                Term  Interest Rate  \n",
       "count  476777.000000  476777.000000  \n",
       "mean       39.885062       0.094748  \n",
       "std        15.952087       0.061116  \n",
       "min         6.000000       0.010000  \n",
       "25%        24.000000       0.051300  \n",
       "50%        36.000000       0.074000  \n",
       "75%        60.000000       0.121900  \n",
       "max        60.000000       0.337800  "
      ]
     },
     "execution_count": 30,
     "metadata": {},
     "output_type": "execute_result"
    }
   ],
   "source": [
    "#print numerical data description \n",
    "Numerical_Data.describe()"
   ]
  },
  {
   "cell_type": "code",
   "execution_count": 31,
   "metadata": {},
   "outputs": [],
   "source": [
    "#Import Required Libraries\n",
    "from sklearn.preprocessing import StandardScaler"
   ]
  },
  {
   "cell_type": "code",
   "execution_count": 32,
   "metadata": {},
   "outputs": [],
   "source": [
    "##Scale numerical data set \n",
    "Scaler = StandardScaler()\n",
    "Scaled_Numerical_Data = pd.DataFrame(Scaler.fit_transform(Numerical_Data),columns=Numerical_Data.columns)"
   ]
  },
  {
   "cell_type": "code",
   "execution_count": 33,
   "metadata": {},
   "outputs": [
    {
     "name": "stdout",
     "output_type": "stream",
     "text": [
      "(476777, 6) (476777,)\n"
     ]
    },
    {
     "data": {
      "text/html": [
       "<div>\n",
       "<style scoped>\n",
       "    .dataframe tbody tr th:only-of-type {\n",
       "        vertical-align: middle;\n",
       "    }\n",
       "\n",
       "    .dataframe tbody tr th {\n",
       "        vertical-align: top;\n",
       "    }\n",
       "\n",
       "    .dataframe thead th {\n",
       "        text-align: right;\n",
       "    }\n",
       "</style>\n",
       "<table border=\"1\" class=\"dataframe\">\n",
       "  <thead>\n",
       "    <tr style=\"text-align: right;\">\n",
       "      <th></th>\n",
       "      <th>Loan Amount</th>\n",
       "      <th>Principal Amount</th>\n",
       "      <th>Interest Amount</th>\n",
       "      <th>Number_Of_Payment</th>\n",
       "      <th>Term</th>\n",
       "      <th>Interest Rate</th>\n",
       "    </tr>\n",
       "  </thead>\n",
       "  <tbody>\n",
       "    <tr>\n",
       "      <th>0</th>\n",
       "      <td>0.495621</td>\n",
       "      <td>0.660139</td>\n",
       "      <td>0.130330</td>\n",
       "      <td>1.080005</td>\n",
       "      <td>-0.243546</td>\n",
       "      <td>-0.746915</td>\n",
       "    </tr>\n",
       "    <tr>\n",
       "      <th>1</th>\n",
       "      <td>1.101207</td>\n",
       "      <td>1.292265</td>\n",
       "      <td>1.122899</td>\n",
       "      <td>1.149940</td>\n",
       "      <td>-0.243546</td>\n",
       "      <td>-0.123510</td>\n",
       "    </tr>\n",
       "    <tr>\n",
       "      <th>2</th>\n",
       "      <td>-0.645676</td>\n",
       "      <td>-0.531175</td>\n",
       "      <td>-0.301311</td>\n",
       "      <td>1.080005</td>\n",
       "      <td>-0.243546</td>\n",
       "      <td>-0.264226</td>\n",
       "    </tr>\n",
       "    <tr>\n",
       "      <th>3</th>\n",
       "      <td>-1.033872</td>\n",
       "      <td>-0.936384</td>\n",
       "      <td>-0.578285</td>\n",
       "      <td>0.030977</td>\n",
       "      <td>-0.243546</td>\n",
       "      <td>0.097382</td>\n",
       "    </tr>\n",
       "    <tr>\n",
       "      <th>4</th>\n",
       "      <td>0.713011</td>\n",
       "      <td>0.887056</td>\n",
       "      <td>0.992282</td>\n",
       "      <td>-0.178828</td>\n",
       "      <td>1.260961</td>\n",
       "      <td>0.187374</td>\n",
       "    </tr>\n",
       "  </tbody>\n",
       "</table>\n",
       "</div>"
      ],
      "text/plain": [
       "   Loan Amount  Principal Amount  Interest Amount  Number_Of_Payment  \\\n",
       "0     0.495621          0.660139         0.130330           1.080005   \n",
       "1     1.101207          1.292265         1.122899           1.149940   \n",
       "2    -0.645676         -0.531175        -0.301311           1.080005   \n",
       "3    -1.033872         -0.936384        -0.578285           0.030977   \n",
       "4     0.713011          0.887056         0.992282          -0.178828   \n",
       "\n",
       "       Term  Interest Rate  \n",
       "0 -0.243546      -0.746915  \n",
       "1 -0.243546      -0.123510  \n",
       "2 -0.243546      -0.264226  \n",
       "3 -0.243546       0.097382  \n",
       "4  1.260961       0.187374  "
      ]
     },
     "execution_count": 33,
     "metadata": {},
     "output_type": "execute_result"
    }
   ],
   "source": [
    "#Merging Numerical and Categorical Data\n",
    "Independent_Variable= Scaled_Numerical_Data\n",
    "#------------------------------------------------------------------------------------------------------------------------------\n",
    "Target_Variable=LC_Data_Updated.Credit_Score\n",
    "print(Independent_Variable.shape, Target_Variable.shape)\n",
    "Independent_Variable.head()"
   ]
  },
  {
   "cell_type": "code",
   "execution_count": 35,
   "metadata": {},
   "outputs": [
    {
     "data": {
      "text/plain": [
       "<AxesSubplot:xlabel='Loan Amount', ylabel='count'>"
      ]
     },
     "execution_count": 35,
     "metadata": {},
     "output_type": "execute_result"
    },
    {
     "data": {
      "image/png": "[encoded data removed]",
      "text/plain": [
       "<Figure size 1440x360 with 1 Axes>"
      ]
     },
     "metadata": {
      "needs_background": "light"
     },
     "output_type": "display_data"
    }
   ],
   "source": [
    "plt.subplots(figsize = (20,5))\n",
    "sns.countplot(x = 'Loan Amount', hue = 'Credit_Score', data = LC_Data_Updated)"
   ]
  },
  {
   "cell_type": "code",
   "execution_count": 36,
   "metadata": {},
   "outputs": [
    {
     "data": {
      "text/plain": [
       "<AxesSubplot:xlabel='Principal Amount', ylabel='count'>"
      ]
     },
     "execution_count": 36,
     "metadata": {},
     "output_type": "execute_result"
    },
    {
     "data": {
      "image/png": "[encoded data removed]",
      "text/plain": [
       "<Figure size 1440x360 with 1 Axes>"
      ]
     },
     "metadata": {
      "needs_background": "light"
     },
     "output_type": "display_data"
    }
   ],
   "source": [
    "plt.subplots(figsize = (20,5))\n",
    "sns.countplot(x = 'Principal Amount', hue = 'Credit_Score', data = LC_Data_Updated)"
   ]
  },
  {
   "cell_type": "code",
   "execution_count": 35,
   "metadata": {},
   "outputs": [
    {
     "data": {
      "text/plain": [
       "<AxesSubplot:xlabel='Number_Of_Payment', ylabel='count'>"
      ]
     },
     "execution_count": 35,
     "metadata": {},
     "output_type": "execute_result"
    },
    {
     "data": {
      "image/png": "[encoded data removed]",
      "text/plain": [
       "<Figure size 1440x360 with 1 Axes>"
      ]
     },
     "metadata": {
      "needs_background": "light"
     },
     "output_type": "display_data"
    }
   ],
   "source": [
    "plt.subplots(figsize = (20,5))\n",
    "sns.countplot(x = 'Number_Of_Payment', hue = 'Credit_Score', data = LC_Data_Updated)"
   ]
  },
  {
   "cell_type": "code",
   "execution_count": 34,
   "metadata": {},
   "outputs": [
    {
     "data": {
      "text/plain": [
       "<AxesSubplot:xlabel='Term', ylabel='count'>"
      ]
     },
     "execution_count": 34,
     "metadata": {},
     "output_type": "execute_result"
    },
    {
     "data": {
      "image/png": "[encoded data removed]",
      "text/plain": [
       "<Figure size 1440x360 with 1 Axes>"
      ]
     },
     "metadata": {
      "needs_background": "light"
     },
     "output_type": "display_data"
    }
   ],
   "source": [
    "plt.subplots(figsize = (20,5))\n",
    "sns.countplot(x = 'Term', hue = 'Credit_Score', data = LC_Data_Updated)"
   ]
  },
  {
   "cell_type": "code",
   "execution_count": 36,
   "metadata": {},
   "outputs": [
    {
     "data": {
      "text/plain": [
       "<AxesSubplot:xlabel='Interest Rate', ylabel='count'>"
      ]
     },
     "execution_count": 36,
     "metadata": {},
     "output_type": "execute_result"
    },
    {
     "data": {
      "image/png": "[encoded data removed]",
      "text/plain": [
       "<Figure size 1440x360 with 1 Axes>"
      ]
     },
     "metadata": {
      "needs_background": "light"
     },
     "output_type": "display_data"
    }
   ],
   "source": [
    "plt.subplots(figsize = (20,5))\n",
    "sns.countplot(x = 'Interest Rate', hue = 'Credit_Score', data = LC_Data_Updated)"
   ]
  },
  {
   "cell_type": "code",
   "execution_count": null,
   "metadata": {},
   "outputs": [],
   "source": []
  },
  {
   "cell_type": "markdown",
   "metadata": {},
   "source": [
    "# Feature Engineering"
   ]
  },
  {
   "cell_type": "code",
   "execution_count": 34,
   "metadata": {},
   "outputs": [],
   "source": [
    "#Import Required Library\n",
    "from sklearn.ensemble import RandomForestClassifier \n",
    "from sklearn.datasets import make_classification\n",
    "from sklearn.ensemble import ExtraTreesClassifier"
   ]
  },
  {
   "cell_type": "code",
   "execution_count": 35,
   "metadata": {},
   "outputs": [
    {
     "name": "stdout",
     "output_type": "stream",
     "text": [
      "Feature ranking:\n",
      "1. feature 1 (0.513249)\n",
      "2. feature 0 (0.217581)\n",
      "3. feature 5 (0.095082)\n",
      "4. feature 2 (0.088801)\n",
      "5. feature 3 (0.045734)\n",
      "6. feature 4 (0.039553)\n"
     ]
    }
   ],
   "source": [
    "#data ranking based on importance regarding target variable \n",
    "forest = ExtraTreesClassifier(n_estimators=250,random_state=0)\n",
    "forest.fit(Independent_Variable, Target_Variable)\n",
    "importances = forest.feature_importances_\n",
    "std = np.std([tree.feature_importances_ for tree in forest.estimators_],axis=0)\n",
    "indices = np.argsort(importances)[::-1]\n",
    "print(\"Feature ranking:\")\n",
    "for f in range(Independent_Variable.shape[1]):\n",
    "    print(\"%d. feature %d (%f)\" % (f + 1, indices[f], importances[indices[f]]))"
   ]
  },
  {
   "cell_type": "code",
   "execution_count": 36,
   "metadata": {},
   "outputs": [
    {
     "data": {
      "text/plain": [
       "['Loan Amount',\n",
       " 'Principal Amount',\n",
       " 'Interest Amount',\n",
       " 'Number_Of_Payment',\n",
       " 'Term',\n",
       " 'Interest Rate']"
      ]
     },
     "execution_count": 36,
     "metadata": {},
     "output_type": "execute_result"
    }
   ],
   "source": [
    "##column name \n",
    "Independent_Variable.columns.tolist()"
   ]
  },
  {
   "cell_type": "code",
   "execution_count": 37,
   "metadata": {},
   "outputs": [
    {
     "data": {
      "image/png": "[encoded data removed]",
      "text/plain": [
       "<Figure size 864x576 with 1 Axes>"
      ]
     },
     "metadata": {
      "needs_background": "light"
     },
     "output_type": "display_data"
    }
   ],
   "source": [
    "#figure to see importance of different variable  \n",
    "plt.figure()\n",
    "plt.title(\"Feature importances\")\n",
    "plt.bar(range(Independent_Variable.shape[1]), importances[indices],\n",
    "       color=\"r\", yerr=std[indices], align=\"center\")\n",
    "plt.xticks(range(Independent_Variable.shape[1]), indices)\n",
    "plt.xlim([-1, Independent_Variable.shape[1]])\n",
    "plt.show()"
   ]
  },
  {
   "cell_type": "code",
   "execution_count": 38,
   "metadata": {},
   "outputs": [],
   "source": [
    "#feature 1 (0.513249): Loan Amount\n",
    "#feature 0 (0.217581): Principal Amount\n",
    "#feature 5 (0.095082): Interest Rate\n",
    "#feature 2 (0.088801): Interest Amount\n",
    "#feature 3 (0.045734): Number_Of_Payment\n",
    "#feature 4 (0.039553): Term"
   ]
  },
  {
   "cell_type": "markdown",
   "metadata": {},
   "source": [
    "# Correlation"
   ]
  },
  {
   "cell_type": "code",
   "execution_count": 39,
   "metadata": {},
   "outputs": [
    {
     "data": {
      "text/plain": [
       "Principal Amount  Loan Amount    0.872300\n",
       "Interest Amount   Loan Amount    0.567137\n",
       "Term              Loan Amount    0.507807\n",
       "dtype: float64"
      ]
     },
     "execution_count": 39,
     "metadata": {},
     "output_type": "execute_result"
    }
   ],
   "source": [
    "#Correlation between 2 variables \n",
    "cor = Independent_Variable.corr()\n",
    "cor.loc[:,:] = np.tril(cor, k=-1) # below main lower triangle of an array\n",
    "cor = cor.stack()\n",
    "cor[(cor > 0.50) | (cor < -0.50)]"
   ]
  },
  {
   "cell_type": "code",
   "execution_count": 40,
   "metadata": {},
   "outputs": [],
   "source": [
    "#Drop Highly Correlated Column\n",
    "Independent_Variable.drop(columns = ['Principal Amount'], inplace = True)"
   ]
  },
  {
   "cell_type": "code",
   "execution_count": 41,
   "metadata": {},
   "outputs": [
    {
     "data": {
      "text/html": [
       "<div>\n",
       "<style scoped>\n",
       "    .dataframe tbody tr th:only-of-type {\n",
       "        vertical-align: middle;\n",
       "    }\n",
       "\n",
       "    .dataframe tbody tr th {\n",
       "        vertical-align: top;\n",
       "    }\n",
       "\n",
       "    .dataframe thead th {\n",
       "        text-align: right;\n",
       "    }\n",
       "</style>\n",
       "<table border=\"1\" class=\"dataframe\">\n",
       "  <thead>\n",
       "    <tr style=\"text-align: right;\">\n",
       "      <th></th>\n",
       "      <th>Loan Amount</th>\n",
       "      <th>Interest Amount</th>\n",
       "      <th>Number_Of_Payment</th>\n",
       "      <th>Term</th>\n",
       "      <th>Interest Rate</th>\n",
       "    </tr>\n",
       "  </thead>\n",
       "  <tbody>\n",
       "    <tr>\n",
       "      <th>Loan Amount</th>\n",
       "      <td>1.000000</td>\n",
       "      <td>0.567137</td>\n",
       "      <td>0.075506</td>\n",
       "      <td>0.507807</td>\n",
       "      <td>-0.180220</td>\n",
       "    </tr>\n",
       "    <tr>\n",
       "      <th>Interest Amount</th>\n",
       "      <td>0.567137</td>\n",
       "      <td>1.000000</td>\n",
       "      <td>0.396482</td>\n",
       "      <td>0.416825</td>\n",
       "      <td>0.227195</td>\n",
       "    </tr>\n",
       "    <tr>\n",
       "      <th>Number_Of_Payment</th>\n",
       "      <td>0.075506</td>\n",
       "      <td>0.396482</td>\n",
       "      <td>1.000000</td>\n",
       "      <td>0.257237</td>\n",
       "      <td>-0.224858</td>\n",
       "    </tr>\n",
       "    <tr>\n",
       "      <th>Term</th>\n",
       "      <td>0.507807</td>\n",
       "      <td>0.416825</td>\n",
       "      <td>0.257237</td>\n",
       "      <td>1.000000</td>\n",
       "      <td>-0.086034</td>\n",
       "    </tr>\n",
       "    <tr>\n",
       "      <th>Interest Rate</th>\n",
       "      <td>-0.180220</td>\n",
       "      <td>0.227195</td>\n",
       "      <td>-0.224858</td>\n",
       "      <td>-0.086034</td>\n",
       "      <td>1.000000</td>\n",
       "    </tr>\n",
       "  </tbody>\n",
       "</table>\n",
       "</div>"
      ],
      "text/plain": [
       "                   Loan Amount  Interest Amount  Number_Of_Payment      Term  \\\n",
       "Loan Amount           1.000000         0.567137           0.075506  0.507807   \n",
       "Interest Amount       0.567137         1.000000           0.396482  0.416825   \n",
       "Number_Of_Payment     0.075506         0.396482           1.000000  0.257237   \n",
       "Term                  0.507807         0.416825           0.257237  1.000000   \n",
       "Interest Rate        -0.180220         0.227195          -0.224858 -0.086034   \n",
       "\n",
       "                   Interest Rate  \n",
       "Loan Amount            -0.180220  \n",
       "Interest Amount         0.227195  \n",
       "Number_Of_Payment      -0.224858  \n",
       "Term                   -0.086034  \n",
       "Interest Rate           1.000000  "
      ]
     },
     "execution_count": 41,
     "metadata": {},
     "output_type": "execute_result"
    }
   ],
   "source": [
    "# method : {‘pearson’, ‘kendall’, ‘spearman’} or callable\n",
    "Correlation_Variables = Independent_Variable.corr(method='pearson')\n",
    "Correlation_Variables.head()"
   ]
  },
  {
   "cell_type": "code",
   "execution_count": 42,
   "metadata": {},
   "outputs": [
    {
     "data": {
      "text/plain": [
       "<matplotlib.axes._subplots.AxesSubplot at 0x2108037cd48>"
      ]
     },
     "execution_count": 42,
     "metadata": {},
     "output_type": "execute_result"
    },
    {
     "data": {
      "image/png": "[encoded data removed]",
      "text/plain": [
       "<Figure size 864x576 with 2 Axes>"
      ]
     },
     "metadata": {
      "needs_background": "light"
     },
     "output_type": "display_data"
    }
   ],
   "source": [
    "##coorelation metrix in graph \n",
    "sns.heatmap(Correlation_Variables) # Heat Map"
   ]
  },
  {
   "cell_type": "code",
   "execution_count": 43,
   "metadata": {},
   "outputs": [
    {
     "data": {
      "text/plain": [
       "<matplotlib.axes._subplots.AxesSubplot at 0x21080582948>"
      ]
     },
     "execution_count": 43,
     "metadata": {},
     "output_type": "execute_result"
    },
    {
     "data": {
      "image/png": "[encoded data removed]",
      "text/plain": [
       "<Figure size 864x576 with 2 Axes>"
      ]
     },
     "metadata": {
      "needs_background": "light"
     },
     "output_type": "display_data"
    }
   ],
   "source": [
    "# Removing Top Right Triangle\n",
    "mask = np.zeros_like(Correlation_Variables, dtype=np.bool)\n",
    "mask[np.triu_indices_from(mask)] = True\n",
    "#Colors\n",
    "cmap = sns.diverging_palette(240, 10, as_cmap=True)\n",
    "sns.heatmap(Correlation_Variables, mask=mask, linewidths=.15, cmap=cmap, center=0)"
   ]
  },
  {
   "cell_type": "code",
   "execution_count": 44,
   "metadata": {},
   "outputs": [
    {
     "data": {
      "text/plain": [
       "Loan Amount         -0.110543\n",
       "Interest Amount     -0.210514\n",
       "Number_Of_Payment    0.076064\n",
       "Term                -0.146073\n",
       "Interest Rate       -0.318295\n",
       "dtype: float64"
      ]
     },
     "execution_count": 44,
     "metadata": {},
     "output_type": "execute_result"
    }
   ],
   "source": [
    "#correlation with target variable \n",
    "Independent_Variable.corrwith(Target_Variable, axis = 0)"
   ]
  },
  {
   "cell_type": "markdown",
   "metadata": {},
   "source": [
    "# Training and Test Data Split"
   ]
  },
  {
   "cell_type": "code",
   "execution_count": 45,
   "metadata": {},
   "outputs": [],
   "source": [
    "from sklearn.model_selection import KFold\n",
    "from sklearn.linear_model import LogisticRegression\n",
    "from sklearn.model_selection import cross_val_predict\n",
    "from sklearn.ensemble import RandomForestClassifier\n",
    "from sklearn.model_selection import train_test_split\n",
    "from sklearn.tree import DecisionTreeClassifier\n",
    "from sklearn.metrics import accuracy_score, confusion_matrix, classification_report\n",
    "from sklearn import svm\n",
    "from sklearn.pipeline import Pipeline\n",
    "from sklearn.metrics import recall_score\n",
    "import statsmodels.api as sm\n",
    "from statsmodels.formula.api import ols\n",
    "from sklearn.decomposition import PCA\n",
    "import warnings\n",
    "\n",
    "import itertools\n",
    "\n",
    "from imblearn.over_sampling import SMOTE"
   ]
  },
  {
   "cell_type": "code",
   "execution_count": 46,
   "metadata": {},
   "outputs": [],
   "source": [
    "##split dataset into train and test \n",
    "X_train, X_test, y_train, y_test = train_test_split(Independent_Variable, Target_Variable, test_size=0.2, random_state=15)"
   ]
  },
  {
   "cell_type": "code",
   "execution_count": 47,
   "metadata": {},
   "outputs": [
    {
     "name": "stdout",
     "output_type": "stream",
     "text": [
      "(381421, 5) (381421,)\n",
      "(95356, 5) (95356,)\n"
     ]
    }
   ],
   "source": [
    "##print train & test data shape \n",
    "print (X_train.shape, y_train.shape)\n",
    "print (X_test.shape, y_test.shape)"
   ]
  },
  {
   "cell_type": "markdown",
   "metadata": {},
   "source": [
    "# Undersampling"
   ]
  },
  {
   "cell_type": "code",
   "execution_count": 48,
   "metadata": {},
   "outputs": [
    {
     "name": "stdout",
     "output_type": "stream",
     "text": [
      "Number of X_train data:  (381421, 5)\n",
      "Number of y_train data:  (381421,)\n",
      "Number of X_test data:  (95356, 5)\n",
      "Number of y_test data:  (95356,)\n"
     ]
    }
   ],
   "source": [
    "# describes info about train and test set \n",
    "print(\"Number of X_train data: \", X_train.shape) \n",
    "print(\"Number of y_train data: \", y_train.shape) \n",
    "print(\"Number of X_test data: \", X_test.shape) \n",
    "print(\"Number of y_test data: \", y_test.shape) "
   ]
  },
  {
   "cell_type": "code",
   "execution_count": 49,
   "metadata": {},
   "outputs": [
    {
     "name": "stdout",
     "output_type": "stream",
     "text": [
      "Before UnderSampling, counts of label '1': 333351\n",
      "Before UnderSampling, counts of label '0': 48070 \n",
      "\n"
     ]
    }
   ],
   "source": [
    "print(\"Before UnderSampling, counts of label '1': {}\".format(sum(y_train == 1))) \n",
    "print(\"Before UnderSampling, counts of label '0': {} \\n\".format(sum(y_train == 0))) "
   ]
  },
  {
   "cell_type": "code",
   "execution_count": 50,
   "metadata": {},
   "outputs": [],
   "source": [
    "#Import Required Library\n",
    "from imblearn.under_sampling import RandomUnderSampler"
   ]
  },
  {
   "cell_type": "code",
   "execution_count": 51,
   "metadata": {},
   "outputs": [],
   "source": [
    "#undersampling \n",
    "rus = RandomUnderSampler(random_state= 42)\n",
    "X_train_Undersample, y_train_Undersample = rus.fit_sample(X_train, y_train)"
   ]
  },
  {
   "cell_type": "code",
   "execution_count": 52,
   "metadata": {},
   "outputs": [
    {
     "name": "stdout",
     "output_type": "stream",
     "text": [
      "After UnderSampling of data, the shape of train_X: (96140, 5)\n",
      "After UnderSampling of data, the shape of train_y: (96140,) \n",
      "\n",
      "After UnderSampling of data, counts of label '1': 48070\n",
      "After UnderSampling of data, counts of label '0': 48070\n"
     ]
    }
   ],
   "source": [
    "#print data set after undersampling \n",
    "print('After UnderSampling of data, the shape of train_X: {}'.format(X_train_Undersample.shape)) \n",
    "print('After UnderSampling of data, the shape of train_y: {} \\n'.format(y_train_Undersample.shape)) \n",
    "  \n",
    "print(\"After UnderSampling of data, counts of label '1': {}\".format(sum(y_train_Undersample == 1))) \n",
    "print(\"After UnderSampling of data, counts of label '0': {}\".format(sum(y_train_Undersample == 0)))"
   ]
  },
  {
   "cell_type": "markdown",
   "metadata": {},
   "source": []
  },
  {
   "cell_type": "markdown",
   "metadata": {},
   "source": [
    "# Evaluation Metrics"
   ]
  },
  {
   "cell_type": "code",
   "execution_count": 53,
   "metadata": {},
   "outputs": [],
   "source": [
    "#Import Required Libraries\n",
    "from sklearn.metrics import roc_curve\n",
    "from sklearn.metrics import roc_auc_score\n",
    "from sklearn.naive_bayes import GaussianNB\n",
    "from sklearn.datasets import make_classification\n",
    "from sklearn.model_selection import KFold\n",
    "from sklearn.model_selection import cross_val_score"
   ]
  },
  {
   "cell_type": "code",
   "execution_count": 54,
   "metadata": {},
   "outputs": [],
   "source": [
    "#Confusion Matrics\n",
    "def plot_confusion_matrix(cm, classes,\n",
    "                          normalize=False,\n",
    "                          title='Confusion matrix',\n",
    "                          cmap=plt.cm.Blues):\n",
    "    \n",
    "    if normalize:\n",
    "        cm = cm.astype('float') / cm.sum(axis=1)[:, np.newaxis]\n",
    "        print(\"Normalized confusion matrix\")\n",
    "    else:\n",
    "        print('Confusion matrix, without normalization')\n",
    "\n",
    "    print(cm)\n",
    "\n",
    "    plt.imshow(cm, interpolation='nearest', cmap=cmap)\n",
    "    plt.title(title)\n",
    "    plt.colorbar()\n",
    "    tick_marks = np.arange(len(classes))\n",
    "    plt.xticks(tick_marks, classes, rotation=45)\n",
    "    plt.yticks(tick_marks, classes)\n",
    "\n",
    "    thresh = cm.max() / 2.\n",
    "    for i, j in itertools.product(range(cm.shape[0]), range(cm.shape[1])):\n",
    "        plt.text(j, i, format(cm[i, j]),\n",
    "                 horizontalalignment=\"center\",\n",
    "                 color=\"white\" if cm[i, j] > thresh else \"black\")\n",
    "\n",
    "    plt.ylabel('True label')\n",
    "    plt.xlabel('Predicted label')\n",
    "    plt.tight_layout()"
   ]
  },
  {
   "cell_type": "code",
   "execution_count": 55,
   "metadata": {},
   "outputs": [],
   "source": [
    "from numpy import mean\n",
    "from numpy import std\n",
    "cv = KFold(n_splits=10, random_state=1, shuffle=True)\n",
    "# evaluate model"
   ]
  },
  {
   "cell_type": "markdown",
   "metadata": {},
   "source": [
    "# Classification Models"
   ]
  },
  {
   "cell_type": "markdown",
   "metadata": {},
   "source": [
    "# Decision Tree"
   ]
  },
  {
   "cell_type": "code",
   "execution_count": 56,
   "metadata": {},
   "outputs": [],
   "source": [
    "clf_tree = DecisionTreeClassifier()"
   ]
  },
  {
   "cell_type": "code",
   "execution_count": 57,
   "metadata": {},
   "outputs": [
    {
     "data": {
      "text/plain": [
       "DecisionTreeClassifier()"
      ]
     },
     "execution_count": 57,
     "metadata": {},
     "output_type": "execute_result"
    }
   ],
   "source": [
    "clf_tree.fit(X_train_Undersample, y_train_Undersample)"
   ]
  },
  {
   "cell_type": "code",
   "execution_count": 58,
   "metadata": {},
   "outputs": [],
   "source": [
    "y_pred_tree = clf_tree.predict_proba(X_test)[:,1]"
   ]
  },
  {
   "cell_type": "code",
   "execution_count": 59,
   "metadata": {},
   "outputs": [
    {
     "name": "stdout",
     "output_type": "stream",
     "text": [
      "              precision    recall  f1-score   support\n",
      "\n",
      "           0       0.28      0.72      0.40     11935\n",
      "           1       0.95      0.73      0.83     83421\n",
      "\n",
      "    accuracy                           0.73     95356\n",
      "   macro avg       0.61      0.73      0.62     95356\n",
      "weighted avg       0.87      0.73      0.77     95356\n",
      "\n"
     ]
    }
   ],
   "source": [
    "print(classification_report(y_test, y_pred_tree.round())) "
   ]
  },
  {
   "cell_type": "code",
   "execution_count": 60,
   "metadata": {},
   "outputs": [
    {
     "name": "stdout",
     "output_type": "stream",
     "text": [
      "Confusion matrix, without normalization\n",
      "[[ 8645  3290]\n",
      " [22238 61183]]\n"
     ]
    },
    {
     "data": {
      "image/png": "[encoded data removed]",
      "text/plain": [
       "<Figure size 864x576 with 2 Axes>"
      ]
     },
     "metadata": {
      "needs_background": "light"
     },
     "output_type": "display_data"
    }
   ],
   "source": [
    "cnf_matrix = confusion_matrix(y_test, y_pred_tree.round())\n",
    "plot_confusion_matrix(cnf_matrix, classes=[0,1])"
   ]
  },
  {
   "cell_type": "code",
   "execution_count": 61,
   "metadata": {},
   "outputs": [],
   "source": [
    "# Creating true and false positive rates\n",
    "false_positive_rate_tree, true_positive_rate_tree, threshold_tree = roc_curve(y_test, y_pred_tree)"
   ]
  },
  {
   "cell_type": "code",
   "execution_count": 62,
   "metadata": {},
   "outputs": [
    {
     "name": "stdout",
     "output_type": "stream",
     "text": [
      "roc_auc_score for DecisionTree:  0.7287362267998381\n"
     ]
    }
   ],
   "source": [
    "print('roc_auc_score for DecisionTree: ', roc_auc_score(y_test, y_pred_tree))"
   ]
  },
  {
   "cell_type": "code",
   "execution_count": 63,
   "metadata": {},
   "outputs": [
    {
     "data": {
      "image/png": "[encoded data removed]",
      "text/plain": [
       "<Figure size 720x720 with 1 Axes>"
      ]
     },
     "metadata": {
      "needs_background": "light"
     },
     "output_type": "display_data"
    }
   ],
   "source": [
    "plt.subplots(1, figsize=(10,10))\n",
    "plt.title('Receiver Operating Characteristic - DecisionTree')\n",
    "plt.plot(false_positive_rate_tree, true_positive_rate_tree)\n",
    "plt.plot([0, 1], ls=\"--\")\n",
    "plt.plot([0, 0], [1, 0] , c=\".7\"), plt.plot([1, 1] , c=\".7\")\n",
    "plt.ylabel('True Positive Rate')\n",
    "plt.xlabel('False Positive Rate')\n",
    "plt.show()"
   ]
  },
  {
   "cell_type": "code",
   "execution_count": 64,
   "metadata": {},
   "outputs": [
    {
     "name": "stdout",
     "output_type": "stream",
     "text": [
      "Accuracy: 0.729 (0.006)\n"
     ]
    }
   ],
   "source": [
    "scores = cross_val_score(clf_tree, X_train_Undersample,y_train_Undersample, scoring='accuracy', cv=cv, n_jobs=-1)\n",
    "# report performance\n",
    "print('Accuracy: %.3f (%.3f)' % (mean(scores), std(scores)))"
   ]
  },
  {
   "cell_type": "markdown",
   "metadata": {},
   "source": [
    "# Logistic Regression"
   ]
  },
  {
   "cell_type": "code",
   "execution_count": 65,
   "metadata": {},
   "outputs": [],
   "source": [
    "clf_reg = LogisticRegression()"
   ]
  },
  {
   "cell_type": "code",
   "execution_count": 66,
   "metadata": {},
   "outputs": [
    {
     "data": {
      "text/plain": [
       "LogisticRegression()"
      ]
     },
     "execution_count": 66,
     "metadata": {},
     "output_type": "execute_result"
    }
   ],
   "source": [
    "clf_reg.fit(X_train_Undersample, y_train_Undersample)"
   ]
  },
  {
   "cell_type": "code",
   "execution_count": 67,
   "metadata": {},
   "outputs": [],
   "source": [
    "y_pred_reg = clf_reg.predict_proba(X_test)[:,1]"
   ]
  },
  {
   "cell_type": "code",
   "execution_count": 68,
   "metadata": {},
   "outputs": [
    {
     "name": "stdout",
     "output_type": "stream",
     "text": [
      "              precision    recall  f1-score   support\n",
      "\n",
      "           0       0.29      0.69      0.41     11935\n",
      "           1       0.95      0.76      0.84     83421\n",
      "\n",
      "    accuracy                           0.75     95356\n",
      "   macro avg       0.62      0.73      0.63     95356\n",
      "weighted avg       0.86      0.75      0.79     95356\n",
      "\n"
     ]
    }
   ],
   "source": [
    "print(classification_report(y_test, y_pred_reg.round())) "
   ]
  },
  {
   "cell_type": "code",
   "execution_count": 69,
   "metadata": {},
   "outputs": [
    {
     "name": "stdout",
     "output_type": "stream",
     "text": [
      "Confusion matrix, without normalization\n",
      "[[ 8277  3658]\n",
      " [19968 63453]]\n"
     ]
    },
    {
     "data": {
      "image/png": "[encoded data removed]",
      "text/plain": [
       "<Figure size 864x576 with 2 Axes>"
      ]
     },
     "metadata": {
      "needs_background": "light"
     },
     "output_type": "display_data"
    }
   ],
   "source": [
    "cnf_matrix = confusion_matrix(y_test, y_pred_reg.round())\n",
    "plot_confusion_matrix(cnf_matrix, classes=[0,1])"
   ]
  },
  {
   "cell_type": "code",
   "execution_count": 70,
   "metadata": {},
   "outputs": [],
   "source": [
    "# Creating true and false positive rates\n",
    "false_positive_rate_reg, true_positive_rate_reg, threshold_reg = roc_curve(y_test, y_pred_reg)"
   ]
  },
  {
   "cell_type": "code",
   "execution_count": 71,
   "metadata": {},
   "outputs": [
    {
     "name": "stdout",
     "output_type": "stream",
     "text": [
      "roc_auc_score for LogisticRegression:  0.7988904137028825\n"
     ]
    }
   ],
   "source": [
    "print('roc_auc_score for LogisticRegression: ', roc_auc_score(y_test, y_pred_reg))"
   ]
  },
  {
   "cell_type": "code",
   "execution_count": 72,
   "metadata": {},
   "outputs": [
    {
     "data": {
      "image/png": "[encoded data removed]",
      "text/plain": [
       "<Figure size 720x720 with 1 Axes>"
      ]
     },
     "metadata": {
      "needs_background": "light"
     },
     "output_type": "display_data"
    }
   ],
   "source": [
    "plt.subplots(1, figsize=(10,10))\n",
    "plt.title('Receiver Operating Characteristic - LogisticRegression')\n",
    "plt.plot(false_positive_rate_reg, true_positive_rate_reg)\n",
    "plt.plot([0, 1], ls=\"--\")\n",
    "plt.plot([0, 0], [1, 0] , c=\".7\"), plt.plot([1, 1] , c=\".7\")\n",
    "plt.ylabel('True Positive Rate')\n",
    "plt.xlabel('False Positive Rate')\n",
    "plt.show()"
   ]
  },
  {
   "cell_type": "code",
   "execution_count": 73,
   "metadata": {},
   "outputs": [
    {
     "name": "stdout",
     "output_type": "stream",
     "text": [
      "Accuracy: 0.728 (0.002)\n"
     ]
    }
   ],
   "source": [
    "scores = cross_val_score(clf_reg, X_train_Undersample,y_train_Undersample, scoring='accuracy', cv=cv, n_jobs=-1)\n",
    "print('Accuracy: %.3f (%.3f)' % (mean(scores), std(scores)))"
   ]
  },
  {
   "cell_type": "markdown",
   "metadata": {},
   "source": [
    "# Naive Bayes"
   ]
  },
  {
   "cell_type": "code",
   "execution_count": 74,
   "metadata": {},
   "outputs": [],
   "source": [
    "clf_NB = GaussianNB()"
   ]
  },
  {
   "cell_type": "code",
   "execution_count": 75,
   "metadata": {},
   "outputs": [
    {
     "data": {
      "text/plain": [
       "GaussianNB()"
      ]
     },
     "execution_count": 75,
     "metadata": {},
     "output_type": "execute_result"
    }
   ],
   "source": [
    "clf_NB.fit(X_train_Undersample, y_train_Undersample)"
   ]
  },
  {
   "cell_type": "code",
   "execution_count": 76,
   "metadata": {},
   "outputs": [],
   "source": [
    "y_pred_NB = clf_NB.predict_proba(X_test)[:,1]"
   ]
  },
  {
   "cell_type": "code",
   "execution_count": 77,
   "metadata": {},
   "outputs": [
    {
     "name": "stdout",
     "output_type": "stream",
     "text": [
      "              precision    recall  f1-score   support\n",
      "\n",
      "           0       0.31      0.57      0.40     11935\n",
      "           1       0.93      0.82      0.87     83421\n",
      "\n",
      "    accuracy                           0.79     95356\n",
      "   macro avg       0.62      0.70      0.64     95356\n",
      "weighted avg       0.85      0.79      0.81     95356\n",
      "\n"
     ]
    }
   ],
   "source": [
    "print(classification_report(y_test, y_pred_NB.round())) "
   ]
  },
  {
   "cell_type": "code",
   "execution_count": 78,
   "metadata": {},
   "outputs": [
    {
     "name": "stdout",
     "output_type": "stream",
     "text": [
      "Confusion matrix, without normalization\n",
      "[[ 6814  5121]\n",
      " [14928 68493]]\n"
     ]
    },
    {
     "data": {
      "image/png": "[encoded data removed]",
      "text/plain": [
       "<Figure size 864x576 with 2 Axes>"
      ]
     },
     "metadata": {
      "needs_background": "light"
     },
     "output_type": "display_data"
    }
   ],
   "source": [
    "cnf_matrix = confusion_matrix(y_test, y_pred_NB.round())\n",
    "plot_confusion_matrix(cnf_matrix, classes=[0,1])"
   ]
  },
  {
   "cell_type": "code",
   "execution_count": 79,
   "metadata": {},
   "outputs": [],
   "source": [
    "# Creating true and false positive rates\n",
    "false_positive_rate_NB, true_positive_rate_NB, threshold_NB = roc_curve(y_test, y_pred_NB)"
   ]
  },
  {
   "cell_type": "code",
   "execution_count": 80,
   "metadata": {},
   "outputs": [
    {
     "name": "stdout",
     "output_type": "stream",
     "text": [
      "roc_auc_score for Naive Bayes:  0.7843408347321843\n"
     ]
    }
   ],
   "source": [
    "print('roc_auc_score for Naive Bayes: ', roc_auc_score(y_test, y_pred_NB))"
   ]
  },
  {
   "cell_type": "code",
   "execution_count": 81,
   "metadata": {},
   "outputs": [
    {
     "data": {
      "image/png": "[encoded data removed]",
      "text/plain": [
       "<Figure size 720x720 with 1 Axes>"
      ]
     },
     "metadata": {
      "needs_background": "light"
     },
     "output_type": "display_data"
    }
   ],
   "source": [
    "plt.subplots(1, figsize=(10,10))\n",
    "plt.title('Receiver Operating Characteristic - Naive Bayes')\n",
    "plt.plot(false_positive_rate_NB, true_positive_rate_NB)\n",
    "plt.plot([0, 1], ls=\"--\")\n",
    "plt.plot([0, 0], [1, 0] , c=\".7\"), plt.plot([1, 1] , c=\".7\")\n",
    "plt.ylabel('True Positive Rate')\n",
    "plt.xlabel('False Positive Rate')\n",
    "plt.show()"
   ]
  },
  {
   "cell_type": "code",
   "execution_count": 82,
   "metadata": {},
   "outputs": [
    {
     "name": "stdout",
     "output_type": "stream",
     "text": [
      "Accuracy: 0.696 (0.005)\n"
     ]
    }
   ],
   "source": [
    "scores = cross_val_score(clf_NB, X_train_Undersample,y_train_Undersample, scoring='accuracy', cv=cv, n_jobs=-1)\n",
    "print('Accuracy: %.3f (%.3f)' % (mean(scores), std(scores)))"
   ]
  },
  {
   "cell_type": "markdown",
   "metadata": {},
   "source": [
    "# RandomForestClassifier"
   ]
  },
  {
   "cell_type": "code",
   "execution_count": 83,
   "metadata": {},
   "outputs": [],
   "source": [
    "clf_rf = RandomForestClassifier()"
   ]
  },
  {
   "cell_type": "code",
   "execution_count": 84,
   "metadata": {},
   "outputs": [
    {
     "data": {
      "text/plain": [
       "RandomForestClassifier()"
      ]
     },
     "execution_count": 84,
     "metadata": {},
     "output_type": "execute_result"
    }
   ],
   "source": [
    "clf_rf.fit(X_train_Undersample, y_train_Undersample)"
   ]
  },
  {
   "cell_type": "code",
   "execution_count": 85,
   "metadata": {},
   "outputs": [],
   "source": [
    "y_pred_rf = clf_rf.predict_proba(X_test)[:,1]"
   ]
  },
  {
   "cell_type": "code",
   "execution_count": 86,
   "metadata": {},
   "outputs": [
    {
     "name": "stdout",
     "output_type": "stream",
     "text": [
      "Confusion matrix, without normalization\n",
      "[[ 9699  2236]\n",
      " [20076 63345]]\n"
     ]
    },
    {
     "data": {
      "image/png": "[encoded data removed]",
      "text/plain": [
       "<Figure size 864x576 with 2 Axes>"
      ]
     },
     "metadata": {
      "needs_background": "light"
     },
     "output_type": "display_data"
    }
   ],
   "source": [
    "cnf_matrix = confusion_matrix(y_test, y_pred_rf.round())\n",
    "plot_confusion_matrix(cnf_matrix, classes=[0,1])"
   ]
  },
  {
   "cell_type": "code",
   "execution_count": 87,
   "metadata": {},
   "outputs": [],
   "source": [
    "# Creating true and false positive rates\n",
    "false_positive_rate_rf, true_positive_rate_rf, threshold_rf = roc_curve(y_test, y_pred_rf)"
   ]
  },
  {
   "cell_type": "code",
   "execution_count": 88,
   "metadata": {},
   "outputs": [
    {
     "name": "stdout",
     "output_type": "stream",
     "text": [
      "roc_auc_score for RandomForestClassifier:  0.8654087837592338\n"
     ]
    }
   ],
   "source": [
    "print('roc_auc_score for RandomForestClassifier: ', roc_auc_score(y_test, y_pred_rf))"
   ]
  },
  {
   "cell_type": "code",
   "execution_count": 89,
   "metadata": {},
   "outputs": [
    {
     "data": {
      "image/png": "[encoded data removed]",
      "text/plain": [
       "<Figure size 720x720 with 1 Axes>"
      ]
     },
     "metadata": {
      "needs_background": "light"
     },
     "output_type": "display_data"
    }
   ],
   "source": [
    "plt.subplots(1, figsize=(10,10))\n",
    "plt.title('Receiver Operating Characteristic - RandomForestClassifier')\n",
    "plt.plot(false_positive_rate_rf, true_positive_rate_rf)\n",
    "plt.plot([0, 1], ls=\"--\")\n",
    "plt.plot([0, 0], [1, 0] , c=\".7\"), plt.plot([1, 1] , c=\".7\")\n",
    "plt.ylabel('True Positive Rate')\n",
    "plt.xlabel('False Positive Rate')\n",
    "plt.show()"
   ]
  },
  {
   "cell_type": "code",
   "execution_count": 90,
   "metadata": {},
   "outputs": [
    {
     "name": "stdout",
     "output_type": "stream",
     "text": [
      "Accuracy: 0.784 (0.004)\n"
     ]
    }
   ],
   "source": [
    "scores = cross_val_score(clf_rf, X_train_Undersample,y_train_Undersample, scoring='accuracy', cv=cv, n_jobs=-1)\n",
    "# report performance\n",
    "print('Accuracy: %.3f (%.3f)' % (mean(scores), std(scores)))"
   ]
  },
  {
   "cell_type": "markdown",
   "metadata": {},
   "source": [
    "# Support Vector Machine"
   ]
  },
  {
   "cell_type": "code",
   "execution_count": 91,
   "metadata": {},
   "outputs": [],
   "source": [
    "clf_svm = svm.SVC(random_state=123)"
   ]
  },
  {
   "cell_type": "code",
   "execution_count": 92,
   "metadata": {},
   "outputs": [
    {
     "data": {
      "text/plain": [
       "SVC(random_state=123)"
      ]
     },
     "execution_count": 92,
     "metadata": {},
     "output_type": "execute_result"
    }
   ],
   "source": [
    "clf_svm.fit(X_train_Undersample, y_train_Undersample)"
   ]
  },
  {
   "cell_type": "code",
   "execution_count": 93,
   "metadata": {},
   "outputs": [],
   "source": [
    "y_pred_SVM= clf_svm.predict(X_test)"
   ]
  },
  {
   "cell_type": "code",
   "execution_count": 94,
   "metadata": {},
   "outputs": [
    {
     "name": "stdout",
     "output_type": "stream",
     "text": [
      "              precision    recall  f1-score   support\n",
      "\n",
      "           0       0.31      0.75      0.44     11935\n",
      "           1       0.95      0.76      0.85     83421\n",
      "\n",
      "    accuracy                           0.76     95356\n",
      "   macro avg       0.63      0.75      0.64     95356\n",
      "weighted avg       0.87      0.76      0.80     95356\n",
      "\n"
     ]
    }
   ],
   "source": [
    "print(classification_report(y_test, y_pred_SVM.round())) "
   ]
  },
  {
   "cell_type": "code",
   "execution_count": 95,
   "metadata": {},
   "outputs": [
    {
     "name": "stdout",
     "output_type": "stream",
     "text": [
      "Confusion matrix, without normalization\n",
      "[[ 8918  3017]\n",
      " [19998 63423]]\n"
     ]
    },
    {
     "data": {
      "image/png": "[encoded data removed]",
      "text/plain": [
       "<Figure size 864x576 with 2 Axes>"
      ]
     },
     "metadata": {
      "needs_background": "light"
     },
     "output_type": "display_data"
    }
   ],
   "source": [
    "cnf_matrix = confusion_matrix(y_test, y_pred_SVM.round())\n",
    "plot_confusion_matrix(cnf_matrix, classes=[0,1])"
   ]
  },
  {
   "cell_type": "code",
   "execution_count": 96,
   "metadata": {},
   "outputs": [],
   "source": [
    "# Creating true and false positive rates\n",
    "false_positive_rate_SVM, true_positive_rate_SVM, threshold_SVM = roc_curve(y_test, y_pred_SVM)"
   ]
  },
  {
   "cell_type": "code",
   "execution_count": 97,
   "metadata": {},
   "outputs": [
    {
     "name": "stdout",
     "output_type": "stream",
     "text": [
      "roc_auc_score for SVM:  0.7537451328475172\n"
     ]
    }
   ],
   "source": [
    "print('roc_auc_score for SVM: ', roc_auc_score(y_test, y_pred_SVM))"
   ]
  },
  {
   "cell_type": "code",
   "execution_count": 98,
   "metadata": {},
   "outputs": [
    {
     "data": {
      "image/png": "[encoded data removed]",
      "text/plain": [
       "<Figure size 720x720 with 1 Axes>"
      ]
     },
     "metadata": {
      "needs_background": "light"
     },
     "output_type": "display_data"
    }
   ],
   "source": [
    "plt.subplots(1, figsize=(10,10))\n",
    "plt.title('Receiver Operating Characteristic - SVM')\n",
    "plt.plot(false_positive_rate_SVM, true_positive_rate_SVM)\n",
    "plt.plot([0, 1], ls=\"--\")\n",
    "plt.plot([0, 0], [1, 0] , c=\".7\"), plt.plot([1, 1] , c=\".7\")\n",
    "plt.ylabel('True Positive Rate')\n",
    "plt.xlabel('False Positive Rate')\n",
    "plt.show()"
   ]
  },
  {
   "cell_type": "code",
   "execution_count": 99,
   "metadata": {},
   "outputs": [
    {
     "name": "stdout",
     "output_type": "stream",
     "text": [
      "Accuracy: 0.754 (0.003)\n"
     ]
    }
   ],
   "source": [
    "scores = cross_val_score(clf_svm, X_train_Undersample,y_train_Undersample, scoring='accuracy', cv=cv, n_jobs=-1)\n",
    "print('Accuracy: %.3f (%.3f)' % (mean(scores), std(scores)))"
   ]
  },
  {
   "cell_type": "code",
   "execution_count": null,
   "metadata": {},
   "outputs": [],
   "source": []
  }
 ],
 "metadata": {
  "kernelspec": {
   "display_name": "Python 3",
   "language": "python",
   "name": "python3"
  },
  "language_info": {
   "codemirror_mode": {
    "name": "ipython",
    "version": 3
   },
   "file_extension": ".py",
   "mimetype": "text/x-python",
   "name": "python",
   "nbconvert_exporter": "python",
   "pygments_lexer": "ipython3",
   "version": "3.7.7"
  }
 },
 "nbformat": 4,
 "nbformat_minor": 4
}
