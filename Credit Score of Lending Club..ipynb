{
 "cells": [
  {
   "cell_type": "code",
   "execution_count": 1,
   "metadata": {},
   "outputs": [],
   "source": [
    "#Import Libraries\n",
    "\n",
    "import pandas as pd\n",
    "import numpy as np\n",
    "import matplotlib.pyplot as plt\n",
    "import matplotlib\n",
    "import seaborn as sns\n",
    "%matplotlib inline\n",
    "plt.rcParams['figure.figsize'] = (12,8)\n",
    "\n",
    "from datetime import datetime\n",
    "from dateutil.parser import parse"
   ]
  },
  {
   "cell_type": "code",
   "execution_count": 2,
   "metadata": {},
   "outputs": [],
   "source": [
    "# import lending club data for analysis \n",
    "LC_Data = pd.read_csv('appl__accepted_20072019Q3.csv', low_memory=False)"
   ]
  },
  {
   "cell_type": "markdown",
   "metadata": {},
   "source": [
    "# Data Pre-Processing"
   ]
  },
  {
   "cell_type": "code",
   "execution_count": 3,
   "metadata": {},
   "outputs": [
    {
     "name": "stdout",
     "output_type": "stream",
     "text": [
      "(2650550, 150)\n"
     ]
    }
   ],
   "source": [
    "#print data head\n",
    "print(LC_Data.shape)"
   ]
  },
  {
   "cell_type": "code",
   "execution_count": 4,
   "metadata": {},
   "outputs": [
    {
     "data": {
      "text/html": [
       "<div>\n",
       "<style scoped>\n",
       "    .dataframe tbody tr th:only-of-type {\n",
       "        vertical-align: middle;\n",
       "    }\n",
       "\n",
       "    .dataframe tbody tr th {\n",
       "        vertical-align: top;\n",
       "    }\n",
       "\n",
       "    .dataframe thead th {\n",
       "        text-align: right;\n",
       "    }\n",
       "</style>\n",
       "<table border=\"1\" class=\"dataframe\">\n",
       "  <thead>\n",
       "    <tr style=\"text-align: right;\">\n",
       "      <th></th>\n",
       "      <th>id</th>\n",
       "      <th>member_id</th>\n",
       "      <th>loan_amnt</th>\n",
       "      <th>funded_amnt</th>\n",
       "      <th>funded_amnt_inv</th>\n",
       "      <th>term</th>\n",
       "      <th>int_rate</th>\n",
       "      <th>installment</th>\n",
       "      <th>grade</th>\n",
       "      <th>sub_grade</th>\n",
       "      <th>...</th>\n",
       "      <th>orig_projected_additional_accrued_interest</th>\n",
       "      <th>hardship_payoff_balance_amount</th>\n",
       "      <th>hardship_last_payment_amount</th>\n",
       "      <th>debt_settlement_flag</th>\n",
       "      <th>debt_settlement_flag_date</th>\n",
       "      <th>settlement_status</th>\n",
       "      <th>settlement_date</th>\n",
       "      <th>settlement_amount</th>\n",
       "      <th>settlement_percentage</th>\n",
       "      <th>settlement_term</th>\n",
       "    </tr>\n",
       "  </thead>\n",
       "  <tbody>\n",
       "    <tr>\n",
       "      <th>0</th>\n",
       "      <td>68407277</td>\n",
       "      <td>NaN</td>\n",
       "      <td>3600.0</td>\n",
       "      <td>3600.0</td>\n",
       "      <td>3600.0</td>\n",
       "      <td>36 months</td>\n",
       "      <td>13.99</td>\n",
       "      <td>123.03</td>\n",
       "      <td>C</td>\n",
       "      <td>C4</td>\n",
       "      <td>...</td>\n",
       "      <td>NaN</td>\n",
       "      <td>NaN</td>\n",
       "      <td>NaN</td>\n",
       "      <td>N</td>\n",
       "      <td>NaN</td>\n",
       "      <td>NaN</td>\n",
       "      <td>NaN</td>\n",
       "      <td>NaN</td>\n",
       "      <td>NaN</td>\n",
       "      <td>NaN</td>\n",
       "    </tr>\n",
       "    <tr>\n",
       "      <th>1</th>\n",
       "      <td>68355089</td>\n",
       "      <td>NaN</td>\n",
       "      <td>24700.0</td>\n",
       "      <td>24700.0</td>\n",
       "      <td>24700.0</td>\n",
       "      <td>36 months</td>\n",
       "      <td>11.99</td>\n",
       "      <td>820.28</td>\n",
       "      <td>C</td>\n",
       "      <td>C1</td>\n",
       "      <td>...</td>\n",
       "      <td>NaN</td>\n",
       "      <td>NaN</td>\n",
       "      <td>NaN</td>\n",
       "      <td>N</td>\n",
       "      <td>NaN</td>\n",
       "      <td>NaN</td>\n",
       "      <td>NaN</td>\n",
       "      <td>NaN</td>\n",
       "      <td>NaN</td>\n",
       "      <td>NaN</td>\n",
       "    </tr>\n",
       "    <tr>\n",
       "      <th>2</th>\n",
       "      <td>68341763</td>\n",
       "      <td>NaN</td>\n",
       "      <td>20000.0</td>\n",
       "      <td>20000.0</td>\n",
       "      <td>20000.0</td>\n",
       "      <td>60 months</td>\n",
       "      <td>10.78</td>\n",
       "      <td>432.66</td>\n",
       "      <td>B</td>\n",
       "      <td>B4</td>\n",
       "      <td>...</td>\n",
       "      <td>NaN</td>\n",
       "      <td>NaN</td>\n",
       "      <td>NaN</td>\n",
       "      <td>N</td>\n",
       "      <td>NaN</td>\n",
       "      <td>NaN</td>\n",
       "      <td>NaN</td>\n",
       "      <td>NaN</td>\n",
       "      <td>NaN</td>\n",
       "      <td>NaN</td>\n",
       "    </tr>\n",
       "    <tr>\n",
       "      <th>3</th>\n",
       "      <td>66310712</td>\n",
       "      <td>NaN</td>\n",
       "      <td>35000.0</td>\n",
       "      <td>35000.0</td>\n",
       "      <td>35000.0</td>\n",
       "      <td>60 months</td>\n",
       "      <td>14.85</td>\n",
       "      <td>829.90</td>\n",
       "      <td>C</td>\n",
       "      <td>C5</td>\n",
       "      <td>...</td>\n",
       "      <td>NaN</td>\n",
       "      <td>NaN</td>\n",
       "      <td>NaN</td>\n",
       "      <td>N</td>\n",
       "      <td>NaN</td>\n",
       "      <td>NaN</td>\n",
       "      <td>NaN</td>\n",
       "      <td>NaN</td>\n",
       "      <td>NaN</td>\n",
       "      <td>NaN</td>\n",
       "    </tr>\n",
       "    <tr>\n",
       "      <th>4</th>\n",
       "      <td>68476807</td>\n",
       "      <td>NaN</td>\n",
       "      <td>10400.0</td>\n",
       "      <td>10400.0</td>\n",
       "      <td>10400.0</td>\n",
       "      <td>60 months</td>\n",
       "      <td>22.45</td>\n",
       "      <td>289.91</td>\n",
       "      <td>F</td>\n",
       "      <td>F1</td>\n",
       "      <td>...</td>\n",
       "      <td>NaN</td>\n",
       "      <td>NaN</td>\n",
       "      <td>NaN</td>\n",
       "      <td>N</td>\n",
       "      <td>NaN</td>\n",
       "      <td>NaN</td>\n",
       "      <td>NaN</td>\n",
       "      <td>NaN</td>\n",
       "      <td>NaN</td>\n",
       "      <td>NaN</td>\n",
       "    </tr>\n",
       "  </tbody>\n",
       "</table>\n",
       "<p>5 rows × 150 columns</p>\n",
       "</div>"
      ],
      "text/plain": [
       "         id  member_id  loan_amnt  funded_amnt  funded_amnt_inv        term  \\\n",
       "0  68407277        NaN     3600.0       3600.0           3600.0   36 months   \n",
       "1  68355089        NaN    24700.0      24700.0          24700.0   36 months   \n",
       "2  68341763        NaN    20000.0      20000.0          20000.0   60 months   \n",
       "3  66310712        NaN    35000.0      35000.0          35000.0   60 months   \n",
       "4  68476807        NaN    10400.0      10400.0          10400.0   60 months   \n",
       "\n",
       "  int_rate  installment grade sub_grade  ...  \\\n",
       "0    13.99       123.03     C        C4  ...   \n",
       "1    11.99       820.28     C        C1  ...   \n",
       "2    10.78       432.66     B        B4  ...   \n",
       "3    14.85       829.90     C        C5  ...   \n",
       "4    22.45       289.91     F        F1  ...   \n",
       "\n",
       "  orig_projected_additional_accrued_interest hardship_payoff_balance_amount  \\\n",
       "0                                        NaN                            NaN   \n",
       "1                                        NaN                            NaN   \n",
       "2                                        NaN                            NaN   \n",
       "3                                        NaN                            NaN   \n",
       "4                                        NaN                            NaN   \n",
       "\n",
       "  hardship_last_payment_amount  debt_settlement_flag  \\\n",
       "0                          NaN                     N   \n",
       "1                          NaN                     N   \n",
       "2                          NaN                     N   \n",
       "3                          NaN                     N   \n",
       "4                          NaN                     N   \n",
       "\n",
       "  debt_settlement_flag_date settlement_status settlement_date  \\\n",
       "0                       NaN               NaN             NaN   \n",
       "1                       NaN               NaN             NaN   \n",
       "2                       NaN               NaN             NaN   \n",
       "3                       NaN               NaN             NaN   \n",
       "4                       NaN               NaN             NaN   \n",
       "\n",
       "  settlement_amount settlement_percentage settlement_term  \n",
       "0               NaN                   NaN             NaN  \n",
       "1               NaN                   NaN             NaN  \n",
       "2               NaN                   NaN             NaN  \n",
       "3               NaN                   NaN             NaN  \n",
       "4               NaN                   NaN             NaN  \n",
       "\n",
       "[5 rows x 150 columns]"
      ]
     },
     "execution_count": 4,
     "metadata": {},
     "output_type": "execute_result"
    }
   ],
   "source": [
    "#print data shape\n",
    "LC_Data.head()"
   ]
  },
  {
   "cell_type": "code",
   "execution_count": 5,
   "metadata": {},
   "outputs": [
    {
     "data": {
      "text/plain": [
       "['id',\n",
       " 'member_id',\n",
       " 'loan_amnt',\n",
       " 'funded_amnt',\n",
       " 'funded_amnt_inv',\n",
       " 'term',\n",
       " 'int_rate',\n",
       " 'installment',\n",
       " 'grade',\n",
       " 'sub_grade',\n",
       " 'emp_title',\n",
       " 'emp_length',\n",
       " 'home_ownership',\n",
       " 'annual_inc',\n",
       " 'verification_status',\n",
       " 'issue_d',\n",
       " 'loan_status',\n",
       " 'pymnt_plan',\n",
       " 'url',\n",
       " 'desc',\n",
       " 'purpose',\n",
       " 'title',\n",
       " 'zip_code',\n",
       " 'addr_state',\n",
       " 'dti',\n",
       " 'delinq_2yrs',\n",
       " 'earliest_cr_line',\n",
       " 'fico_range_low',\n",
       " 'fico_range_high',\n",
       " 'inq_last_6mths',\n",
       " 'mths_since_last_delinq',\n",
       " 'mths_since_last_record',\n",
       " 'open_acc',\n",
       " 'pub_rec',\n",
       " 'revol_bal',\n",
       " 'revol_util',\n",
       " 'total_acc',\n",
       " 'initial_list_status',\n",
       " 'out_prncp',\n",
       " 'out_prncp_inv',\n",
       " 'total_pymnt',\n",
       " 'total_pymnt_inv',\n",
       " 'total_rec_prncp',\n",
       " 'total_rec_int',\n",
       " 'total_rec_late_fee',\n",
       " 'recoveries',\n",
       " 'collection_recovery_fee',\n",
       " 'last_pymnt_d',\n",
       " 'last_pymnt_amnt',\n",
       " 'next_pymnt_d',\n",
       " 'last_credit_pull_d',\n",
       " 'last_fico_range_high',\n",
       " 'last_fico_range_low',\n",
       " 'collections_12_mths_ex_med',\n",
       " 'mths_since_last_major_derog',\n",
       " 'policy_code',\n",
       " 'application_type',\n",
       " 'annual_inc_joint',\n",
       " 'dti_joint',\n",
       " 'verification_status_joint',\n",
       " 'acc_now_delinq',\n",
       " 'tot_coll_amt',\n",
       " 'tot_cur_bal',\n",
       " 'open_acc_6m',\n",
       " 'open_act_il',\n",
       " 'open_il_12m',\n",
       " 'open_il_24m',\n",
       " 'mths_since_rcnt_il',\n",
       " 'total_bal_il',\n",
       " 'il_util',\n",
       " 'open_rv_12m',\n",
       " 'open_rv_24m',\n",
       " 'max_bal_bc',\n",
       " 'all_util',\n",
       " 'total_rev_hi_lim',\n",
       " 'inq_fi',\n",
       " 'total_cu_tl',\n",
       " 'inq_last_12m',\n",
       " 'acc_open_past_24mths',\n",
       " 'avg_cur_bal',\n",
       " 'bc_open_to_buy',\n",
       " 'bc_util',\n",
       " 'chargeoff_within_12_mths',\n",
       " 'delinq_amnt',\n",
       " 'mo_sin_old_il_acct',\n",
       " 'mo_sin_old_rev_tl_op',\n",
       " 'mo_sin_rcnt_rev_tl_op',\n",
       " 'mo_sin_rcnt_tl',\n",
       " 'mort_acc',\n",
       " 'mths_since_recent_bc',\n",
       " 'mths_since_recent_bc_dlq',\n",
       " 'mths_since_recent_inq',\n",
       " 'mths_since_recent_revol_delinq',\n",
       " 'num_accts_ever_120_pd',\n",
       " 'num_actv_bc_tl',\n",
       " 'num_actv_rev_tl',\n",
       " 'num_bc_sats',\n",
       " 'num_bc_tl',\n",
       " 'num_il_tl',\n",
       " 'num_op_rev_tl',\n",
       " 'num_rev_accts',\n",
       " 'num_rev_tl_bal_gt_0',\n",
       " 'num_sats',\n",
       " 'num_tl_120dpd_2m',\n",
       " 'num_tl_30dpd',\n",
       " 'num_tl_90g_dpd_24m',\n",
       " 'num_tl_op_past_12m',\n",
       " 'pct_tl_nvr_dlq',\n",
       " 'percent_bc_gt_75',\n",
       " 'pub_rec_bankruptcies',\n",
       " 'tax_liens',\n",
       " 'tot_hi_cred_lim',\n",
       " 'total_bal_ex_mort',\n",
       " 'total_bc_limit',\n",
       " 'total_il_high_credit_limit',\n",
       " 'revol_bal_joint',\n",
       " 'sec_app_fico_range_low',\n",
       " 'sec_app_fico_range_high',\n",
       " 'sec_app_earliest_cr_line',\n",
       " 'sec_app_inq_last_6mths',\n",
       " 'sec_app_mort_acc',\n",
       " 'sec_app_open_acc',\n",
       " 'sec_app_revol_util',\n",
       " 'sec_app_open_act_il',\n",
       " 'sec_app_num_rev_accts',\n",
       " 'sec_app_chargeoff_within_12_mths',\n",
       " 'sec_app_collections_12_mths_ex_med',\n",
       " 'sec_app_mths_since_last_major_derog',\n",
       " 'hardship_flag',\n",
       " 'hardship_type',\n",
       " 'hardship_reason',\n",
       " 'hardship_status',\n",
       " 'deferral_term',\n",
       " 'hardship_amount',\n",
       " 'hardship_start_date',\n",
       " 'hardship_end_date',\n",
       " 'payment_plan_start_date',\n",
       " 'hardship_length',\n",
       " 'hardship_dpd',\n",
       " 'hardship_loan_status',\n",
       " 'orig_projected_additional_accrued_interest',\n",
       " 'hardship_payoff_balance_amount',\n",
       " 'hardship_last_payment_amount',\n",
       " 'debt_settlement_flag',\n",
       " 'debt_settlement_flag_date',\n",
       " 'settlement_status',\n",
       " 'settlement_date',\n",
       " 'settlement_amount',\n",
       " 'settlement_percentage',\n",
       " 'settlement_term']"
      ]
     },
     "execution_count": 5,
     "metadata": {},
     "output_type": "execute_result"
    }
   ],
   "source": [
    "#print total column list \n",
    "LC_Data.columns.tolist()"
   ]
  },
  {
   "cell_type": "code",
   "execution_count": 8,
   "metadata": {},
   "outputs": [],
   "source": [
    "#import data dictionary \n",
    "LC_Data_Dictionary = pd.read_csv('LCDataDictionary.csv',encoding= 'unicode_escape')"
   ]
  },
  {
   "cell_type": "code",
   "execution_count": 9,
   "metadata": {},
   "outputs": [
    {
     "name": "stdout",
     "output_type": "stream",
     "text": [
      "(153, 2)\n"
     ]
    }
   ],
   "source": [
    "#print data shape\n",
    "print(LC_Data_Dictionary.shape)"
   ]
  },
  {
   "cell_type": "code",
   "execution_count": 10,
   "metadata": {},
   "outputs": [
    {
     "data": {
      "text/html": [
       "<div>\n",
       "<style scoped>\n",
       "    .dataframe tbody tr th:only-of-type {\n",
       "        vertical-align: middle;\n",
       "    }\n",
       "\n",
       "    .dataframe tbody tr th {\n",
       "        vertical-align: top;\n",
       "    }\n",
       "\n",
       "    .dataframe thead th {\n",
       "        text-align: right;\n",
       "    }\n",
       "</style>\n",
       "<table border=\"1\" class=\"dataframe\">\n",
       "  <thead>\n",
       "    <tr style=\"text-align: right;\">\n",
       "      <th></th>\n",
       "      <th>LoanStatNew</th>\n",
       "      <th>Description</th>\n",
       "    </tr>\n",
       "  </thead>\n",
       "  <tbody>\n",
       "    <tr>\n",
       "      <th>0</th>\n",
       "      <td>acc_now_delinq</td>\n",
       "      <td>The number of accounts on which the borrower i...</td>\n",
       "    </tr>\n",
       "    <tr>\n",
       "      <th>1</th>\n",
       "      <td>acc_open_past_24mths</td>\n",
       "      <td>Number of trades opened in past 24 months.</td>\n",
       "    </tr>\n",
       "    <tr>\n",
       "      <th>2</th>\n",
       "      <td>addr_state</td>\n",
       "      <td>The state provided by the borrower in the loan...</td>\n",
       "    </tr>\n",
       "    <tr>\n",
       "      <th>3</th>\n",
       "      <td>all_util</td>\n",
       "      <td>Balance to credit limit on all trades</td>\n",
       "    </tr>\n",
       "    <tr>\n",
       "      <th>4</th>\n",
       "      <td>annual_inc</td>\n",
       "      <td>The self-reported annual income provided by th...</td>\n",
       "    </tr>\n",
       "  </tbody>\n",
       "</table>\n",
       "</div>"
      ],
      "text/plain": [
       "            LoanStatNew                                        Description\n",
       "0        acc_now_delinq  The number of accounts on which the borrower i...\n",
       "1  acc_open_past_24mths         Number of trades opened in past 24 months.\n",
       "2            addr_state  The state provided by the borrower in the loan...\n",
       "3              all_util              Balance to credit limit on all trades\n",
       "4            annual_inc  The self-reported annual income provided by th..."
      ]
     },
     "execution_count": 10,
     "metadata": {},
     "output_type": "execute_result"
    }
   ],
   "source": [
    "LC_Data_Dictionary.head()"
   ]
  },
  {
   "cell_type": "code",
   "execution_count": 11,
   "metadata": {},
   "outputs": [
    {
     "data": {
      "text/plain": [
       "LoanStatNew    2\n",
       "Description    1\n",
       "dtype: int64"
      ]
     },
     "execution_count": 11,
     "metadata": {},
     "output_type": "execute_result"
    }
   ],
   "source": [
    "#show null values\n",
    "LC_Data_Dictionary.isna().sum()"
   ]
  },
  {
   "cell_type": "code",
   "execution_count": 12,
   "metadata": {},
   "outputs": [],
   "source": [
    "#keep column which has less then 50% null value\n",
    "LC_Data_Dictionary_Update = LC_Data_Dictionary.loc[:, LC_Data_Dictionary.isnull().sum() < 0.5*LC_Data_Dictionary.shape[0]]"
   ]
  },
  {
   "cell_type": "code",
   "execution_count": 13,
   "metadata": {},
   "outputs": [
    {
     "name": "stdout",
     "output_type": "stream",
     "text": [
      "(153, 2)\n"
     ]
    }
   ],
   "source": [
    "#print data shape\n",
    "print(LC_Data_Dictionary_Update.shape)"
   ]
  },
  {
   "cell_type": "code",
   "execution_count": 14,
   "metadata": {},
   "outputs": [
    {
     "data": {
      "text/html": [
       "<div>\n",
       "<style scoped>\n",
       "    .dataframe tbody tr th:only-of-type {\n",
       "        vertical-align: middle;\n",
       "    }\n",
       "\n",
       "    .dataframe tbody tr th {\n",
       "        vertical-align: top;\n",
       "    }\n",
       "\n",
       "    .dataframe thead th {\n",
       "        text-align: right;\n",
       "    }\n",
       "</style>\n",
       "<table border=\"1\" class=\"dataframe\">\n",
       "  <thead>\n",
       "    <tr style=\"text-align: right;\">\n",
       "      <th></th>\n",
       "      <th>LoanStatNew</th>\n",
       "      <th>Description</th>\n",
       "    </tr>\n",
       "  </thead>\n",
       "  <tbody>\n",
       "    <tr>\n",
       "      <th>0</th>\n",
       "      <td>acc_now_delinq</td>\n",
       "      <td>The number of accounts on which the borrower i...</td>\n",
       "    </tr>\n",
       "    <tr>\n",
       "      <th>1</th>\n",
       "      <td>acc_open_past_24mths</td>\n",
       "      <td>Number of trades opened in past 24 months.</td>\n",
       "    </tr>\n",
       "    <tr>\n",
       "      <th>2</th>\n",
       "      <td>addr_state</td>\n",
       "      <td>The state provided by the borrower in the loan...</td>\n",
       "    </tr>\n",
       "    <tr>\n",
       "      <th>3</th>\n",
       "      <td>all_util</td>\n",
       "      <td>Balance to credit limit on all trades</td>\n",
       "    </tr>\n",
       "    <tr>\n",
       "      <th>4</th>\n",
       "      <td>annual_inc</td>\n",
       "      <td>The self-reported annual income provided by th...</td>\n",
       "    </tr>\n",
       "  </tbody>\n",
       "</table>\n",
       "</div>"
      ],
      "text/plain": [
       "            LoanStatNew                                        Description\n",
       "0        acc_now_delinq  The number of accounts on which the borrower i...\n",
       "1  acc_open_past_24mths         Number of trades opened in past 24 months.\n",
       "2            addr_state  The state provided by the borrower in the loan...\n",
       "3              all_util              Balance to credit limit on all trades\n",
       "4            annual_inc  The self-reported annual income provided by th..."
      ]
     },
     "execution_count": 14,
     "metadata": {},
     "output_type": "execute_result"
    }
   ],
   "source": [
    "LC_Data_Dictionary_Update.head()"
   ]
  },
  {
   "cell_type": "code",
   "execution_count": 15,
   "metadata": {},
   "outputs": [
    {
     "name": "stdout",
     "output_type": "stream",
     "text": [
      "['LoanStatNew', 'Description']\n"
     ]
    }
   ],
   "source": [
    "#print number of column name\n",
    "print(LC_Data_Dictionary_Update.columns.tolist())"
   ]
  },
  {
   "cell_type": "code",
   "execution_count": 16,
   "metadata": {},
   "outputs": [],
   "source": [
    "#rename data dictionary\n",
    "LC_Data_Dictionary_Update = LC_Data_Dictionary_Update.rename(columns={'LoanStatNew': 'Variable Name', 'Description': 'Description'})"
   ]
  },
  {
   "cell_type": "code",
   "execution_count": 17,
   "metadata": {},
   "outputs": [
    {
     "data": {
      "text/plain": [
       "id                             0\n",
       "member_id                2650550\n",
       "loan_amnt                     33\n",
       "funded_amnt                   33\n",
       "funded_amnt_inv               33\n",
       "                          ...   \n",
       "settlement_status        2615995\n",
       "settlement_date          2615995\n",
       "settlement_amount        2615995\n",
       "settlement_percentage    2615995\n",
       "settlement_term          2615995\n",
       "Length: 150, dtype: int64"
      ]
     },
     "execution_count": 17,
     "metadata": {},
     "output_type": "execute_result"
    }
   ],
   "source": [
    "LC_Data.isna().sum()\n",
    "#to check the sum of null values in each column"
   ]
  },
  {
   "cell_type": "code",
   "execution_count": 18,
   "metadata": {},
   "outputs": [],
   "source": [
    "LC_Data_Updated = LC_Data.loc[:, LC_Data.isnull().sum() < 0.5*LC_Data.shape[0]]\n",
    "#Dropping all columns with 50% missing values"
   ]
  },
  {
   "cell_type": "code",
   "execution_count": 19,
   "metadata": {},
   "outputs": [
    {
     "name": "stdout",
     "output_type": "stream",
     "text": [
      "(2650550, 106)\n"
     ]
    }
   ],
   "source": [
    "print(LC_Data_Updated.shape)"
   ]
  },
  {
   "cell_type": "code",
   "execution_count": 20,
   "metadata": {},
   "outputs": [],
   "source": [
    "#merge data set with data dictionary with new shape\n",
    "LC_Data_Explanation = pd.DataFrame(LC_Data_Updated.dtypes,columns=['dtypes'])\n",
    "LC_Data_Explanation = LC_Data_Explanation.reset_index()\n",
    "LC_Data_Explanation['Variable Name'] = LC_Data_Explanation['index']\n",
    "LC_Data_Explanation = LC_Data_Explanation[['Variable Name','dtypes']]\n",
    "LC_Data_Explanation['first value'] = LC_Data_Updated.loc[0].values\n",
    "LC_Variables_Explained = LC_Data_Explanation.merge(LC_Data_Dictionary_Update, on='Variable Name',how='left')"
   ]
  },
  {
   "cell_type": "code",
   "execution_count": 21,
   "metadata": {},
   "outputs": [
    {
     "data": {
      "text/html": [
       "<div>\n",
       "<style scoped>\n",
       "    .dataframe tbody tr th:only-of-type {\n",
       "        vertical-align: middle;\n",
       "    }\n",
       "\n",
       "    .dataframe tbody tr th {\n",
       "        vertical-align: top;\n",
       "    }\n",
       "\n",
       "    .dataframe thead th {\n",
       "        text-align: right;\n",
       "    }\n",
       "</style>\n",
       "<table border=\"1\" class=\"dataframe\">\n",
       "  <thead>\n",
       "    <tr style=\"text-align: right;\">\n",
       "      <th></th>\n",
       "      <th>Variable Name</th>\n",
       "      <th>dtypes</th>\n",
       "      <th>first value</th>\n",
       "      <th>Description</th>\n",
       "    </tr>\n",
       "  </thead>\n",
       "  <tbody>\n",
       "    <tr>\n",
       "      <th>0</th>\n",
       "      <td>id</td>\n",
       "      <td>object</td>\n",
       "      <td>68407277</td>\n",
       "      <td>A unique LC assigned ID for the loan listing.</td>\n",
       "    </tr>\n",
       "    <tr>\n",
       "      <th>1</th>\n",
       "      <td>loan_amnt</td>\n",
       "      <td>float64</td>\n",
       "      <td>3600.0</td>\n",
       "      <td>The listed amount of the loan applied for by t...</td>\n",
       "    </tr>\n",
       "    <tr>\n",
       "      <th>2</th>\n",
       "      <td>funded_amnt</td>\n",
       "      <td>float64</td>\n",
       "      <td>3600.0</td>\n",
       "      <td>The total amount committed to that loan at tha...</td>\n",
       "    </tr>\n",
       "    <tr>\n",
       "      <th>3</th>\n",
       "      <td>funded_amnt_inv</td>\n",
       "      <td>float64</td>\n",
       "      <td>3600.0</td>\n",
       "      <td>The total amount committed by investors for th...</td>\n",
       "    </tr>\n",
       "    <tr>\n",
       "      <th>4</th>\n",
       "      <td>term</td>\n",
       "      <td>object</td>\n",
       "      <td>36 months</td>\n",
       "      <td>The number of payments on the loan. Values are...</td>\n",
       "    </tr>\n",
       "  </tbody>\n",
       "</table>\n",
       "</div>"
      ],
      "text/plain": [
       "     Variable Name   dtypes first value  \\\n",
       "0               id   object    68407277   \n",
       "1        loan_amnt  float64      3600.0   \n",
       "2      funded_amnt  float64      3600.0   \n",
       "3  funded_amnt_inv  float64      3600.0   \n",
       "4             term   object   36 months   \n",
       "\n",
       "                                         Description  \n",
       "0      A unique LC assigned ID for the loan listing.  \n",
       "1  The listed amount of the loan applied for by t...  \n",
       "2  The total amount committed to that loan at tha...  \n",
       "3  The total amount committed by investors for th...  \n",
       "4  The number of payments on the loan. Values are...  "
      ]
     },
     "execution_count": 21,
     "metadata": {},
     "output_type": "execute_result"
    }
   ],
   "source": [
    "#print data shape after marged\n",
    "LC_Variables_Explained.head()"
   ]
  },
  {
   "cell_type": "code",
   "execution_count": 22,
   "metadata": {},
   "outputs": [
    {
     "data": {
      "text/plain": [
       "Current                                                1217855\n",
       "Fully Paid                                             1111884\n",
       "Charged Off                                             273973\n",
       "Late (31-120 days)                                       27067\n",
       "In Grace Period                                          11386\n",
       "Late (16-30 days)                                         5558\n",
       "Does not meet the credit policy. Status:Fully Paid        1988\n",
       "Does not meet the credit policy. Status:Charged Off        761\n",
       "Default                                                     45\n",
       "Name: loan_status, dtype: int64"
      ]
     },
     "execution_count": 22,
     "metadata": {},
     "output_type": "execute_result"
    }
   ],
   "source": [
    "#Target Column is loan_status\n",
    "LC_Data_Updated.loan_status.value_counts()"
   ]
  },
  {
   "cell_type": "code",
   "execution_count": 23,
   "metadata": {},
   "outputs": [],
   "source": [
    "# Dropping unrequired components of target variable\n",
    "LC_Data_Updated = LC_Data_Updated[LC_Data_Updated.loan_status != 'Current']\n",
    "LC_Data_Updated = LC_Data_Updated[LC_Data_Updated.loan_status != 'Does not meet the credit policy. Status:Fully Paid']\n",
    "LC_Data_Updated = LC_Data_Updated[LC_Data_Updated.loan_status != 'Does not meet the credit policy. Status:Charged Off']"
   ]
  },
  {
   "cell_type": "code",
   "execution_count": 24,
   "metadata": {},
   "outputs": [
    {
     "data": {
      "text/plain": [
       "Fully Paid            1111884\n",
       "Charged Off            273973\n",
       "Late (31-120 days)      27067\n",
       "In Grace Period         11386\n",
       "Late (16-30 days)        5558\n",
       "Default                    45\n",
       "Name: loan_status, dtype: int64"
      ]
     },
     "execution_count": 24,
     "metadata": {},
     "output_type": "execute_result"
    }
   ],
   "source": [
    "#print total number of data in different rows of target column\n",
    "LC_Data_Updated.loan_status.value_counts()"
   ]
  },
  {
   "cell_type": "code",
   "execution_count": 25,
   "metadata": {},
   "outputs": [],
   "source": [
    "#Credit Score Bad (0) for Charged Off, Default, Late (31-120 day), Does not meet the credit policy. Status:Charged Off\n",
    "#Credit Score Good (1) for others\n",
    "#Creation of a New Column that will be based on loan_status column which is our target variable\n",
    "LC_Data_Updated['Credit_Score'] = np.where(LC_Data_Updated.loc[:, 'loan_status'].isin(['Charged Off', 'Default',\n",
    "                                                                       'Late (31-120 days)','Late (16-30 days)','In Grace Period']), 0, 1)"
   ]
  },
  {
   "cell_type": "code",
   "execution_count": 26,
   "metadata": {},
   "outputs": [
    {
     "data": {
      "text/plain": [
       "1    1111917\n",
       "0     318029\n",
       "Name: Credit_Score, dtype: int64"
      ]
     },
     "execution_count": 26,
     "metadata": {},
     "output_type": "execute_result"
    }
   ],
   "source": [
    "#value counts after catagorized target variable \n",
    "LC_Data_Updated.Credit_Score.value_counts()"
   ]
  },
  {
   "cell_type": "code",
   "execution_count": 27,
   "metadata": {},
   "outputs": [],
   "source": [
    "#Dropping the Orgininal loan_status column since we already converted the target function to binary\n",
    "LC_Data_Updated.drop(columns = ['loan_status'], inplace = True)"
   ]
  },
  {
   "cell_type": "code",
   "execution_count": 28,
   "metadata": {},
   "outputs": [
    {
     "data": {
      "text/plain": [
       "106"
      ]
     },
     "execution_count": 28,
     "metadata": {},
     "output_type": "execute_result"
    }
   ],
   "source": [
    "#Analyzing Predictive Column\n",
    "len(LC_Data_Updated.columns)"
   ]
  },
  {
   "cell_type": "code",
   "execution_count": 29,
   "metadata": {},
   "outputs": [],
   "source": [
    "#creation of a list in order to store the columns that will retian as categorical or numerical\n",
    "#------------------------------------------------------------------------\n",
    "Categorical_Features=[]\n",
    "Numerical_Features=[]"
   ]
  },
  {
   "cell_type": "code",
   "execution_count": 30,
   "metadata": {},
   "outputs": [
    {
     "data": {
      "text/html": [
       "<div>\n",
       "<style scoped>\n",
       "    .dataframe tbody tr th:only-of-type {\n",
       "        vertical-align: middle;\n",
       "    }\n",
       "\n",
       "    .dataframe tbody tr th {\n",
       "        vertical-align: top;\n",
       "    }\n",
       "\n",
       "    .dataframe thead th {\n",
       "        text-align: right;\n",
       "    }\n",
       "</style>\n",
       "<table border=\"1\" class=\"dataframe\">\n",
       "  <thead>\n",
       "    <tr style=\"text-align: right;\">\n",
       "      <th></th>\n",
       "      <th>Variable Name</th>\n",
       "      <th>dtypes</th>\n",
       "      <th>first value</th>\n",
       "      <th>Description</th>\n",
       "    </tr>\n",
       "  </thead>\n",
       "  <tbody>\n",
       "    <tr>\n",
       "      <th>0</th>\n",
       "      <td>id</td>\n",
       "      <td>object</td>\n",
       "      <td>68407277</td>\n",
       "      <td>A unique LC assigned ID for the loan listing.</td>\n",
       "    </tr>\n",
       "    <tr>\n",
       "      <th>1</th>\n",
       "      <td>loan_amnt</td>\n",
       "      <td>float64</td>\n",
       "      <td>3600.000000</td>\n",
       "      <td>The listed amount of the loan applied for by t...</td>\n",
       "    </tr>\n",
       "    <tr>\n",
       "      <th>2</th>\n",
       "      <td>funded_amnt</td>\n",
       "      <td>float64</td>\n",
       "      <td>3600.000000</td>\n",
       "      <td>The total amount committed to that loan at tha...</td>\n",
       "    </tr>\n",
       "    <tr>\n",
       "      <th>3</th>\n",
       "      <td>funded_amnt_inv</td>\n",
       "      <td>float64</td>\n",
       "      <td>3600.000000</td>\n",
       "      <td>The total amount committed by investors for th...</td>\n",
       "    </tr>\n",
       "    <tr>\n",
       "      <th>4</th>\n",
       "      <td>term</td>\n",
       "      <td>object</td>\n",
       "      <td>36 months</td>\n",
       "      <td>The number of payments on the loan. Values are...</td>\n",
       "    </tr>\n",
       "    <tr>\n",
       "      <th>5</th>\n",
       "      <td>int_rate</td>\n",
       "      <td>object</td>\n",
       "      <td>13.99</td>\n",
       "      <td>Interest Rate on the loan</td>\n",
       "    </tr>\n",
       "    <tr>\n",
       "      <th>6</th>\n",
       "      <td>installment</td>\n",
       "      <td>float64</td>\n",
       "      <td>123.030000</td>\n",
       "      <td>The monthly payment owed by the borrower if th...</td>\n",
       "    </tr>\n",
       "    <tr>\n",
       "      <th>7</th>\n",
       "      <td>grade</td>\n",
       "      <td>object</td>\n",
       "      <td>C</td>\n",
       "      <td>LC assigned loan grade</td>\n",
       "    </tr>\n",
       "    <tr>\n",
       "      <th>8</th>\n",
       "      <td>sub_grade</td>\n",
       "      <td>object</td>\n",
       "      <td>C4</td>\n",
       "      <td>LC assigned loan subgrade</td>\n",
       "    </tr>\n",
       "    <tr>\n",
       "      <th>9</th>\n",
       "      <td>emp_title</td>\n",
       "      <td>object</td>\n",
       "      <td>leadman</td>\n",
       "      <td>The job title supplied by the Borrower when ap...</td>\n",
       "    </tr>\n",
       "    <tr>\n",
       "      <th>10</th>\n",
       "      <td>emp_length</td>\n",
       "      <td>object</td>\n",
       "      <td>10+ years</td>\n",
       "      <td>Employment length in years. Possible values ar...</td>\n",
       "    </tr>\n",
       "    <tr>\n",
       "      <th>11</th>\n",
       "      <td>home_ownership</td>\n",
       "      <td>object</td>\n",
       "      <td>MORTGAGE</td>\n",
       "      <td>The home ownership status provided by the borr...</td>\n",
       "    </tr>\n",
       "    <tr>\n",
       "      <th>12</th>\n",
       "      <td>annual_inc</td>\n",
       "      <td>float64</td>\n",
       "      <td>55000.000000</td>\n",
       "      <td>The self-reported annual income provided by th...</td>\n",
       "    </tr>\n",
       "    <tr>\n",
       "      <th>13</th>\n",
       "      <td>verification_status</td>\n",
       "      <td>object</td>\n",
       "      <td>Not Verified</td>\n",
       "      <td>Indicates if income was verified by LC, not ve...</td>\n",
       "    </tr>\n",
       "    <tr>\n",
       "      <th>14</th>\n",
       "      <td>issue_d</td>\n",
       "      <td>object</td>\n",
       "      <td>Dec-2015</td>\n",
       "      <td>The month which the loan was funded</td>\n",
       "    </tr>\n",
       "  </tbody>\n",
       "</table>\n",
       "</div>"
      ],
      "text/plain": [
       "          Variable Name   dtypes   first value  \\\n",
       "0                    id   object      68407277   \n",
       "1             loan_amnt  float64   3600.000000   \n",
       "2           funded_amnt  float64   3600.000000   \n",
       "3       funded_amnt_inv  float64   3600.000000   \n",
       "4                  term   object     36 months   \n",
       "5              int_rate   object         13.99   \n",
       "6           installment  float64    123.030000   \n",
       "7                 grade   object             C   \n",
       "8             sub_grade   object            C4   \n",
       "9             emp_title   object       leadman   \n",
       "10           emp_length   object     10+ years   \n",
       "11       home_ownership   object      MORTGAGE   \n",
       "12           annual_inc  float64  55000.000000   \n",
       "13  verification_status   object  Not Verified   \n",
       "14              issue_d   object      Dec-2015   \n",
       "\n",
       "                                          Description  \n",
       "0       A unique LC assigned ID for the loan listing.  \n",
       "1   The listed amount of the loan applied for by t...  \n",
       "2   The total amount committed to that loan at tha...  \n",
       "3   The total amount committed by investors for th...  \n",
       "4   The number of payments on the loan. Values are...  \n",
       "5                           Interest Rate on the loan  \n",
       "6   The monthly payment owed by the borrower if th...  \n",
       "7                              LC assigned loan grade  \n",
       "8                           LC assigned loan subgrade  \n",
       "9   The job title supplied by the Borrower when ap...  \n",
       "10  Employment length in years. Possible values ar...  \n",
       "11  The home ownership status provided by the borr...  \n",
       "12  The self-reported annual income provided by th...  \n",
       "13  Indicates if income was verified by LC, not ve...  \n",
       "14                The month which the loan was funded  "
      ]
     },
     "execution_count": 30,
     "metadata": {},
     "output_type": "execute_result"
    }
   ],
   "source": [
    "#print number of column with different set attributes\n",
    "LC_Variables_Explained[:15]"
   ]
  },
  {
   "cell_type": "code",
   "execution_count": 31,
   "metadata": {},
   "outputs": [],
   "source": [
    "#drop unrequired columns\n",
    "LC_Data_Updated.drop(columns = ['id','funded_amnt','funded_amnt_inv','sub_grade','emp_title','verification_status'], inplace = True)"
   ]
  },
  {
   "cell_type": "code",
   "execution_count": 32,
   "metadata": {},
   "outputs": [],
   "source": [
    "#add variable respect to numerical and catagorical characteristic \n",
    "Categorical_Features.append('term')\n",
    "Categorical_Features.append('grade')\n",
    "Categorical_Features.append('home_ownership')\n",
    "Numerical_Features.append('loan_amnt')\n",
    "Numerical_Features.append('int_rate')\n",
    "Numerical_Features.append('installment')\n",
    "Numerical_Features.append('emp_length')\n",
    "Numerical_Features.append('annual_inc')"
   ]
  },
  {
   "cell_type": "code",
   "execution_count": 33,
   "metadata": {},
   "outputs": [
    {
     "data": {
      "text/html": [
       "<div>\n",
       "<style scoped>\n",
       "    .dataframe tbody tr th:only-of-type {\n",
       "        vertical-align: middle;\n",
       "    }\n",
       "\n",
       "    .dataframe tbody tr th {\n",
       "        vertical-align: top;\n",
       "    }\n",
       "\n",
       "    .dataframe thead th {\n",
       "        text-align: right;\n",
       "    }\n",
       "</style>\n",
       "<table border=\"1\" class=\"dataframe\">\n",
       "  <thead>\n",
       "    <tr style=\"text-align: right;\">\n",
       "      <th></th>\n",
       "      <th>Variable Name</th>\n",
       "      <th>dtypes</th>\n",
       "      <th>first value</th>\n",
       "      <th>Description</th>\n",
       "    </tr>\n",
       "  </thead>\n",
       "  <tbody>\n",
       "    <tr>\n",
       "      <th>15</th>\n",
       "      <td>loan_status</td>\n",
       "      <td>object</td>\n",
       "      <td>Fully Paid</td>\n",
       "      <td>Current status of the loan</td>\n",
       "    </tr>\n",
       "    <tr>\n",
       "      <th>16</th>\n",
       "      <td>pymnt_plan</td>\n",
       "      <td>object</td>\n",
       "      <td>n</td>\n",
       "      <td>Indicates if a payment plan has been put in pl...</td>\n",
       "    </tr>\n",
       "    <tr>\n",
       "      <th>17</th>\n",
       "      <td>url</td>\n",
       "      <td>object</td>\n",
       "      <td>https://lendingclub.com/browse/loanDetail.acti...</td>\n",
       "      <td>URL for the LC page with listing data.</td>\n",
       "    </tr>\n",
       "    <tr>\n",
       "      <th>18</th>\n",
       "      <td>purpose</td>\n",
       "      <td>object</td>\n",
       "      <td>debt_consolidation</td>\n",
       "      <td>A category provided by the borrower for the lo...</td>\n",
       "    </tr>\n",
       "    <tr>\n",
       "      <th>19</th>\n",
       "      <td>title</td>\n",
       "      <td>object</td>\n",
       "      <td>Debt consolidation</td>\n",
       "      <td>The loan title provided by the borrower</td>\n",
       "    </tr>\n",
       "    <tr>\n",
       "      <th>20</th>\n",
       "      <td>zip_code</td>\n",
       "      <td>object</td>\n",
       "      <td>190xx</td>\n",
       "      <td>The first 3 numbers of the zip code provided b...</td>\n",
       "    </tr>\n",
       "    <tr>\n",
       "      <th>21</th>\n",
       "      <td>addr_state</td>\n",
       "      <td>object</td>\n",
       "      <td>PA</td>\n",
       "      <td>The state provided by the borrower in the loan...</td>\n",
       "    </tr>\n",
       "    <tr>\n",
       "      <th>22</th>\n",
       "      <td>dti</td>\n",
       "      <td>float64</td>\n",
       "      <td>5.91</td>\n",
       "      <td>A ratio calculated using the borrowers total ...</td>\n",
       "    </tr>\n",
       "    <tr>\n",
       "      <th>23</th>\n",
       "      <td>delinq_2yrs</td>\n",
       "      <td>float64</td>\n",
       "      <td>0.00</td>\n",
       "      <td>The number of 30+ days past-due incidences of ...</td>\n",
       "    </tr>\n",
       "    <tr>\n",
       "      <th>24</th>\n",
       "      <td>earliest_cr_line</td>\n",
       "      <td>object</td>\n",
       "      <td>Aug-2003</td>\n",
       "      <td>The month the borrower's earliest reported cre...</td>\n",
       "    </tr>\n",
       "    <tr>\n",
       "      <th>25</th>\n",
       "      <td>fico_range_low</td>\n",
       "      <td>float64</td>\n",
       "      <td>675.00</td>\n",
       "      <td>The lower boundary range the borrowers FICO a...</td>\n",
       "    </tr>\n",
       "    <tr>\n",
       "      <th>26</th>\n",
       "      <td>fico_range_high</td>\n",
       "      <td>float64</td>\n",
       "      <td>679.00</td>\n",
       "      <td>The upper boundary range the borrowers FICO a...</td>\n",
       "    </tr>\n",
       "    <tr>\n",
       "      <th>27</th>\n",
       "      <td>inq_last_6mths</td>\n",
       "      <td>float64</td>\n",
       "      <td>1.00</td>\n",
       "      <td>The number of inquiries in past 6 months (excl...</td>\n",
       "    </tr>\n",
       "    <tr>\n",
       "      <th>28</th>\n",
       "      <td>open_acc</td>\n",
       "      <td>float64</td>\n",
       "      <td>7.00</td>\n",
       "      <td>The number of open credit lines in the borrowe...</td>\n",
       "    </tr>\n",
       "    <tr>\n",
       "      <th>29</th>\n",
       "      <td>pub_rec</td>\n",
       "      <td>float64</td>\n",
       "      <td>0.00</td>\n",
       "      <td>Number of derogatory public records</td>\n",
       "    </tr>\n",
       "  </tbody>\n",
       "</table>\n",
       "</div>"
      ],
      "text/plain": [
       "       Variable Name   dtypes  \\\n",
       "15       loan_status   object   \n",
       "16        pymnt_plan   object   \n",
       "17               url   object   \n",
       "18           purpose   object   \n",
       "19             title   object   \n",
       "20          zip_code   object   \n",
       "21        addr_state   object   \n",
       "22               dti  float64   \n",
       "23       delinq_2yrs  float64   \n",
       "24  earliest_cr_line   object   \n",
       "25    fico_range_low  float64   \n",
       "26   fico_range_high  float64   \n",
       "27    inq_last_6mths  float64   \n",
       "28          open_acc  float64   \n",
       "29           pub_rec  float64   \n",
       "\n",
       "                                          first value  \\\n",
       "15                                         Fully Paid   \n",
       "16                                                  n   \n",
       "17  https://lendingclub.com/browse/loanDetail.acti...   \n",
       "18                                 debt_consolidation   \n",
       "19                                 Debt consolidation   \n",
       "20                                              190xx   \n",
       "21                                                 PA   \n",
       "22                                               5.91   \n",
       "23                                               0.00   \n",
       "24                                           Aug-2003   \n",
       "25                                             675.00   \n",
       "26                                             679.00   \n",
       "27                                               1.00   \n",
       "28                                               7.00   \n",
       "29                                               0.00   \n",
       "\n",
       "                                          Description  \n",
       "15                         Current status of the loan  \n",
       "16  Indicates if a payment plan has been put in pl...  \n",
       "17             URL for the LC page with listing data.  \n",
       "18  A category provided by the borrower for the lo...  \n",
       "19            The loan title provided by the borrower  \n",
       "20  The first 3 numbers of the zip code provided b...  \n",
       "21  The state provided by the borrower in the loan...  \n",
       "22  A ratio calculated using the borrowers total ...  \n",
       "23  The number of 30+ days past-due incidences of ...  \n",
       "24  The month the borrower's earliest reported cre...  \n",
       "25  The lower boundary range the borrowers FICO a...  \n",
       "26  The upper boundary range the borrowers FICO a...  \n",
       "27  The number of inquiries in past 6 months (excl...  \n",
       "28  The number of open credit lines in the borrowe...  \n",
       "29                Number of derogatory public records  "
      ]
     },
     "execution_count": 33,
     "metadata": {},
     "output_type": "execute_result"
    }
   ],
   "source": [
    "#print number of column with different set attributes \n",
    "LC_Variables_Explained[15:30]"
   ]
  },
  {
   "cell_type": "code",
   "execution_count": 34,
   "metadata": {},
   "outputs": [],
   "source": [
    "#add variable respect to numerical and catagorical characteristic \n",
    "Categorical_Features.append('purpose')\n",
    "Numerical_Features.append('dti')\n",
    "Numerical_Features.append('delinq_2yrs')\n",
    "Numerical_Features.append('inq_last_6mths')\n",
    "Numerical_Features.append('open_acc')"
   ]
  },
  {
   "cell_type": "code",
   "execution_count": 35,
   "metadata": {},
   "outputs": [],
   "source": [
    "#drop unrequired columns\n",
    "LC_Data_Updated.drop(columns = ['pymnt_plan','url','title','zip_code','addr_state','earliest_cr_line','fico_range_low','fico_range_high','pub_rec'], inplace = True)"
   ]
  },
  {
   "cell_type": "code",
   "execution_count": 36,
   "metadata": {},
   "outputs": [
    {
     "data": {
      "text/html": [
       "<div>\n",
       "<style scoped>\n",
       "    .dataframe tbody tr th:only-of-type {\n",
       "        vertical-align: middle;\n",
       "    }\n",
       "\n",
       "    .dataframe tbody tr th {\n",
       "        vertical-align: top;\n",
       "    }\n",
       "\n",
       "    .dataframe thead th {\n",
       "        text-align: right;\n",
       "    }\n",
       "</style>\n",
       "<table border=\"1\" class=\"dataframe\">\n",
       "  <thead>\n",
       "    <tr style=\"text-align: right;\">\n",
       "      <th></th>\n",
       "      <th>Variable Name</th>\n",
       "      <th>dtypes</th>\n",
       "      <th>first value</th>\n",
       "      <th>Description</th>\n",
       "    </tr>\n",
       "  </thead>\n",
       "  <tbody>\n",
       "    <tr>\n",
       "      <th>30</th>\n",
       "      <td>revol_bal</td>\n",
       "      <td>float64</td>\n",
       "      <td>2765.000000</td>\n",
       "      <td>Total credit revolving balance</td>\n",
       "    </tr>\n",
       "    <tr>\n",
       "      <th>31</th>\n",
       "      <td>revol_util</td>\n",
       "      <td>object</td>\n",
       "      <td>29.7</td>\n",
       "      <td>Revolving line utilization rate, or the amount...</td>\n",
       "    </tr>\n",
       "    <tr>\n",
       "      <th>32</th>\n",
       "      <td>total_acc</td>\n",
       "      <td>float64</td>\n",
       "      <td>13.000000</td>\n",
       "      <td>The total number of credit lines currently in ...</td>\n",
       "    </tr>\n",
       "    <tr>\n",
       "      <th>33</th>\n",
       "      <td>initial_list_status</td>\n",
       "      <td>object</td>\n",
       "      <td>w</td>\n",
       "      <td>The initial listing status of the loan. Possib...</td>\n",
       "    </tr>\n",
       "    <tr>\n",
       "      <th>34</th>\n",
       "      <td>out_prncp</td>\n",
       "      <td>float64</td>\n",
       "      <td>0.000000</td>\n",
       "      <td>Remaining outstanding principal for total amou...</td>\n",
       "    </tr>\n",
       "    <tr>\n",
       "      <th>35</th>\n",
       "      <td>out_prncp_inv</td>\n",
       "      <td>float64</td>\n",
       "      <td>0.000000</td>\n",
       "      <td>Remaining outstanding principal for portion of...</td>\n",
       "    </tr>\n",
       "    <tr>\n",
       "      <th>36</th>\n",
       "      <td>total_pymnt</td>\n",
       "      <td>float64</td>\n",
       "      <td>4421.723917</td>\n",
       "      <td>Payments received to date for total amount funded</td>\n",
       "    </tr>\n",
       "    <tr>\n",
       "      <th>37</th>\n",
       "      <td>total_pymnt_inv</td>\n",
       "      <td>float64</td>\n",
       "      <td>4421.720000</td>\n",
       "      <td>Payments received to date for portion of total...</td>\n",
       "    </tr>\n",
       "    <tr>\n",
       "      <th>38</th>\n",
       "      <td>total_rec_prncp</td>\n",
       "      <td>float64</td>\n",
       "      <td>3600.000000</td>\n",
       "      <td>Principal received to date</td>\n",
       "    </tr>\n",
       "    <tr>\n",
       "      <th>39</th>\n",
       "      <td>total_rec_int</td>\n",
       "      <td>float64</td>\n",
       "      <td>821.720000</td>\n",
       "      <td>Interest received to date</td>\n",
       "    </tr>\n",
       "    <tr>\n",
       "      <th>40</th>\n",
       "      <td>total_rec_late_fee</td>\n",
       "      <td>float64</td>\n",
       "      <td>0.000000</td>\n",
       "      <td>Late fees received to date</td>\n",
       "    </tr>\n",
       "    <tr>\n",
       "      <th>41</th>\n",
       "      <td>recoveries</td>\n",
       "      <td>float64</td>\n",
       "      <td>0.000000</td>\n",
       "      <td>post charge off gross recovery</td>\n",
       "    </tr>\n",
       "    <tr>\n",
       "      <th>42</th>\n",
       "      <td>collection_recovery_fee</td>\n",
       "      <td>float64</td>\n",
       "      <td>0.000000</td>\n",
       "      <td>post charge off collection fee</td>\n",
       "    </tr>\n",
       "    <tr>\n",
       "      <th>43</th>\n",
       "      <td>last_pymnt_d</td>\n",
       "      <td>object</td>\n",
       "      <td>Jan-2019</td>\n",
       "      <td>Last month payment was received</td>\n",
       "    </tr>\n",
       "    <tr>\n",
       "      <th>44</th>\n",
       "      <td>last_pymnt_amnt</td>\n",
       "      <td>float64</td>\n",
       "      <td>122.670000</td>\n",
       "      <td>Last total payment amount received</td>\n",
       "    </tr>\n",
       "  </tbody>\n",
       "</table>\n",
       "</div>"
      ],
      "text/plain": [
       "              Variable Name   dtypes  first value  \\\n",
       "30                revol_bal  float64  2765.000000   \n",
       "31               revol_util   object         29.7   \n",
       "32                total_acc  float64    13.000000   \n",
       "33      initial_list_status   object            w   \n",
       "34                out_prncp  float64     0.000000   \n",
       "35            out_prncp_inv  float64     0.000000   \n",
       "36              total_pymnt  float64  4421.723917   \n",
       "37          total_pymnt_inv  float64  4421.720000   \n",
       "38          total_rec_prncp  float64  3600.000000   \n",
       "39            total_rec_int  float64   821.720000   \n",
       "40       total_rec_late_fee  float64     0.000000   \n",
       "41               recoveries  float64     0.000000   \n",
       "42  collection_recovery_fee  float64     0.000000   \n",
       "43             last_pymnt_d   object     Jan-2019   \n",
       "44          last_pymnt_amnt  float64   122.670000   \n",
       "\n",
       "                                          Description  \n",
       "30                     Total credit revolving balance  \n",
       "31  Revolving line utilization rate, or the amount...  \n",
       "32  The total number of credit lines currently in ...  \n",
       "33  The initial listing status of the loan. Possib...  \n",
       "34  Remaining outstanding principal for total amou...  \n",
       "35  Remaining outstanding principal for portion of...  \n",
       "36  Payments received to date for total amount funded  \n",
       "37  Payments received to date for portion of total...  \n",
       "38                         Principal received to date  \n",
       "39                          Interest received to date  \n",
       "40                         Late fees received to date  \n",
       "41                     post charge off gross recovery  \n",
       "42                     post charge off collection fee  \n",
       "43                    Last month payment was received  \n",
       "44                 Last total payment amount received  "
      ]
     },
     "execution_count": 36,
     "metadata": {},
     "output_type": "execute_result"
    }
   ],
   "source": [
    "#print number of column with different set attributes \n",
    "LC_Variables_Explained[30:45]"
   ]
  },
  {
   "cell_type": "code",
   "execution_count": 37,
   "metadata": {},
   "outputs": [],
   "source": [
    "#drop unrequired columns\n",
    "LC_Data_Updated.drop(columns = ['initial_list_status','out_prncp_inv','total_pymnt_inv','total_rec_prncp','total_rec_int','total_rec_late_fee','collection_recovery_fee','last_pymnt_d','last_pymnt_amnt'], inplace = True)"
   ]
  },
  {
   "cell_type": "code",
   "execution_count": 38,
   "metadata": {},
   "outputs": [],
   "source": [
    "#add variable respect to numerical and catagorical characteristic \n",
    "Numerical_Features.append('revol_bal')\n",
    "Numerical_Features.append('revol_util')\n",
    "Numerical_Features.append('total_acc')\n",
    "Numerical_Features.append('out_prncp')\n",
    "Numerical_Features.append('total_pymnt')\n",
    "Numerical_Features.append('recoveries')"
   ]
  },
  {
   "cell_type": "code",
   "execution_count": 39,
   "metadata": {},
   "outputs": [
    {
     "data": {
      "text/html": [
       "<div>\n",
       "<style scoped>\n",
       "    .dataframe tbody tr th:only-of-type {\n",
       "        vertical-align: middle;\n",
       "    }\n",
       "\n",
       "    .dataframe tbody tr th {\n",
       "        vertical-align: top;\n",
       "    }\n",
       "\n",
       "    .dataframe thead th {\n",
       "        text-align: right;\n",
       "    }\n",
       "</style>\n",
       "<table border=\"1\" class=\"dataframe\">\n",
       "  <thead>\n",
       "    <tr style=\"text-align: right;\">\n",
       "      <th></th>\n",
       "      <th>Variable Name</th>\n",
       "      <th>dtypes</th>\n",
       "      <th>first value</th>\n",
       "      <th>Description</th>\n",
       "    </tr>\n",
       "  </thead>\n",
       "  <tbody>\n",
       "    <tr>\n",
       "      <th>45</th>\n",
       "      <td>last_credit_pull_d</td>\n",
       "      <td>object</td>\n",
       "      <td>Mar-2019</td>\n",
       "      <td>The most recent month LC pulled credit for thi...</td>\n",
       "    </tr>\n",
       "    <tr>\n",
       "      <th>46</th>\n",
       "      <td>last_fico_range_high</td>\n",
       "      <td>float64</td>\n",
       "      <td>564.0</td>\n",
       "      <td>The upper boundary range the borrowers last F...</td>\n",
       "    </tr>\n",
       "    <tr>\n",
       "      <th>47</th>\n",
       "      <td>last_fico_range_low</td>\n",
       "      <td>float64</td>\n",
       "      <td>560.0</td>\n",
       "      <td>The lower boundary range the borrowers last F...</td>\n",
       "    </tr>\n",
       "    <tr>\n",
       "      <th>48</th>\n",
       "      <td>collections_12_mths_ex_med</td>\n",
       "      <td>float64</td>\n",
       "      <td>0.0</td>\n",
       "      <td>Number of collections in 12 months excluding m...</td>\n",
       "    </tr>\n",
       "    <tr>\n",
       "      <th>49</th>\n",
       "      <td>policy_code</td>\n",
       "      <td>float64</td>\n",
       "      <td>1.0</td>\n",
       "      <td>publicly available policy_code=1\\nnew products...</td>\n",
       "    </tr>\n",
       "    <tr>\n",
       "      <th>50</th>\n",
       "      <td>application_type</td>\n",
       "      <td>object</td>\n",
       "      <td>Individual</td>\n",
       "      <td>Indicates whether the loan is an individual ap...</td>\n",
       "    </tr>\n",
       "    <tr>\n",
       "      <th>51</th>\n",
       "      <td>acc_now_delinq</td>\n",
       "      <td>float64</td>\n",
       "      <td>0.0</td>\n",
       "      <td>The number of accounts on which the borrower i...</td>\n",
       "    </tr>\n",
       "    <tr>\n",
       "      <th>52</th>\n",
       "      <td>tot_coll_amt</td>\n",
       "      <td>float64</td>\n",
       "      <td>722.0</td>\n",
       "      <td>Total collection amounts ever owed</td>\n",
       "    </tr>\n",
       "    <tr>\n",
       "      <th>53</th>\n",
       "      <td>tot_cur_bal</td>\n",
       "      <td>float64</td>\n",
       "      <td>144904.0</td>\n",
       "      <td>Total current balance of all accounts</td>\n",
       "    </tr>\n",
       "    <tr>\n",
       "      <th>54</th>\n",
       "      <td>open_acc_6m</td>\n",
       "      <td>float64</td>\n",
       "      <td>2.0</td>\n",
       "      <td>Number of open trades in last 6 months</td>\n",
       "    </tr>\n",
       "    <tr>\n",
       "      <th>55</th>\n",
       "      <td>open_act_il</td>\n",
       "      <td>float64</td>\n",
       "      <td>2.0</td>\n",
       "      <td>Number of currently active installment trades</td>\n",
       "    </tr>\n",
       "    <tr>\n",
       "      <th>56</th>\n",
       "      <td>open_il_12m</td>\n",
       "      <td>float64</td>\n",
       "      <td>0.0</td>\n",
       "      <td>Number of installment accounts opened in past ...</td>\n",
       "    </tr>\n",
       "    <tr>\n",
       "      <th>57</th>\n",
       "      <td>open_il_24m</td>\n",
       "      <td>float64</td>\n",
       "      <td>1.0</td>\n",
       "      <td>Number of installment accounts opened in past ...</td>\n",
       "    </tr>\n",
       "    <tr>\n",
       "      <th>58</th>\n",
       "      <td>mths_since_rcnt_il</td>\n",
       "      <td>float64</td>\n",
       "      <td>21.0</td>\n",
       "      <td>Months since most recent installment accounts ...</td>\n",
       "    </tr>\n",
       "    <tr>\n",
       "      <th>59</th>\n",
       "      <td>total_bal_il</td>\n",
       "      <td>float64</td>\n",
       "      <td>4981.0</td>\n",
       "      <td>Total current balance of all installment accounts</td>\n",
       "    </tr>\n",
       "  </tbody>\n",
       "</table>\n",
       "</div>"
      ],
      "text/plain": [
       "                 Variable Name   dtypes first value  \\\n",
       "45          last_credit_pull_d   object    Mar-2019   \n",
       "46        last_fico_range_high  float64       564.0   \n",
       "47         last_fico_range_low  float64       560.0   \n",
       "48  collections_12_mths_ex_med  float64         0.0   \n",
       "49                 policy_code  float64         1.0   \n",
       "50            application_type   object  Individual   \n",
       "51              acc_now_delinq  float64         0.0   \n",
       "52                tot_coll_amt  float64       722.0   \n",
       "53                 tot_cur_bal  float64    144904.0   \n",
       "54                 open_acc_6m  float64         2.0   \n",
       "55                 open_act_il  float64         2.0   \n",
       "56                 open_il_12m  float64         0.0   \n",
       "57                 open_il_24m  float64         1.0   \n",
       "58          mths_since_rcnt_il  float64        21.0   \n",
       "59                total_bal_il  float64      4981.0   \n",
       "\n",
       "                                          Description  \n",
       "45  The most recent month LC pulled credit for thi...  \n",
       "46  The upper boundary range the borrowers last F...  \n",
       "47  The lower boundary range the borrowers last F...  \n",
       "48  Number of collections in 12 months excluding m...  \n",
       "49  publicly available policy_code=1\\nnew products...  \n",
       "50  Indicates whether the loan is an individual ap...  \n",
       "51  The number of accounts on which the borrower i...  \n",
       "52                 Total collection amounts ever owed  \n",
       "53              Total current balance of all accounts  \n",
       "54             Number of open trades in last 6 months  \n",
       "55      Number of currently active installment trades  \n",
       "56  Number of installment accounts opened in past ...  \n",
       "57  Number of installment accounts opened in past ...  \n",
       "58  Months since most recent installment accounts ...  \n",
       "59  Total current balance of all installment accounts  "
      ]
     },
     "execution_count": 39,
     "metadata": {},
     "output_type": "execute_result"
    }
   ],
   "source": [
    "LC_Variables_Explained[45:60]"
   ]
  },
  {
   "cell_type": "code",
   "execution_count": 40,
   "metadata": {},
   "outputs": [],
   "source": [
    "#add variable respect to numerical and catagorical characteristic \n",
    "Numerical_Features.append('acc_now_delinq')\n",
    "Numerical_Features.append('tot_coll_amt')"
   ]
  },
  {
   "cell_type": "code",
   "execution_count": 41,
   "metadata": {},
   "outputs": [],
   "source": [
    "#drop unrequired columns\n",
    "LC_Data_Updated.drop(columns = ['last_credit_pull_d','last_fico_range_high','last_fico_range_low','collections_12_mths_ex_med','application_type','tot_cur_bal','open_acc_6m','open_act_il','open_il_12m','open_il_24m','mths_since_rcnt_il','total_bal_il','policy_code'], inplace = True)"
   ]
  },
  {
   "cell_type": "code",
   "execution_count": 42,
   "metadata": {},
   "outputs": [
    {
     "data": {
      "text/html": [
       "<div>\n",
       "<style scoped>\n",
       "    .dataframe tbody tr th:only-of-type {\n",
       "        vertical-align: middle;\n",
       "    }\n",
       "\n",
       "    .dataframe tbody tr th {\n",
       "        vertical-align: top;\n",
       "    }\n",
       "\n",
       "    .dataframe thead th {\n",
       "        text-align: right;\n",
       "    }\n",
       "</style>\n",
       "<table border=\"1\" class=\"dataframe\">\n",
       "  <thead>\n",
       "    <tr style=\"text-align: right;\">\n",
       "      <th></th>\n",
       "      <th>Variable Name</th>\n",
       "      <th>dtypes</th>\n",
       "      <th>first value</th>\n",
       "      <th>Description</th>\n",
       "    </tr>\n",
       "  </thead>\n",
       "  <tbody>\n",
       "    <tr>\n",
       "      <th>60</th>\n",
       "      <td>il_util</td>\n",
       "      <td>float64</td>\n",
       "      <td>36.0</td>\n",
       "      <td>Ratio of total current balance to high credit/...</td>\n",
       "    </tr>\n",
       "    <tr>\n",
       "      <th>61</th>\n",
       "      <td>open_rv_12m</td>\n",
       "      <td>float64</td>\n",
       "      <td>3.0</td>\n",
       "      <td>Number of revolving trades opened in past 12 m...</td>\n",
       "    </tr>\n",
       "    <tr>\n",
       "      <th>62</th>\n",
       "      <td>open_rv_24m</td>\n",
       "      <td>float64</td>\n",
       "      <td>3.0</td>\n",
       "      <td>Number of revolving trades opened in past 24 m...</td>\n",
       "    </tr>\n",
       "    <tr>\n",
       "      <th>63</th>\n",
       "      <td>max_bal_bc</td>\n",
       "      <td>float64</td>\n",
       "      <td>722.0</td>\n",
       "      <td>Maximum current balance owed on all revolving ...</td>\n",
       "    </tr>\n",
       "    <tr>\n",
       "      <th>64</th>\n",
       "      <td>all_util</td>\n",
       "      <td>float64</td>\n",
       "      <td>34.0</td>\n",
       "      <td>Balance to credit limit on all trades</td>\n",
       "    </tr>\n",
       "    <tr>\n",
       "      <th>65</th>\n",
       "      <td>total_rev_hi_lim</td>\n",
       "      <td>float64</td>\n",
       "      <td>9300.0</td>\n",
       "      <td>NaN</td>\n",
       "    </tr>\n",
       "    <tr>\n",
       "      <th>66</th>\n",
       "      <td>inq_fi</td>\n",
       "      <td>float64</td>\n",
       "      <td>3.0</td>\n",
       "      <td>Number of personal finance inquiries</td>\n",
       "    </tr>\n",
       "    <tr>\n",
       "      <th>67</th>\n",
       "      <td>total_cu_tl</td>\n",
       "      <td>float64</td>\n",
       "      <td>1.0</td>\n",
       "      <td>Number of finance trades</td>\n",
       "    </tr>\n",
       "    <tr>\n",
       "      <th>68</th>\n",
       "      <td>inq_last_12m</td>\n",
       "      <td>float64</td>\n",
       "      <td>4.0</td>\n",
       "      <td>Number of credit inquiries in past 12 months</td>\n",
       "    </tr>\n",
       "    <tr>\n",
       "      <th>69</th>\n",
       "      <td>acc_open_past_24mths</td>\n",
       "      <td>float64</td>\n",
       "      <td>4.0</td>\n",
       "      <td>Number of trades opened in past 24 months.</td>\n",
       "    </tr>\n",
       "    <tr>\n",
       "      <th>70</th>\n",
       "      <td>avg_cur_bal</td>\n",
       "      <td>float64</td>\n",
       "      <td>20701.0</td>\n",
       "      <td>Average current balance of all accounts</td>\n",
       "    </tr>\n",
       "    <tr>\n",
       "      <th>71</th>\n",
       "      <td>bc_open_to_buy</td>\n",
       "      <td>float64</td>\n",
       "      <td>1506.0</td>\n",
       "      <td>Total open to buy on revolving bankcards.</td>\n",
       "    </tr>\n",
       "    <tr>\n",
       "      <th>72</th>\n",
       "      <td>bc_util</td>\n",
       "      <td>float64</td>\n",
       "      <td>37.2</td>\n",
       "      <td>Ratio of total current balance to high credit/...</td>\n",
       "    </tr>\n",
       "    <tr>\n",
       "      <th>73</th>\n",
       "      <td>chargeoff_within_12_mths</td>\n",
       "      <td>float64</td>\n",
       "      <td>0.0</td>\n",
       "      <td>Number of charge-offs within 12 months</td>\n",
       "    </tr>\n",
       "    <tr>\n",
       "      <th>74</th>\n",
       "      <td>delinq_amnt</td>\n",
       "      <td>float64</td>\n",
       "      <td>0.0</td>\n",
       "      <td>The past-due amount owed for the accounts on w...</td>\n",
       "    </tr>\n",
       "  </tbody>\n",
       "</table>\n",
       "</div>"
      ],
      "text/plain": [
       "               Variable Name   dtypes first value  \\\n",
       "60                   il_util  float64        36.0   \n",
       "61               open_rv_12m  float64         3.0   \n",
       "62               open_rv_24m  float64         3.0   \n",
       "63                max_bal_bc  float64       722.0   \n",
       "64                  all_util  float64        34.0   \n",
       "65          total_rev_hi_lim  float64      9300.0   \n",
       "66                    inq_fi  float64         3.0   \n",
       "67               total_cu_tl  float64         1.0   \n",
       "68              inq_last_12m  float64         4.0   \n",
       "69      acc_open_past_24mths  float64         4.0   \n",
       "70               avg_cur_bal  float64     20701.0   \n",
       "71            bc_open_to_buy  float64      1506.0   \n",
       "72                   bc_util  float64        37.2   \n",
       "73  chargeoff_within_12_mths  float64         0.0   \n",
       "74               delinq_amnt  float64         0.0   \n",
       "\n",
       "                                          Description  \n",
       "60  Ratio of total current balance to high credit/...  \n",
       "61  Number of revolving trades opened in past 12 m...  \n",
       "62  Number of revolving trades opened in past 24 m...  \n",
       "63  Maximum current balance owed on all revolving ...  \n",
       "64              Balance to credit limit on all trades  \n",
       "65                                                NaN  \n",
       "66               Number of personal finance inquiries  \n",
       "67                           Number of finance trades  \n",
       "68       Number of credit inquiries in past 12 months  \n",
       "69         Number of trades opened in past 24 months.  \n",
       "70            Average current balance of all accounts  \n",
       "71          Total open to buy on revolving bankcards.  \n",
       "72  Ratio of total current balance to high credit/...  \n",
       "73             Number of charge-offs within 12 months  \n",
       "74  The past-due amount owed for the accounts on w...  "
      ]
     },
     "execution_count": 42,
     "metadata": {},
     "output_type": "execute_result"
    }
   ],
   "source": [
    "#print number of column with different set attributes \n",
    "LC_Variables_Explained[60:75]"
   ]
  },
  {
   "cell_type": "code",
   "execution_count": 43,
   "metadata": {},
   "outputs": [],
   "source": [
    "#add variable respect to numerical and catagorical characteristic \n",
    "Numerical_Features.append('delinq_amnt')\n",
    "Numerical_Features.append('chargeoff_within_12_mths')"
   ]
  },
  {
   "cell_type": "code",
   "execution_count": 44,
   "metadata": {},
   "outputs": [],
   "source": [
    "#drop unrequired columns\n",
    "LC_Data_Updated.drop(columns = ['il_util','open_rv_12m','open_rv_24m','max_bal_bc','all_util','total_rev_hi_lim','inq_fi','total_cu_tl','inq_last_12m','acc_open_past_24mths','avg_cur_bal','bc_open_to_buy','bc_util'], inplace = True)"
   ]
  },
  {
   "cell_type": "code",
   "execution_count": 45,
   "metadata": {},
   "outputs": [
    {
     "data": {
      "text/html": [
       "<div>\n",
       "<style scoped>\n",
       "    .dataframe tbody tr th:only-of-type {\n",
       "        vertical-align: middle;\n",
       "    }\n",
       "\n",
       "    .dataframe tbody tr th {\n",
       "        vertical-align: top;\n",
       "    }\n",
       "\n",
       "    .dataframe thead th {\n",
       "        text-align: right;\n",
       "    }\n",
       "</style>\n",
       "<table border=\"1\" class=\"dataframe\">\n",
       "  <thead>\n",
       "    <tr style=\"text-align: right;\">\n",
       "      <th></th>\n",
       "      <th>Variable Name</th>\n",
       "      <th>dtypes</th>\n",
       "      <th>first value</th>\n",
       "      <th>Description</th>\n",
       "    </tr>\n",
       "  </thead>\n",
       "  <tbody>\n",
       "    <tr>\n",
       "      <th>75</th>\n",
       "      <td>mo_sin_old_il_acct</td>\n",
       "      <td>float64</td>\n",
       "      <td>148.0</td>\n",
       "      <td>Months since oldest bank installment account o...</td>\n",
       "    </tr>\n",
       "    <tr>\n",
       "      <th>76</th>\n",
       "      <td>mo_sin_old_rev_tl_op</td>\n",
       "      <td>float64</td>\n",
       "      <td>128.0</td>\n",
       "      <td>Months since oldest revolving account opened</td>\n",
       "    </tr>\n",
       "    <tr>\n",
       "      <th>77</th>\n",
       "      <td>mo_sin_rcnt_rev_tl_op</td>\n",
       "      <td>float64</td>\n",
       "      <td>3.0</td>\n",
       "      <td>Months since most recent revolving account opened</td>\n",
       "    </tr>\n",
       "    <tr>\n",
       "      <th>78</th>\n",
       "      <td>mo_sin_rcnt_tl</td>\n",
       "      <td>float64</td>\n",
       "      <td>3.0</td>\n",
       "      <td>Months since most recent account opened</td>\n",
       "    </tr>\n",
       "    <tr>\n",
       "      <th>79</th>\n",
       "      <td>mort_acc</td>\n",
       "      <td>float64</td>\n",
       "      <td>1.0</td>\n",
       "      <td>Number of mortgage accounts.</td>\n",
       "    </tr>\n",
       "    <tr>\n",
       "      <th>80</th>\n",
       "      <td>mths_since_recent_bc</td>\n",
       "      <td>float64</td>\n",
       "      <td>4.0</td>\n",
       "      <td>Months since most recent bankcard account opened.</td>\n",
       "    </tr>\n",
       "    <tr>\n",
       "      <th>81</th>\n",
       "      <td>mths_since_recent_inq</td>\n",
       "      <td>float64</td>\n",
       "      <td>4.0</td>\n",
       "      <td>Months since most recent inquiry.</td>\n",
       "    </tr>\n",
       "    <tr>\n",
       "      <th>82</th>\n",
       "      <td>num_accts_ever_120_pd</td>\n",
       "      <td>float64</td>\n",
       "      <td>2.0</td>\n",
       "      <td>Number of accounts ever 120 or more days past due</td>\n",
       "    </tr>\n",
       "    <tr>\n",
       "      <th>83</th>\n",
       "      <td>num_actv_bc_tl</td>\n",
       "      <td>float64</td>\n",
       "      <td>2.0</td>\n",
       "      <td>Number of currently active bankcard accounts</td>\n",
       "    </tr>\n",
       "    <tr>\n",
       "      <th>84</th>\n",
       "      <td>num_actv_rev_tl</td>\n",
       "      <td>float64</td>\n",
       "      <td>4.0</td>\n",
       "      <td>Number of currently active revolving trades</td>\n",
       "    </tr>\n",
       "    <tr>\n",
       "      <th>85</th>\n",
       "      <td>num_bc_sats</td>\n",
       "      <td>float64</td>\n",
       "      <td>2.0</td>\n",
       "      <td>Number of satisfactory bankcard accounts</td>\n",
       "    </tr>\n",
       "    <tr>\n",
       "      <th>86</th>\n",
       "      <td>num_bc_tl</td>\n",
       "      <td>float64</td>\n",
       "      <td>5.0</td>\n",
       "      <td>Number of bankcard accounts</td>\n",
       "    </tr>\n",
       "    <tr>\n",
       "      <th>87</th>\n",
       "      <td>num_il_tl</td>\n",
       "      <td>float64</td>\n",
       "      <td>3.0</td>\n",
       "      <td>Number of installment accounts</td>\n",
       "    </tr>\n",
       "    <tr>\n",
       "      <th>88</th>\n",
       "      <td>num_op_rev_tl</td>\n",
       "      <td>float64</td>\n",
       "      <td>4.0</td>\n",
       "      <td>Number of open revolving accounts</td>\n",
       "    </tr>\n",
       "    <tr>\n",
       "      <th>89</th>\n",
       "      <td>num_rev_accts</td>\n",
       "      <td>float64</td>\n",
       "      <td>9.0</td>\n",
       "      <td>Number of revolving accounts</td>\n",
       "    </tr>\n",
       "  </tbody>\n",
       "</table>\n",
       "</div>"
      ],
      "text/plain": [
       "            Variable Name   dtypes first value  \\\n",
       "75     mo_sin_old_il_acct  float64       148.0   \n",
       "76   mo_sin_old_rev_tl_op  float64       128.0   \n",
       "77  mo_sin_rcnt_rev_tl_op  float64         3.0   \n",
       "78         mo_sin_rcnt_tl  float64         3.0   \n",
       "79               mort_acc  float64         1.0   \n",
       "80   mths_since_recent_bc  float64         4.0   \n",
       "81  mths_since_recent_inq  float64         4.0   \n",
       "82  num_accts_ever_120_pd  float64         2.0   \n",
       "83         num_actv_bc_tl  float64         2.0   \n",
       "84        num_actv_rev_tl  float64         4.0   \n",
       "85            num_bc_sats  float64         2.0   \n",
       "86              num_bc_tl  float64         5.0   \n",
       "87              num_il_tl  float64         3.0   \n",
       "88          num_op_rev_tl  float64         4.0   \n",
       "89          num_rev_accts  float64         9.0   \n",
       "\n",
       "                                          Description  \n",
       "75  Months since oldest bank installment account o...  \n",
       "76       Months since oldest revolving account opened  \n",
       "77  Months since most recent revolving account opened  \n",
       "78            Months since most recent account opened  \n",
       "79                       Number of mortgage accounts.  \n",
       "80  Months since most recent bankcard account opened.  \n",
       "81                  Months since most recent inquiry.  \n",
       "82  Number of accounts ever 120 or more days past due  \n",
       "83       Number of currently active bankcard accounts  \n",
       "84        Number of currently active revolving trades  \n",
       "85           Number of satisfactory bankcard accounts  \n",
       "86                        Number of bankcard accounts  \n",
       "87                     Number of installment accounts  \n",
       "88                  Number of open revolving accounts  \n",
       "89                       Number of revolving accounts  "
      ]
     },
     "execution_count": 45,
     "metadata": {},
     "output_type": "execute_result"
    }
   ],
   "source": [
    "#print number of column with different set attributes \n",
    "LC_Variables_Explained[75:90]"
   ]
  },
  {
   "cell_type": "code",
   "execution_count": 46,
   "metadata": {},
   "outputs": [],
   "source": [
    "#drop unrequired columns\n",
    "LC_Data_Updated.drop(columns = ['mo_sin_old_il_acct','mo_sin_old_rev_tl_op','mo_sin_rcnt_rev_tl_op','mo_sin_rcnt_tl','num_actv_rev_tl','num_bc_sats','num_bc_tl','num_il_tl','num_op_rev_tl','num_rev_accts'], inplace = True)"
   ]
  },
  {
   "cell_type": "code",
   "execution_count": 47,
   "metadata": {},
   "outputs": [],
   "source": [
    "#add variable respect to numerical and catagorical characteristic\n",
    "Numerical_Features.append('num_accts_ever_120_pd')\n",
    "Numerical_Features.append('mort_acc')\n",
    "Numerical_Features.append('mths_since_recent_inq')"
   ]
  },
  {
   "cell_type": "code",
   "execution_count": 48,
   "metadata": {},
   "outputs": [],
   "source": [
    "#add variable respect to numerical and catagorical characteristic\n",
    "Numerical_Features.append('mths_since_recent_bc')"
   ]
  },
  {
   "cell_type": "code",
   "execution_count": 49,
   "metadata": {},
   "outputs": [],
   "source": [
    "#add variable respect to numerical and catagorical characteristic\n",
    "Numerical_Features.append('num_actv_bc_tl')"
   ]
  },
  {
   "cell_type": "code",
   "execution_count": 50,
   "metadata": {},
   "outputs": [
    {
     "data": {
      "text/html": [
       "<div>\n",
       "<style scoped>\n",
       "    .dataframe tbody tr th:only-of-type {\n",
       "        vertical-align: middle;\n",
       "    }\n",
       "\n",
       "    .dataframe tbody tr th {\n",
       "        vertical-align: top;\n",
       "    }\n",
       "\n",
       "    .dataframe thead th {\n",
       "        text-align: right;\n",
       "    }\n",
       "</style>\n",
       "<table border=\"1\" class=\"dataframe\">\n",
       "  <thead>\n",
       "    <tr style=\"text-align: right;\">\n",
       "      <th></th>\n",
       "      <th>Variable Name</th>\n",
       "      <th>dtypes</th>\n",
       "      <th>first value</th>\n",
       "      <th>Description</th>\n",
       "    </tr>\n",
       "  </thead>\n",
       "  <tbody>\n",
       "    <tr>\n",
       "      <th>90</th>\n",
       "      <td>num_rev_tl_bal_gt_0</td>\n",
       "      <td>float64</td>\n",
       "      <td>4.0</td>\n",
       "      <td>Number of revolving trades with balance &gt;0</td>\n",
       "    </tr>\n",
       "    <tr>\n",
       "      <th>91</th>\n",
       "      <td>num_sats</td>\n",
       "      <td>float64</td>\n",
       "      <td>7.0</td>\n",
       "      <td>Number of satisfactory accounts</td>\n",
       "    </tr>\n",
       "    <tr>\n",
       "      <th>92</th>\n",
       "      <td>num_tl_120dpd_2m</td>\n",
       "      <td>float64</td>\n",
       "      <td>0.0</td>\n",
       "      <td>Number of accounts currently 120 days past due...</td>\n",
       "    </tr>\n",
       "    <tr>\n",
       "      <th>93</th>\n",
       "      <td>num_tl_30dpd</td>\n",
       "      <td>float64</td>\n",
       "      <td>0.0</td>\n",
       "      <td>Number of accounts currently 30 days past due ...</td>\n",
       "    </tr>\n",
       "    <tr>\n",
       "      <th>94</th>\n",
       "      <td>num_tl_90g_dpd_24m</td>\n",
       "      <td>float64</td>\n",
       "      <td>0.0</td>\n",
       "      <td>Number of accounts 90 or more days past due in...</td>\n",
       "    </tr>\n",
       "    <tr>\n",
       "      <th>95</th>\n",
       "      <td>num_tl_op_past_12m</td>\n",
       "      <td>float64</td>\n",
       "      <td>3.0</td>\n",
       "      <td>Number of accounts opened in past 12 months</td>\n",
       "    </tr>\n",
       "    <tr>\n",
       "      <th>96</th>\n",
       "      <td>pct_tl_nvr_dlq</td>\n",
       "      <td>float64</td>\n",
       "      <td>76.9</td>\n",
       "      <td>Percent of trades never delinquent</td>\n",
       "    </tr>\n",
       "    <tr>\n",
       "      <th>97</th>\n",
       "      <td>percent_bc_gt_75</td>\n",
       "      <td>float64</td>\n",
       "      <td>0.0</td>\n",
       "      <td>Percentage of all bankcard accounts &gt; 75% of l...</td>\n",
       "    </tr>\n",
       "    <tr>\n",
       "      <th>98</th>\n",
       "      <td>pub_rec_bankruptcies</td>\n",
       "      <td>float64</td>\n",
       "      <td>0.0</td>\n",
       "      <td>Number of public record bankruptcies</td>\n",
       "    </tr>\n",
       "    <tr>\n",
       "      <th>99</th>\n",
       "      <td>tax_liens</td>\n",
       "      <td>float64</td>\n",
       "      <td>0.0</td>\n",
       "      <td>Number of tax liens</td>\n",
       "    </tr>\n",
       "    <tr>\n",
       "      <th>100</th>\n",
       "      <td>tot_hi_cred_lim</td>\n",
       "      <td>float64</td>\n",
       "      <td>178050.0</td>\n",
       "      <td>Total high credit/credit limit</td>\n",
       "    </tr>\n",
       "    <tr>\n",
       "      <th>101</th>\n",
       "      <td>total_bal_ex_mort</td>\n",
       "      <td>float64</td>\n",
       "      <td>7746.0</td>\n",
       "      <td>Total credit balance excluding mortgage</td>\n",
       "    </tr>\n",
       "    <tr>\n",
       "      <th>102</th>\n",
       "      <td>total_bc_limit</td>\n",
       "      <td>float64</td>\n",
       "      <td>2400.0</td>\n",
       "      <td>Total bankcard high credit/credit limit</td>\n",
       "    </tr>\n",
       "    <tr>\n",
       "      <th>103</th>\n",
       "      <td>total_il_high_credit_limit</td>\n",
       "      <td>float64</td>\n",
       "      <td>13734.0</td>\n",
       "      <td>Total installment high credit/credit limit</td>\n",
       "    </tr>\n",
       "    <tr>\n",
       "      <th>104</th>\n",
       "      <td>hardship_flag</td>\n",
       "      <td>object</td>\n",
       "      <td>N</td>\n",
       "      <td>Flags whether or not the borrower is on a hard...</td>\n",
       "    </tr>\n",
       "    <tr>\n",
       "      <th>105</th>\n",
       "      <td>debt_settlement_flag</td>\n",
       "      <td>object</td>\n",
       "      <td>N</td>\n",
       "      <td>Flags whether or not the borrower, who has cha...</td>\n",
       "    </tr>\n",
       "  </tbody>\n",
       "</table>\n",
       "</div>"
      ],
      "text/plain": [
       "                  Variable Name   dtypes first value  \\\n",
       "90          num_rev_tl_bal_gt_0  float64         4.0   \n",
       "91                     num_sats  float64         7.0   \n",
       "92             num_tl_120dpd_2m  float64         0.0   \n",
       "93                 num_tl_30dpd  float64         0.0   \n",
       "94           num_tl_90g_dpd_24m  float64         0.0   \n",
       "95           num_tl_op_past_12m  float64         3.0   \n",
       "96               pct_tl_nvr_dlq  float64        76.9   \n",
       "97             percent_bc_gt_75  float64         0.0   \n",
       "98         pub_rec_bankruptcies  float64         0.0   \n",
       "99                    tax_liens  float64         0.0   \n",
       "100             tot_hi_cred_lim  float64    178050.0   \n",
       "101           total_bal_ex_mort  float64      7746.0   \n",
       "102              total_bc_limit  float64      2400.0   \n",
       "103  total_il_high_credit_limit  float64     13734.0   \n",
       "104               hardship_flag   object           N   \n",
       "105        debt_settlement_flag   object           N   \n",
       "\n",
       "                                           Description  \n",
       "90          Number of revolving trades with balance >0  \n",
       "91                     Number of satisfactory accounts  \n",
       "92   Number of accounts currently 120 days past due...  \n",
       "93   Number of accounts currently 30 days past due ...  \n",
       "94   Number of accounts 90 or more days past due in...  \n",
       "95         Number of accounts opened in past 12 months  \n",
       "96                  Percent of trades never delinquent  \n",
       "97   Percentage of all bankcard accounts > 75% of l...  \n",
       "98                Number of public record bankruptcies  \n",
       "99                                 Number of tax liens  \n",
       "100                     Total high credit/credit limit  \n",
       "101            Total credit balance excluding mortgage  \n",
       "102            Total bankcard high credit/credit limit  \n",
       "103         Total installment high credit/credit limit  \n",
       "104  Flags whether or not the borrower is on a hard...  \n",
       "105  Flags whether or not the borrower, who has cha...  "
      ]
     },
     "execution_count": 50,
     "metadata": {},
     "output_type": "execute_result"
    }
   ],
   "source": [
    "#print number of column with different set attributes \n",
    "LC_Variables_Explained[90:108]"
   ]
  },
  {
   "cell_type": "code",
   "execution_count": 51,
   "metadata": {},
   "outputs": [],
   "source": [
    "#drop unrequired columns\n",
    "LC_Data_Updated.drop(columns = ['num_rev_tl_bal_gt_0','num_sats','num_tl_op_past_12m','pct_tl_nvr_dlq','percent_bc_gt_75','tot_hi_cred_lim','total_bal_ex_mort','total_bc_limit','total_il_high_credit_limit','hardship_flag','debt_settlement_flag'], inplace = True)"
   ]
  },
  {
   "cell_type": "code",
   "execution_count": 52,
   "metadata": {},
   "outputs": [],
   "source": [
    "#add variable respect to numerical and catagorical characteristic \n",
    "Numerical_Features.append('num_tl_30dpd')\n",
    "Numerical_Features.append('num_tl_90g_dpd_24m')\n",
    "Numerical_Features.append('tax_liens')\n",
    "Numerical_Features.append('num_tl_120dpd_2m')\n",
    "Numerical_Features.append('pub_rec_bankruptcies')"
   ]
  },
  {
   "cell_type": "code",
   "execution_count": 53,
   "metadata": {},
   "outputs": [
    {
     "name": "stdout",
     "output_type": "stream",
     "text": [
      "(1429946, 35)\n"
     ]
    }
   ],
   "source": [
    "#print data shape after chosing variable related to our analysis\n",
    "print(LC_Data_Updated.shape)"
   ]
  },
  {
   "cell_type": "code",
   "execution_count": 54,
   "metadata": {},
   "outputs": [
    {
     "data": {
      "text/plain": [
       "loan_amnt                       33\n",
       "term                            33\n",
       "int_rate                        33\n",
       "installment                     33\n",
       "grade                           33\n",
       "emp_length                   86300\n",
       "home_ownership                  33\n",
       "annual_inc                      33\n",
       "issue_d                         33\n",
       "purpose                         33\n",
       "dti                            577\n",
       "delinq_2yrs                     33\n",
       "inq_last_6mths                  34\n",
       "open_acc                        33\n",
       "revol_bal                       33\n",
       "revol_util                    1015\n",
       "total_acc                       33\n",
       "out_prncp                       33\n",
       "total_pymnt                     33\n",
       "recoveries                      33\n",
       "acc_now_delinq                  33\n",
       "tot_coll_amt                 67560\n",
       "chargeoff_within_12_mths        89\n",
       "delinq_amnt                     33\n",
       "mort_acc                     47314\n",
       "mths_since_recent_bc         61461\n",
       "mths_since_recent_inq       181169\n",
       "num_accts_ever_120_pd        67560\n",
       "num_actv_bc_tl               67560\n",
       "num_tl_120dpd_2m            120661\n",
       "num_tl_30dpd                 67560\n",
       "num_tl_90g_dpd_24m           67560\n",
       "pub_rec_bankruptcies           730\n",
       "tax_liens                       72\n",
       "Credit_Score                     0\n",
       "dtype: int64"
      ]
     },
     "execution_count": 54,
     "metadata": {},
     "output_type": "execute_result"
    }
   ],
   "source": [
    "#print null values\n",
    "LC_Data_Updated.isna().sum()"
   ]
  },
  {
   "cell_type": "code",
   "execution_count": 55,
   "metadata": {},
   "outputs": [],
   "source": [
    "#drop null rows for columns with the maximum number of null values first\n",
    "LC_Data_Updated.dropna(subset=['mths_since_recent_inq','num_tl_120dpd_2m'],inplace=True)"
   ]
  },
  {
   "cell_type": "code",
   "execution_count": 56,
   "metadata": {},
   "outputs": [
    {
     "data": {
      "text/plain": [
       "loan_amnt                       0\n",
       "term                            0\n",
       "int_rate                        0\n",
       "installment                     0\n",
       "grade                           0\n",
       "emp_length                  71019\n",
       "home_ownership                  0\n",
       "annual_inc                      0\n",
       "issue_d                         0\n",
       "purpose                         0\n",
       "dti                           456\n",
       "delinq_2yrs                     0\n",
       "inq_last_6mths                  1\n",
       "open_acc                        0\n",
       "revol_bal                       0\n",
       "revol_util                    695\n",
       "total_acc                       0\n",
       "out_prncp                       0\n",
       "total_pymnt                     0\n",
       "recoveries                      0\n",
       "acc_now_delinq                  0\n",
       "tot_coll_amt                    0\n",
       "chargeoff_within_12_mths        0\n",
       "delinq_amnt                     0\n",
       "mort_acc                        0\n",
       "mths_since_recent_bc        11919\n",
       "mths_since_recent_inq           0\n",
       "num_accts_ever_120_pd           0\n",
       "num_actv_bc_tl                  0\n",
       "num_tl_120dpd_2m                0\n",
       "num_tl_30dpd                    0\n",
       "num_tl_90g_dpd_24m              0\n",
       "pub_rec_bankruptcies            0\n",
       "tax_liens                       0\n",
       "Credit_Score                    0\n",
       "dtype: int64"
      ]
     },
     "execution_count": 56,
     "metadata": {},
     "output_type": "execute_result"
    }
   ],
   "source": [
    "LC_Data_Updated.isna().sum()"
   ]
  },
  {
   "cell_type": "code",
   "execution_count": 57,
   "metadata": {},
   "outputs": [],
   "source": [
    "#drop null rows\n",
    "LC_Data_Updated.dropna(subset=['emp_length'],inplace=True)"
   ]
  },
  {
   "cell_type": "code",
   "execution_count": 58,
   "metadata": {},
   "outputs": [
    {
     "data": {
      "text/plain": [
       "loan_amnt                       0\n",
       "term                            0\n",
       "int_rate                        0\n",
       "installment                     0\n",
       "grade                           0\n",
       "emp_length                      0\n",
       "home_ownership                  0\n",
       "annual_inc                      0\n",
       "issue_d                         0\n",
       "purpose                         0\n",
       "dti                            29\n",
       "delinq_2yrs                     0\n",
       "inq_last_6mths                  1\n",
       "open_acc                        0\n",
       "revol_bal                       0\n",
       "revol_util                    656\n",
       "total_acc                       0\n",
       "out_prncp                       0\n",
       "total_pymnt                     0\n",
       "recoveries                      0\n",
       "acc_now_delinq                  0\n",
       "tot_coll_amt                    0\n",
       "chargeoff_within_12_mths        0\n",
       "delinq_amnt                     0\n",
       "mort_acc                        0\n",
       "mths_since_recent_bc        10829\n",
       "mths_since_recent_inq           0\n",
       "num_accts_ever_120_pd           0\n",
       "num_actv_bc_tl                  0\n",
       "num_tl_120dpd_2m                0\n",
       "num_tl_30dpd                    0\n",
       "num_tl_90g_dpd_24m              0\n",
       "pub_rec_bankruptcies            0\n",
       "tax_liens                       0\n",
       "Credit_Score                    0\n",
       "dtype: int64"
      ]
     },
     "execution_count": 58,
     "metadata": {},
     "output_type": "execute_result"
    }
   ],
   "source": [
    "LC_Data_Updated.isna().sum()"
   ]
  },
  {
   "cell_type": "code",
   "execution_count": 59,
   "metadata": {},
   "outputs": [],
   "source": [
    "#drop null rows\n",
    "LC_Data_Updated.dropna(subset=['mths_since_recent_bc'],inplace=True)"
   ]
  },
  {
   "cell_type": "code",
   "execution_count": 60,
   "metadata": {},
   "outputs": [
    {
     "data": {
      "text/plain": [
       "loan_amnt                     0\n",
       "term                          0\n",
       "int_rate                      0\n",
       "installment                   0\n",
       "grade                         0\n",
       "emp_length                    0\n",
       "home_ownership                0\n",
       "annual_inc                    0\n",
       "issue_d                       0\n",
       "purpose                       0\n",
       "dti                          28\n",
       "delinq_2yrs                   0\n",
       "inq_last_6mths                1\n",
       "open_acc                      0\n",
       "revol_bal                     0\n",
       "revol_util                  147\n",
       "total_acc                     0\n",
       "out_prncp                     0\n",
       "total_pymnt                   0\n",
       "recoveries                    0\n",
       "acc_now_delinq                0\n",
       "tot_coll_amt                  0\n",
       "chargeoff_within_12_mths      0\n",
       "delinq_amnt                   0\n",
       "mort_acc                      0\n",
       "mths_since_recent_bc          0\n",
       "mths_since_recent_inq         0\n",
       "num_accts_ever_120_pd         0\n",
       "num_actv_bc_tl                0\n",
       "num_tl_120dpd_2m              0\n",
       "num_tl_30dpd                  0\n",
       "num_tl_90g_dpd_24m            0\n",
       "pub_rec_bankruptcies          0\n",
       "tax_liens                     0\n",
       "Credit_Score                  0\n",
       "dtype: int64"
      ]
     },
     "execution_count": 60,
     "metadata": {},
     "output_type": "execute_result"
    }
   ],
   "source": [
    "LC_Data_Updated.isna().sum()"
   ]
  },
  {
   "cell_type": "code",
   "execution_count": 61,
   "metadata": {},
   "outputs": [],
   "source": [
    "#drop null rows\n",
    "LC_Data_Updated.dropna(subset=['revol_util','dti','inq_last_6mths'],inplace=True)"
   ]
  },
  {
   "cell_type": "code",
   "execution_count": 62,
   "metadata": {},
   "outputs": [
    {
     "data": {
      "text/plain": [
       "loan_amnt                   0\n",
       "term                        0\n",
       "int_rate                    0\n",
       "installment                 0\n",
       "grade                       0\n",
       "emp_length                  0\n",
       "home_ownership              0\n",
       "annual_inc                  0\n",
       "issue_d                     0\n",
       "purpose                     0\n",
       "dti                         0\n",
       "delinq_2yrs                 0\n",
       "inq_last_6mths              0\n",
       "open_acc                    0\n",
       "revol_bal                   0\n",
       "revol_util                  0\n",
       "total_acc                   0\n",
       "out_prncp                   0\n",
       "total_pymnt                 0\n",
       "recoveries                  0\n",
       "acc_now_delinq              0\n",
       "tot_coll_amt                0\n",
       "chargeoff_within_12_mths    0\n",
       "delinq_amnt                 0\n",
       "mort_acc                    0\n",
       "mths_since_recent_bc        0\n",
       "mths_since_recent_inq       0\n",
       "num_accts_ever_120_pd       0\n",
       "num_actv_bc_tl              0\n",
       "num_tl_120dpd_2m            0\n",
       "num_tl_30dpd                0\n",
       "num_tl_90g_dpd_24m          0\n",
       "pub_rec_bankruptcies        0\n",
       "tax_liens                   0\n",
       "Credit_Score                0\n",
       "dtype: int64"
      ]
     },
     "execution_count": 62,
     "metadata": {},
     "output_type": "execute_result"
    }
   ],
   "source": [
    "LC_Data_Updated.isna().sum()"
   ]
  },
  {
   "cell_type": "code",
   "execution_count": 63,
   "metadata": {},
   "outputs": [
    {
     "name": "stdout",
     "output_type": "stream",
     "text": [
      "(1097024, 35)\n"
     ]
    }
   ],
   "source": [
    "print(LC_Data_Updated.shape)"
   ]
  },
  {
   "cell_type": "code",
   "execution_count": 64,
   "metadata": {},
   "outputs": [],
   "source": [
    "#reset dataset\n",
    "LC_Data_Updated.reset_index(inplace=True)"
   ]
  },
  {
   "cell_type": "code",
   "execution_count": 65,
   "metadata": {},
   "outputs": [],
   "source": [
    "LC_Data_Updated = LC_Data_Updated.loc[:,LC_Data_Updated.apply(pd.Series.nunique) != 1]\n",
    "#Columns with one unique value"
   ]
  },
  {
   "cell_type": "code",
   "execution_count": 66,
   "metadata": {},
   "outputs": [
    {
     "name": "stdout",
     "output_type": "stream",
     "text": [
      " 36 months    814304\n",
      " 60 months    282720\n",
      "Name: term, dtype: int64\n",
      "\n",
      "C    319023\n",
      "B    313003\n",
      "A    181260\n",
      "D    171021\n",
      "E     77949\n",
      "F     26798\n",
      "G      7970\n",
      "Name: grade, dtype: int64\n",
      "\n",
      "MORTGAGE    558799\n",
      "RENT        423967\n",
      "OWN         113580\n",
      "ANY            608\n",
      "OTHER           37\n",
      "NONE            33\n",
      "Name: home_ownership, dtype: int64\n",
      "\n",
      "0.0    595167\n",
      "1.0    330110\n",
      "2.0    116226\n",
      "3.0     40839\n",
      "4.0     10537\n",
      "5.0      3482\n",
      "6.0       659\n",
      "7.0         3\n",
      "8.0         1\n",
      "Name: inq_last_6mths, dtype: int64\n",
      "\n",
      "0.0     1091711\n",
      "1.0        5009\n",
      "2.0         252\n",
      "3.0          39\n",
      "4.0           8\n",
      "5.0           3\n",
      "14.0          1\n",
      "6.0           1\n",
      "Name: acc_now_delinq, dtype: int64\n",
      "\n",
      "0.0    1096219\n",
      "1.0        768\n",
      "2.0         31\n",
      "3.0          4\n",
      "4.0          1\n",
      "6.0          1\n",
      "Name: num_tl_120dpd_2m, dtype: int64\n",
      "\n",
      "0.0    1093553\n",
      "1.0       3289\n",
      "2.0        152\n",
      "3.0         24\n",
      "4.0          6\n",
      "Name: num_tl_30dpd, dtype: int64\n",
      "\n",
      "1    852301\n",
      "0    244723\n",
      "Name: Credit_Score, dtype: int64\n",
      "\n"
     ]
    }
   ],
   "source": [
    "for col in LC_Data_Updated.columns:\n",
    "    if (len(LC_Data_Updated[col].unique()) < 10):\n",
    "        print(LC_Data_Updated[col].value_counts())\n",
    "        print()\n",
    "#Use to check whether any variable has binary rows and if one of the rows has less than 10% we drop that column"
   ]
  },
  {
   "cell_type": "code",
   "execution_count": 67,
   "metadata": {},
   "outputs": [
    {
     "data": {
      "text/html": [
       "<div>\n",
       "<style scoped>\n",
       "    .dataframe tbody tr th:only-of-type {\n",
       "        vertical-align: middle;\n",
       "    }\n",
       "\n",
       "    .dataframe tbody tr th {\n",
       "        vertical-align: top;\n",
       "    }\n",
       "\n",
       "    .dataframe thead th {\n",
       "        text-align: right;\n",
       "    }\n",
       "</style>\n",
       "<table border=\"1\" class=\"dataframe\">\n",
       "  <thead>\n",
       "    <tr style=\"text-align: right;\">\n",
       "      <th></th>\n",
       "      <th>term</th>\n",
       "      <th>grade</th>\n",
       "      <th>home_ownership</th>\n",
       "      <th>purpose</th>\n",
       "    </tr>\n",
       "  </thead>\n",
       "  <tbody>\n",
       "    <tr>\n",
       "      <th>0</th>\n",
       "      <td>36 months</td>\n",
       "      <td>C</td>\n",
       "      <td>MORTGAGE</td>\n",
       "      <td>debt_consolidation</td>\n",
       "    </tr>\n",
       "    <tr>\n",
       "      <th>1</th>\n",
       "      <td>36 months</td>\n",
       "      <td>C</td>\n",
       "      <td>MORTGAGE</td>\n",
       "      <td>small_business</td>\n",
       "    </tr>\n",
       "    <tr>\n",
       "      <th>2</th>\n",
       "      <td>60 months</td>\n",
       "      <td>B</td>\n",
       "      <td>MORTGAGE</td>\n",
       "      <td>home_improvement</td>\n",
       "    </tr>\n",
       "    <tr>\n",
       "      <th>3</th>\n",
       "      <td>60 months</td>\n",
       "      <td>F</td>\n",
       "      <td>MORTGAGE</td>\n",
       "      <td>major_purchase</td>\n",
       "    </tr>\n",
       "    <tr>\n",
       "      <th>4</th>\n",
       "      <td>36 months</td>\n",
       "      <td>B</td>\n",
       "      <td>MORTGAGE</td>\n",
       "      <td>debt_consolidation</td>\n",
       "    </tr>\n",
       "  </tbody>\n",
       "</table>\n",
       "</div>"
      ],
      "text/plain": [
       "         term grade home_ownership             purpose\n",
       "0   36 months     C       MORTGAGE  debt_consolidation\n",
       "1   36 months     C       MORTGAGE      small_business\n",
       "2   60 months     B       MORTGAGE    home_improvement\n",
       "3   60 months     F       MORTGAGE      major_purchase\n",
       "4   36 months     B       MORTGAGE  debt_consolidation"
      ]
     },
     "execution_count": 67,
     "metadata": {},
     "output_type": "execute_result"
    }
   ],
   "source": [
    "#Data Frame for Categorical Data\n",
    "#-----------------------------------------------------------------------------------------------------------------------------\n",
    "Categorical_Data=pd.DataFrame()\n",
    "for col in Categorical_Features:\n",
    "    Categorical_Data=pd.concat([ Categorical_Data, LC_Data_Updated[col]], axis= 1)\n",
    "\n",
    "Categorical_Data.head()"
   ]
  },
  {
   "cell_type": "code",
   "execution_count": 68,
   "metadata": {},
   "outputs": [
    {
     "data": {
      "text/html": [
       "<div>\n",
       "<style scoped>\n",
       "    .dataframe tbody tr th:only-of-type {\n",
       "        vertical-align: middle;\n",
       "    }\n",
       "\n",
       "    .dataframe tbody tr th {\n",
       "        vertical-align: top;\n",
       "    }\n",
       "\n",
       "    .dataframe thead th {\n",
       "        text-align: right;\n",
       "    }\n",
       "</style>\n",
       "<table border=\"1\" class=\"dataframe\">\n",
       "  <thead>\n",
       "    <tr style=\"text-align: right;\">\n",
       "      <th></th>\n",
       "      <th>loan_amnt</th>\n",
       "      <th>int_rate</th>\n",
       "      <th>installment</th>\n",
       "      <th>emp_length</th>\n",
       "      <th>annual_inc</th>\n",
       "      <th>dti</th>\n",
       "      <th>delinq_2yrs</th>\n",
       "      <th>inq_last_6mths</th>\n",
       "      <th>open_acc</th>\n",
       "      <th>revol_bal</th>\n",
       "      <th>...</th>\n",
       "      <th>num_accts_ever_120_pd</th>\n",
       "      <th>mort_acc</th>\n",
       "      <th>mths_since_recent_inq</th>\n",
       "      <th>mths_since_recent_bc</th>\n",
       "      <th>num_actv_bc_tl</th>\n",
       "      <th>num_tl_30dpd</th>\n",
       "      <th>num_tl_90g_dpd_24m</th>\n",
       "      <th>tax_liens</th>\n",
       "      <th>num_tl_120dpd_2m</th>\n",
       "      <th>pub_rec_bankruptcies</th>\n",
       "    </tr>\n",
       "  </thead>\n",
       "  <tbody>\n",
       "    <tr>\n",
       "      <th>0</th>\n",
       "      <td>3600.0</td>\n",
       "      <td>13.99</td>\n",
       "      <td>123.03</td>\n",
       "      <td>10+ years</td>\n",
       "      <td>55000.0</td>\n",
       "      <td>5.91</td>\n",
       "      <td>0.0</td>\n",
       "      <td>1.0</td>\n",
       "      <td>7.0</td>\n",
       "      <td>2765.0</td>\n",
       "      <td>...</td>\n",
       "      <td>2.0</td>\n",
       "      <td>1.0</td>\n",
       "      <td>4.0</td>\n",
       "      <td>4.0</td>\n",
       "      <td>2.0</td>\n",
       "      <td>0.0</td>\n",
       "      <td>0.0</td>\n",
       "      <td>0.0</td>\n",
       "      <td>0.0</td>\n",
       "      <td>0.0</td>\n",
       "    </tr>\n",
       "    <tr>\n",
       "      <th>1</th>\n",
       "      <td>24700.0</td>\n",
       "      <td>11.99</td>\n",
       "      <td>820.28</td>\n",
       "      <td>10+ years</td>\n",
       "      <td>65000.0</td>\n",
       "      <td>16.06</td>\n",
       "      <td>1.0</td>\n",
       "      <td>4.0</td>\n",
       "      <td>22.0</td>\n",
       "      <td>21470.0</td>\n",
       "      <td>...</td>\n",
       "      <td>0.0</td>\n",
       "      <td>4.0</td>\n",
       "      <td>0.0</td>\n",
       "      <td>2.0</td>\n",
       "      <td>5.0</td>\n",
       "      <td>0.0</td>\n",
       "      <td>0.0</td>\n",
       "      <td>0.0</td>\n",
       "      <td>0.0</td>\n",
       "      <td>0.0</td>\n",
       "    </tr>\n",
       "    <tr>\n",
       "      <th>2</th>\n",
       "      <td>20000.0</td>\n",
       "      <td>10.78</td>\n",
       "      <td>432.66</td>\n",
       "      <td>10+ years</td>\n",
       "      <td>63000.0</td>\n",
       "      <td>10.78</td>\n",
       "      <td>0.0</td>\n",
       "      <td>0.0</td>\n",
       "      <td>6.0</td>\n",
       "      <td>7869.0</td>\n",
       "      <td>...</td>\n",
       "      <td>0.0</td>\n",
       "      <td>5.0</td>\n",
       "      <td>10.0</td>\n",
       "      <td>101.0</td>\n",
       "      <td>2.0</td>\n",
       "      <td>0.0</td>\n",
       "      <td>0.0</td>\n",
       "      <td>0.0</td>\n",
       "      <td>0.0</td>\n",
       "      <td>0.0</td>\n",
       "    </tr>\n",
       "    <tr>\n",
       "      <th>3</th>\n",
       "      <td>10400.0</td>\n",
       "      <td>22.45</td>\n",
       "      <td>289.91</td>\n",
       "      <td>3 years</td>\n",
       "      <td>104433.0</td>\n",
       "      <td>25.37</td>\n",
       "      <td>1.0</td>\n",
       "      <td>3.0</td>\n",
       "      <td>12.0</td>\n",
       "      <td>21929.0</td>\n",
       "      <td>...</td>\n",
       "      <td>0.0</td>\n",
       "      <td>6.0</td>\n",
       "      <td>1.0</td>\n",
       "      <td>4.0</td>\n",
       "      <td>4.0</td>\n",
       "      <td>0.0</td>\n",
       "      <td>0.0</td>\n",
       "      <td>0.0</td>\n",
       "      <td>0.0</td>\n",
       "      <td>0.0</td>\n",
       "    </tr>\n",
       "    <tr>\n",
       "      <th>4</th>\n",
       "      <td>20000.0</td>\n",
       "      <td>9.17</td>\n",
       "      <td>637.58</td>\n",
       "      <td>10+ years</td>\n",
       "      <td>180000.0</td>\n",
       "      <td>14.67</td>\n",
       "      <td>0.0</td>\n",
       "      <td>0.0</td>\n",
       "      <td>12.0</td>\n",
       "      <td>87329.0</td>\n",
       "      <td>...</td>\n",
       "      <td>0.0</td>\n",
       "      <td>4.0</td>\n",
       "      <td>10.0</td>\n",
       "      <td>12.0</td>\n",
       "      <td>4.0</td>\n",
       "      <td>0.0</td>\n",
       "      <td>0.0</td>\n",
       "      <td>0.0</td>\n",
       "      <td>0.0</td>\n",
       "      <td>0.0</td>\n",
       "    </tr>\n",
       "  </tbody>\n",
       "</table>\n",
       "<p>5 rows × 29 columns</p>\n",
       "</div>"
      ],
      "text/plain": [
       "   loan_amnt int_rate  installment emp_length  annual_inc    dti  delinq_2yrs  \\\n",
       "0     3600.0    13.99       123.03  10+ years     55000.0   5.91          0.0   \n",
       "1    24700.0    11.99       820.28  10+ years     65000.0  16.06          1.0   \n",
       "2    20000.0    10.78       432.66  10+ years     63000.0  10.78          0.0   \n",
       "3    10400.0    22.45       289.91    3 years    104433.0  25.37          1.0   \n",
       "4    20000.0     9.17       637.58  10+ years    180000.0  14.67          0.0   \n",
       "\n",
       "   inq_last_6mths  open_acc  revol_bal  ... num_accts_ever_120_pd  mort_acc  \\\n",
       "0             1.0       7.0     2765.0  ...                   2.0       1.0   \n",
       "1             4.0      22.0    21470.0  ...                   0.0       4.0   \n",
       "2             0.0       6.0     7869.0  ...                   0.0       5.0   \n",
       "3             3.0      12.0    21929.0  ...                   0.0       6.0   \n",
       "4             0.0      12.0    87329.0  ...                   0.0       4.0   \n",
       "\n",
       "   mths_since_recent_inq  mths_since_recent_bc  num_actv_bc_tl  num_tl_30dpd  \\\n",
       "0                    4.0                   4.0             2.0           0.0   \n",
       "1                    0.0                   2.0             5.0           0.0   \n",
       "2                   10.0                 101.0             2.0           0.0   \n",
       "3                    1.0                   4.0             4.0           0.0   \n",
       "4                   10.0                  12.0             4.0           0.0   \n",
       "\n",
       "   num_tl_90g_dpd_24m  tax_liens  num_tl_120dpd_2m  pub_rec_bankruptcies  \n",
       "0                 0.0        0.0               0.0                   0.0  \n",
       "1                 0.0        0.0               0.0                   0.0  \n",
       "2                 0.0        0.0               0.0                   0.0  \n",
       "3                 0.0        0.0               0.0                   0.0  \n",
       "4                 0.0        0.0               0.0                   0.0  \n",
       "\n",
       "[5 rows x 29 columns]"
      ]
     },
     "execution_count": 68,
     "metadata": {},
     "output_type": "execute_result"
    }
   ],
   "source": [
    "#Data Frame for Numerical Data\n",
    "#-----------------------------------------------------------------------------------------------------------------------------\n",
    "Numerical_Data=pd.DataFrame()\n",
    "for col in Numerical_Features:\n",
    "    Numerical_Data=pd.concat([ Numerical_Data, LC_Data_Updated[col]], axis= 1)\n",
    "\n",
    "Numerical_Data.head()"
   ]
  },
  {
   "cell_type": "code",
   "execution_count": 69,
   "metadata": {},
   "outputs": [
    {
     "data": {
      "text/plain": [
       "array(['10+ years', '3 years', '6 years', '7 years', '8 years', '2 years',\n",
       "       '5 years', '9 years', '< 1 year', '4 years', '1 year'],\n",
       "      dtype=object)"
      ]
     },
     "execution_count": 69,
     "metadata": {},
     "output_type": "execute_result"
    }
   ],
   "source": [
    "Numerical_Data.emp_length.unique()"
   ]
  },
  {
   "cell_type": "code",
   "execution_count": 70,
   "metadata": {},
   "outputs": [],
   "source": [
    "#Converting emp_length from Int Values\n",
    "mapping_dict = {\n",
    "    'emp_length': {\n",
    "        '10+ years': 10,\n",
    "        '9 years': 9,\n",
    "        '8 years': 8,\n",
    "        '7 years': 7,\n",
    "        '6 years': 6,\n",
    "        '5 years': 5,\n",
    "        '4 years': 4,\n",
    "        '3 years': 3,\n",
    "        '2 years': 2,\n",
    "        '1 year': 1,\n",
    "        '< 1 year': 0,\n",
    "    }\n",
    "}\n",
    "\n",
    "Numerical_Data.replace(mapping_dict, inplace=True)"
   ]
  },
  {
   "cell_type": "code",
   "execution_count": 71,
   "metadata": {},
   "outputs": [
    {
     "data": {
      "text/html": [
       "<div>\n",
       "<style scoped>\n",
       "    .dataframe tbody tr th:only-of-type {\n",
       "        vertical-align: middle;\n",
       "    }\n",
       "\n",
       "    .dataframe tbody tr th {\n",
       "        vertical-align: top;\n",
       "    }\n",
       "\n",
       "    .dataframe thead th {\n",
       "        text-align: right;\n",
       "    }\n",
       "</style>\n",
       "<table border=\"1\" class=\"dataframe\">\n",
       "  <thead>\n",
       "    <tr style=\"text-align: right;\">\n",
       "      <th></th>\n",
       "      <th>loan_amnt</th>\n",
       "      <th>int_rate</th>\n",
       "      <th>installment</th>\n",
       "      <th>emp_length</th>\n",
       "      <th>annual_inc</th>\n",
       "      <th>dti</th>\n",
       "      <th>delinq_2yrs</th>\n",
       "      <th>inq_last_6mths</th>\n",
       "      <th>open_acc</th>\n",
       "      <th>revol_bal</th>\n",
       "      <th>...</th>\n",
       "      <th>num_accts_ever_120_pd</th>\n",
       "      <th>mort_acc</th>\n",
       "      <th>mths_since_recent_inq</th>\n",
       "      <th>mths_since_recent_bc</th>\n",
       "      <th>num_actv_bc_tl</th>\n",
       "      <th>num_tl_30dpd</th>\n",
       "      <th>num_tl_90g_dpd_24m</th>\n",
       "      <th>tax_liens</th>\n",
       "      <th>num_tl_120dpd_2m</th>\n",
       "      <th>pub_rec_bankruptcies</th>\n",
       "    </tr>\n",
       "  </thead>\n",
       "  <tbody>\n",
       "    <tr>\n",
       "      <th>0</th>\n",
       "      <td>3600.0</td>\n",
       "      <td>13.99</td>\n",
       "      <td>123.03</td>\n",
       "      <td>10</td>\n",
       "      <td>55000.0</td>\n",
       "      <td>5.91</td>\n",
       "      <td>0.0</td>\n",
       "      <td>1.0</td>\n",
       "      <td>7.0</td>\n",
       "      <td>2765.0</td>\n",
       "      <td>...</td>\n",
       "      <td>2.0</td>\n",
       "      <td>1.0</td>\n",
       "      <td>4.0</td>\n",
       "      <td>4.0</td>\n",
       "      <td>2.0</td>\n",
       "      <td>0.0</td>\n",
       "      <td>0.0</td>\n",
       "      <td>0.0</td>\n",
       "      <td>0.0</td>\n",
       "      <td>0.0</td>\n",
       "    </tr>\n",
       "    <tr>\n",
       "      <th>1</th>\n",
       "      <td>24700.0</td>\n",
       "      <td>11.99</td>\n",
       "      <td>820.28</td>\n",
       "      <td>10</td>\n",
       "      <td>65000.0</td>\n",
       "      <td>16.06</td>\n",
       "      <td>1.0</td>\n",
       "      <td>4.0</td>\n",
       "      <td>22.0</td>\n",
       "      <td>21470.0</td>\n",
       "      <td>...</td>\n",
       "      <td>0.0</td>\n",
       "      <td>4.0</td>\n",
       "      <td>0.0</td>\n",
       "      <td>2.0</td>\n",
       "      <td>5.0</td>\n",
       "      <td>0.0</td>\n",
       "      <td>0.0</td>\n",
       "      <td>0.0</td>\n",
       "      <td>0.0</td>\n",
       "      <td>0.0</td>\n",
       "    </tr>\n",
       "    <tr>\n",
       "      <th>2</th>\n",
       "      <td>20000.0</td>\n",
       "      <td>10.78</td>\n",
       "      <td>432.66</td>\n",
       "      <td>10</td>\n",
       "      <td>63000.0</td>\n",
       "      <td>10.78</td>\n",
       "      <td>0.0</td>\n",
       "      <td>0.0</td>\n",
       "      <td>6.0</td>\n",
       "      <td>7869.0</td>\n",
       "      <td>...</td>\n",
       "      <td>0.0</td>\n",
       "      <td>5.0</td>\n",
       "      <td>10.0</td>\n",
       "      <td>101.0</td>\n",
       "      <td>2.0</td>\n",
       "      <td>0.0</td>\n",
       "      <td>0.0</td>\n",
       "      <td>0.0</td>\n",
       "      <td>0.0</td>\n",
       "      <td>0.0</td>\n",
       "    </tr>\n",
       "    <tr>\n",
       "      <th>3</th>\n",
       "      <td>10400.0</td>\n",
       "      <td>22.45</td>\n",
       "      <td>289.91</td>\n",
       "      <td>3</td>\n",
       "      <td>104433.0</td>\n",
       "      <td>25.37</td>\n",
       "      <td>1.0</td>\n",
       "      <td>3.0</td>\n",
       "      <td>12.0</td>\n",
       "      <td>21929.0</td>\n",
       "      <td>...</td>\n",
       "      <td>0.0</td>\n",
       "      <td>6.0</td>\n",
       "      <td>1.0</td>\n",
       "      <td>4.0</td>\n",
       "      <td>4.0</td>\n",
       "      <td>0.0</td>\n",
       "      <td>0.0</td>\n",
       "      <td>0.0</td>\n",
       "      <td>0.0</td>\n",
       "      <td>0.0</td>\n",
       "    </tr>\n",
       "    <tr>\n",
       "      <th>4</th>\n",
       "      <td>20000.0</td>\n",
       "      <td>9.17</td>\n",
       "      <td>637.58</td>\n",
       "      <td>10</td>\n",
       "      <td>180000.0</td>\n",
       "      <td>14.67</td>\n",
       "      <td>0.0</td>\n",
       "      <td>0.0</td>\n",
       "      <td>12.0</td>\n",
       "      <td>87329.0</td>\n",
       "      <td>...</td>\n",
       "      <td>0.0</td>\n",
       "      <td>4.0</td>\n",
       "      <td>10.0</td>\n",
       "      <td>12.0</td>\n",
       "      <td>4.0</td>\n",
       "      <td>0.0</td>\n",
       "      <td>0.0</td>\n",
       "      <td>0.0</td>\n",
       "      <td>0.0</td>\n",
       "      <td>0.0</td>\n",
       "    </tr>\n",
       "  </tbody>\n",
       "</table>\n",
       "<p>5 rows × 29 columns</p>\n",
       "</div>"
      ],
      "text/plain": [
       "   loan_amnt int_rate  installment  emp_length  annual_inc    dti  \\\n",
       "0     3600.0    13.99       123.03          10     55000.0   5.91   \n",
       "1    24700.0    11.99       820.28          10     65000.0  16.06   \n",
       "2    20000.0    10.78       432.66          10     63000.0  10.78   \n",
       "3    10400.0    22.45       289.91           3    104433.0  25.37   \n",
       "4    20000.0     9.17       637.58          10    180000.0  14.67   \n",
       "\n",
       "   delinq_2yrs  inq_last_6mths  open_acc  revol_bal  ...  \\\n",
       "0          0.0             1.0       7.0     2765.0  ...   \n",
       "1          1.0             4.0      22.0    21470.0  ...   \n",
       "2          0.0             0.0       6.0     7869.0  ...   \n",
       "3          1.0             3.0      12.0    21929.0  ...   \n",
       "4          0.0             0.0      12.0    87329.0  ...   \n",
       "\n",
       "  num_accts_ever_120_pd  mort_acc  mths_since_recent_inq  \\\n",
       "0                   2.0       1.0                    4.0   \n",
       "1                   0.0       4.0                    0.0   \n",
       "2                   0.0       5.0                   10.0   \n",
       "3                   0.0       6.0                    1.0   \n",
       "4                   0.0       4.0                   10.0   \n",
       "\n",
       "   mths_since_recent_bc  num_actv_bc_tl  num_tl_30dpd  num_tl_90g_dpd_24m  \\\n",
       "0                   4.0             2.0           0.0                 0.0   \n",
       "1                   2.0             5.0           0.0                 0.0   \n",
       "2                 101.0             2.0           0.0                 0.0   \n",
       "3                   4.0             4.0           0.0                 0.0   \n",
       "4                  12.0             4.0           0.0                 0.0   \n",
       "\n",
       "   tax_liens  num_tl_120dpd_2m  pub_rec_bankruptcies  \n",
       "0        0.0               0.0                   0.0  \n",
       "1        0.0               0.0                   0.0  \n",
       "2        0.0               0.0                   0.0  \n",
       "3        0.0               0.0                   0.0  \n",
       "4        0.0               0.0                   0.0  \n",
       "\n",
       "[5 rows x 29 columns]"
      ]
     },
     "execution_count": 71,
     "metadata": {},
     "output_type": "execute_result"
    }
   ],
   "source": [
    "Numerical_Data.head()"
   ]
  },
  {
   "cell_type": "code",
   "execution_count": 72,
   "metadata": {},
   "outputs": [
    {
     "name": "stdout",
     "output_type": "stream",
     "text": [
      "<class 'pandas.core.frame.DataFrame'>\n",
      "Index: 1097024 entries, 0 to 1097023\n",
      "Data columns (total 29 columns):\n",
      " #   Column                    Non-Null Count    Dtype  \n",
      "---  ------                    --------------    -----  \n",
      " 0   loan_amnt                 1097024 non-null  float64\n",
      " 1   int_rate                  1097024 non-null  object \n",
      " 2   installment               1097024 non-null  float64\n",
      " 3   emp_length                1097024 non-null  int64  \n",
      " 4   annual_inc                1097024 non-null  float64\n",
      " 5   dti                       1097024 non-null  float64\n",
      " 6   delinq_2yrs               1097024 non-null  float64\n",
      " 7   inq_last_6mths            1097024 non-null  float64\n",
      " 8   open_acc                  1097024 non-null  float64\n",
      " 9   revol_bal                 1097024 non-null  float64\n",
      " 10  revol_util                1097024 non-null  object \n",
      " 11  total_acc                 1097024 non-null  float64\n",
      " 12  out_prncp                 1097024 non-null  float64\n",
      " 13  total_pymnt               1097024 non-null  float64\n",
      " 14  recoveries                1097024 non-null  float64\n",
      " 15  acc_now_delinq            1097024 non-null  float64\n",
      " 16  tot_coll_amt              1097024 non-null  float64\n",
      " 17  delinq_amnt               1097024 non-null  float64\n",
      " 18  chargeoff_within_12_mths  1097024 non-null  float64\n",
      " 19  num_accts_ever_120_pd     1097024 non-null  float64\n",
      " 20  mort_acc                  1097024 non-null  float64\n",
      " 21  mths_since_recent_inq     1097024 non-null  float64\n",
      " 22  mths_since_recent_bc      1097024 non-null  float64\n",
      " 23  num_actv_bc_tl            1097024 non-null  float64\n",
      " 24  num_tl_30dpd              1097024 non-null  float64\n",
      " 25  num_tl_90g_dpd_24m        1097024 non-null  float64\n",
      " 26  tax_liens                 1097024 non-null  float64\n",
      " 27  num_tl_120dpd_2m          1097024 non-null  float64\n",
      " 28  pub_rec_bankruptcies      1097024 non-null  float64\n",
      "dtypes: float64(26), int64(1), object(2)\n",
      "memory usage: 251.1+ MB\n"
     ]
    }
   ],
   "source": [
    "#print numerical data info\n",
    "Numerical_Data.info()"
   ]
  },
  {
   "cell_type": "code",
   "execution_count": 73,
   "metadata": {},
   "outputs": [
    {
     "data": {
      "text/plain": [
       "['loan_amnt',\n",
       " 'int_rate',\n",
       " 'installment',\n",
       " 'emp_length',\n",
       " 'annual_inc',\n",
       " 'dti',\n",
       " 'delinq_2yrs',\n",
       " 'inq_last_6mths',\n",
       " 'open_acc',\n",
       " 'revol_bal',\n",
       " 'revol_util',\n",
       " 'total_acc',\n",
       " 'out_prncp',\n",
       " 'total_pymnt',\n",
       " 'recoveries',\n",
       " 'acc_now_delinq',\n",
       " 'tot_coll_amt',\n",
       " 'delinq_amnt',\n",
       " 'chargeoff_within_12_mths',\n",
       " 'num_accts_ever_120_pd',\n",
       " 'mort_acc',\n",
       " 'mths_since_recent_inq',\n",
       " 'mths_since_recent_bc',\n",
       " 'num_actv_bc_tl',\n",
       " 'num_tl_30dpd',\n",
       " 'num_tl_90g_dpd_24m',\n",
       " 'tax_liens',\n",
       " 'num_tl_120dpd_2m',\n",
       " 'pub_rec_bankruptcies']"
      ]
     },
     "execution_count": 73,
     "metadata": {},
     "output_type": "execute_result"
    }
   ],
   "source": [
    "#print numerical data column\n",
    "Numerical_Data.columns.tolist()"
   ]
  },
  {
   "cell_type": "code",
   "execution_count": 74,
   "metadata": {},
   "outputs": [
    {
     "data": {
      "text/plain": [
       "array(['13.99', '11.99', '10.78', '22.45', '9.17', '8.49', '6.49',\n",
       "       '11.48', '12.88', '19.48', '7.49', '14.85', '13.44', '5.32',\n",
       "       '17.97', '24.24', '15.77', '9.8', '17.27', '18.49', '7.91',\n",
       "       '23.13', '19.89', '20.5', '16.59', '26.06', '21.48', '6.99',\n",
       "       '27.49', '26.99', '18.99', '27.99', '28.49', '6.0', '25.09',\n",
       "       '28.99', '7.89', '13.67', '10.64', '7.26', '14.48', '16.55',\n",
       "       '17.86', '13.18', '6.24', '8.38', '15.41', '21.99', '9.76',\n",
       "       '16.99', '25.99', '12.59', '17.57', '18.2', '22.99', '6.89',\n",
       "       '11.22', '19.99', '27.31', '20.99', '27.88', '23.99', '24.99',\n",
       "       '26.77', '12.05', '8.18', '9.99', '10.99', '14.33', '11.49',\n",
       "       '16.9', '18.55', '14.65', '13.33', '12.69', '11.53', '18.25',\n",
       "       '19.19', '12.29', '15.61', '25.78', '19.52', '24.5', '5.93',\n",
       "       '6.39', '6.92', '20.49', '21.67', '25.8', '18.84', '6.68', '25.57',\n",
       "       '25.83', '25.89', '8.67', '14.99', '17.14', '8.19', '11.44',\n",
       "       '12.39', '15.59', '9.49', '13.66', '14.31', '12.99', '16.49',\n",
       "       '10.49', '15.99', '6.03', '19.24', '18.54', '7.34', '11.98',\n",
       "       '21.85', '20.39', '9.43', '5.31', '6.07', '14.07', '18.45',\n",
       "       '15.04', '10.9', '17.47', '16.01', '7.96', '30.65', '13.58',\n",
       "       '19.42', '24.84', '10.41', '12.61', '9.92', '25.81', '6.71',\n",
       "       '23.87', '30.17', '22.9', '28.72', '30.75', '30.79', '29.69',\n",
       "       '20.0', '23.88', '6.72', '10.91', '14.08', '15.05', '7.97',\n",
       "       '21.45', '17.09', '25.82', '12.62', '7.35', '18.06', '9.44',\n",
       "       '9.93', '10.42', '26.3', '6.08', '13.59', '19.03', '16.02',\n",
       "       '24.85', '22.91', '7.21', '30.89', '7.07', '30.94', '30.99',\n",
       "       '30.84', '13.49', '14.49', '12.79', '24.49', '22.39', '17.99',\n",
       "       '16.29', '8.59', '11.47', '25.29', '7.99', '28.18', '21.49',\n",
       "       '26.49', '25.69', '8.99', '27.79', '7.59', '29.96', '15.31',\n",
       "       '7.39', '28.88', '9.75', '29.67', '9.16', '10.75', '6.97', '8.39',\n",
       "       '25.65', '14.46', '25.11', '22.35', '26.14', '23.32', '25.44',\n",
       "       '27.34', '24.11', '21.97', '21.18', '19.53', '25.88', '26.57',\n",
       "       '20.75', '28.67', '28.34', '28.14', '13.56', '8.46', '12.73',\n",
       "       '6.67', '16.14', '18.94', '15.02', '20.89', '10.08', '11.55',\n",
       "       '16.91', '6.11', '27.27', '14.47', '23.4', '7.84', '19.92',\n",
       "       '11.06', '10.47', '25.34', '24.37', '26.31', '10.07', '12.13',\n",
       "       '9.58', '15.49', '7.46', '13.06', '8.08', '16.46', '11.05',\n",
       "       '10.56', '6.83', '14.03', '6.19', '14.52', '11.39', '12.74',\n",
       "       '8.24', '26.24', '7.24', '29.49', '22.74', '28.69', '29.99',\n",
       "       '30.49', '25.49', '24.74', '30.74', '15.29', '11.16', '13.19',\n",
       "       '14.77', '7.69', '13.98', '11.67', '12.49', '23.43', '10.15',\n",
       "       '13.35', '22.15', '18.24', '20.2', '7.12', '24.08', '13.65',\n",
       "       '14.64', '9.67', '8.9', '14.16', '18.92', '6.62', '7.9', '7.62',\n",
       "       '19.47', '12.85', '19.97', '19.22', '16.24', '13.53', '23.7',\n",
       "       '14.98', '22.4', '19.2', '7.56', '11.31', '11.8', '7.02', '12.98',\n",
       "       '10.33', '10.72', '8.81', '6.46', '17.76', '21.7', '15.1', '16.2',\n",
       "       '17.1', '23.1', '14.3', '21.0', '8.6', '9.25', '13.68', '15.22',\n",
       "       '17.56', '15.88', '21.6', '22.2', '22.7', '9.71', '16.78', '18.85',\n",
       "       '13.05', '23.5', '12.35', '24.89', '21.15', '20.8', '20.31',\n",
       "       '25.28', '15.8', '12.12', '10.16', '11.14', '14.09', '19.72',\n",
       "       '23.76', '13.11', '17.77', '18.75', '23.28', '19.05', '21.98',\n",
       "       '24.7', '23.83', '23.63', '22.95', '22.47', '24.83', '17.97%',\n",
       "       '17.19%', '14.74%', '12.40%', '15.57%', '8.81%', '16.40%',\n",
       "       '20.00%', '11.02%', '13.90%', '13.08%', '8.19%', '7.56%', '6.46%',\n",
       "       '22.50%', '11.71%', '10.33%', '7.02%', '25.00%', '28.80%',\n",
       "       '30.79%', '29.00%', '14.47%', '28.90%', '18.94%', '11.31%',\n",
       "       '16.14%', '28.92%', '15.02%', '11.80%', '22.35%', '12.98%',\n",
       "       '20.89%', '23.40%', '10.72%', '28.97%', '19.92%', '13.56%',\n",
       "       '25.34%', '16.91%', '27.27%', '24.37%', '29.35%', '28.95%',\n",
       "       '29.69%', '30.17%', '26.31%', '6.00%', '30.84%', '14.30%',\n",
       "       '16.95%', '15.24%', '17.74%', '16.12%', '20.55%', '18.62%',\n",
       "       '23.05%', '25.65%'], dtype=object)"
      ]
     },
     "execution_count": 74,
     "metadata": {},
     "output_type": "execute_result"
    }
   ],
   "source": [
    "#print int rate\n",
    "Numerical_Data.int_rate.unique()"
   ]
  },
  {
   "cell_type": "code",
   "execution_count": 75,
   "metadata": {},
   "outputs": [
    {
     "data": {
      "text/plain": [
       "array(['29.7', '19.2', '56.2', ..., '102.80%', '107%', '102.20%'],\n",
       "      dtype=object)"
      ]
     },
     "execution_count": 75,
     "metadata": {},
     "output_type": "execute_result"
    }
   ],
   "source": [
    "#print revol uti\n",
    "Numerical_Data.revol_util.unique()"
   ]
  },
  {
   "cell_type": "code",
   "execution_count": 76,
   "metadata": {},
   "outputs": [],
   "source": [
    "#replace % into float\n",
    "Numerical_Data['int_rate']=Numerical_Data['int_rate'].str.strip('%').astype(float)"
   ]
  },
  {
   "cell_type": "code",
   "execution_count": 77,
   "metadata": {},
   "outputs": [],
   "source": [
    "#replace % into float\n",
    "Numerical_Data['revol_util']=Numerical_Data['revol_util'].str.strip('%').astype(float)"
   ]
  },
  {
   "cell_type": "code",
   "execution_count": 78,
   "metadata": {},
   "outputs": [],
   "source": [
    "#covert all into float data\n",
    "for col in Numerical_Data.columns:\n",
    "    Numerical_Data[col].astype(float)"
   ]
  },
  {
   "cell_type": "code",
   "execution_count": 79,
   "metadata": {},
   "outputs": [
    {
     "data": {
      "text/html": [
       "<div>\n",
       "<style scoped>\n",
       "    .dataframe tbody tr th:only-of-type {\n",
       "        vertical-align: middle;\n",
       "    }\n",
       "\n",
       "    .dataframe tbody tr th {\n",
       "        vertical-align: top;\n",
       "    }\n",
       "\n",
       "    .dataframe thead th {\n",
       "        text-align: right;\n",
       "    }\n",
       "</style>\n",
       "<table border=\"1\" class=\"dataframe\">\n",
       "  <thead>\n",
       "    <tr style=\"text-align: right;\">\n",
       "      <th></th>\n",
       "      <th>loan_amnt</th>\n",
       "      <th>int_rate</th>\n",
       "      <th>installment</th>\n",
       "      <th>emp_length</th>\n",
       "      <th>annual_inc</th>\n",
       "      <th>dti</th>\n",
       "      <th>delinq_2yrs</th>\n",
       "      <th>inq_last_6mths</th>\n",
       "      <th>open_acc</th>\n",
       "      <th>revol_bal</th>\n",
       "      <th>...</th>\n",
       "      <th>num_accts_ever_120_pd</th>\n",
       "      <th>mort_acc</th>\n",
       "      <th>mths_since_recent_inq</th>\n",
       "      <th>mths_since_recent_bc</th>\n",
       "      <th>num_actv_bc_tl</th>\n",
       "      <th>num_tl_30dpd</th>\n",
       "      <th>num_tl_90g_dpd_24m</th>\n",
       "      <th>tax_liens</th>\n",
       "      <th>num_tl_120dpd_2m</th>\n",
       "      <th>pub_rec_bankruptcies</th>\n",
       "    </tr>\n",
       "  </thead>\n",
       "  <tbody>\n",
       "    <tr>\n",
       "      <th>count</th>\n",
       "      <td>1.097024e+06</td>\n",
       "      <td>1.097024e+06</td>\n",
       "      <td>1.097024e+06</td>\n",
       "      <td>1.097024e+06</td>\n",
       "      <td>1.097024e+06</td>\n",
       "      <td>1.097024e+06</td>\n",
       "      <td>1.097024e+06</td>\n",
       "      <td>1.097024e+06</td>\n",
       "      <td>1.097024e+06</td>\n",
       "      <td>1.097024e+06</td>\n",
       "      <td>...</td>\n",
       "      <td>1.097024e+06</td>\n",
       "      <td>1.097024e+06</td>\n",
       "      <td>1.097024e+06</td>\n",
       "      <td>1.097024e+06</td>\n",
       "      <td>1.097024e+06</td>\n",
       "      <td>1.097024e+06</td>\n",
       "      <td>1.097024e+06</td>\n",
       "      <td>1.097024e+06</td>\n",
       "      <td>1.097024e+06</td>\n",
       "      <td>1.097024e+06</td>\n",
       "    </tr>\n",
       "    <tr>\n",
       "      <th>mean</th>\n",
       "      <td>1.485299e+04</td>\n",
       "      <td>1.347440e+01</td>\n",
       "      <td>4.502924e+02</td>\n",
       "      <td>5.959306e+00</td>\n",
       "      <td>7.939301e+04</td>\n",
       "      <td>1.848720e+01</td>\n",
       "      <td>3.239327e-01</td>\n",
       "      <td>6.824099e-01</td>\n",
       "      <td>1.205856e+01</td>\n",
       "      <td>1.619094e+04</td>\n",
       "      <td>...</td>\n",
       "      <td>5.426536e-01</td>\n",
       "      <td>1.689762e+00</td>\n",
       "      <td>6.788445e+00</td>\n",
       "      <td>2.247141e+01</td>\n",
       "      <td>3.667173e+00</td>\n",
       "      <td>3.362734e-03</td>\n",
       "      <td>8.249592e-02</td>\n",
       "      <td>5.420210e-02</td>\n",
       "      <td>7.766466e-04</td>\n",
       "      <td>1.360636e-01</td>\n",
       "    </tr>\n",
       "    <tr>\n",
       "      <th>std</th>\n",
       "      <td>8.854405e+03</td>\n",
       "      <td>4.864469e+00</td>\n",
       "      <td>2.652743e+02</td>\n",
       "      <td>3.697383e+00</td>\n",
       "      <td>7.553713e+04</td>\n",
       "      <td>1.000293e+01</td>\n",
       "      <td>8.840564e-01</td>\n",
       "      <td>9.213644e-01</td>\n",
       "      <td>5.572696e+00</td>\n",
       "      <td>2.173823e+04</td>\n",
       "      <td>...</td>\n",
       "      <td>1.378365e+00</td>\n",
       "      <td>1.996852e+00</td>\n",
       "      <td>5.863871e+00</td>\n",
       "      <td>2.902888e+01</td>\n",
       "      <td>2.208406e+00</td>\n",
       "      <td>6.185014e-02</td>\n",
       "      <td>4.814601e-01</td>\n",
       "      <td>4.150410e-01</td>\n",
       "      <td>2.987848e-02</td>\n",
       "      <td>3.829741e-01</td>\n",
       "    </tr>\n",
       "    <tr>\n",
       "      <th>min</th>\n",
       "      <td>1.000000e+03</td>\n",
       "      <td>5.310000e+00</td>\n",
       "      <td>4.930000e+00</td>\n",
       "      <td>0.000000e+00</td>\n",
       "      <td>0.000000e+00</td>\n",
       "      <td>-1.000000e+00</td>\n",
       "      <td>0.000000e+00</td>\n",
       "      <td>0.000000e+00</td>\n",
       "      <td>1.000000e+00</td>\n",
       "      <td>0.000000e+00</td>\n",
       "      <td>...</td>\n",
       "      <td>0.000000e+00</td>\n",
       "      <td>0.000000e+00</td>\n",
       "      <td>0.000000e+00</td>\n",
       "      <td>0.000000e+00</td>\n",
       "      <td>0.000000e+00</td>\n",
       "      <td>0.000000e+00</td>\n",
       "      <td>0.000000e+00</td>\n",
       "      <td>0.000000e+00</td>\n",
       "      <td>0.000000e+00</td>\n",
       "      <td>0.000000e+00</td>\n",
       "    </tr>\n",
       "    <tr>\n",
       "      <th>25%</th>\n",
       "      <td>8.000000e+03</td>\n",
       "      <td>9.930000e+00</td>\n",
       "      <td>2.576600e+02</td>\n",
       "      <td>2.000000e+00</td>\n",
       "      <td>4.900000e+04</td>\n",
       "      <td>1.203000e+01</td>\n",
       "      <td>0.000000e+00</td>\n",
       "      <td>0.000000e+00</td>\n",
       "      <td>8.000000e+00</td>\n",
       "      <td>6.050000e+03</td>\n",
       "      <td>...</td>\n",
       "      <td>0.000000e+00</td>\n",
       "      <td>0.000000e+00</td>\n",
       "      <td>2.000000e+00</td>\n",
       "      <td>6.000000e+00</td>\n",
       "      <td>2.000000e+00</td>\n",
       "      <td>0.000000e+00</td>\n",
       "      <td>0.000000e+00</td>\n",
       "      <td>0.000000e+00</td>\n",
       "      <td>0.000000e+00</td>\n",
       "      <td>0.000000e+00</td>\n",
       "    </tr>\n",
       "    <tr>\n",
       "      <th>50%</th>\n",
       "      <td>1.280000e+04</td>\n",
       "      <td>1.299000e+01</td>\n",
       "      <td>3.854100e+02</td>\n",
       "      <td>6.000000e+00</td>\n",
       "      <td>6.700000e+04</td>\n",
       "      <td>1.782000e+01</td>\n",
       "      <td>0.000000e+00</td>\n",
       "      <td>0.000000e+00</td>\n",
       "      <td>1.100000e+01</td>\n",
       "      <td>1.124100e+04</td>\n",
       "      <td>...</td>\n",
       "      <td>0.000000e+00</td>\n",
       "      <td>1.000000e+00</td>\n",
       "      <td>5.000000e+00</td>\n",
       "      <td>1.300000e+01</td>\n",
       "      <td>3.000000e+00</td>\n",
       "      <td>0.000000e+00</td>\n",
       "      <td>0.000000e+00</td>\n",
       "      <td>0.000000e+00</td>\n",
       "      <td>0.000000e+00</td>\n",
       "      <td>0.000000e+00</td>\n",
       "    </tr>\n",
       "    <tr>\n",
       "      <th>75%</th>\n",
       "      <td>2.000000e+04</td>\n",
       "      <td>1.629000e+01</td>\n",
       "      <td>5.977700e+02</td>\n",
       "      <td>1.000000e+01</td>\n",
       "      <td>9.500000e+04</td>\n",
       "      <td>2.430000e+01</td>\n",
       "      <td>0.000000e+00</td>\n",
       "      <td>1.000000e+00</td>\n",
       "      <td>1.500000e+01</td>\n",
       "      <td>1.983100e+04</td>\n",
       "      <td>...</td>\n",
       "      <td>0.000000e+00</td>\n",
       "      <td>3.000000e+00</td>\n",
       "      <td>1.000000e+01</td>\n",
       "      <td>2.600000e+01</td>\n",
       "      <td>5.000000e+00</td>\n",
       "      <td>0.000000e+00</td>\n",
       "      <td>0.000000e+00</td>\n",
       "      <td>0.000000e+00</td>\n",
       "      <td>0.000000e+00</td>\n",
       "      <td>0.000000e+00</td>\n",
       "    </tr>\n",
       "    <tr>\n",
       "      <th>max</th>\n",
       "      <td>4.000000e+04</td>\n",
       "      <td>3.099000e+01</td>\n",
       "      <td>1.719830e+03</td>\n",
       "      <td>1.000000e+01</td>\n",
       "      <td>1.099920e+07</td>\n",
       "      <td>9.990000e+02</td>\n",
       "      <td>3.900000e+01</td>\n",
       "      <td>8.000000e+00</td>\n",
       "      <td>9.000000e+01</td>\n",
       "      <td>2.568995e+06</td>\n",
       "      <td>...</td>\n",
       "      <td>5.100000e+01</td>\n",
       "      <td>4.700000e+01</td>\n",
       "      <td>2.400000e+01</td>\n",
       "      <td>6.040000e+02</td>\n",
       "      <td>5.000000e+01</td>\n",
       "      <td>4.000000e+00</td>\n",
       "      <td>3.900000e+01</td>\n",
       "      <td>8.500000e+01</td>\n",
       "      <td>6.000000e+00</td>\n",
       "      <td>1.200000e+01</td>\n",
       "    </tr>\n",
       "  </tbody>\n",
       "</table>\n",
       "<p>8 rows × 29 columns</p>\n",
       "</div>"
      ],
      "text/plain": [
       "          loan_amnt      int_rate   installment    emp_length    annual_inc  \\\n",
       "count  1.097024e+06  1.097024e+06  1.097024e+06  1.097024e+06  1.097024e+06   \n",
       "mean   1.485299e+04  1.347440e+01  4.502924e+02  5.959306e+00  7.939301e+04   \n",
       "std    8.854405e+03  4.864469e+00  2.652743e+02  3.697383e+00  7.553713e+04   \n",
       "min    1.000000e+03  5.310000e+00  4.930000e+00  0.000000e+00  0.000000e+00   \n",
       "25%    8.000000e+03  9.930000e+00  2.576600e+02  2.000000e+00  4.900000e+04   \n",
       "50%    1.280000e+04  1.299000e+01  3.854100e+02  6.000000e+00  6.700000e+04   \n",
       "75%    2.000000e+04  1.629000e+01  5.977700e+02  1.000000e+01  9.500000e+04   \n",
       "max    4.000000e+04  3.099000e+01  1.719830e+03  1.000000e+01  1.099920e+07   \n",
       "\n",
       "                dti   delinq_2yrs  inq_last_6mths      open_acc     revol_bal  \\\n",
       "count  1.097024e+06  1.097024e+06    1.097024e+06  1.097024e+06  1.097024e+06   \n",
       "mean   1.848720e+01  3.239327e-01    6.824099e-01  1.205856e+01  1.619094e+04   \n",
       "std    1.000293e+01  8.840564e-01    9.213644e-01  5.572696e+00  2.173823e+04   \n",
       "min   -1.000000e+00  0.000000e+00    0.000000e+00  1.000000e+00  0.000000e+00   \n",
       "25%    1.203000e+01  0.000000e+00    0.000000e+00  8.000000e+00  6.050000e+03   \n",
       "50%    1.782000e+01  0.000000e+00    0.000000e+00  1.100000e+01  1.124100e+04   \n",
       "75%    2.430000e+01  0.000000e+00    1.000000e+00  1.500000e+01  1.983100e+04   \n",
       "max    9.990000e+02  3.900000e+01    8.000000e+00  9.000000e+01  2.568995e+06   \n",
       "\n",
       "       ...  num_accts_ever_120_pd      mort_acc  mths_since_recent_inq  \\\n",
       "count  ...           1.097024e+06  1.097024e+06           1.097024e+06   \n",
       "mean   ...           5.426536e-01  1.689762e+00           6.788445e+00   \n",
       "std    ...           1.378365e+00  1.996852e+00           5.863871e+00   \n",
       "min    ...           0.000000e+00  0.000000e+00           0.000000e+00   \n",
       "25%    ...           0.000000e+00  0.000000e+00           2.000000e+00   \n",
       "50%    ...           0.000000e+00  1.000000e+00           5.000000e+00   \n",
       "75%    ...           0.000000e+00  3.000000e+00           1.000000e+01   \n",
       "max    ...           5.100000e+01  4.700000e+01           2.400000e+01   \n",
       "\n",
       "       mths_since_recent_bc  num_actv_bc_tl  num_tl_30dpd  num_tl_90g_dpd_24m  \\\n",
       "count          1.097024e+06    1.097024e+06  1.097024e+06        1.097024e+06   \n",
       "mean           2.247141e+01    3.667173e+00  3.362734e-03        8.249592e-02   \n",
       "std            2.902888e+01    2.208406e+00  6.185014e-02        4.814601e-01   \n",
       "min            0.000000e+00    0.000000e+00  0.000000e+00        0.000000e+00   \n",
       "25%            6.000000e+00    2.000000e+00  0.000000e+00        0.000000e+00   \n",
       "50%            1.300000e+01    3.000000e+00  0.000000e+00        0.000000e+00   \n",
       "75%            2.600000e+01    5.000000e+00  0.000000e+00        0.000000e+00   \n",
       "max            6.040000e+02    5.000000e+01  4.000000e+00        3.900000e+01   \n",
       "\n",
       "          tax_liens  num_tl_120dpd_2m  pub_rec_bankruptcies  \n",
       "count  1.097024e+06      1.097024e+06          1.097024e+06  \n",
       "mean   5.420210e-02      7.766466e-04          1.360636e-01  \n",
       "std    4.150410e-01      2.987848e-02          3.829741e-01  \n",
       "min    0.000000e+00      0.000000e+00          0.000000e+00  \n",
       "25%    0.000000e+00      0.000000e+00          0.000000e+00  \n",
       "50%    0.000000e+00      0.000000e+00          0.000000e+00  \n",
       "75%    0.000000e+00      0.000000e+00          0.000000e+00  \n",
       "max    8.500000e+01      6.000000e+00          1.200000e+01  \n",
       "\n",
       "[8 rows x 29 columns]"
      ]
     },
     "execution_count": 79,
     "metadata": {},
     "output_type": "execute_result"
    }
   ],
   "source": [
    "#print data description\n",
    "Numerical_Data.describe()"
   ]
  },
  {
   "cell_type": "code",
   "execution_count": 80,
   "metadata": {},
   "outputs": [
    {
     "name": "stdout",
     "output_type": "stream",
     "text": [
      "<class 'pandas.core.frame.DataFrame'>\n",
      "Index: 1097024 entries, 0 to 1097023\n",
      "Data columns (total 4 columns):\n",
      " #   Column          Non-Null Count    Dtype \n",
      "---  ------          --------------    ----- \n",
      " 0   term            1097024 non-null  object\n",
      " 1   grade           1097024 non-null  object\n",
      " 2   home_ownership  1097024 non-null  object\n",
      " 3   purpose         1097024 non-null  object\n",
      "dtypes: object(4)\n",
      "memory usage: 41.8+ MB\n"
     ]
    }
   ],
   "source": [
    "#print data categorical data info \n",
    "Categorical_Data.info()"
   ]
  },
  {
   "cell_type": "code",
   "execution_count": 81,
   "metadata": {},
   "outputs": [
    {
     "name": "stdout",
     "output_type": "stream",
     "text": [
      "term \n",
      "\n",
      " [' 36 months' ' 60 months'] \n",
      "\n",
      "\n",
      "\n",
      "grade \n",
      "\n",
      " ['C' 'B' 'F' 'A' 'E' 'D' 'G'] \n",
      "\n",
      "\n",
      "\n",
      "home_ownership \n",
      "\n",
      " ['MORTGAGE' 'RENT' 'OWN' 'ANY' 'NONE' 'OTHER'] \n",
      "\n",
      "\n",
      "\n",
      "purpose \n",
      "\n",
      " ['debt_consolidation' 'small_business' 'home_improvement' 'major_purchase'\n",
      " 'credit_card' 'other' 'house' 'car' 'medical' 'vacation' 'moving'\n",
      " 'renewable_energy' 'wedding' 'educational'] \n",
      "\n",
      "\n",
      "\n"
     ]
    }
   ],
   "source": [
    "for col in Categorical_Data.columns:\n",
    "    print(col,'\\n'*2,Categorical_Data[col].unique(),'\\n'*3)\n",
    "#Converting Ordinal Value(Categorical Data)"
   ]
  },
  {
   "cell_type": "code",
   "execution_count": 82,
   "metadata": {},
   "outputs": [],
   "source": [
    "#Dummy Variables\n",
    "#------------------------------------------------------------------------------------------------------------------------------\n",
    "for col in Categorical_Data.columns:\n",
    "    Dummy_Variables = pd.get_dummies(Categorical_Data[col])\n",
    "    Dummy_Variables.drop(Dummy_Variables.columns[-1],axis=1,inplace=True)# dropping one of each to reduce multicoloniearity\n",
    "    Categorical_Data = pd.concat([Categorical_Data, Dummy_Variables], axis=1)\n",
    "    Categorical_Data.drop(col, axis=1, inplace=True)"
   ]
  },
  {
   "cell_type": "code",
   "execution_count": 83,
   "metadata": {},
   "outputs": [
    {
     "data": {
      "text/html": [
       "<div>\n",
       "<style scoped>\n",
       "    .dataframe tbody tr th:only-of-type {\n",
       "        vertical-align: middle;\n",
       "    }\n",
       "\n",
       "    .dataframe tbody tr th {\n",
       "        vertical-align: top;\n",
       "    }\n",
       "\n",
       "    .dataframe thead th {\n",
       "        text-align: right;\n",
       "    }\n",
       "</style>\n",
       "<table border=\"1\" class=\"dataframe\">\n",
       "  <thead>\n",
       "    <tr style=\"text-align: right;\">\n",
       "      <th></th>\n",
       "      <th>36 months</th>\n",
       "      <th>A</th>\n",
       "      <th>B</th>\n",
       "      <th>C</th>\n",
       "      <th>D</th>\n",
       "      <th>E</th>\n",
       "      <th>F</th>\n",
       "      <th>ANY</th>\n",
       "      <th>MORTGAGE</th>\n",
       "      <th>NONE</th>\n",
       "      <th>...</th>\n",
       "      <th>educational</th>\n",
       "      <th>home_improvement</th>\n",
       "      <th>house</th>\n",
       "      <th>major_purchase</th>\n",
       "      <th>medical</th>\n",
       "      <th>moving</th>\n",
       "      <th>other</th>\n",
       "      <th>renewable_energy</th>\n",
       "      <th>small_business</th>\n",
       "      <th>vacation</th>\n",
       "    </tr>\n",
       "  </thead>\n",
       "  <tbody>\n",
       "    <tr>\n",
       "      <th>0</th>\n",
       "      <td>1</td>\n",
       "      <td>0</td>\n",
       "      <td>0</td>\n",
       "      <td>1</td>\n",
       "      <td>0</td>\n",
       "      <td>0</td>\n",
       "      <td>0</td>\n",
       "      <td>0</td>\n",
       "      <td>1</td>\n",
       "      <td>0</td>\n",
       "      <td>...</td>\n",
       "      <td>0</td>\n",
       "      <td>0</td>\n",
       "      <td>0</td>\n",
       "      <td>0</td>\n",
       "      <td>0</td>\n",
       "      <td>0</td>\n",
       "      <td>0</td>\n",
       "      <td>0</td>\n",
       "      <td>0</td>\n",
       "      <td>0</td>\n",
       "    </tr>\n",
       "    <tr>\n",
       "      <th>1</th>\n",
       "      <td>1</td>\n",
       "      <td>0</td>\n",
       "      <td>0</td>\n",
       "      <td>1</td>\n",
       "      <td>0</td>\n",
       "      <td>0</td>\n",
       "      <td>0</td>\n",
       "      <td>0</td>\n",
       "      <td>1</td>\n",
       "      <td>0</td>\n",
       "      <td>...</td>\n",
       "      <td>0</td>\n",
       "      <td>0</td>\n",
       "      <td>0</td>\n",
       "      <td>0</td>\n",
       "      <td>0</td>\n",
       "      <td>0</td>\n",
       "      <td>0</td>\n",
       "      <td>0</td>\n",
       "      <td>1</td>\n",
       "      <td>0</td>\n",
       "    </tr>\n",
       "    <tr>\n",
       "      <th>2</th>\n",
       "      <td>0</td>\n",
       "      <td>0</td>\n",
       "      <td>1</td>\n",
       "      <td>0</td>\n",
       "      <td>0</td>\n",
       "      <td>0</td>\n",
       "      <td>0</td>\n",
       "      <td>0</td>\n",
       "      <td>1</td>\n",
       "      <td>0</td>\n",
       "      <td>...</td>\n",
       "      <td>0</td>\n",
       "      <td>1</td>\n",
       "      <td>0</td>\n",
       "      <td>0</td>\n",
       "      <td>0</td>\n",
       "      <td>0</td>\n",
       "      <td>0</td>\n",
       "      <td>0</td>\n",
       "      <td>0</td>\n",
       "      <td>0</td>\n",
       "    </tr>\n",
       "    <tr>\n",
       "      <th>3</th>\n",
       "      <td>0</td>\n",
       "      <td>0</td>\n",
       "      <td>0</td>\n",
       "      <td>0</td>\n",
       "      <td>0</td>\n",
       "      <td>0</td>\n",
       "      <td>1</td>\n",
       "      <td>0</td>\n",
       "      <td>1</td>\n",
       "      <td>0</td>\n",
       "      <td>...</td>\n",
       "      <td>0</td>\n",
       "      <td>0</td>\n",
       "      <td>0</td>\n",
       "      <td>1</td>\n",
       "      <td>0</td>\n",
       "      <td>0</td>\n",
       "      <td>0</td>\n",
       "      <td>0</td>\n",
       "      <td>0</td>\n",
       "      <td>0</td>\n",
       "    </tr>\n",
       "    <tr>\n",
       "      <th>4</th>\n",
       "      <td>1</td>\n",
       "      <td>0</td>\n",
       "      <td>1</td>\n",
       "      <td>0</td>\n",
       "      <td>0</td>\n",
       "      <td>0</td>\n",
       "      <td>0</td>\n",
       "      <td>0</td>\n",
       "      <td>1</td>\n",
       "      <td>0</td>\n",
       "      <td>...</td>\n",
       "      <td>0</td>\n",
       "      <td>0</td>\n",
       "      <td>0</td>\n",
       "      <td>0</td>\n",
       "      <td>0</td>\n",
       "      <td>0</td>\n",
       "      <td>0</td>\n",
       "      <td>0</td>\n",
       "      <td>0</td>\n",
       "      <td>0</td>\n",
       "    </tr>\n",
       "  </tbody>\n",
       "</table>\n",
       "<p>5 rows × 25 columns</p>\n",
       "</div>"
      ],
      "text/plain": [
       "    36 months  A  B  C  D  E  F  ANY  MORTGAGE  NONE  ...  educational  \\\n",
       "0           1  0  0  1  0  0  0    0         1     0  ...            0   \n",
       "1           1  0  0  1  0  0  0    0         1     0  ...            0   \n",
       "2           0  0  1  0  0  0  0    0         1     0  ...            0   \n",
       "3           0  0  0  0  0  0  1    0         1     0  ...            0   \n",
       "4           1  0  1  0  0  0  0    0         1     0  ...            0   \n",
       "\n",
       "   home_improvement  house  major_purchase  medical  moving  other  \\\n",
       "0                 0      0               0        0       0      0   \n",
       "1                 0      0               0        0       0      0   \n",
       "2                 1      0               0        0       0      0   \n",
       "3                 0      0               1        0       0      0   \n",
       "4                 0      0               0        0       0      0   \n",
       "\n",
       "   renewable_energy  small_business  vacation  \n",
       "0                 0               0         0  \n",
       "1                 0               1         0  \n",
       "2                 0               0         0  \n",
       "3                 0               0         0  \n",
       "4                 0               0         0  \n",
       "\n",
       "[5 rows x 25 columns]"
      ]
     },
     "execution_count": 83,
     "metadata": {},
     "output_type": "execute_result"
    }
   ],
   "source": [
    "Categorical_Data.head()"
   ]
  },
  {
   "cell_type": "code",
   "execution_count": 84,
   "metadata": {},
   "outputs": [],
   "source": [
    "#covert into int\n",
    "for col in Categorical_Data.columns:\n",
    "    Categorical_Data[col].astype(int)"
   ]
  },
  {
   "cell_type": "code",
   "execution_count": 85,
   "metadata": {},
   "outputs": [],
   "source": [
    "from sklearn.preprocessing import StandardScaler"
   ]
  },
  {
   "cell_type": "code",
   "execution_count": 86,
   "metadata": {},
   "outputs": [],
   "source": [
    "#Scale numerical dataset\n",
    "Scaler = StandardScaler()\n",
    "Scaled_Numerical_Data = pd.DataFrame(Scaler.fit_transform(Numerical_Data),columns=Numerical_Data.columns)"
   ]
  },
  {
   "cell_type": "code",
   "execution_count": 87,
   "metadata": {},
   "outputs": [
    {
     "name": "stdout",
     "output_type": "stream",
     "text": [
      "(1097024, 54) (1097024,)\n"
     ]
    },
    {
     "data": {
      "text/html": [
       "<div>\n",
       "<style scoped>\n",
       "    .dataframe tbody tr th:only-of-type {\n",
       "        vertical-align: middle;\n",
       "    }\n",
       "\n",
       "    .dataframe tbody tr th {\n",
       "        vertical-align: top;\n",
       "    }\n",
       "\n",
       "    .dataframe thead th {\n",
       "        text-align: right;\n",
       "    }\n",
       "</style>\n",
       "<table border=\"1\" class=\"dataframe\">\n",
       "  <thead>\n",
       "    <tr style=\"text-align: right;\">\n",
       "      <th></th>\n",
       "      <th>loan_amnt</th>\n",
       "      <th>int_rate</th>\n",
       "      <th>installment</th>\n",
       "      <th>emp_length</th>\n",
       "      <th>annual_inc</th>\n",
       "      <th>dti</th>\n",
       "      <th>delinq_2yrs</th>\n",
       "      <th>inq_last_6mths</th>\n",
       "      <th>open_acc</th>\n",
       "      <th>revol_bal</th>\n",
       "      <th>...</th>\n",
       "      <th>educational</th>\n",
       "      <th>home_improvement</th>\n",
       "      <th>house</th>\n",
       "      <th>major_purchase</th>\n",
       "      <th>medical</th>\n",
       "      <th>moving</th>\n",
       "      <th>other</th>\n",
       "      <th>renewable_energy</th>\n",
       "      <th>small_business</th>\n",
       "      <th>vacation</th>\n",
       "    </tr>\n",
       "  </thead>\n",
       "  <tbody>\n",
       "    <tr>\n",
       "      <th>0</th>\n",
       "      <td>-1.270892</td>\n",
       "      <td>0.105993</td>\n",
       "      <td>-1.233676</td>\n",
       "      <td>1.092853</td>\n",
       "      <td>-0.322928</td>\n",
       "      <td>-1.257352</td>\n",
       "      <td>-0.366417</td>\n",
       "      <td>0.344696</td>\n",
       "      <td>-0.907741</td>\n",
       "      <td>-0.617619</td>\n",
       "      <td>...</td>\n",
       "      <td>0</td>\n",
       "      <td>0</td>\n",
       "      <td>0</td>\n",
       "      <td>0</td>\n",
       "      <td>0</td>\n",
       "      <td>0</td>\n",
       "      <td>0</td>\n",
       "      <td>0</td>\n",
       "      <td>0</td>\n",
       "      <td>0</td>\n",
       "    </tr>\n",
       "    <tr>\n",
       "      <th>1</th>\n",
       "      <td>1.112104</td>\n",
       "      <td>-0.305152</td>\n",
       "      <td>1.394736</td>\n",
       "      <td>1.092853</td>\n",
       "      <td>-0.190542</td>\n",
       "      <td>-0.242649</td>\n",
       "      <td>0.764734</td>\n",
       "      <td>3.600738</td>\n",
       "      <td>1.783956</td>\n",
       "      <td>0.242847</td>\n",
       "      <td>...</td>\n",
       "      <td>0</td>\n",
       "      <td>0</td>\n",
       "      <td>0</td>\n",
       "      <td>0</td>\n",
       "      <td>0</td>\n",
       "      <td>0</td>\n",
       "      <td>0</td>\n",
       "      <td>0</td>\n",
       "      <td>1</td>\n",
       "      <td>0</td>\n",
       "    </tr>\n",
       "    <tr>\n",
       "      <th>2</th>\n",
       "      <td>0.581294</td>\n",
       "      <td>-0.553895</td>\n",
       "      <td>-0.066469</td>\n",
       "      <td>1.092853</td>\n",
       "      <td>-0.217019</td>\n",
       "      <td>-0.770494</td>\n",
       "      <td>-0.366417</td>\n",
       "      <td>-0.740652</td>\n",
       "      <td>-1.087188</td>\n",
       "      <td>-0.382825</td>\n",
       "      <td>...</td>\n",
       "      <td>0</td>\n",
       "      <td>1</td>\n",
       "      <td>0</td>\n",
       "      <td>0</td>\n",
       "      <td>0</td>\n",
       "      <td>0</td>\n",
       "      <td>0</td>\n",
       "      <td>0</td>\n",
       "      <td>0</td>\n",
       "      <td>0</td>\n",
       "    </tr>\n",
       "    <tr>\n",
       "      <th>3</th>\n",
       "      <td>-0.502912</td>\n",
       "      <td>1.845135</td>\n",
       "      <td>-0.604591</td>\n",
       "      <td>-0.800379</td>\n",
       "      <td>0.331493</td>\n",
       "      <td>0.688079</td>\n",
       "      <td>0.764734</td>\n",
       "      <td>2.515391</td>\n",
       "      <td>-0.010509</td>\n",
       "      <td>0.263962</td>\n",
       "      <td>...</td>\n",
       "      <td>0</td>\n",
       "      <td>0</td>\n",
       "      <td>0</td>\n",
       "      <td>1</td>\n",
       "      <td>0</td>\n",
       "      <td>0</td>\n",
       "      <td>0</td>\n",
       "      <td>0</td>\n",
       "      <td>0</td>\n",
       "      <td>0</td>\n",
       "    </tr>\n",
       "    <tr>\n",
       "      <th>4</th>\n",
       "      <td>0.581294</td>\n",
       "      <td>-0.884866</td>\n",
       "      <td>0.706015</td>\n",
       "      <td>1.092853</td>\n",
       "      <td>1.331889</td>\n",
       "      <td>-0.381608</td>\n",
       "      <td>-0.366417</td>\n",
       "      <td>-0.740652</td>\n",
       "      <td>-0.010509</td>\n",
       "      <td>3.272488</td>\n",
       "      <td>...</td>\n",
       "      <td>0</td>\n",
       "      <td>0</td>\n",
       "      <td>0</td>\n",
       "      <td>0</td>\n",
       "      <td>0</td>\n",
       "      <td>0</td>\n",
       "      <td>0</td>\n",
       "      <td>0</td>\n",
       "      <td>0</td>\n",
       "      <td>0</td>\n",
       "    </tr>\n",
       "  </tbody>\n",
       "</table>\n",
       "<p>5 rows × 54 columns</p>\n",
       "</div>"
      ],
      "text/plain": [
       "   loan_amnt  int_rate  installment  emp_length  annual_inc       dti  \\\n",
       "0  -1.270892  0.105993    -1.233676    1.092853   -0.322928 -1.257352   \n",
       "1   1.112104 -0.305152     1.394736    1.092853   -0.190542 -0.242649   \n",
       "2   0.581294 -0.553895    -0.066469    1.092853   -0.217019 -0.770494   \n",
       "3  -0.502912  1.845135    -0.604591   -0.800379    0.331493  0.688079   \n",
       "4   0.581294 -0.884866     0.706015    1.092853    1.331889 -0.381608   \n",
       "\n",
       "   delinq_2yrs  inq_last_6mths  open_acc  revol_bal  ...  educational  \\\n",
       "0    -0.366417        0.344696 -0.907741  -0.617619  ...            0   \n",
       "1     0.764734        3.600738  1.783956   0.242847  ...            0   \n",
       "2    -0.366417       -0.740652 -1.087188  -0.382825  ...            0   \n",
       "3     0.764734        2.515391 -0.010509   0.263962  ...            0   \n",
       "4    -0.366417       -0.740652 -0.010509   3.272488  ...            0   \n",
       "\n",
       "   home_improvement  house  major_purchase  medical  moving  other  \\\n",
       "0                 0      0               0        0       0      0   \n",
       "1                 0      0               0        0       0      0   \n",
       "2                 1      0               0        0       0      0   \n",
       "3                 0      0               1        0       0      0   \n",
       "4                 0      0               0        0       0      0   \n",
       "\n",
       "   renewable_energy  small_business  vacation  \n",
       "0                 0               0         0  \n",
       "1                 0               1         0  \n",
       "2                 0               0         0  \n",
       "3                 0               0         0  \n",
       "4                 0               0         0  \n",
       "\n",
       "[5 rows x 54 columns]"
      ]
     },
     "execution_count": 87,
     "metadata": {},
     "output_type": "execute_result"
    }
   ],
   "source": [
    "#Merging Numerical and Categorical Data\n",
    "Independent_Variable=pd.concat([Scaled_Numerical_Data,Categorical_Data],axis=1)\n",
    "#------------------------------------------------------------------------------------------------------------------------------\n",
    "Target_Variable=LC_Data_Updated.Credit_Score\n",
    "print(Independent_Variable.shape, Target_Variable.shape)\n",
    "Independent_Variable.head()"
   ]
  },
  {
   "cell_type": "markdown",
   "metadata": {},
   "source": [
    "# Feature Engineering"
   ]
  },
  {
   "cell_type": "code",
   "execution_count": 93,
   "metadata": {},
   "outputs": [],
   "source": [
    "from sklearn.ensemble import RandomForestClassifier \n",
    "from sklearn.datasets import make_classification\n",
    "from sklearn.ensemble import ExtraTreesClassifier"
   ]
  },
  {
   "cell_type": "code",
   "execution_count": 187,
   "metadata": {},
   "outputs": [
    {
     "name": "stdout",
     "output_type": "stream",
     "text": [
      "Feature ranking:\n",
      "1. feature 13 (0.281811)\n",
      "2. feature 14 (0.245541)\n",
      "3. feature 0 (0.082882)\n",
      "4. feature 12 (0.078295)\n",
      "5. feature 2 (0.074389)\n",
      "6. feature 29 (0.027579)\n",
      "7. feature 1 (0.023393)\n",
      "8. feature 30 (0.011981)\n",
      "9. feature 10 (0.010291)\n",
      "10. feature 5 (0.010131)\n",
      "11. feature 9 (0.009621)\n",
      "12. feature 4 (0.009489)\n",
      "13. feature 8 (0.009284)\n",
      "14. feature 23 (0.009217)\n",
      "15. feature 22 (0.009214)\n",
      "16. feature 11 (0.009198)\n",
      "17. feature 21 (0.008893)\n",
      "18. feature 3 (0.007804)\n",
      "19. feature 31 (0.007192)\n",
      "20. feature 20 (0.007079)\n",
      "21. feature 34 (0.006561)\n",
      "22. feature 7 (0.005905)\n",
      "23. feature 33 (0.005682)\n",
      "24. feature 19 (0.005627)\n",
      "25. feature 16 (0.005478)\n",
      "26. feature 6 (0.004888)\n",
      "27. feature 37 (0.004062)\n",
      "28. feature 32 (0.003988)\n",
      "29. feature 28 (0.003658)\n",
      "30. feature 35 (0.002887)\n",
      "31. feature 43 (0.002416)\n",
      "32. feature 26 (0.002244)\n",
      "33. feature 25 (0.002178)\n",
      "34. feature 42 (0.001728)\n",
      "35. feature 40 (0.001686)\n",
      "36. feature 50 (0.001331)\n",
      "37. feature 45 (0.000999)\n",
      "38. feature 47 (0.000756)\n",
      "39. feature 52 (0.000640)\n",
      "40. feature 18 (0.000633)\n",
      "41. feature 48 (0.000548)\n",
      "42. feature 53 (0.000477)\n",
      "43. feature 41 (0.000452)\n",
      "44. feature 49 (0.000405)\n",
      "45. feature 46 (0.000378)\n",
      "46. feature 17 (0.000308)\n",
      "47. feature 15 (0.000305)\n",
      "48. feature 24 (0.000233)\n",
      "49. feature 51 (0.000103)\n",
      "50. feature 27 (0.000076)\n",
      "51. feature 36 (0.000071)\n",
      "52. feature 39 (0.000009)\n",
      "53. feature 38 (0.000006)\n",
      "54. feature 44 (0.000000)\n"
     ]
    }
   ],
   "source": [
    "#data ranking based on importance regarding target variable arning-on-large-financial-datasets-8584dacd3a4d\n",
    "forest = ExtraTreesClassifier(n_estimators=250,random_state=0)\n",
    "forest.fit(Independent_Variable, Target_Variable)\n",
    "importances = forest.feature_importances_\n",
    "std = np.std([tree.feature_importances_ for tree in forest.estimators_],axis=0)\n",
    "indices = np.argsort(importances)[::-1]\n",
    "print(\"Feature ranking:\")\n",
    "for f in range(Independent_Variable.shape[1]):\n",
    "    print(\"%d. feature %d (%f)\" % (f + 1, indices[f], importances[indices[f]]))"
   ]
  },
  {
   "cell_type": "code",
   "execution_count": 188,
   "metadata": {},
   "outputs": [
    {
     "data": {
      "text/plain": [
       "['loan_amnt',\n",
       " 'int_rate',\n",
       " 'installment',\n",
       " 'emp_length',\n",
       " 'annual_inc',\n",
       " 'dti',\n",
       " 'delinq_2yrs',\n",
       " 'inq_last_6mths',\n",
       " 'open_acc',\n",
       " 'revol_bal',\n",
       " 'revol_util',\n",
       " 'total_acc',\n",
       " 'out_prncp',\n",
       " 'total_pymnt',\n",
       " 'recoveries',\n",
       " 'acc_now_delinq',\n",
       " 'tot_coll_amt',\n",
       " 'delinq_amnt',\n",
       " 'chargeoff_within_12_mths',\n",
       " 'num_accts_ever_120_pd',\n",
       " 'mort_acc',\n",
       " 'mths_since_recent_inq',\n",
       " 'mths_since_recent_bc',\n",
       " 'num_actv_bc_tl',\n",
       " 'num_tl_30dpd',\n",
       " 'num_tl_90g_dpd_24m',\n",
       " 'tax_liens',\n",
       " 'num_tl_120dpd_2m',\n",
       " 'pub_rec_bankruptcies',\n",
       " ' 36 months',\n",
       " 'A',\n",
       " 'B',\n",
       " 'C',\n",
       " 'D',\n",
       " 'E',\n",
       " 'F',\n",
       " 'ANY',\n",
       " 'MORTGAGE',\n",
       " 'NONE',\n",
       " 'OTHER',\n",
       " 'OWN',\n",
       " 'car',\n",
       " 'credit_card',\n",
       " 'debt_consolidation',\n",
       " 'educational',\n",
       " 'home_improvement',\n",
       " 'house',\n",
       " 'major_purchase',\n",
       " 'medical',\n",
       " 'moving',\n",
       " 'other',\n",
       " 'renewable_energy',\n",
       " 'small_business',\n",
       " 'vacation']"
      ]
     },
     "execution_count": 188,
     "metadata": {},
     "output_type": "execute_result"
    }
   ],
   "source": [
    "#column name\n",
    "Independent_Variable.columns.tolist()"
   ]
  },
  {
   "cell_type": "code",
   "execution_count": 189,
   "metadata": {},
   "outputs": [],
   "source": [
    "#feature 13 (0.281811): total_pymnt\n",
    "#feature 14 (0.245541): recoveries\n",
    "#feature 0 (0.082882):  loan_amnt\n",
    "#feature 12 (0.078295) out_prncp\n",
    "#feature 2 (0.074389) installment\n",
    "#feature 29 (0.027579) 36 months\n",
    "#feature 1 (0.023393) int_rate\n",
    "#feature 30 (0.011981) A\n",
    "#feature 10 (0.010291) revol_util\n",
    "#feature 5 (0.010131) dti\n",
    "#feature 9 (0.009621) revol_bal\n",
    "#feature 4 (0.009489) annual_inc\n",
    "#feature 8 (0.009284) open_acc\n",
    "#feature 23 (0.009217) num_actv_bc_tl\n",
    "#feature 22 (0.009214) mths_since_recent_bc\n",
    "#feature 11 (0.009198) total_acc\n",
    "#feature 21 (0.008893) mths_since_recent_inq\n",
    "#feature 3 (0.007804) emp_length\n",
    "#feature 31 (0.007192) B\n",
    "#feature 20 (0.007079) mort_acc\n",
    "#feature 34 (0.006561) E\n",
    "#feature 7 (0.005905) inq_last_6mths\n",
    "#feature 33 (0.005682) D\n",
    "#feature 19 (0.005627) num_accts_ever_120_pd\n",
    "#feature 16 (0.005478) tot_coll_amt\n",
    "#feature 6 (0.004888) delinq_2yrs\n",
    "#feature 37 (0.004062) MORTGAGE\n",
    "#feature 32 (0.003988) C\n",
    "#feature 28 (0.003658) pub_rec_bankruptcies\n",
    "#feature 35 (0.002887) F\n",
    "#feature 43 (0.002416) debt_consolidation\n",
    "#feature 26 (0.002244) tax_liens\n",
    "#feature 25 (0.002178) num_tl_90g_dpd_24m\n",
    "#feature 42 (0.001728) credit_card \n",
    "#feature 40 (0.001686) OWN\n",
    "#feature 50 (0.001331) other\n",
    "#feature 45 (0.000999) home_improvement\n",
    "#feature 47 (0.000756) major_purchase\n",
    "#feature 52 (0.000640) small_business\n",
    "#feature 18 (0.000633) chargeoff_within_12_mths\n",
    "#feature 48 (0.000548) medical\n",
    "#feature 53 (0.000477) vacation\n",
    "#feature 41 (0.000452) car\n",
    "#feature 49 (0.000405) moving\n",
    "#feature 46 (0.000378) house\n",
    "#feature 17 (0.000308) delinq_amnt\n",
    "#feature 15 (0.000305) acc_now_delinq\n",
    "#feature 24 (0.000233) num_tl_30dpd\n",
    "#feature 51 (0.000103) renewable_energy\n",
    "#feature 27 (0.000076) num_tl_120dpd_2m\n",
    "#feature 36 (0.000071) ANY\n",
    "#feature 39 (0.000009) OTHER\n",
    "#feature 38 (0.000006) NONE\n",
    "#feature 44 (0.000000) educational"
   ]
  },
  {
   "cell_type": "code",
   "execution_count": 191,
   "metadata": {},
   "outputs": [
    {
     "name": "stdout",
     "output_type": "stream",
     "text": [
      "0.01851851851851852\n"
     ]
    }
   ],
   "source": [
    "mean =np.mean(importances)\n",
    "print (mean)"
   ]
  },
  {
   "cell_type": "code",
   "execution_count": 88,
   "metadata": {},
   "outputs": [],
   "source": [
    "Independent_Variable.drop(columns = ['home_improvement','major_purchase','small_business','chargeoff_within_12_mths','medical','vacation','car','moving','house','delinq_amnt','acc_now_delinq','num_tl_30dpd','renewable_energy','num_tl_120dpd_2m','ANY','OTHER','NONE','educational'], inplace = True)"
   ]
  },
  {
   "cell_type": "markdown",
   "metadata": {},
   "source": [
    "# If we drop variable which has less than mean value then we can have only ten variables which will affect our analysis"
   ]
  },
  {
   "cell_type": "markdown",
   "metadata": {},
   "source": [
    "# Correlation"
   ]
  },
  {
   "cell_type": "code",
   "execution_count": 89,
   "metadata": {},
   "outputs": [
    {
     "data": {
      "text/plain": [
       "installment            loan_amnt         0.951506\n",
       "total_acc              open_acc          0.699642\n",
       "total_pymnt            loan_amnt         0.825801\n",
       "                       installment       0.788379\n",
       "mths_since_recent_inq  inq_last_6mths   -0.568839\n",
       "num_actv_bc_tl         open_acc          0.533607\n",
       "num_tl_90g_dpd_24m     delinq_2yrs       0.641621\n",
       "A                      int_rate         -0.578182\n",
       "debt_consolidation     credit_card      -0.629324\n",
       "dtype: float64"
      ]
     },
     "execution_count": 89,
     "metadata": {},
     "output_type": "execute_result"
    }
   ],
   "source": [
    "#correlation between 2 variable \n",
    "cor = Independent_Variable.corr()\n",
    "cor.loc[:,:] = np.tril(cor, k=-1) # below main lower triangle of an array\n",
    "cor = cor.stack()\n",
    "cor[(cor > 0.50) | (cor < -0.50)]"
   ]
  },
  {
   "cell_type": "code",
   "execution_count": 90,
   "metadata": {},
   "outputs": [
    {
     "data": {
      "text/html": [
       "<div>\n",
       "<style scoped>\n",
       "    .dataframe tbody tr th:only-of-type {\n",
       "        vertical-align: middle;\n",
       "    }\n",
       "\n",
       "    .dataframe tbody tr th {\n",
       "        vertical-align: top;\n",
       "    }\n",
       "\n",
       "    .dataframe thead th {\n",
       "        text-align: right;\n",
       "    }\n",
       "</style>\n",
       "<table border=\"1\" class=\"dataframe\">\n",
       "  <thead>\n",
       "    <tr style=\"text-align: right;\">\n",
       "      <th></th>\n",
       "      <th>loan_amnt</th>\n",
       "      <th>int_rate</th>\n",
       "      <th>installment</th>\n",
       "      <th>emp_length</th>\n",
       "      <th>annual_inc</th>\n",
       "      <th>dti</th>\n",
       "      <th>delinq_2yrs</th>\n",
       "      <th>inq_last_6mths</th>\n",
       "      <th>open_acc</th>\n",
       "      <th>revol_bal</th>\n",
       "      <th>...</th>\n",
       "      <th>B</th>\n",
       "      <th>C</th>\n",
       "      <th>D</th>\n",
       "      <th>E</th>\n",
       "      <th>F</th>\n",
       "      <th>MORTGAGE</th>\n",
       "      <th>OWN</th>\n",
       "      <th>credit_card</th>\n",
       "      <th>debt_consolidation</th>\n",
       "      <th>other</th>\n",
       "    </tr>\n",
       "  </thead>\n",
       "  <tbody>\n",
       "    <tr>\n",
       "      <th>loan_amnt</th>\n",
       "      <td>1.000000</td>\n",
       "      <td>0.137755</td>\n",
       "      <td>0.951506</td>\n",
       "      <td>0.078760</td>\n",
       "      <td>0.284313</td>\n",
       "      <td>0.026898</td>\n",
       "      <td>-0.006276</td>\n",
       "      <td>-0.019042</td>\n",
       "      <td>0.167801</td>\n",
       "      <td>0.307078</td>\n",
       "      <td>...</td>\n",
       "      <td>-0.089999</td>\n",
       "      <td>-0.018291</td>\n",
       "      <td>0.042610</td>\n",
       "      <td>0.095767</td>\n",
       "      <td>0.079788</td>\n",
       "      <td>0.171160</td>\n",
       "      <td>-0.015377</td>\n",
       "      <td>0.014563</td>\n",
       "      <td>0.102359</td>\n",
       "      <td>-0.123623</td>\n",
       "    </tr>\n",
       "    <tr>\n",
       "      <th>int_rate</th>\n",
       "      <td>0.137755</td>\n",
       "      <td>1.000000</td>\n",
       "      <td>0.153552</td>\n",
       "      <td>-0.010123</td>\n",
       "      <td>-0.073660</td>\n",
       "      <td>0.159529</td>\n",
       "      <td>0.045006</td>\n",
       "      <td>0.206766</td>\n",
       "      <td>-0.015704</td>\n",
       "      <td>-0.026345</td>\n",
       "      <td>...</td>\n",
       "      <td>-0.361009</td>\n",
       "      <td>0.081784</td>\n",
       "      <td>0.398729</td>\n",
       "      <td>0.448731</td>\n",
       "      <td>0.381643</td>\n",
       "      <td>-0.076926</td>\n",
       "      <td>0.006972</td>\n",
       "      <td>-0.161793</td>\n",
       "      <td>0.088584</td>\n",
       "      <td>0.073334</td>\n",
       "    </tr>\n",
       "    <tr>\n",
       "      <th>installment</th>\n",
       "      <td>0.951506</td>\n",
       "      <td>0.153552</td>\n",
       "      <td>1.000000</td>\n",
       "      <td>0.066415</td>\n",
       "      <td>0.276245</td>\n",
       "      <td>0.030151</td>\n",
       "      <td>0.003824</td>\n",
       "      <td>0.004666</td>\n",
       "      <td>0.157648</td>\n",
       "      <td>0.296062</td>\n",
       "      <td>...</td>\n",
       "      <td>-0.088306</td>\n",
       "      <td>-0.034553</td>\n",
       "      <td>0.053251</td>\n",
       "      <td>0.092456</td>\n",
       "      <td>0.086872</td>\n",
       "      <td>0.139350</td>\n",
       "      <td>-0.010235</td>\n",
       "      <td>0.006348</td>\n",
       "      <td>0.100717</td>\n",
       "      <td>-0.111910</td>\n",
       "    </tr>\n",
       "    <tr>\n",
       "      <th>emp_length</th>\n",
       "      <td>0.078760</td>\n",
       "      <td>-0.010123</td>\n",
       "      <td>0.066415</td>\n",
       "      <td>1.000000</td>\n",
       "      <td>0.059988</td>\n",
       "      <td>0.017379</td>\n",
       "      <td>0.019651</td>\n",
       "      <td>0.000597</td>\n",
       "      <td>0.042117</td>\n",
       "      <td>0.080652</td>\n",
       "      <td>...</td>\n",
       "      <td>0.003016</td>\n",
       "      <td>-0.008909</td>\n",
       "      <td>-0.007537</td>\n",
       "      <td>0.000603</td>\n",
       "      <td>0.003296</td>\n",
       "      <td>0.180651</td>\n",
       "      <td>0.018270</td>\n",
       "      <td>-0.026750</td>\n",
       "      <td>0.020897</td>\n",
       "      <td>-0.002604</td>\n",
       "    </tr>\n",
       "    <tr>\n",
       "      <th>annual_inc</th>\n",
       "      <td>0.284313</td>\n",
       "      <td>-0.073660</td>\n",
       "      <td>0.276245</td>\n",
       "      <td>0.059988</td>\n",
       "      <td>1.000000</td>\n",
       "      <td>-0.158562</td>\n",
       "      <td>0.036647</td>\n",
       "      <td>0.022539</td>\n",
       "      <td>0.115011</td>\n",
       "      <td>0.268220</td>\n",
       "      <td>...</td>\n",
       "      <td>0.004210</td>\n",
       "      <td>-0.031923</td>\n",
       "      <td>-0.035161</td>\n",
       "      <td>-0.020408</td>\n",
       "      <td>-0.011283</td>\n",
       "      <td>0.126760</td>\n",
       "      <td>-0.011499</td>\n",
       "      <td>-0.002691</td>\n",
       "      <td>-0.025575</td>\n",
       "      <td>-0.011538</td>\n",
       "    </tr>\n",
       "  </tbody>\n",
       "</table>\n",
       "<p>5 rows × 36 columns</p>\n",
       "</div>"
      ],
      "text/plain": [
       "             loan_amnt  int_rate  installment  emp_length  annual_inc  \\\n",
       "loan_amnt     1.000000  0.137755     0.951506    0.078760    0.284313   \n",
       "int_rate      0.137755  1.000000     0.153552   -0.010123   -0.073660   \n",
       "installment   0.951506  0.153552     1.000000    0.066415    0.276245   \n",
       "emp_length    0.078760 -0.010123     0.066415    1.000000    0.059988   \n",
       "annual_inc    0.284313 -0.073660     0.276245    0.059988    1.000000   \n",
       "\n",
       "                  dti  delinq_2yrs  inq_last_6mths  open_acc  revol_bal  ...  \\\n",
       "loan_amnt    0.026898    -0.006276       -0.019042  0.167801   0.307078  ...   \n",
       "int_rate     0.159529     0.045006        0.206766 -0.015704  -0.026345  ...   \n",
       "installment  0.030151     0.003824        0.004666  0.157648   0.296062  ...   \n",
       "emp_length   0.017379     0.019651        0.000597  0.042117   0.080652  ...   \n",
       "annual_inc  -0.158562     0.036647        0.022539  0.115011   0.268220  ...   \n",
       "\n",
       "                    B         C         D         E         F  MORTGAGE  \\\n",
       "loan_amnt   -0.089999 -0.018291  0.042610  0.095767  0.079788  0.171160   \n",
       "int_rate    -0.361009  0.081784  0.398729  0.448731  0.381643 -0.076926   \n",
       "installment -0.088306 -0.034553  0.053251  0.092456  0.086872  0.139350   \n",
       "emp_length   0.003016 -0.008909 -0.007537  0.000603  0.003296  0.180651   \n",
       "annual_inc   0.004210 -0.031923 -0.035161 -0.020408 -0.011283  0.126760   \n",
       "\n",
       "                  OWN  credit_card  debt_consolidation     other  \n",
       "loan_amnt   -0.015377     0.014563            0.102359 -0.123623  \n",
       "int_rate     0.006972    -0.161793            0.088584  0.073334  \n",
       "installment -0.010235     0.006348            0.100717 -0.111910  \n",
       "emp_length   0.018270    -0.026750            0.020897 -0.002604  \n",
       "annual_inc  -0.011499    -0.002691           -0.025575 -0.011538  \n",
       "\n",
       "[5 rows x 36 columns]"
      ]
     },
     "execution_count": 90,
     "metadata": {},
     "output_type": "execute_result"
    }
   ],
   "source": [
    "# method : {‘pearson’, ‘kendall’, ‘spearman’} or callable\n",
    "Correlation_Variables = Independent_Variable.corr(method='pearson')\n",
    "Correlation_Variables.head()"
   ]
  },
  {
   "cell_type": "code",
   "execution_count": 91,
   "metadata": {},
   "outputs": [
    {
     "data": {
      "text/html": [
       "<div>\n",
       "<style scoped>\n",
       "    .dataframe tbody tr th:only-of-type {\n",
       "        vertical-align: middle;\n",
       "    }\n",
       "\n",
       "    .dataframe tbody tr th {\n",
       "        vertical-align: top;\n",
       "    }\n",
       "\n",
       "    .dataframe thead th {\n",
       "        text-align: right;\n",
       "    }\n",
       "</style>\n",
       "<table border=\"1\" class=\"dataframe\">\n",
       "  <thead>\n",
       "    <tr style=\"text-align: right;\">\n",
       "      <th></th>\n",
       "      <th>loan_amnt</th>\n",
       "      <th>int_rate</th>\n",
       "      <th>installment</th>\n",
       "      <th>emp_length</th>\n",
       "      <th>annual_inc</th>\n",
       "      <th>dti</th>\n",
       "      <th>delinq_2yrs</th>\n",
       "      <th>inq_last_6mths</th>\n",
       "      <th>open_acc</th>\n",
       "      <th>revol_bal</th>\n",
       "      <th>...</th>\n",
       "      <th>B</th>\n",
       "      <th>C</th>\n",
       "      <th>D</th>\n",
       "      <th>E</th>\n",
       "      <th>F</th>\n",
       "      <th>MORTGAGE</th>\n",
       "      <th>OWN</th>\n",
       "      <th>credit_card</th>\n",
       "      <th>debt_consolidation</th>\n",
       "      <th>other</th>\n",
       "    </tr>\n",
       "  </thead>\n",
       "  <tbody>\n",
       "    <tr>\n",
       "      <th>loan_amnt</th>\n",
       "      <td>1.000000</td>\n",
       "      <td>0.137755</td>\n",
       "      <td>0.951506</td>\n",
       "      <td>0.078760</td>\n",
       "      <td>0.284313</td>\n",
       "      <td>0.026898</td>\n",
       "      <td>-0.006276</td>\n",
       "      <td>-0.019042</td>\n",
       "      <td>0.167801</td>\n",
       "      <td>0.307078</td>\n",
       "      <td>...</td>\n",
       "      <td>-0.089999</td>\n",
       "      <td>-0.018291</td>\n",
       "      <td>0.042610</td>\n",
       "      <td>0.095767</td>\n",
       "      <td>0.079788</td>\n",
       "      <td>0.171160</td>\n",
       "      <td>-0.015377</td>\n",
       "      <td>0.014563</td>\n",
       "      <td>0.102359</td>\n",
       "      <td>-0.123623</td>\n",
       "    </tr>\n",
       "    <tr>\n",
       "      <th>int_rate</th>\n",
       "      <td>0.137755</td>\n",
       "      <td>1.000000</td>\n",
       "      <td>0.153552</td>\n",
       "      <td>-0.010123</td>\n",
       "      <td>-0.073660</td>\n",
       "      <td>0.159529</td>\n",
       "      <td>0.045006</td>\n",
       "      <td>0.206766</td>\n",
       "      <td>-0.015704</td>\n",
       "      <td>-0.026345</td>\n",
       "      <td>...</td>\n",
       "      <td>-0.361009</td>\n",
       "      <td>0.081784</td>\n",
       "      <td>0.398729</td>\n",
       "      <td>0.448731</td>\n",
       "      <td>0.381643</td>\n",
       "      <td>-0.076926</td>\n",
       "      <td>0.006972</td>\n",
       "      <td>-0.161793</td>\n",
       "      <td>0.088584</td>\n",
       "      <td>0.073334</td>\n",
       "    </tr>\n",
       "    <tr>\n",
       "      <th>installment</th>\n",
       "      <td>0.951506</td>\n",
       "      <td>0.153552</td>\n",
       "      <td>1.000000</td>\n",
       "      <td>0.066415</td>\n",
       "      <td>0.276245</td>\n",
       "      <td>0.030151</td>\n",
       "      <td>0.003824</td>\n",
       "      <td>0.004666</td>\n",
       "      <td>0.157648</td>\n",
       "      <td>0.296062</td>\n",
       "      <td>...</td>\n",
       "      <td>-0.088306</td>\n",
       "      <td>-0.034553</td>\n",
       "      <td>0.053251</td>\n",
       "      <td>0.092456</td>\n",
       "      <td>0.086872</td>\n",
       "      <td>0.139350</td>\n",
       "      <td>-0.010235</td>\n",
       "      <td>0.006348</td>\n",
       "      <td>0.100717</td>\n",
       "      <td>-0.111910</td>\n",
       "    </tr>\n",
       "    <tr>\n",
       "      <th>emp_length</th>\n",
       "      <td>0.078760</td>\n",
       "      <td>-0.010123</td>\n",
       "      <td>0.066415</td>\n",
       "      <td>1.000000</td>\n",
       "      <td>0.059988</td>\n",
       "      <td>0.017379</td>\n",
       "      <td>0.019651</td>\n",
       "      <td>0.000597</td>\n",
       "      <td>0.042117</td>\n",
       "      <td>0.080652</td>\n",
       "      <td>...</td>\n",
       "      <td>0.003016</td>\n",
       "      <td>-0.008909</td>\n",
       "      <td>-0.007537</td>\n",
       "      <td>0.000603</td>\n",
       "      <td>0.003296</td>\n",
       "      <td>0.180651</td>\n",
       "      <td>0.018270</td>\n",
       "      <td>-0.026750</td>\n",
       "      <td>0.020897</td>\n",
       "      <td>-0.002604</td>\n",
       "    </tr>\n",
       "    <tr>\n",
       "      <th>annual_inc</th>\n",
       "      <td>0.284313</td>\n",
       "      <td>-0.073660</td>\n",
       "      <td>0.276245</td>\n",
       "      <td>0.059988</td>\n",
       "      <td>1.000000</td>\n",
       "      <td>-0.158562</td>\n",
       "      <td>0.036647</td>\n",
       "      <td>0.022539</td>\n",
       "      <td>0.115011</td>\n",
       "      <td>0.268220</td>\n",
       "      <td>...</td>\n",
       "      <td>0.004210</td>\n",
       "      <td>-0.031923</td>\n",
       "      <td>-0.035161</td>\n",
       "      <td>-0.020408</td>\n",
       "      <td>-0.011283</td>\n",
       "      <td>0.126760</td>\n",
       "      <td>-0.011499</td>\n",
       "      <td>-0.002691</td>\n",
       "      <td>-0.025575</td>\n",
       "      <td>-0.011538</td>\n",
       "    </tr>\n",
       "  </tbody>\n",
       "</table>\n",
       "<p>5 rows × 36 columns</p>\n",
       "</div>"
      ],
      "text/plain": [
       "             loan_amnt  int_rate  installment  emp_length  annual_inc  \\\n",
       "loan_amnt     1.000000  0.137755     0.951506    0.078760    0.284313   \n",
       "int_rate      0.137755  1.000000     0.153552   -0.010123   -0.073660   \n",
       "installment   0.951506  0.153552     1.000000    0.066415    0.276245   \n",
       "emp_length    0.078760 -0.010123     0.066415    1.000000    0.059988   \n",
       "annual_inc    0.284313 -0.073660     0.276245    0.059988    1.000000   \n",
       "\n",
       "                  dti  delinq_2yrs  inq_last_6mths  open_acc  revol_bal  ...  \\\n",
       "loan_amnt    0.026898    -0.006276       -0.019042  0.167801   0.307078  ...   \n",
       "int_rate     0.159529     0.045006        0.206766 -0.015704  -0.026345  ...   \n",
       "installment  0.030151     0.003824        0.004666  0.157648   0.296062  ...   \n",
       "emp_length   0.017379     0.019651        0.000597  0.042117   0.080652  ...   \n",
       "annual_inc  -0.158562     0.036647        0.022539  0.115011   0.268220  ...   \n",
       "\n",
       "                    B         C         D         E         F  MORTGAGE  \\\n",
       "loan_amnt   -0.089999 -0.018291  0.042610  0.095767  0.079788  0.171160   \n",
       "int_rate    -0.361009  0.081784  0.398729  0.448731  0.381643 -0.076926   \n",
       "installment -0.088306 -0.034553  0.053251  0.092456  0.086872  0.139350   \n",
       "emp_length   0.003016 -0.008909 -0.007537  0.000603  0.003296  0.180651   \n",
       "annual_inc   0.004210 -0.031923 -0.035161 -0.020408 -0.011283  0.126760   \n",
       "\n",
       "                  OWN  credit_card  debt_consolidation     other  \n",
       "loan_amnt   -0.015377     0.014563            0.102359 -0.123623  \n",
       "int_rate     0.006972    -0.161793            0.088584  0.073334  \n",
       "installment -0.010235     0.006348            0.100717 -0.111910  \n",
       "emp_length   0.018270    -0.026750            0.020897 -0.002604  \n",
       "annual_inc  -0.011499    -0.002691           -0.025575 -0.011538  \n",
       "\n",
       "[5 rows x 36 columns]"
      ]
     },
     "execution_count": 91,
     "metadata": {},
     "output_type": "execute_result"
    }
   ],
   "source": [
    "# method : {‘pearson’, ‘kendall’, ‘spearman’} or callable\n",
    "Correlation_Variables = Independent_Variable.corr(method='pearson')\n",
    "Correlation_Variables.head()"
   ]
  },
  {
   "cell_type": "code",
   "execution_count": 92,
   "metadata": {},
   "outputs": [
    {
     "data": {
      "text/plain": [
       "<AxesSubplot:>"
      ]
     },
     "execution_count": 92,
     "metadata": {},
     "output_type": "execute_result"
    },
    {
     "data": {
      "image/png": "[encoded data removed]",
      "text/plain": [
       "<Figure size 864x576 with 2 Axes>"
      ]
     },
     "metadata": {
      "needs_background": "light"
     },
     "output_type": "display_data"
    }
   ],
   "source": [
    "#coorelation metricx in graph\n",
    "sns.heatmap(Correlation_Variables) # Heat Map"
   ]
  },
  {
   "cell_type": "code",
   "execution_count": 93,
   "metadata": {},
   "outputs": [
    {
     "data": {
      "text/plain": [
       "<AxesSubplot:>"
      ]
     },
     "execution_count": 93,
     "metadata": {},
     "output_type": "execute_result"
    },
    {
     "data": {
      "image/png": "[encoded data removed]",
      "text/plain": [
       "<Figure size 864x576 with 2 Axes>"
      ]
     },
     "metadata": {
      "needs_background": "light"
     },
     "output_type": "display_data"
    }
   ],
   "source": [
    "# Removing Top Right Triangle\n",
    "mask = np.zeros_like(Correlation_Variables, dtype=np.bool)\n",
    "mask[np.triu_indices_from(mask)] = True\n",
    "#Colors\n",
    "cmap = sns.diverging_palette(240, 10, as_cmap=True)\n",
    "sns.heatmap(Correlation_Variables, mask=mask, linewidths=.15, cmap=cmap, center=0)"
   ]
  },
  {
   "cell_type": "code",
   "execution_count": 94,
   "metadata": {},
   "outputs": [
    {
     "data": {
      "text/plain": [
       "loan_amnt               -0.083579\n",
       "int_rate                -0.264876\n",
       "installment             -0.068113\n",
       "emp_length               0.023299\n",
       "annual_inc               0.033037\n",
       "dti                     -0.090609\n",
       "delinq_2yrs             -0.019515\n",
       "inq_last_6mths          -0.050331\n",
       "open_acc                -0.023575\n",
       "revol_bal                0.021105\n",
       "revol_util              -0.052867\n",
       "total_acc                0.023010\n",
       "out_prncp               -0.269873\n",
       "total_pymnt              0.334172\n",
       "recoveries              -0.468261\n",
       "tot_coll_amt             0.000611\n",
       "num_accts_ever_120_pd   -0.012991\n",
       "mort_acc                 0.085564\n",
       "mths_since_recent_inq    0.053811\n",
       "mths_since_recent_bc     0.045183\n",
       "num_actv_bc_tl          -0.040855\n",
       "num_tl_90g_dpd_24m      -0.009125\n",
       "tax_liens               -0.008686\n",
       "pub_rec_bankruptcies    -0.020686\n",
       " 36 months               0.186137\n",
       "A                        0.162123\n",
       "B                        0.111551\n",
       "C                       -0.039761\n",
       "D                       -0.112915\n",
       "E                       -0.123819\n",
       "F                       -0.093839\n",
       "MORTGAGE                 0.074557\n",
       "OWN                     -0.005093\n",
       "credit_card              0.040656\n",
       "debt_consolidation      -0.030182\n",
       "other                   -0.010015\n",
       "dtype: float64"
      ]
     },
     "execution_count": 94,
     "metadata": {},
     "output_type": "execute_result"
    }
   ],
   "source": [
    "Independent_Variable.corrwith(Target_Variable, axis = 0)\n",
    "#correlation with target variable"
   ]
  },
  {
   "cell_type": "code",
   "execution_count": 95,
   "metadata": {},
   "outputs": [],
   "source": [
    "#drop variable which is highly correlated \n",
    "Independent_Variable.drop(columns = ['loan_amnt','open_acc','installment'], inplace = True)"
   ]
  },
  {
   "cell_type": "code",
   "execution_count": 96,
   "metadata": {},
   "outputs": [
    {
     "data": {
      "text/plain": [
       "mths_since_recent_inq  inq_last_6mths   -0.568839\n",
       "num_tl_90g_dpd_24m     delinq_2yrs       0.641621\n",
       "A                      int_rate         -0.578182\n",
       "debt_consolidation     credit_card      -0.629324\n",
       "dtype: float64"
      ]
     },
     "execution_count": 96,
     "metadata": {},
     "output_type": "execute_result"
    }
   ],
   "source": [
    "cor = Independent_Variable.corr()\n",
    "cor.loc[:,:] = np.tril(cor, k=-1) # below main lower triangle of an array\n",
    "cor = cor.stack()\n",
    "cor[(cor > 0.50) | (cor < -0.50)]"
   ]
  },
  {
   "cell_type": "markdown",
   "metadata": {},
   "source": [
    "# Training and Test Data Split"
   ]
  },
  {
   "cell_type": "code",
   "execution_count": 97,
   "metadata": {},
   "outputs": [],
   "source": [
    "#import required libraries\n",
    "from sklearn.model_selection import KFold\n",
    "from sklearn.linear_model import LogisticRegression\n",
    "from sklearn.model_selection import cross_val_predict\n",
    "from sklearn.ensemble import RandomForestClassifier\n",
    "from sklearn.model_selection import train_test_split\n",
    "from sklearn.tree import DecisionTreeClassifier\n",
    "from sklearn.metrics import accuracy_score, confusion_matrix, classification_report\n",
    "from sklearn import svm\n",
    "from sklearn.pipeline import Pipeline\n",
    "from sklearn.metrics import recall_score\n",
    "import statsmodels.api as sm\n",
    "from statsmodels.formula.api import ols\n",
    "from sklearn.decomposition import PCA\n",
    "import warnings\n",
    "\n",
    "import itertools\n",
    "\n",
    "from imblearn.over_sampling import SMOTE"
   ]
  },
  {
   "cell_type": "code",
   "execution_count": 98,
   "metadata": {},
   "outputs": [],
   "source": [
    "#split dataset into train and test \n",
    "X_train, X_test, y_train, y_test = train_test_split(Independent_Variable, Target_Variable, test_size=0.2, random_state=15)"
   ]
  },
  {
   "cell_type": "code",
   "execution_count": 99,
   "metadata": {},
   "outputs": [
    {
     "name": "stdout",
     "output_type": "stream",
     "text": [
      "(877619, 33) (877619,)\n",
      "(219405, 33) (219405,)\n"
     ]
    }
   ],
   "source": [
    "#print train & test data shape \n",
    "print (X_train.shape, y_train.shape)\n",
    "print (X_test.shape, y_test.shape)"
   ]
  },
  {
   "cell_type": "markdown",
   "metadata": {},
   "source": [
    "# Undersampling"
   ]
  },
  {
   "cell_type": "code",
   "execution_count": 109,
   "metadata": {},
   "outputs": [
    {
     "name": "stdout",
     "output_type": "stream",
     "text": [
      "Number of X_train data:  (877619, 33)\n",
      "Number of y_train data:  (877619,)\n",
      "Number of X_test data:  (219405, 33)\n",
      "Number of y_test data:  (219405,)\n"
     ]
    }
   ],
   "source": [
    "# describes info about train and test set \n",
    "print(\"Number of X_train data: \", X_train.shape) \n",
    "print(\"Number of y_train data: \", y_train.shape) \n",
    "print(\"Number of X_test data: \", X_test.shape) \n",
    "print(\"Number of y_test data: \", y_test.shape) "
   ]
  },
  {
   "cell_type": "code",
   "execution_count": 110,
   "metadata": {},
   "outputs": [
    {
     "name": "stdout",
     "output_type": "stream",
     "text": [
      "Before OverSampling or UnderSampling, counts of label '1': 681677\n",
      "Before OverSampling or UnderSampling, counts of label '0': 195942 \n",
      "\n"
     ]
    }
   ],
   "source": [
    "#print before undersampling data \n",
    "print(\"Before OverSampling or UnderSampling, counts of label '1': {}\".format(sum(y_train == 1))) \n",
    "print(\"Before OverSampling or UnderSampling, counts of label '0': {} \\n\".format(sum(y_train == 0))) "
   ]
  },
  {
   "cell_type": "code",
   "execution_count": 111,
   "metadata": {},
   "outputs": [],
   "source": [
    "#import required libraries\n",
    "from imblearn.under_sampling import RandomUnderSampler"
   ]
  },
  {
   "cell_type": "code",
   "execution_count": 112,
   "metadata": {},
   "outputs": [],
   "source": [
    "#undersampling\n",
    "rus = RandomUnderSampler(random_state= 42)\n",
    "X_train_Undersample, y_train_Undersample = rus.fit_sample(X_train, y_train)"
   ]
  },
  {
   "cell_type": "code",
   "execution_count": 113,
   "metadata": {},
   "outputs": [
    {
     "name": "stdout",
     "output_type": "stream",
     "text": [
      "After UnderSampling of data, the shape of train_X: (391884, 33)\n",
      "After UnderSampling of data, the shape of train_y: (391884,) \n",
      "\n",
      "After UnderSampling of data, counts of label '1': 195942\n",
      "After UnderSampling of data, counts of label '0': 195942\n"
     ]
    }
   ],
   "source": [
    "#print data set after undersampling \n",
    "print('After UnderSampling of data, the shape of train_X: {}'.format(X_train_Undersample.shape)) \n",
    "print('After UnderSampling of data, the shape of train_y: {} \\n'.format(y_train_Undersample.shape)) \n",
    "  \n",
    "print(\"After UnderSampling of data, counts of label '1': {}\".format(sum(y_train_Undersample == 1))) \n",
    "print(\"After UnderSampling of data, counts of label '0': {}\".format(sum(y_train_Undersample == 0))) "
   ]
  },
  {
   "cell_type": "code",
   "execution_count": 114,
   "metadata": {},
   "outputs": [],
   "source": []
  },
  {
   "cell_type": "markdown",
   "metadata": {},
   "source": [
    "# Evaluation Metrics"
   ]
  },
  {
   "cell_type": "code",
   "execution_count": 115,
   "metadata": {},
   "outputs": [],
   "source": [
    "#Import Required Libraries\n",
    "from sklearn.metrics import roc_curve\n",
    "from sklearn.metrics import roc_auc_score\n",
    "from sklearn.naive_bayes import GaussianNB"
   ]
  },
  {
   "cell_type": "code",
   "execution_count": 116,
   "metadata": {},
   "outputs": [],
   "source": [
    "#Confusion Matrics\n",
    "def plot_confusion_matrix(cm, classes,\n",
    "                          normalize=False,\n",
    "                          title='Confusion matrix',\n",
    "                          cmap=plt.cm.Blues):\n",
    "    \n",
    "    if normalize:\n",
    "        cm = cm.astype('float') / cm.sum(axis=1)[:, np.newaxis]\n",
    "        print(\"Normalized confusion matrix\")\n",
    "    else:\n",
    "        print('Confusion matrix, without normalization')\n",
    "\n",
    "    print(cm)\n",
    "\n",
    "    plt.imshow(cm, interpolation='nearest', cmap=cmap)\n",
    "    plt.title(title)\n",
    "    plt.colorbar()\n",
    "    tick_marks = np.arange(len(classes))\n",
    "    plt.xticks(tick_marks, classes, rotation=45)\n",
    "    plt.yticks(tick_marks, classes)\n",
    "\n",
    "    thresh = cm.max() / 2.\n",
    "    for i, j in itertools.product(range(cm.shape[0]), range(cm.shape[1])):\n",
    "        plt.text(j, i, format(cm[i, j]),\n",
    "                 horizontalalignment=\"center\",\n",
    "                 color=\"white\" if cm[i, j] > thresh else \"black\")\n",
    "\n",
    "    plt.ylabel('True label')\n",
    "    plt.xlabel('Predicted label')\n",
    "    plt.tight_layout()"
   ]
  },
  {
   "cell_type": "code",
   "execution_count": 118,
   "metadata": {},
   "outputs": [],
   "source": [
    "#Import Required Libraries\n",
    "from sklearn.datasets import make_classification\n",
    "from sklearn.model_selection import KFold\n",
    "from sklearn.model_selection import cross_val_score"
   ]
  },
  {
   "cell_type": "code",
   "execution_count": null,
   "metadata": {},
   "outputs": [],
   "source": [
    "#Import Required Libraries\n",
    "from numpy import mean\n",
    "from numpy import std\n",
    "cv = KFold(n_splits=10, random_state=1, shuffle=True)"
   ]
  },
  {
   "cell_type": "markdown",
   "metadata": {},
   "source": [
    "# Classification Models"
   ]
  },
  {
   "cell_type": "markdown",
   "metadata": {},
   "source": [
    "# Decision Tree"
   ]
  },
  {
   "cell_type": "code",
   "execution_count": 119,
   "metadata": {},
   "outputs": [],
   "source": [
    "clf_tree = DecisionTreeClassifier()"
   ]
  },
  {
   "cell_type": "code",
   "execution_count": 120,
   "metadata": {},
   "outputs": [
    {
     "data": {
      "text/plain": [
       "DecisionTreeClassifier()"
      ]
     },
     "execution_count": 120,
     "metadata": {},
     "output_type": "execute_result"
    }
   ],
   "source": [
    "clf_tree.fit(X_train_Undersample, y_train_Undersample)"
   ]
  },
  {
   "cell_type": "code",
   "execution_count": 121,
   "metadata": {},
   "outputs": [],
   "source": [
    "y_pred_tree = clf_tree.predict_proba(X_test)[:,1]"
   ]
  },
  {
   "cell_type": "code",
   "execution_count": 122,
   "metadata": {},
   "outputs": [
    {
     "name": "stdout",
     "output_type": "stream",
     "text": [
      "              precision    recall  f1-score   support\n",
      "\n",
      "           0       0.68      0.89      0.77     48781\n",
      "           1       0.96      0.88      0.92    170624\n",
      "\n",
      "    accuracy                           0.88    219405\n",
      "   macro avg       0.82      0.88      0.84    219405\n",
      "weighted avg       0.90      0.88      0.89    219405\n",
      "\n"
     ]
    }
   ],
   "source": [
    "print(classification_report(y_test, y_pred_tree)) "
   ]
  },
  {
   "cell_type": "code",
   "execution_count": 123,
   "metadata": {},
   "outputs": [
    {
     "name": "stdout",
     "output_type": "stream",
     "text": [
      "Confusion matrix, without normalization\n",
      "[[ 43293   5488]\n",
      " [ 20609 150015]]\n"
     ]
    },
    {
     "data": {
      "image/png": "[encoded data removed]",
      "text/plain": [
       "<Figure size 864x576 with 2 Axes>"
      ]
     },
     "metadata": {
      "needs_background": "light"
     },
     "output_type": "display_data"
    }
   ],
   "source": [
    "cnf_matrix = confusion_matrix(y_test, y_pred_tree)\n",
    "plot_confusion_matrix(cnf_matrix, classes=[0,1])"
   ]
  },
  {
   "cell_type": "code",
   "execution_count": 124,
   "metadata": {},
   "outputs": [],
   "source": [
    "# Creating true and false positive rates\n",
    "false_positive_rate_tree, true_positive_rate_tree, threshold_tree = roc_curve(y_test, y_pred_tree)"
   ]
  },
  {
   "cell_type": "code",
   "execution_count": 125,
   "metadata": {},
   "outputs": [
    {
     "name": "stdout",
     "output_type": "stream",
     "text": [
      "roc_auc_score for DecisionTree:  0.8833555626953121\n"
     ]
    }
   ],
   "source": [
    "print('roc_auc_score for DecisionTree: ', roc_auc_score(y_test, y_pred_tree))"
   ]
  },
  {
   "cell_type": "code",
   "execution_count": 126,
   "metadata": {},
   "outputs": [
    {
     "data": {
      "image/png": "[encoded data removed]",
      "text/plain": [
       "<Figure size 720x720 with 1 Axes>"
      ]
     },
     "metadata": {
      "needs_background": "light"
     },
     "output_type": "display_data"
    }
   ],
   "source": [
    "plt.subplots(1, figsize=(10,10))\n",
    "plt.title('Receiver Operating Characteristic - DecisionTree')\n",
    "plt.plot(false_positive_rate_tree, true_positive_rate_tree)\n",
    "plt.plot([0, 1], ls=\"--\")\n",
    "plt.plot([0, 0], [1, 0] , c=\".7\"), plt.plot([1, 1] , c=\".7\")\n",
    "plt.ylabel('True Positive Rate')\n",
    "plt.xlabel('False Positive Rate')\n",
    "plt.show()"
   ]
  },
  {
   "cell_type": "code",
   "execution_count": 127,
   "metadata": {},
   "outputs": [
    {
     "name": "stdout",
     "output_type": "stream",
     "text": [
      "Accuracy: 0.884 (0.002)\n"
     ]
    }
   ],
   "source": [
    "scores = cross_val_score(clf_tree, X_train_Undersample,y_train_Undersample, scoring='accuracy', cv=cv, n_jobs=-1)\n",
    "print('Accuracy: %.3f (%.3f)' % (mean(scores), std(scores)))"
   ]
  },
  {
   "cell_type": "markdown",
   "metadata": {},
   "source": [
    "# Logistic Regression"
   ]
  },
  {
   "cell_type": "code",
   "execution_count": 128,
   "metadata": {},
   "outputs": [],
   "source": [
    "clf_reg = LogisticRegression()"
   ]
  },
  {
   "cell_type": "code",
   "execution_count": 129,
   "metadata": {},
   "outputs": [
    {
     "name": "stderr",
     "output_type": "stream",
     "text": [
      "C:\\Users\\Nazmus\\anaconda3\\lib\\site-packages\\sklearn\\linear_model\\_logistic.py:764: ConvergenceWarning: lbfgs failed to converge (status=1):\n",
      "STOP: TOTAL NO. of ITERATIONS REACHED LIMIT.\n",
      "\n",
      "Increase the number of iterations (max_iter) or scale the data as shown in:\n",
      "    https://scikit-learn.org/stable/modules/preprocessing.html\n",
      "Please also refer to the documentation for alternative solver options:\n",
      "    https://scikit-learn.org/stable/modules/linear_model.html#logistic-regression\n",
      "  extra_warning_msg=_LOGISTIC_SOLVER_CONVERGENCE_MSG)\n"
     ]
    },
    {
     "data": {
      "text/plain": [
       "LogisticRegression()"
      ]
     },
     "execution_count": 129,
     "metadata": {},
     "output_type": "execute_result"
    }
   ],
   "source": [
    "clf_reg.fit(X_train_Undersample, y_train_Undersample)"
   ]
  },
  {
   "cell_type": "code",
   "execution_count": 130,
   "metadata": {},
   "outputs": [],
   "source": [
    "y_pred_reg = clf_reg.predict_proba(X_test)[:,1]"
   ]
  },
  {
   "cell_type": "code",
   "execution_count": 131,
   "metadata": {},
   "outputs": [
    {
     "name": "stdout",
     "output_type": "stream",
     "text": [
      "              precision    recall  f1-score   support\n",
      "\n",
      "           0       0.85      0.86      0.86     48781\n",
      "           1       0.96      0.96      0.96    170624\n",
      "\n",
      "    accuracy                           0.94    219405\n",
      "   macro avg       0.91      0.91      0.91    219405\n",
      "weighted avg       0.94      0.94      0.94    219405\n",
      "\n"
     ]
    }
   ],
   "source": [
    "print(classification_report(y_test, y_pred_reg.round())) "
   ]
  },
  {
   "cell_type": "code",
   "execution_count": 132,
   "metadata": {},
   "outputs": [
    {
     "name": "stdout",
     "output_type": "stream",
     "text": [
      "Confusion matrix, without normalization\n",
      "[[ 42085   6696]\n",
      " [  7250 163374]]\n"
     ]
    },
    {
     "data": {
      "image/png": "[encoded data removed]",
      "text/plain": [
       "<Figure size 864x576 with 2 Axes>"
      ]
     },
     "metadata": {
      "needs_background": "light"
     },
     "output_type": "display_data"
    }
   ],
   "source": [
    "cnf_matrix = confusion_matrix(y_test, y_pred_reg.round())\n",
    "plot_confusion_matrix(cnf_matrix, classes=[0,1])"
   ]
  },
  {
   "cell_type": "code",
   "execution_count": 133,
   "metadata": {},
   "outputs": [],
   "source": [
    "# Creating true and false positive rates\n",
    "false_positive_rate_reg, true_positive_rate_reg, threshold_reg = roc_curve(y_test, y_pred_reg)"
   ]
  },
  {
   "cell_type": "code",
   "execution_count": 134,
   "metadata": {},
   "outputs": [
    {
     "name": "stdout",
     "output_type": "stream",
     "text": [
      "roc_auc_score for LogisticRegression:  0.9633814469391292\n"
     ]
    }
   ],
   "source": [
    "print('roc_auc_score for LogisticRegression: ', roc_auc_score(y_test, y_pred_reg))"
   ]
  },
  {
   "cell_type": "code",
   "execution_count": 135,
   "metadata": {},
   "outputs": [
    {
     "data": {
      "image/png": "[encoded data removed]",
      "text/plain": [
       "<Figure size 720x720 with 1 Axes>"
      ]
     },
     "metadata": {
      "needs_background": "light"
     },
     "output_type": "display_data"
    }
   ],
   "source": [
    "plt.subplots(1, figsize=(10,10))\n",
    "plt.title('Receiver Operating Characteristic - LogisticRegression')\n",
    "plt.plot(false_positive_rate_reg, true_positive_rate_reg)\n",
    "plt.plot([0, 1], ls=\"--\")\n",
    "plt.plot([0, 0], [1, 0] , c=\".7\"), plt.plot([1, 1] , c=\".7\")\n",
    "plt.ylabel('True Positive Rate')\n",
    "plt.xlabel('False Positive Rate')\n",
    "plt.show()"
   ]
  },
  {
   "cell_type": "code",
   "execution_count": 136,
   "metadata": {},
   "outputs": [
    {
     "name": "stdout",
     "output_type": "stream",
     "text": [
      "Accuracy: 0.910 (0.001)\n"
     ]
    }
   ],
   "source": [
    "scores = cross_val_score(clf_reg, X_train_Undersample,y_train_Undersample, scoring='accuracy', cv=cv, n_jobs=-1)\n",
    "print('Accuracy: %.3f (%.3f)' % (mean(scores), std(scores)))"
   ]
  },
  {
   "cell_type": "markdown",
   "metadata": {},
   "source": [
    "# Naive Bayes"
   ]
  },
  {
   "cell_type": "code",
   "execution_count": 137,
   "metadata": {},
   "outputs": [],
   "source": [
    "clf_NB = GaussianNB()"
   ]
  },
  {
   "cell_type": "code",
   "execution_count": 138,
   "metadata": {},
   "outputs": [
    {
     "data": {
      "text/plain": [
       "GaussianNB()"
      ]
     },
     "execution_count": 138,
     "metadata": {},
     "output_type": "execute_result"
    }
   ],
   "source": [
    "clf_NB.fit(X_train_Undersample, y_train_Undersample)"
   ]
  },
  {
   "cell_type": "code",
   "execution_count": 139,
   "metadata": {},
   "outputs": [],
   "source": [
    "y_pred_NB = clf_NB.predict_proba(X_test)[:,1]"
   ]
  },
  {
   "cell_type": "code",
   "execution_count": 140,
   "metadata": {},
   "outputs": [
    {
     "name": "stdout",
     "output_type": "stream",
     "text": [
      "              precision    recall  f1-score   support\n",
      "\n",
      "           0       0.95      0.73      0.83     48781\n",
      "           1       0.93      0.99      0.96    170624\n",
      "\n",
      "    accuracy                           0.93    219405\n",
      "   macro avg       0.94      0.86      0.89    219405\n",
      "weighted avg       0.93      0.93      0.93    219405\n",
      "\n"
     ]
    }
   ],
   "source": [
    "print(classification_report(y_test, y_pred_NB.round())) "
   ]
  },
  {
   "cell_type": "code",
   "execution_count": 141,
   "metadata": {},
   "outputs": [
    {
     "name": "stdout",
     "output_type": "stream",
     "text": [
      "Confusion matrix, without normalization\n",
      "[[ 35689  13092]\n",
      " [  1878 168746]]\n"
     ]
    },
    {
     "data": {
      "image/png": "[encoded data removed]",
      "text/plain": [
       "<Figure size 864x576 with 2 Axes>"
      ]
     },
     "metadata": {
      "needs_background": "light"
     },
     "output_type": "display_data"
    }
   ],
   "source": [
    "cnf_matrix = confusion_matrix(y_test, y_pred_NB.round())\n",
    "plot_confusion_matrix(cnf_matrix, classes=[0,1])"
   ]
  },
  {
   "cell_type": "code",
   "execution_count": 142,
   "metadata": {},
   "outputs": [],
   "source": [
    "# Creating true and false positive rates\n",
    "false_positive_rate_NB, true_positive_rate_NB, threshold_NB = roc_curve(y_test, y_pred_NB)"
   ]
  },
  {
   "cell_type": "code",
   "execution_count": 143,
   "metadata": {},
   "outputs": [
    {
     "name": "stdout",
     "output_type": "stream",
     "text": [
      "roc_auc_score for Naive Bayes:  0.930880631830471\n"
     ]
    }
   ],
   "source": [
    "print('roc_auc_score for Naive Bayes: ', roc_auc_score(y_test, y_pred_NB))"
   ]
  },
  {
   "cell_type": "code",
   "execution_count": 144,
   "metadata": {},
   "outputs": [
    {
     "data": {
      "image/png": "[encoded data removed]",
      "text/plain": [
       "<Figure size 720x720 with 1 Axes>"
      ]
     },
     "metadata": {
      "needs_background": "light"
     },
     "output_type": "display_data"
    }
   ],
   "source": [
    "plt.subplots(1, figsize=(10,10))\n",
    "plt.title('Receiver Operating Characteristic - Naive Bayes')\n",
    "plt.plot(false_positive_rate_NB, true_positive_rate_NB)\n",
    "plt.plot([0, 1], ls=\"--\")\n",
    "plt.plot([0, 0], [1, 0] , c=\".7\"), plt.plot([1, 1] , c=\".7\")\n",
    "plt.ylabel('True Positive Rate')\n",
    "plt.xlabel('False Positive Rate')\n",
    "plt.show()"
   ]
  },
  {
   "cell_type": "code",
   "execution_count": 145,
   "metadata": {},
   "outputs": [
    {
     "name": "stdout",
     "output_type": "stream",
     "text": [
      "Accuracy: 0.861 (0.002)\n"
     ]
    }
   ],
   "source": [
    "scores = cross_val_score(clf_NB, X_train_Undersample,y_train_Undersample, scoring='accuracy', cv=cv, n_jobs=-1)\n",
    "print('Accuracy: %.3f (%.3f)' % (mean(scores), std(scores)))"
   ]
  },
  {
   "cell_type": "markdown",
   "metadata": {},
   "source": [
    "# RandomForestClassifier"
   ]
  },
  {
   "cell_type": "code",
   "execution_count": 146,
   "metadata": {},
   "outputs": [],
   "source": [
    "clf_rf = RandomForestClassifier()"
   ]
  },
  {
   "cell_type": "code",
   "execution_count": 147,
   "metadata": {},
   "outputs": [
    {
     "data": {
      "text/plain": [
       "RandomForestClassifier()"
      ]
     },
     "execution_count": 147,
     "metadata": {},
     "output_type": "execute_result"
    }
   ],
   "source": [
    "clf_rf.fit(X_train_Undersample, y_train_Undersample)"
   ]
  },
  {
   "cell_type": "code",
   "execution_count": 148,
   "metadata": {},
   "outputs": [],
   "source": [
    "y_pred_rf = clf_rf.predict_proba(X_test)[:,1]"
   ]
  },
  {
   "cell_type": "code",
   "execution_count": 149,
   "metadata": {},
   "outputs": [
    {
     "name": "stdout",
     "output_type": "stream",
     "text": [
      "              precision    recall  f1-score   support\n",
      "\n",
      "           0       0.89      0.88      0.88     48781\n",
      "           1       0.97      0.97      0.97    170624\n",
      "\n",
      "    accuracy                           0.95    219405\n",
      "   macro avg       0.93      0.92      0.93    219405\n",
      "weighted avg       0.95      0.95      0.95    219405\n",
      "\n"
     ]
    }
   ],
   "source": [
    "print(classification_report(y_test, y_pred_rf.round())) "
   ]
  },
  {
   "cell_type": "code",
   "execution_count": 150,
   "metadata": {},
   "outputs": [
    {
     "name": "stdout",
     "output_type": "stream",
     "text": [
      "Confusion matrix, without normalization\n",
      "[[ 42863   5918]\n",
      " [  5281 165343]]\n"
     ]
    },
    {
     "data": {
      "image/png": "[encoded data removed]",
      "text/plain": [
       "<Figure size 864x576 with 2 Axes>"
      ]
     },
     "metadata": {
      "needs_background": "light"
     },
     "output_type": "display_data"
    }
   ],
   "source": [
    "cnf_matrix = confusion_matrix(y_test, y_pred_rf.round())\n",
    "plot_confusion_matrix(cnf_matrix, classes=[0,1])"
   ]
  },
  {
   "cell_type": "code",
   "execution_count": 151,
   "metadata": {},
   "outputs": [],
   "source": [
    "# Creating true and false positive rates\n",
    "false_positive_rate_rf, true_positive_rate_rf, threshold_rf = roc_curve(y_test, y_pred_rf)"
   ]
  },
  {
   "cell_type": "code",
   "execution_count": 152,
   "metadata": {},
   "outputs": [
    {
     "name": "stdout",
     "output_type": "stream",
     "text": [
      "roc_auc_score for RandomForestClassifier:  0.9691758371805288\n"
     ]
    }
   ],
   "source": [
    "print('roc_auc_score for RandomForestClassifier: ', roc_auc_score(y_test, y_pred_rf))"
   ]
  },
  {
   "cell_type": "code",
   "execution_count": 153,
   "metadata": {},
   "outputs": [
    {
     "data": {
      "image/png": "[encoded data removed]",
      "text/plain": [
       "<Figure size 720x720 with 1 Axes>"
      ]
     },
     "metadata": {
      "needs_background": "light"
     },
     "output_type": "display_data"
    }
   ],
   "source": [
    "plt.subplots(1, figsize=(10,10))\n",
    "plt.title('Receiver Operating Characteristic - RandomForestClassifier')\n",
    "plt.plot(false_positive_rate_rf, true_positive_rate_rf)\n",
    "plt.plot([0, 1], ls=\"--\")\n",
    "plt.plot([0, 0], [1, 0] , c=\".7\"), plt.plot([1, 1] , c=\".7\")\n",
    "plt.ylabel('True Positive Rate')\n",
    "plt.xlabel('False Positive Rate')\n",
    "plt.show()"
   ]
  },
  {
   "cell_type": "code",
   "execution_count": 154,
   "metadata": {},
   "outputs": [
    {
     "name": "stdout",
     "output_type": "stream",
     "text": [
      "Accuracy: 0.924 (0.002)\n"
     ]
    }
   ],
   "source": [
    "scores = cross_val_score(clf_rf, X_train_Undersample,y_train_Undersample, scoring='accuracy', cv=cv, n_jobs=-1)\n",
    "print('Accuracy: %.3f (%.3f)' % (mean(scores), std(scores)))"
   ]
  },
  {
   "cell_type": "markdown",
   "metadata": {},
   "source": [
    "# Support Vector Machine"
   ]
  },
  {
   "cell_type": "code",
   "execution_count": 155,
   "metadata": {},
   "outputs": [],
   "source": [
    "#Determining the number of dimensions to preserve given level of variance\n",
    "#---------------------------------------------------------------------------------------------------------------------------\n",
    "def find_min_pca(X_train, percentage=0.8):\n",
    "    \n",
    "    from sklearn.decomposition import PCA\n",
    "    \n",
    "    \n",
    "    inital_components=pd.DataFrame(X_train).shape[1]\n",
    "    if inital_components<10:\n",
    "        print('The Data has less than 10 components, no PCA needed')\n",
    "    else:\n",
    "        a=int(str(inital_components)[-1])\n",
    "        tens=int((inital_components-a)/10)\n",
    "        for i in range(1,tens+1):\n",
    "        \n",
    "            \n",
    "            \n",
    "            pca = PCA(n_components=(i)*10)\n",
    "            principalComponents = pca.fit_transform(X_train)\n",
    "            explained_var= np.sum(pca.explained_variance_ratio_)\n",
    "        \n",
    "            \n",
    "            \n",
    "            if explained_var>=percentage:\n",
    "                upper=i\n",
    "                break\n",
    "        \n",
    "        \n",
    "\n",
    "        for j in range((upper-1)*10,(upper)*10):\n",
    "            pca = PCA(n_components=j)\n",
    "            principalComponents = pca.fit_transform(X_train)                \n",
    "            explained_var1= np.sum(pca.explained_variance_ratio_)\n",
    "            if explained_var1>percentage:\n",
    "                comp=j\n",
    "                break\n",
    "                    \n",
    "                        \n",
    "            \n",
    "            \n",
    "    return  comp"
   ]
  },
  {
   "cell_type": "code",
   "execution_count": 156,
   "metadata": {},
   "outputs": [
    {
     "data": {
      "text/plain": [
       "19"
      ]
     },
     "execution_count": 156,
     "metadata": {},
     "output_type": "execute_result"
    }
   ],
   "source": [
    "#Finding the number of Principal Components to use to preserver 90% of variance \n",
    "#---------------------------------------------------------------------------------\n",
    "Min_Comps=find_min_pca(X_train_Undersample,0.9)\n",
    "Min_Comps"
   ]
  },
  {
   "cell_type": "code",
   "execution_count": 157,
   "metadata": {},
   "outputs": [
    {
     "name": "stdout",
     "output_type": "stream",
     "text": [
      "0.9074462788085453\n"
     ]
    }
   ],
   "source": [
    "#Verifying we are keeping the desired variance\n",
    "#----------------------------------------------------------------------------------------------------------\n",
    "pca = PCA(n_components=Min_Comps)\n",
    "principalComponents = pca.fit_transform(X_train_Undersample)\n",
    "print(np.sum(pca.explained_variance_ratio_))"
   ]
  },
  {
   "cell_type": "code",
   "execution_count": 158,
   "metadata": {},
   "outputs": [
    {
     "data": {
      "text/plain": [
       "Pipeline(steps=[('pca', PCA(n_components=19)), ('clf', SVC(random_state=123))])"
      ]
     },
     "execution_count": 158,
     "metadata": {},
     "output_type": "execute_result"
    }
   ],
   "source": [
    "SVC=Pipeline([('pca', PCA(n_components=Min_Comps)),('clf', svm.SVC(random_state=123))])\n",
    "SVC.fit(X_train_Undersample, y_train_Undersample)"
   ]
  },
  {
   "cell_type": "code",
   "execution_count": 159,
   "metadata": {},
   "outputs": [],
   "source": [
    "y_pred_SVC=SVC.predict(X_test)"
   ]
  },
  {
   "cell_type": "code",
   "execution_count": 160,
   "metadata": {},
   "outputs": [
    {
     "name": "stdout",
     "output_type": "stream",
     "text": [
      "              precision    recall  f1-score   support\n",
      "\n",
      "           0       0.86      0.85      0.85     48781\n",
      "           1       0.96      0.96      0.96    170624\n",
      "\n",
      "    accuracy                           0.93    219405\n",
      "   macro avg       0.91      0.90      0.90    219405\n",
      "weighted avg       0.93      0.93      0.93    219405\n",
      "\n"
     ]
    }
   ],
   "source": [
    "print(classification_report(y_test, y_pred_SVC.round())) "
   ]
  },
  {
   "cell_type": "code",
   "execution_count": 161,
   "metadata": {},
   "outputs": [
    {
     "name": "stdout",
     "output_type": "stream",
     "text": [
      "Confusion matrix, without normalization\n",
      "[[ 41224   7557]\n",
      " [  6917 163707]]\n"
     ]
    },
    {
     "data": {
      "image/png": "[encoded data removed]",
      "text/plain": [
       "<Figure size 864x576 with 2 Axes>"
      ]
     },
     "metadata": {
      "needs_background": "light"
     },
     "output_type": "display_data"
    }
   ],
   "source": [
    "cnf_matrix = confusion_matrix(y_test, y_pred_SVC.round())\n",
    "plot_confusion_matrix(cnf_matrix, classes=[0,1])"
   ]
  },
  {
   "cell_type": "code",
   "execution_count": 162,
   "metadata": {},
   "outputs": [],
   "source": [
    "# Creating true and false positive rates\n",
    "false_positive_rate_SVC, true_positive_rate_SVC, threshold_SVC = roc_curve(y_test, y_pred_SVC)"
   ]
  },
  {
   "cell_type": "code",
   "execution_count": 163,
   "metadata": {},
   "outputs": [
    {
     "name": "stdout",
     "output_type": "stream",
     "text": [
      "roc_auc_score for RandomForestClassifier:  0.9022718474471186\n"
     ]
    }
   ],
   "source": [
    "print('roc_auc_score for RandomForestClassifier: ', roc_auc_score(y_test, y_pred_SVC))"
   ]
  },
  {
   "cell_type": "code",
   "execution_count": 164,
   "metadata": {},
   "outputs": [
    {
     "data": {
      "image/png": "[encoded data removed]",
      "text/plain": [
       "<Figure size 720x720 with 1 Axes>"
      ]
     },
     "metadata": {
      "needs_background": "light"
     },
     "output_type": "display_data"
    }
   ],
   "source": [
    "plt.subplots(1, figsize=(10,10))\n",
    "plt.title('Receiver Operating Characteristic - SVM')\n",
    "plt.plot(false_positive_rate_SVC, true_positive_rate_SVC)\n",
    "plt.plot([0, 1], ls=\"--\")\n",
    "plt.plot([0, 0], [1, 0] , c=\".7\"), plt.plot([1, 1] , c=\".7\")\n",
    "plt.ylabel('True Positive Rate')\n",
    "plt.xlabel('False Positive Rate')\n",
    "plt.show()"
   ]
  },
  {
   "cell_type": "code",
   "execution_count": 165,
   "metadata": {},
   "outputs": [
    {
     "name": "stdout",
     "output_type": "stream",
     "text": [
      "Accuracy: 0.903 (0.001)\n"
     ]
    }
   ],
   "source": [
    "scores = cross_val_score(SVC, X_train_Undersample,y_train_Undersample, scoring='accuracy', cv=cv, n_jobs=-1)\n",
    "print('Accuracy: %.3f (%.3f)' % (mean(scores), std(scores)))"
   ]
  }
 ],
 "metadata": {
  "kernelspec": {
   "display_name": "Python 3",
   "language": "python",
   "name": "python3"
  },
  "language_info": {
   "codemirror_mode": {
    "name": "ipython",
    "version": 3
   },
   "file_extension": ".py",
   "mimetype": "text/x-python",
   "name": "python",
   "nbconvert_exporter": "python",
   "pygments_lexer": "ipython3",
   "version": "3.7.7"
  }
 },
 "nbformat": 4,
 "nbformat_minor": 4
}
